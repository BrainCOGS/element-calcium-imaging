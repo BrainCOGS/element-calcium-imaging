{
 "cells": [
  {
   "attachments": {},
   "cell_type": "markdown",
   "metadata": {},
   "source": [
    "# DataJoint Workflow for Calcium Imaging\n",
    "\n",
    "+ This notebook demonstrates using the open-source DataJoint Element to build a workflow for\n",
    "calcium imaging.\n",
    "+ For a detailed tutorial, please see the [tutorial notebook](./tutorial.ipynb)."
   ]
  },
  {
   "attachments": {},
   "cell_type": "markdown",
   "metadata": {},
   "source": [
    "<img src =../images/rawscans.gif title=\"value\" width=\"200\" height=\"200\"/>\n",
    "<img src =../images/motioncorrectedscans.gif width=\"200\" height=\"200\"/>\n",
    "<img src =../images/cellsegmentation.png width=\"200\" height=\"200\"/>\n",
    "<img src =../images/calciumtraces.png width=\"200\" height=\"200\"/> \n",
    "\n",
    "Left to right: Raw scans, Motion corrected scans, Cell segmentations, Calcium events"
   ]
  },
  {
   "attachments": {},
   "cell_type": "markdown",
   "metadata": {},
   "source": [
    "### Import dependencies"
   ]
  },
  {
   "cell_type": "code",
   "execution_count": null,
   "metadata": {
    "tags": [
     "hide-input"
    ]
   },
   "outputs": [],
   "source": [
    "import datajoint as dj\n",
    "from workflow_calcium_imaging.pipeline import subject, session, scan, imaging\n",
    "from element_calcium_imaging.plotting.widget import main"
   ]
  },
  {
   "attachments": {},
   "cell_type": "markdown",
   "metadata": {},
   "source": [
    "### View workflow"
   ]
  },
  {
   "cell_type": "code",
   "execution_count": null,
   "metadata": {},
   "outputs": [],
   "source": [
    "dj.Diagram(subject.Subject) + dj.Diagram(session.Session) + dj.Diagram(scan) + dj.Diagram(imaging)"
   ]
  },
  {
   "attachments": {},
   "cell_type": "markdown",
   "metadata": {},
   "source": [
    "### Insert an entry in a manual table by calling the `insert()` method\n",
    "\n",
    "```python\n",
    "subject.Subject.insert1(\n",
    "     dict(subject='subject1',\n",
    "          subject_birth_date='2023-01-01',\n",
    "          sex='U'\n",
    "     )\n",
    ")\n",
    "```"
   ]
  },
  {
   "attachments": {},
   "cell_type": "markdown",
   "metadata": {},
   "source": [
    "### Automatically process data with the `populate()` method\n",
    "\n",
    "+ Once data is inserted into manual tables, the `populate()` function automatically runs the ingestion and processing routines. \n",
    "\n",
    "+ For example, to run Suite2p processing in the `Processing` table:\n",
    "\n",
    "     ```python\n",
    "     imaging.Processing.populate()\n",
    "     ```"
   ]
  },
  {
   "attachments": {},
   "cell_type": "markdown",
   "metadata": {},
   "source": [
    "### Visualize processed data"
   ]
  },
  {
   "cell_type": "code",
   "execution_count": null,
   "metadata": {},
   "outputs": [],
   "source": [
    "main(imaging)"
   ]
  },
  {
   "attachments": {},
   "cell_type": "markdown",
   "metadata": {},
   "source": [
    "For an in-depth tutorial please see the [tutorial notebook](./tutorial.ipynb)."
   ]
  }
 ],
 "metadata": {
  "kernelspec": {
   "display_name": "Python 3",
   "language": "python",
   "name": "python3"
  },
  "language_info": {
   "codemirror_mode": {
    "name": "ipython",
    "version": 3
   },
   "file_extension": ".py",
   "mimetype": "text/x-python",
   "name": "python",
   "nbconvert_exporter": "python",
   "pygments_lexer": "ipython3",
   "version": "3.9.12"
  },
  "orig_nbformat": 4,
  "vscode": {
   "interpreter": {
    "hash": "949777d72b0d2535278d3dc13498b2535136f6dfe0678499012e853ee9abcab1"
   }
  }
 },
 "nbformat": 4,
 "nbformat_minor": 2
}
