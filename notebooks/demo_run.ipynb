{
 "cells": [
  {
   "attachments": {},
   "cell_type": "markdown",
   "metadata": {},
   "source": [
    "# DataJoint Element for Calcium Imaging\n",
    "\n",
    "+ This notebook demonstrates using the open-source DataJoint Element for\n",
    "calcium imaging.\n",
    "+ For a detailed tutorial, please see the [tutorial notebook](./tutorial.ipynb)."
   ]
  },
  {
   "attachments": {},
   "cell_type": "markdown",
   "metadata": {},
   "source": [
    "<img src =../images/docs_rawscans.gif title=\"value\" width=\"200\" height=\"200\"/>\n",
    "<img src =../images/docs_motioncorrectedscans.gif width=\"200\" height=\"200\"/>\n",
    "<img src =../images/docs_cellsegmentation.png width=\"200\" height=\"200\"/>\n",
    "<img src =../images/docs_calciumtraces.png width=\"200\" height=\"200\"/> \n",
    "\n",
    "Left to right: Raw scans, Motion corrected scans, Cell segmentations, Calcium events"
   ]
  },
  {
   "attachments": {},
   "cell_type": "markdown",
   "metadata": {},
   "source": [
    "### Import dependencies"
   ]
  },
  {
   "cell_type": "code",
   "execution_count": null,
   "metadata": {},
   "outputs": [],
   "source": [
    "import datajoint as dj\n",
    "from element_animal import subject\n",
    "from element_animal.subject import Subject\n",
    "from element_calcium_imaging import imaging, scan, imaging_report, db_prefix, plotting\n",
    "from element_lab import lab\n",
    "from element_lab.lab import Lab, Location, Project, Protocol, Source, User\n",
    "from element_lab.lab import Device as Equipment\n",
    "from element_lab.lab import User as Experimenter\n",
    "from element_session import session_with_datetime as session\n",
    "from element_session.session_with_datetime import Session"
   ]
  },
  {
   "cell_type": "code",
   "execution_count": null,
   "metadata": {},
   "outputs": [],
   "source": [
    "lab.activate(db_prefix + \"lab\")\n",
    "subject.activate(db_prefix + \"subject\", linking_module=__name__)\n",
    "session.activate(db_prefix + \"session\", linking_module=__name__)\n",
    "imaging.activate(db_prefix + \"imaging\", db_prefix + \"scan\", linking_module=__name__)"
   ]
  },
  {
   "attachments": {},
   "cell_type": "markdown",
   "metadata": {},
   "source": [
    "### View workflow"
   ]
  },
  {
   "cell_type": "code",
   "execution_count": null,
   "metadata": {},
   "outputs": [],
   "source": [
    "dj.Diagram(subject.Subject) + dj.Diagram(session.Session) + dj.Diagram(scan) + dj.Diagram(imaging)"
   ]
  },
  {
   "attachments": {},
   "cell_type": "markdown",
   "metadata": {},
   "source": [
    "### Insert an entry in a manual table by calling the `insert()` method\n",
    "\n",
    "```python\n",
    "subject.Subject.insert1(\n",
    "     dict(subject='subject1',\n",
    "          subject_birth_date='2023-01-01',\n",
    "          sex='U'\n",
    "     )\n",
    ")\n",
    "```"
   ]
  },
  {
   "attachments": {},
   "cell_type": "markdown",
   "metadata": {},
   "source": [
    "### Automatically process data with the `populate()` method\n",
    "\n",
    "+ Once data is inserted into manual tables, the `populate()` function automatically runs the ingestion and processing routines. \n",
    "\n",
    "+ For example, to run Suite2p processing in the `Processing` table:\n",
    "\n",
    "     ```python\n",
    "     imaging.Processing.populate()\n",
    "     ```"
   ]
  },
  {
   "attachments": {},
   "cell_type": "markdown",
   "metadata": {},
   "source": [
    "### Visualize processed data"
   ]
  },
  {
   "cell_type": "code",
   "execution_count": null,
   "metadata": {},
   "outputs": [],
   "source": [
    "plotting.widget.main(imaging)"
   ]
  },
  {
   "attachments": {},
   "cell_type": "markdown",
   "metadata": {},
   "source": [
    "For an in-depth tutorial please see the [tutorial notebook](./tutorial.ipynb)."
   ]
  }
 ],
 "metadata": {
  "kernelspec": {
   "display_name": "Python 3",
   "language": "python",
   "name": "python3"
  },
  "language_info": {
   "codemirror_mode": {
    "name": "ipython",
    "version": 3
   },
   "file_extension": ".py",
   "mimetype": "text/x-python",
   "name": "python",
   "nbconvert_exporter": "python",
   "pygments_lexer": "ipython3",
   "version": "3.9.16"
  },
  "orig_nbformat": 4,
  "vscode": {
   "interpreter": {
    "hash": "949777d72b0d2535278d3dc13498b2535136f6dfe0678499012e853ee9abcab1"
   }
  }
 },
 "nbformat": 4,
 "nbformat_minor": 2
}
