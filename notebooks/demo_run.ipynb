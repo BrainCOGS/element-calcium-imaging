{
 "cells": [
  {
   "attachments": {},
   "cell_type": "markdown",
   "metadata": {},
   "source": [
    "# DataJoint Workflow for Calcium Imaging\n",
    "\n",
    "+ This notebook demonstrates using the open-source DataJoint Element to build a workflow for\n",
    "calcium imaging.\n",
    "+ For a detailed tutorial, please see the [tutorial notebook](./tutorial.ipynb)."
   ]
  },
  {
   "attachments": {},
   "cell_type": "markdown",
   "metadata": {},
   "source": [
    "<img src =../images/rawscans.gif title=\"value\" width=\"200\" height=\"200\"/>\n",
    "<img src =../images/motioncorrectedscans.gif width=\"200\" height=\"200\"/>\n",
    "<img src =../images/cellsegmentation.png width=\"200\" height=\"200\"/>\n",
    "<img src =../images/calciumtraces.png width=\"200\" height=\"200\"/> \n",
    "\n",
    "Left to right: Raw scans, Motion corrected scans, Cell segmentations, Calcium events"
   ]
  },
  {
   "attachments": {},
   "cell_type": "markdown",
   "metadata": {},
   "source": [
    "### Import dependencies"
   ]
  },
  {
   "cell_type": "code",
   "execution_count": 1,
   "metadata": {
    "tags": [
     "hide-input"
    ]
   },
   "outputs": [
    {
     "name": "stderr",
     "output_type": "stream",
     "text": [
      "[2023-03-13 16:22:38,356][WARNING]: lab.Project and related tables will be removed in a future version of Element Lab. Please use the project schema.\n",
      "[2023-03-13 16:22:38,359][INFO]: Connecting root@fakeservices.datajoint.io:3306\n",
      "[2023-03-13 16:22:38,371][INFO]: Connected root@fakeservices.datajoint.io:3306\n"
     ]
    }
   ],
   "source": [
    "import datajoint as dj\n",
    "from workflow_calcium_imaging.pipeline import subject, session, scan, imaging\n",
    "from element_calcium_imaging.plotting.widget import main"
   ]
  },
  {
   "attachments": {},
   "cell_type": "markdown",
   "metadata": {},
   "source": [
    "### View workflow"
   ]
  },
  {
   "cell_type": "code",
   "execution_count": 2,
   "metadata": {},
   "outputs": [
    {
     "data": {
      "image/svg+xml": "<svg xmlns=\"http://www.w3.org/2000/svg\" xmlns:xlink=\"http://www.w3.org/1999/xlink\" width=\"1528pt\" height=\"657pt\" viewBox=\"0.00 0.00 1528.00 657.00\">\n<g id=\"graph0\" class=\"graph\" transform=\"scale(1 1) rotate(0) translate(4 653)\">\n<title>%3</title>\n<polygon fill=\"white\" stroke=\"transparent\" points=\"-4,4 -4,-653 1524,-653 1524,4 -4,4\"/>\n<!-- 4 -->\n<g id=\"node1\" class=\"node\">\n<title>4</title>\n<ellipse fill=\"#ff8800\" fill-opacity=\"0.501961\" stroke=\"#ff8800\" stroke-opacity=\"0.501961\" cx=\"473.5\" cy=\"-205.5\" rx=\"2\" ry=\"2\"/>\n<text text-anchor=\"middle\" x=\"473.5\" y=\"-205.2\" font-family=\"arial\" font-size=\"1.00\" fill=\"#ff8800\" fill-opacity=\"0.501961\">4</text>\n</g>\n<!-- imaging.Segmentation.Mask -->\n<g id=\"node23\" class=\"node\">\n<title>imaging.Segmentation.Mask</title>\n<g id=\"a_node23\"><a xlink:title=\"→ imaging.Segmentation\rmask                 \r------------------------------\r→ scan.Channel.proj(segmentation_channel=&quot;channel&quot;)\rmask_npix            \rmask_center_x        \rmask_center_y        \rmask_center_z=null   \rmask_xpix            \rmask_ypix            \rmask_zpix=null       \rmask_weights         \r\">\n<polygon fill=\"transparent\" stroke=\"transparent\" points=\"448.5,-144 308.5,-144 308.5,-125 448.5,-125 448.5,-144\"/>\n<text text-anchor=\"start\" x=\"316.5\" y=\"-133\" font-family=\"arial\" text-decoration=\"underline\" font-size=\"10.00\">imaging.Segmentation.Mask</text>\n</a>\n</g>\n</g>\n<!-- 4&#45;&gt;imaging.Segmentation.Mask -->\n<g id=\"edge1\" class=\"edge\">\n<title>4-&gt;imaging.Segmentation.Mask</title>\n<path fill=\"none\" stroke=\"#000000\" stroke-width=\"0.75\" stroke-dasharray=\"5,2\" stroke-opacity=\"0.250980\" d=\"M472.63,-203.55C470.21,-200.91 463.14,-193.39 456.5,-188 435.46,-170.93 408.91,-153.92 392.84,-144.08\"/>\n</g>\n<!-- 3 -->\n<g id=\"node2\" class=\"node\">\n<title>3</title>\n<ellipse fill=\"#ff8800\" fill-opacity=\"0.501961\" stroke=\"#ff8800\" stroke-opacity=\"0.501961\" cx=\"675.5\" cy=\"-276.5\" rx=\"2\" ry=\"2\"/>\n<text text-anchor=\"middle\" x=\"675.5\" y=\"-276.2\" font-family=\"arial\" font-size=\"1.00\" fill=\"#ff8800\" fill-opacity=\"0.501961\">3</text>\n</g>\n<!-- imaging.Fluorescence.Trace -->\n<g id=\"node21\" class=\"node\">\n<title>imaging.Fluorescence.Trace</title>\n<g id=\"a_node21\"><a xlink:title=\"→ imaging.Fluorescence\r→ imaging.Segmentation.Mask\r→ scan.Channel.proj(fluo_channel=&quot;channel&quot;)\r------------------------------\rfluorescence         \rneuropil_fluorescence=null \r\">\n<polygon fill=\"transparent\" stroke=\"transparent\" points=\"642.5,-77.5 502.5,-77.5 502.5,-58.5 642.5,-58.5 642.5,-77.5\"/>\n<text text-anchor=\"middle\" x=\"572.5\" y=\"-65.5\" font-family=\"arial\" font-size=\"10.00\">imaging.Fluorescence.Trace</text>\n</a>\n</g>\n</g>\n<!-- 3&#45;&gt;imaging.Fluorescence.Trace -->\n<g id=\"edge2\" class=\"edge\">\n<title>3-&gt;imaging.Fluorescence.Trace</title>\n<path fill=\"none\" stroke=\"#000000\" stroke-width=\"0.75\" stroke-opacity=\"0.250980\" d=\"M674.05,-274.61C657.62,-264.57 507.12,-172.22 496.5,-152 489.27,-138.23 488.99,-130.62 496.5,-117 507.2,-97.59 529.41,-84.95 547.07,-77.53\"/>\n</g>\n<!-- 5 -->\n<g id=\"node3\" class=\"node\">\n<title>5</title>\n<ellipse fill=\"#ff8800\" fill-opacity=\"0.501961\" stroke=\"#ff8800\" stroke-opacity=\"0.501961\" cx=\"876.5\" cy=\"-276.5\" rx=\"2\" ry=\"2\"/>\n<text text-anchor=\"middle\" x=\"876.5\" y=\"-276.2\" font-family=\"arial\" font-size=\"1.00\" fill=\"#ff8800\" fill-opacity=\"0.501961\">5</text>\n</g>\n<!-- imaging.MotionCorrection -->\n<g id=\"node5\" class=\"node\">\n<title>imaging.MotionCorrection</title>\n<g id=\"a_node5\"><a xlink:title=\"→ imaging.Curation\r------------------------------\r→ scan.Channel.proj(motion_correct_channel=&quot;channel&quot;)\r\">\n<ellipse fill=\"#00007f\" fill-opacity=\"0.250980\" stroke=\"#00007f\" stroke-opacity=\"0.250980\" cx=\"1206.5\" cy=\"-205.5\" rx=\"96\" ry=\"17.5\"/>\n<text text-anchor=\"middle\" x=\"1206.5\" y=\"-202.4\" font-family=\"arial\" font-size=\"12.00\" fill=\"#00007f\" fill-opacity=\"0.627451\">imaging.MotionCorrection</text>\n</a>\n</g>\n</g>\n<!-- 5&#45;&gt;imaging.MotionCorrection -->\n<g id=\"edge3\" class=\"edge\">\n<title>5-&gt;imaging.MotionCorrection</title>\n<path fill=\"none\" stroke=\"#000000\" stroke-width=\"0.75\" stroke-dasharray=\"5,2\" stroke-opacity=\"0.250980\" d=\"M878.28,-275.13C896.82,-271.25 1056.15,-237.94 1145.82,-219.19\"/>\n</g>\n<!-- imaging.Fluorescence -->\n<g id=\"node4\" class=\"node\">\n<title>imaging.Fluorescence</title>\n<g id=\"a_node4\"><a xlink:title=\"→ imaging.Segmentation\r\">\n<ellipse fill=\"#ff0000\" fill-opacity=\"0.125490\" stroke=\"#ff0000\" stroke-opacity=\"0.125490\" cx=\"572.5\" cy=\"-134.5\" rx=\"13\" ry=\"13\"/>\n<text text-anchor=\"middle\" x=\"572.5\" y=\"-131.4\" font-family=\"arial\" font-size=\"12.00\" fill=\"#7f0000\" fill-opacity=\"0.627451\">imaging.Fluorescence</text>\n</a>\n</g>\n</g>\n<!-- imaging.Fluorescence&#45;&gt;imaging.Fluorescence.Trace -->\n<g id=\"edge4\" class=\"edge\">\n<title>imaging.Fluorescence-&gt;imaging.Fluorescence.Trace</title>\n<path fill=\"none\" stroke=\"#000000\" stroke-width=\"0.75\" stroke-opacity=\"0.250980\" d=\"M572.5,-121.37C572.5,-108.67 572.5,-89.04 572.5,-77.77\"/>\n</g>\n<!-- imaging.Activity -->\n<g id=\"node22\" class=\"node\">\n<title>imaging.Activity</title>\n<g id=\"a_node22\"><a xlink:title=\"→ imaging.Fluorescence\r→ imaging.ActivityExtractionMethod\r\">\n<ellipse fill=\"#ff0000\" fill-opacity=\"0.125490\" stroke=\"#ff0000\" stroke-opacity=\"0.125490\" cx=\"711.5\" cy=\"-68\" rx=\"13\" ry=\"13\"/>\n<text text-anchor=\"middle\" x=\"711.5\" y=\"-64.9\" font-family=\"arial\" font-size=\"12.00\" fill=\"#7f0000\" fill-opacity=\"0.627451\">imaging.Activity</text>\n</a>\n</g>\n</g>\n<!-- imaging.Fluorescence&#45;&gt;imaging.Activity -->\n<g id=\"edge5\" class=\"edge\">\n<title>imaging.Fluorescence-&gt;imaging.Activity</title>\n<path fill=\"none\" stroke=\"#000000\" stroke-width=\"0.75\" stroke-opacity=\"0.250980\" d=\"M584.35,-128C610.74,-115.75 674.08,-86.37 700.07,-74.3\"/>\n</g>\n<!-- imaging.MotionCorrection.RigidMotionCorrection -->\n<g id=\"node18\" class=\"node\">\n<title>imaging.MotionCorrection.RigidMotionCorrection</title>\n<g id=\"a_node18\"><a xlink:title=\"→ imaging.MotionCorrection\r------------------------------\routlier_frames=null  \ry_shifts             \rx_shifts             \rz_shifts=null        \ry_std                \rx_std                \rz_std=null           \r\">\n<polygon fill=\"transparent\" stroke=\"transparent\" points=\"1066,-144 839,-144 839,-125 1066,-125 1066,-144\"/>\n<text text-anchor=\"middle\" x=\"952.5\" y=\"-132\" font-family=\"arial\" font-size=\"10.00\">imaging.MotionCorrection.RigidMotionCorrection</text>\n</a>\n</g>\n</g>\n<!-- imaging.MotionCorrection&#45;&gt;imaging.MotionCorrection.RigidMotionCorrection -->\n<g id=\"edge6\" class=\"edge\">\n<title>imaging.MotionCorrection-&gt;imaging.MotionCorrection.RigidMotionCorrection</title>\n<path fill=\"none\" stroke=\"#000000\" stroke-width=\"2\" stroke-opacity=\"0.250980\" d=\"M1155.4,-190.62C1104.12,-176.69 1026.76,-155.67 983.89,-144.03\"/>\n</g>\n<!-- imaging.MotionCorrection.NonRigidMotionCorrection -->\n<g id=\"node30\" class=\"node\">\n<title>imaging.MotionCorrection.NonRigidMotionCorrection</title>\n<g id=\"a_node30\"><a xlink:title=\"→ imaging.MotionCorrection\r------------------------------\routlier_frames=null  \rblock_height         \rblock_width          \rblock_depth          \rblock_count_y        \rblock_count_x        \rblock_count_z        \r\">\n<polygon fill=\"transparent\" stroke=\"transparent\" points=\"1329,-144 1084,-144 1084,-125 1329,-125 1329,-144\"/>\n<text text-anchor=\"middle\" x=\"1206.5\" y=\"-132\" font-family=\"arial\" font-size=\"10.00\">imaging.MotionCorrection.NonRigidMotionCorrection</text>\n</a>\n</g>\n</g>\n<!-- imaging.MotionCorrection&#45;&gt;imaging.MotionCorrection.NonRigidMotionCorrection -->\n<g id=\"edge7\" class=\"edge\">\n<title>imaging.MotionCorrection-&gt;imaging.MotionCorrection.NonRigidMotionCorrection</title>\n<path fill=\"none\" stroke=\"#000000\" stroke-width=\"2\" stroke-opacity=\"0.250980\" d=\"M1206.5,-187.8C1206.5,-174.08 1206.5,-155.19 1206.5,-144.27\"/>\n</g>\n<!-- imaging.MotionCorrection.Summary -->\n<g id=\"node34\" class=\"node\">\n<title>imaging.MotionCorrection.Summary</title>\n<g id=\"a_node34\"><a xlink:title=\"→ imaging.MotionCorrection\r→ scan.ScanInfo.Field\r------------------------------\rref_image            \raverage_image        \rcorrelation_image=null \rmax_proj_image=null  \r\">\n<polygon fill=\"transparent\" stroke=\"transparent\" points=\"1520,-144 1347,-144 1347,-125 1520,-125 1520,-144\"/>\n<text text-anchor=\"middle\" x=\"1433.5\" y=\"-132\" font-family=\"arial\" font-size=\"10.00\">imaging.MotionCorrection.Summary</text>\n</a>\n</g>\n</g>\n<!-- imaging.MotionCorrection&#45;&gt;imaging.MotionCorrection.Summary -->\n<g id=\"edge8\" class=\"edge\">\n<title>imaging.MotionCorrection-&gt;imaging.MotionCorrection.Summary</title>\n<path fill=\"none\" stroke=\"#000000\" stroke-width=\"0.75\" stroke-opacity=\"0.250980\" d=\"M1253.53,-190.2C1299.38,-176.27 1367.55,-155.55 1405.48,-144.02\"/>\n</g>\n<!-- scan.Channel -->\n<g id=\"node6\" class=\"node\">\n<title>scan.Channel</title>\n<g id=\"a_node6\"><a xlink:title=\"channel              \r\">\n<polygon fill=\"#000000\" fill-opacity=\"0.125490\" stroke=\"transparent\" points=\"714,-365 637,-365 637,-330 714,-330 714,-365\"/>\n<text text-anchor=\"start\" x=\"645\" y=\"-346\" font-family=\"arial\" text-decoration=\"underline\" font-size=\"10.00\">scan.Channel</text>\n</a>\n</g>\n</g>\n<!-- scan.Channel&#45;&gt;4 -->\n<g id=\"edge10\" class=\"edge\">\n<title>scan.Channel-&gt;4</title>\n<path fill=\"none\" stroke=\"#000000\" stroke-width=\"0.75\" stroke-dasharray=\"5,2\" stroke-opacity=\"0.250980\" d=\"M669.09,-329.74C660.68,-309.94 644.04,-277.39 619.5,-259 573.92,-224.84 547.7,-247.96 496.5,-223 487.31,-218.52 477.87,-210.43 474.65,-207.55\"/>\n</g>\n<!-- scan.Channel&#45;&gt;3 -->\n<g id=\"edge9\" class=\"edge\">\n<title>scan.Channel-&gt;3</title>\n<path fill=\"none\" stroke=\"#000000\" stroke-width=\"0.75\" stroke-opacity=\"0.250980\" d=\"M675.5,-329.8C675.5,-311.93 675.5,-285.29 675.5,-278.91\"/>\n</g>\n<!-- scan.Channel&#45;&gt;5 -->\n<g id=\"edge11\" class=\"edge\">\n<title>scan.Channel-&gt;5</title>\n<path fill=\"none\" stroke=\"#000000\" stroke-width=\"0.75\" stroke-dasharray=\"5,2\" stroke-opacity=\"0.250980\" d=\"M714.25,-333.2C768.56,-314.56 862.12,-282.44 875.01,-278.01\"/>\n</g>\n<!-- imaging.MaskClassificationMethod -->\n<g id=\"node7\" class=\"node\">\n<title>imaging.MaskClassificationMethod</title>\n<g id=\"a_node7\"><a xlink:title=\"mask_classification_method \r\">\n<polygon fill=\"#000000\" fill-opacity=\"0.125490\" stroke=\"transparent\" points=\"177,-223 8,-223 8,-188 177,-188 177,-223\"/>\n<text text-anchor=\"start\" x=\"16\" y=\"-204\" font-family=\"arial\" text-decoration=\"underline\" font-size=\"10.00\">imaging.MaskClassificationMethod</text>\n</a>\n</g>\n</g>\n<!-- imaging.MaskClassification -->\n<g id=\"node16\" class=\"node\">\n<title>imaging.MaskClassification</title>\n<g id=\"a_node16\"><a xlink:title=\"→ imaging.Segmentation\r→ imaging.MaskClassificationMethod\r\">\n<ellipse fill=\"#ff0000\" fill-opacity=\"0.125490\" stroke=\"#ff0000\" stroke-opacity=\"0.125490\" cx=\"92.5\" cy=\"-134.5\" rx=\"13\" ry=\"13\"/>\n<text text-anchor=\"middle\" x=\"92.5\" y=\"-131.4\" font-family=\"arial\" font-size=\"12.00\" fill=\"#7f0000\" fill-opacity=\"0.627451\">imaging.MaskClassification</text>\n</a>\n</g>\n</g>\n<!-- imaging.MaskClassificationMethod&#45;&gt;imaging.MaskClassification -->\n<g id=\"edge12\" class=\"edge\">\n<title>imaging.MaskClassificationMethod-&gt;imaging.MaskClassification</title>\n<path fill=\"none\" stroke=\"#000000\" stroke-width=\"0.75\" stroke-opacity=\"0.250980\" d=\"M92.5,-187.8C92.5,-175.35 92.5,-158.66 92.5,-147.51\"/>\n</g>\n<!-- scan.ScanInfo -->\n<g id=\"node8\" class=\"node\">\n<title>scan.ScanInfo</title>\n<g id=\"a_node8\"><a xlink:title=\"→ scan.Scan\r------------------------------\rnfields              \rnchannels            \rndepths              \rnframes              \rnrois                \rx=null               \ry=null               \rz=null               \rfps                  \rbidirectional        \rusecs_per_line=null  \rfill_fraction=null   \rscan_datetime=null   \rscan_duration=null   \rbidirectional_z=null \r\">\n<ellipse fill=\"#00007f\" fill-opacity=\"0.250980\" stroke=\"#00007f\" stroke-opacity=\"0.250980\" cx=\"1254.5\" cy=\"-418.5\" rx=\"57.5\" ry=\"17.5\"/>\n<text text-anchor=\"middle\" x=\"1254.5\" y=\"-415.4\" font-family=\"arial\" font-size=\"12.00\" fill=\"#00007f\" fill-opacity=\"0.627451\">scan.ScanInfo</text>\n</a>\n</g>\n</g>\n<!-- scan.ScanInfo.Field -->\n<g id=\"node13\" class=\"node\">\n<title>scan.ScanInfo.Field</title>\n<g id=\"a_node13\"><a xlink:title=\"→ scan.ScanInfo\rfield_idx            \r------------------------------\rpx_height            \rpx_width             \rum_height=null       \rum_width=null        \rfield_x=null         \rfield_y=null         \rfield_z=null         \rdelay_image=null     \rroi=null             \r\">\n<polygon fill=\"transparent\" stroke=\"transparent\" points=\"1306.5,-357 1202.5,-357 1202.5,-338 1306.5,-338 1306.5,-357\"/>\n<text text-anchor=\"start\" x=\"1210.5\" y=\"-346\" font-family=\"arial\" text-decoration=\"underline\" font-size=\"10.00\">scan.ScanInfo.Field</text>\n</a>\n</g>\n</g>\n<!-- scan.ScanInfo&#45;&gt;scan.ScanInfo.Field -->\n<g id=\"edge13\" class=\"edge\">\n<title>scan.ScanInfo-&gt;scan.ScanInfo.Field</title>\n<path fill=\"none\" stroke=\"#000000\" stroke-width=\"0.75\" stroke-opacity=\"0.250980\" d=\"M1254.5,-400.8C1254.5,-387.08 1254.5,-368.19 1254.5,-357.27\"/>\n</g>\n<!-- scan.ScanInfo.ScanFile -->\n<g id=\"node27\" class=\"node\">\n<title>scan.ScanInfo.ScanFile</title>\n<g id=\"a_node27\"><a xlink:title=\"→ scan.ScanInfo\rfile_path            \r\">\n<polygon fill=\"transparent\" stroke=\"transparent\" points=\"1446,-357 1325,-357 1325,-338 1446,-338 1446,-357\"/>\n<text text-anchor=\"start\" x=\"1333\" y=\"-346\" font-family=\"arial\" text-decoration=\"underline\" font-size=\"10.00\">scan.ScanInfo.ScanFile</text>\n</a>\n</g>\n</g>\n<!-- scan.ScanInfo&#45;&gt;scan.ScanInfo.ScanFile -->\n<g id=\"edge14\" class=\"edge\">\n<title>scan.ScanInfo-&gt;scan.ScanInfo.ScanFile</title>\n<path fill=\"none\" stroke=\"#000000\" stroke-width=\"0.75\" stroke-opacity=\"0.250980\" d=\"M1281.96,-403.04C1308.37,-389.13 1347.41,-368.56 1369.22,-357.07\"/>\n</g>\n<!-- imaging.Segmentation -->\n<g id=\"node9\" class=\"node\">\n<title>imaging.Segmentation</title>\n<g id=\"a_node9\"><a xlink:title=\"→ imaging.Curation\r\">\n<ellipse fill=\"#ff0000\" fill-opacity=\"0.125490\" stroke=\"#ff0000\" stroke-opacity=\"0.125490\" cx=\"378.5\" cy=\"-205.5\" rx=\"13\" ry=\"13\"/>\n<text text-anchor=\"middle\" x=\"378.5\" y=\"-202.4\" font-family=\"arial\" font-size=\"12.00\" fill=\"#7f0000\" fill-opacity=\"0.627451\">imaging.Segmentation</text>\n</a>\n</g>\n</g>\n<!-- imaging.Segmentation&#45;&gt;imaging.Fluorescence -->\n<g id=\"edge15\" class=\"edge\">\n<title>imaging.Segmentation-&gt;imaging.Fluorescence</title>\n<path fill=\"none\" stroke=\"#000000\" stroke-width=\"2\" stroke-opacity=\"0.250980\" d=\"M390.64,-200.18C425.48,-187.79 525.53,-152.2 560.37,-139.81\"/>\n</g>\n<!-- imaging.Segmentation&#45;&gt;imaging.MaskClassification -->\n<g id=\"edge16\" class=\"edge\">\n<title>imaging.Segmentation-&gt;imaging.MaskClassification</title>\n<path fill=\"none\" stroke=\"#000000\" stroke-width=\"0.75\" stroke-opacity=\"0.250980\" d=\"M365.84,-201.45C318.49,-190.02 152.12,-149.88 105.01,-138.52\"/>\n</g>\n<!-- imaging.Segmentation&#45;&gt;imaging.Segmentation.Mask -->\n<g id=\"edge17\" class=\"edge\">\n<title>imaging.Segmentation-&gt;imaging.Segmentation.Mask</title>\n<path fill=\"none\" stroke=\"#000000\" stroke-width=\"0.75\" stroke-opacity=\"0.250980\" d=\"M378.5,-192.48C378.5,-178.74 378.5,-156.56 378.5,-144.32\"/>\n</g>\n<!-- imaging.CellCompartment -->\n<g id=\"node10\" class=\"node\">\n<title>imaging.CellCompartment</title>\n<g id=\"a_node10\"><a xlink:title=\"cell_compartment     \r\">\n<polygon fill=\"#000000\" fill-opacity=\"0.125490\" stroke=\"transparent\" points=\"1384.5,-649 1254.5,-649 1254.5,-614 1384.5,-614 1384.5,-649\"/>\n<text text-anchor=\"start\" x=\"1262.5\" y=\"-630\" font-family=\"arial\" text-decoration=\"underline\" font-size=\"10.00\">imaging.CellCompartment</text>\n</a>\n</g>\n</g>\n<!-- session.Session -->\n<g id=\"node11\" class=\"node\">\n<title>session.Session</title>\n<g id=\"a_node11\"><a xlink:title=\"→ subject.Subject\rsession_datetime     \r\">\n<polygon fill=\"#00ff00\" fill-opacity=\"0.188235\" stroke=\"#00ff00\" stroke-opacity=\"0.188235\" points=\"1239.5,-578 1135.5,-578 1135.5,-543 1239.5,-543 1239.5,-578\"/>\n<text text-anchor=\"start\" x=\"1143.5\" y=\"-558.4\" font-family=\"arial\" text-decoration=\"underline\" font-size=\"12.00\" fill=\"darkgreen\">session.Session</text>\n</a>\n</g>\n</g>\n<!-- scan.Scan -->\n<g id=\"node24\" class=\"node\">\n<title>scan.Scan</title>\n<g id=\"a_node24\"><a xlink:title=\"→ session.Session\rscan_id              \r------------------------------\r→ [nullable] `neuro_reference`.`equipment`\r→ scan.AcquisitionSoftware\rscan_notes=&quot;&quot;        \r\">\n<polygon fill=\"#00ff00\" fill-opacity=\"0.188235\" stroke=\"#00ff00\" stroke-opacity=\"0.188235\" points=\"1291,-507 1218,-507 1218,-472 1291,-472 1291,-507\"/>\n<text text-anchor=\"start\" x=\"1226\" y=\"-487.4\" font-family=\"arial\" text-decoration=\"underline\" font-size=\"12.00\" fill=\"darkgreen\">scan.Scan</text>\n</a>\n</g>\n</g>\n<!-- session.Session&#45;&gt;scan.Scan -->\n<g id=\"edge18\" class=\"edge\">\n<title>session.Session-&gt;scan.Scan</title>\n<path fill=\"none\" stroke=\"#000000\" stroke-width=\"0.75\" stroke-opacity=\"0.250980\" d=\"M1203.72,-542.8C1214.25,-531.95 1227.93,-517.87 1238.43,-507.05\"/>\n</g>\n<!-- subject.Subject -->\n<g id=\"node12\" class=\"node\">\n<title>subject.Subject</title>\n<g id=\"a_node12\"><a xlink:title=\"subject              \r------------------------------\rsubject_nickname=&quot;&quot;  \rsex                  \rsubject_birth_date   \rsubject_description=&quot;&quot; \r\">\n<polygon fill=\"#00ff00\" fill-opacity=\"0.188235\" stroke=\"#00ff00\" stroke-opacity=\"0.188235\" points=\"1236.5,-649 1138.5,-649 1138.5,-614 1236.5,-614 1236.5,-649\"/>\n<text text-anchor=\"start\" x=\"1146.5\" y=\"-629.4\" font-family=\"arial\" text-decoration=\"underline\" font-size=\"12.00\" fill=\"darkgreen\">subject.Subject</text>\n</a>\n</g>\n</g>\n<!-- subject.Subject&#45;&gt;session.Session -->\n<g id=\"edge19\" class=\"edge\">\n<title>subject.Subject-&gt;session.Session</title>\n<path fill=\"none\" stroke=\"#000000\" stroke-width=\"0.75\" stroke-opacity=\"0.250980\" d=\"M1187.5,-613.8C1187.5,-602.95 1187.5,-588.87 1187.5,-578.05\"/>\n</g>\n<!-- scan.ScanInfo.Field&#45;&gt;imaging.MotionCorrection.Summary -->\n<g id=\"edge20\" class=\"edge\">\n<title>scan.ScanInfo.Field-&gt;imaging.MotionCorrection.Summary</title>\n<path fill=\"none\" stroke=\"#000000\" stroke-width=\"0.75\" stroke-opacity=\"0.250980\" d=\"M1261.74,-337.97C1290.52,-304.04 1396.68,-178.9 1425.97,-144.37\"/>\n</g>\n<!-- scan.AcquisitionSoftware -->\n<g id=\"node14\" class=\"node\">\n<title>scan.AcquisitionSoftware</title>\n<g id=\"a_node14\"><a xlink:title=\"acq_software         \r\">\n<polygon fill=\"#000000\" fill-opacity=\"0.125490\" stroke=\"transparent\" points=\"1385.5,-578 1257.5,-578 1257.5,-543 1385.5,-543 1385.5,-578\"/>\n<text text-anchor=\"start\" x=\"1265.5\" y=\"-559\" font-family=\"arial\" text-decoration=\"underline\" font-size=\"10.00\">scan.AcquisitionSoftware</text>\n</a>\n</g>\n</g>\n<!-- scan.AcquisitionSoftware&#45;&gt;scan.Scan -->\n<g id=\"edge21\" class=\"edge\">\n<title>scan.AcquisitionSoftware-&gt;scan.Scan</title>\n<path fill=\"none\" stroke=\"#000000\" stroke-width=\"0.75\" stroke-dasharray=\"5,2\" stroke-opacity=\"0.250980\" d=\"M1305.28,-542.8C1294.75,-531.95 1281.07,-517.87 1270.57,-507.05\"/>\n</g>\n<!-- imaging.ActivityExtractionMethod -->\n<g id=\"node15\" class=\"node\">\n<title>imaging.ActivityExtractionMethod</title>\n<g id=\"a_node15\"><a xlink:title=\"extraction_method    \r\">\n<polygon fill=\"#000000\" fill-opacity=\"0.125490\" stroke=\"transparent\" points=\"821,-152 658,-152 658,-117 821,-117 821,-152\"/>\n<text text-anchor=\"start\" x=\"666\" y=\"-133\" font-family=\"arial\" text-decoration=\"underline\" font-size=\"10.00\">imaging.ActivityExtractionMethod</text>\n</a>\n</g>\n</g>\n<!-- imaging.ActivityExtractionMethod&#45;&gt;imaging.Activity -->\n<g id=\"edge22\" class=\"edge\">\n<title>imaging.ActivityExtractionMethod-&gt;imaging.Activity</title>\n<path fill=\"none\" stroke=\"#000000\" stroke-width=\"0.75\" stroke-opacity=\"0.250980\" d=\"M732.29,-116.89C727.3,-105.39 720.79,-90.4 716.39,-80.27\"/>\n</g>\n<!-- imaging.MaskClassification.MaskType -->\n<g id=\"node17\" class=\"node\">\n<title>imaging.MaskClassification.MaskType</title>\n<g id=\"a_node17\"><a xlink:title=\"→ imaging.MaskClassification\r→ imaging.Segmentation.Mask\r------------------------------\r→ imaging.MaskType\rconfidence=null      \r\">\n<polygon fill=\"transparent\" stroke=\"transparent\" points=\"185,-77.5 0,-77.5 0,-58.5 185,-58.5 185,-77.5\"/>\n<text text-anchor=\"middle\" x=\"92.5\" y=\"-65.5\" font-family=\"arial\" font-size=\"10.00\">imaging.MaskClassification.MaskType</text>\n</a>\n</g>\n</g>\n<!-- imaging.MaskClassification&#45;&gt;imaging.MaskClassification.MaskType -->\n<g id=\"edge23\" class=\"edge\">\n<title>imaging.MaskClassification-&gt;imaging.MaskClassification.MaskType</title>\n<path fill=\"none\" stroke=\"#000000\" stroke-width=\"0.75\" stroke-opacity=\"0.250980\" d=\"M92.5,-121.37C92.5,-108.67 92.5,-89.04 92.5,-77.77\"/>\n</g>\n<!-- imaging.Processing -->\n<g id=\"node19\" class=\"node\">\n<title>imaging.Processing</title>\n<g id=\"a_node19\"><a xlink:title=\"→ imaging.ProcessingTask\r------------------------------\rprocessing_time      \rpackage_version=&quot;&quot;   \r\">\n<ellipse fill=\"#ff0000\" fill-opacity=\"0.125490\" stroke=\"#ff0000\" stroke-opacity=\"0.125490\" cx=\"557.5\" cy=\"-347.5\" rx=\"13\" ry=\"13\"/>\n<text text-anchor=\"middle\" x=\"557.5\" y=\"-344.4\" font-family=\"arial\" font-size=\"12.00\" fill=\"#7f0000\" fill-opacity=\"0.627451\">imaging.Processing</text>\n</a>\n</g>\n</g>\n<!-- imaging.Curation -->\n<g id=\"node29\" class=\"node\">\n<title>imaging.Curation</title>\n<g id=\"a_node29\"><a xlink:title=\"→ imaging.Processing\rcuration_id          \r------------------------------\rcuration_time        \rcuration_output_dir  \rmanual_curation      \rcuration_note=&quot;&quot;     \r\">\n<polygon fill=\"#00ff00\" fill-opacity=\"0.188235\" stroke=\"#00ff00\" stroke-opacity=\"0.188235\" points=\"610.5,-294 502.5,-294 502.5,-259 610.5,-259 610.5,-294\"/>\n<text text-anchor=\"start\" x=\"510.5\" y=\"-274.4\" font-family=\"arial\" text-decoration=\"underline\" font-size=\"12.00\" fill=\"darkgreen\">imaging.Curation</text>\n</a>\n</g>\n</g>\n<!-- imaging.Processing&#45;&gt;imaging.Curation -->\n<g id=\"edge24\" class=\"edge\">\n<title>imaging.Processing-&gt;imaging.Curation</title>\n<path fill=\"none\" stroke=\"#000000\" stroke-width=\"0.75\" stroke-opacity=\"0.250980\" d=\"M557.33,-334.48C557.16,-323.28 556.92,-306.49 556.74,-294.03\"/>\n</g>\n<!-- imaging.ProcessingParamSet -->\n<g id=\"node20\" class=\"node\">\n<title>imaging.ProcessingParamSet</title>\n<g id=\"a_node20\"><a xlink:title=\"paramset_idx         \r------------------------------\r→ imaging.ProcessingMethod\rparamset_desc        \rparam_set_hash       \rparams               \rUNIQUE INDEX (param_set_hash)\r\">\n<polygon fill=\"#000000\" fill-opacity=\"0.125490\" stroke=\"transparent\" points=\"758.5,-507 612.5,-507 612.5,-472 758.5,-472 758.5,-507\"/>\n<text text-anchor=\"start\" x=\"620.5\" y=\"-488\" font-family=\"arial\" text-decoration=\"underline\" font-size=\"10.00\">imaging.ProcessingParamSet</text>\n</a>\n</g>\n</g>\n<!-- imaging.ProcessingTask -->\n<g id=\"node31\" class=\"node\">\n<title>imaging.ProcessingTask</title>\n<g id=\"a_node31\"><a xlink:title=\"→ scan.Scan\r→ imaging.ProcessingParamSet\r------------------------------\rprocessing_output_dir \rtask_mode=&quot;load&quot;     \r\">\n<polygon fill=\"#00ff00\" fill-opacity=\"0.188235\" stroke=\"#00ff00\" stroke-opacity=\"0.188235\" points=\"759,-436 612,-436 612,-401 759,-401 759,-436\"/>\n<text text-anchor=\"middle\" x=\"685.5\" y=\"-415.4\" font-family=\"arial\" font-size=\"12.00\" fill=\"darkgreen\">imaging.ProcessingTask</text>\n</a>\n</g>\n</g>\n<!-- imaging.ProcessingParamSet&#45;&gt;imaging.ProcessingTask -->\n<g id=\"edge25\" class=\"edge\">\n<title>imaging.ProcessingParamSet-&gt;imaging.ProcessingTask</title>\n<path fill=\"none\" stroke=\"#000000\" stroke-width=\"0.75\" stroke-opacity=\"0.250980\" d=\"M685.5,-471.8C685.5,-460.95 685.5,-446.87 685.5,-436.05\"/>\n</g>\n<!-- imaging.Activity.Trace -->\n<g id=\"node33\" class=\"node\">\n<title>imaging.Activity.Trace</title>\n<g id=\"a_node33\"><a xlink:title=\"→ imaging.Activity\r→ imaging.Fluorescence.Trace\r------------------------------\ractivity_trace       \r\">\n<polygon fill=\"transparent\" stroke=\"transparent\" points=\"768,-19 655,-19 655,0 768,0 768,-19\"/>\n<text text-anchor=\"middle\" x=\"711.5\" y=\"-7\" font-family=\"arial\" font-size=\"10.00\">imaging.Activity.Trace</text>\n</a>\n</g>\n</g>\n<!-- imaging.Fluorescence.Trace&#45;&gt;imaging.Activity.Trace -->\n<g id=\"edge26\" class=\"edge\">\n<title>imaging.Fluorescence.Trace-&gt;imaging.Activity.Trace</title>\n<path fill=\"none\" stroke=\"#000000\" stroke-width=\"0.75\" stroke-opacity=\"0.250980\" d=\"M593.61,-58.42C619.74,-47.8 663.97,-29.82 690.19,-19.16\"/>\n</g>\n<!-- imaging.Activity&#45;&gt;imaging.Activity.Trace -->\n<g id=\"edge27\" class=\"edge\">\n<title>imaging.Activity-&gt;imaging.Activity.Trace</title>\n<path fill=\"none\" stroke=\"#000000\" stroke-width=\"0.75\" stroke-opacity=\"0.250980\" d=\"M711.5,-54.74C711.5,-43.97 711.5,-28.56 711.5,-19.06\"/>\n</g>\n<!-- imaging.Segmentation.Mask&#45;&gt;imaging.MaskClassification.MaskType -->\n<g id=\"edge28\" class=\"edge\">\n<title>imaging.Segmentation.Mask-&gt;imaging.MaskClassification.MaskType</title>\n<path fill=\"none\" stroke=\"#000000\" stroke-width=\"0.75\" stroke-opacity=\"0.250980\" d=\"M340.52,-124.93C285.82,-112.6 185.42,-89.96 130.64,-77.6\"/>\n</g>\n<!-- imaging.Segmentation.Mask&#45;&gt;imaging.Fluorescence.Trace -->\n<g id=\"edge29\" class=\"edge\">\n<title>imaging.Segmentation.Mask-&gt;imaging.Fluorescence.Trace</title>\n<path fill=\"none\" stroke=\"#000000\" stroke-width=\"0.75\" stroke-opacity=\"0.250980\" d=\"M404.26,-124.93C441.37,-112.6 509.47,-89.96 546.63,-77.6\"/>\n</g>\n<!-- scan.Scan&#45;&gt;scan.ScanInfo -->\n<g id=\"edge30\" class=\"edge\">\n<title>scan.Scan-&gt;scan.ScanInfo</title>\n<path fill=\"none\" stroke=\"#000000\" stroke-width=\"2\" stroke-opacity=\"0.250980\" d=\"M1254.5,-471.8C1254.5,-460.95 1254.5,-446.87 1254.5,-436.05\"/>\n</g>\n<!-- scan.ScanLocation -->\n<g id=\"node25\" class=\"node\">\n<title>scan.ScanLocation</title>\n<g id=\"a_node25\"><a xlink:title=\"→ scan.Scan\r------------------------------\r→ `neuro_lab`.`#location`\r\">\n<polygon fill=\"#00ff00\" fill-opacity=\"0.188235\" stroke=\"#00ff00\" stroke-opacity=\"0.188235\" points=\"1449,-436 1330,-436 1330,-401 1449,-401 1449,-436\"/>\n<text text-anchor=\"middle\" x=\"1389.5\" y=\"-415.4\" font-family=\"arial\" font-size=\"12.00\" fill=\"darkgreen\">scan.ScanLocation</text>\n</a>\n</g>\n</g>\n<!-- scan.Scan&#45;&gt;scan.ScanLocation -->\n<g id=\"edge31\" class=\"edge\">\n<title>scan.Scan-&gt;scan.ScanLocation</title>\n<path fill=\"none\" stroke=\"#000000\" stroke-width=\"2\" stroke-opacity=\"0.250980\" d=\"M1286.84,-471.97C1308.05,-461.13 1335.7,-447 1356.96,-436.13\"/>\n</g>\n<!-- scan.Scan&#45;&gt;imaging.ProcessingTask -->\n<g id=\"edge32\" class=\"edge\">\n<title>scan.Scan-&gt;imaging.ProcessingTask</title>\n<path fill=\"none\" stroke=\"#000000\" stroke-width=\"0.75\" stroke-opacity=\"0.250980\" d=\"M1217.6,-484.03C1125.13,-472.81 882.09,-443.34 759.08,-428.42\"/>\n</g>\n<!-- imaging.MaskType -->\n<g id=\"node26\" class=\"node\">\n<title>imaging.MaskType</title>\n<g id=\"a_node26\"><a xlink:title=\"mask_type            \r\">\n<polygon fill=\"#000000\" fill-opacity=\"0.125490\" stroke=\"transparent\" points=\"290.5,-152 192.5,-152 192.5,-117 290.5,-117 290.5,-152\"/>\n<text text-anchor=\"start\" x=\"200.5\" y=\"-133\" font-family=\"arial\" text-decoration=\"underline\" font-size=\"10.00\">imaging.MaskType</text>\n</a>\n</g>\n</g>\n<!-- imaging.MaskType&#45;&gt;imaging.MaskClassification.MaskType -->\n<g id=\"edge33\" class=\"edge\">\n<title>imaging.MaskType-&gt;imaging.MaskClassification.MaskType</title>\n<path fill=\"none\" stroke=\"#000000\" stroke-width=\"0.75\" stroke-dasharray=\"5,2\" stroke-opacity=\"0.250980\" d=\"M203.13,-116.89C174.16,-104.35 135.57,-87.64 112.46,-77.64\"/>\n</g>\n<!-- imaging.ProcessingMethod -->\n<g id=\"node28\" class=\"node\">\n<title>imaging.ProcessingMethod</title>\n<g id=\"a_node28\"><a xlink:title=\"processing_method    \r------------------------------\rprocessing_method_desc \r\">\n<polygon fill=\"#000000\" fill-opacity=\"0.125490\" stroke=\"transparent\" points=\"752.5,-578 618.5,-578 618.5,-543 752.5,-543 752.5,-578\"/>\n<text text-anchor=\"start\" x=\"626.5\" y=\"-559\" font-family=\"arial\" text-decoration=\"underline\" font-size=\"10.00\">imaging.ProcessingMethod</text>\n</a>\n</g>\n</g>\n<!-- imaging.ProcessingMethod&#45;&gt;imaging.ProcessingParamSet -->\n<g id=\"edge34\" class=\"edge\">\n<title>imaging.ProcessingMethod-&gt;imaging.ProcessingParamSet</title>\n<path fill=\"none\" stroke=\"#000000\" stroke-width=\"0.75\" stroke-dasharray=\"5,2\" stroke-opacity=\"0.250980\" d=\"M685.5,-542.8C685.5,-531.95 685.5,-517.87 685.5,-507.05\"/>\n</g>\n<!-- imaging.Curation&#45;&gt;imaging.MotionCorrection -->\n<g id=\"edge35\" class=\"edge\">\n<title>imaging.Curation-&gt;imaging.MotionCorrection</title>\n<path fill=\"none\" stroke=\"#000000\" stroke-width=\"2\" stroke-opacity=\"0.250980\" d=\"M610.66,-266.07C626.09,-263.56 642.93,-261 658.5,-259 820.83,-238.12 1011.21,-221.68 1119.46,-213.09\"/>\n</g>\n<!-- imaging.Curation&#45;&gt;imaging.Segmentation -->\n<g id=\"edge36\" class=\"edge\">\n<title>imaging.Curation-&gt;imaging.Segmentation</title>\n<path fill=\"none\" stroke=\"#000000\" stroke-width=\"2\" stroke-opacity=\"0.250980\" d=\"M513.86,-258.97C473.34,-243.26 415.03,-220.66 390.3,-211.07\"/>\n</g>\n<!-- imaging.MotionCorrection.Block -->\n<g id=\"node32\" class=\"node\">\n<title>imaging.MotionCorrection.Block</title>\n<g id=\"a_node32\"><a xlink:title=\"→ imaging.MotionCorrection.NonRigidMotionCorrection\rblock_id             \r------------------------------\rblock_y              \rblock_x              \rblock_z              \ry_shifts             \rx_shifts             \rz_shifts=null        \ry_std                \rx_std                \rz_std=null           \r\">\n<polygon fill=\"transparent\" stroke=\"transparent\" points=\"1284,-77.5 1129,-77.5 1129,-58.5 1284,-58.5 1284,-77.5\"/>\n<text text-anchor=\"start\" x=\"1137\" y=\"-66.5\" font-family=\"arial\" text-decoration=\"underline\" font-size=\"10.00\">imaging.MotionCorrection.Block</text>\n</a>\n</g>\n</g>\n<!-- imaging.MotionCorrection.NonRigidMotionCorrection&#45;&gt;imaging.MotionCorrection.Block -->\n<g id=\"edge37\" class=\"edge\">\n<title>imaging.MotionCorrection.NonRigidMotionCorrection-&gt;imaging.MotionCorrection.Block</title>\n<path fill=\"none\" stroke=\"#000000\" stroke-width=\"0.75\" stroke-opacity=\"0.250980\" d=\"M1206.5,-124.8C1206.5,-112.42 1206.5,-89.86 1206.5,-77.56\"/>\n</g>\n<!-- imaging.ProcessingTask&#45;&gt;imaging.Processing -->\n<g id=\"edge38\" class=\"edge\">\n<title>imaging.ProcessingTask-&gt;imaging.Processing</title>\n<path fill=\"none\" stroke=\"#000000\" stroke-width=\"2\" stroke-opacity=\"0.250980\" d=\"M654.84,-400.97C627.03,-385.98 587.57,-364.71 568.57,-354.47\"/>\n</g>\n</g>\n</svg>",
      "text/plain": [
       "<datajoint.diagram.Diagram at 0x7fac8c200190>"
      ]
     },
     "execution_count": 2,
     "metadata": {},
     "output_type": "execute_result"
    }
   ],
   "source": [
    "dj.Diagram(subject.Subject) + dj.Diagram(session.Session) + dj.Diagram(scan) + dj.Diagram(imaging)"
   ]
  },
  {
   "attachments": {},
   "cell_type": "markdown",
   "metadata": {},
   "source": [
    "### Insert an entry in a manual table by calling the `insert()` method\n",
    "\n",
    "```python\n",
    "subject.Subject.insert1(\n",
    "     dict(subject='subject1',\n",
    "          subject_birth_date='2023-01-01',\n",
    "          sex='U'\n",
    "     )\n",
    ")\n",
    "```"
   ]
  },
  {
   "attachments": {},
   "cell_type": "markdown",
   "metadata": {},
   "source": [
    "### Automatically process data with the `populate()` method\n",
    "\n",
    "+ Once data is inserted into manual tables, the `populate()` function automatically runs the ingestion and processing routines. \n",
    "\n",
    "+ For example, to run Suite2p processing in the `Processing` table:\n",
    "\n",
    "     ```python\n",
    "     imaging.Processing.populate()\n",
    "     ```"
   ]
  },
  {
   "attachments": {},
   "cell_type": "markdown",
   "metadata": {},
   "source": [
    "### Visualize processed data"
   ]
  },
  {
   "cell_type": "code",
   "execution_count": 3,
   "metadata": {},
   "outputs": [
    {
     "data": {
      "application/vnd.jupyter.widget-view+json": {
       "model_id": "a044fb328cd64d50a3d9e8dbc7bee351",
       "version_major": 2,
       "version_minor": 0
      },
      "text/plain": [
       "VBox(children=(HBox(children=(Dropdown(description='Result:', layout=Layout(display='flex', flex_flow='row', g…"
      ]
     },
     "execution_count": 3,
     "metadata": {},
     "output_type": "execute_result"
    }
   ],
   "source": [
    "main(imaging)"
   ]
  },
  {
   "attachments": {},
   "cell_type": "markdown",
   "metadata": {},
   "source": [
    "For an in-depth tutorial please see the [tutorial notebook](./tutorial.ipynb)."
   ]
  }
 ],
 "metadata": {
  "kernelspec": {
   "display_name": "Python 3",
   "language": "python",
   "name": "python3"
  },
  "language_info": {
   "codemirror_mode": {
    "name": "ipython",
    "version": 3
   },
   "file_extension": ".py",
   "mimetype": "text/x-python",
   "name": "python",
   "nbconvert_exporter": "python",
   "pygments_lexer": "ipython3",
   "version": "3.9.16"
  },
  "orig_nbformat": 4,
  "vscode": {
   "interpreter": {
    "hash": "949777d72b0d2535278d3dc13498b2535136f6dfe0678499012e853ee9abcab1"
   }
  }
 },
 "nbformat": 4,
 "nbformat_minor": 2
}
