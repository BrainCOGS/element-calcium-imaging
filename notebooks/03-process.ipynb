{
 "metadata": {
  "language_info": {
   "codemirror_mode": {
    "name": "ipython",
    "version": 3
   },
   "file_extension": ".py",
   "mimetype": "text/x-python",
   "name": "python",
   "nbconvert_exporter": "python",
   "pygments_lexer": "ipython3",
   "version": "3.7.9"
  },
  "orig_nbformat": 2,
  "kernelspec": {
   "name": "python379jvsc74a57bd01a512f474e195e32ad84236879d3bb44800a92b431919ef0b10d543f5012a23c",
   "display_name": "Python 3.7.9 64-bit ('workflow-calcium-imaging': conda)"
  }
 },
 "nbformat": 4,
 "nbformat_minor": 2,
 "cells": [
  {
   "source": [
    "# Interactively run workflow calcium imaging\n",
    "\n",
    "+ The following script outlines the steps to ingest acquired metadata (ScanImage and Scanbox) and processed data (Suite2p and CaImAn) into the DataJoint `workflow-calcium-imaging`.\n",
    "\n",
    "+ To ingest with a completely automated workflow, see [03-automate](03-automate-optional.ipynb).\n",
    "\n",
    "+ To load the local configuration (`dj_local_conf.json`), we will change the directory to the package root directory."
   ],
   "cell_type": "markdown",
   "metadata": {}
  },
  {
   "cell_type": "code",
   "execution_count": null,
   "metadata": {},
   "outputs": [],
   "source": [
    "import os\n",
    "os.chdir('..')\n",
    "import numpy as np"
   ]
  },
  {
   "source": [
    "## `Pipeline.py`\n",
    "\n",
    "+ This script imports relevant packages and `activates` the DataJoint `elements`."
   ],
   "cell_type": "markdown",
   "metadata": {}
  },
  {
   "cell_type": "code",
   "execution_count": null,
   "metadata": {},
   "outputs": [],
   "source": [
    "from workflow_calcium_imaging.pipeline import *"
   ]
  },
  {
   "source": [
    "## Schema diagrams\n",
    "\n",
    "+ The following outputs are the diagrams of the schemas comprising this workflow.\n",
    "\n",
    "+ Please refer back to these diagrams to visualize the relationships of different tables."
   ],
   "cell_type": "markdown",
   "metadata": {}
  },
  {
   "cell_type": "code",
   "execution_count": null,
   "metadata": {},
   "outputs": [],
   "source": [
    "dj.Diagram(lab)"
   ]
  },
  {
   "cell_type": "code",
   "execution_count": null,
   "metadata": {},
   "outputs": [],
   "source": [
    "dj.Diagram(subject)"
   ]
  },
  {
   "cell_type": "code",
   "execution_count": null,
   "metadata": {},
   "outputs": [],
   "source": [
    "dj.Diagram(session)"
   ]
  },
  {
   "cell_type": "code",
   "execution_count": null,
   "metadata": {},
   "outputs": [],
   "source": [
    "dj.Diagram(scan)"
   ]
  },
  {
   "cell_type": "code",
   "execution_count": null,
   "metadata": {},
   "outputs": [],
   "source": [
    "dj.Diagram(imaging)"
   ]
  },
  {
   "source": [
    "## Insert an entry into `subject.Subject`"
   ],
   "cell_type": "markdown",
   "metadata": {}
  },
  {
   "cell_type": "code",
   "execution_count": null,
   "metadata": {},
   "outputs": [],
   "source": [
    "subject.Subject.insert1(dict(subject='subject3', \n",
    "                             sex='F', \n",
    "                             subject_birth_date='2020-01-01 00:00:01', \n",
    "                             subject_description='Scanbox acquisition. Suite2p processing.'))"
   ]
  },
  {
   "source": [
    "## Insert an entry into `lab.Equipment`"
   ],
   "cell_type": "markdown",
   "metadata": {}
  },
  {
   "cell_type": "code",
   "execution_count": null,
   "metadata": {},
   "outputs": [],
   "source": [
    "Equipment.insert1(dict(scanner='Scanbox'))"
   ]
  },
  {
   "source": [
    "## Insert an entry into `session.Session`"
   ],
   "cell_type": "markdown",
   "metadata": {}
  },
  {
   "cell_type": "code",
   "execution_count": null,
   "metadata": {},
   "outputs": [],
   "source": [
    "session.Session.insert1(dict(subject='subject3', \n",
    "                             session_datetime='2021-04-30 12:22:15.032'))"
   ]
  },
  {
   "source": [
    "## Insert an entry into `session.SessionDirectory`\n",
    "\n",
    "+ The `session_dir` is the `imaging_root_data_dir` concatenated with the directory for the given session."
   ],
   "cell_type": "markdown",
   "metadata": {}
  },
  {
   "cell_type": "code",
   "execution_count": null,
   "metadata": {},
   "outputs": [],
   "source": [
    "session.SessionDirectory.insert1(dict(subject='subject3', \n",
    "                                      session_datetime='2021-04-30 12:22:15.032', \n",
    "                                      session_dir='<imaging_root_data_dir>/subject3/session0'))"
   ]
  },
  {
   "source": [
    "## Insert an entry into `scan.Scan`"
   ],
   "cell_type": "markdown",
   "metadata": {}
  },
  {
   "cell_type": "code",
   "execution_count": null,
   "metadata": {},
   "outputs": [],
   "source": [
    "scan.Scan.insert1(dict(subject='subject3', \n",
    "                       session_datetime='2021-04-30 12:22:15.032', \n",
    "                       scan_id=0, \n",
    "                       scanner='Scanbox', \n",
    "                       acq_software='Scanbox',\n",
    "                       scan_notes=''))"
   ]
  },
  {
   "source": [
    "## Populate `scan.ScanInfo`\n",
    "\n",
    "+ This imported table stores information about the acquired image (e.g. image dimensions, file paths, etc.).\n",
    "+ `populate` automatically calls `make` for every key for which the auto-populated table is missing data.\n",
    "+ `populate_settings` passes arguments to the `populate` method.\n",
    "+ `display_progress=True` reports the progress bar"
   ],
   "cell_type": "markdown",
   "metadata": {}
  },
  {
   "cell_type": "code",
   "execution_count": null,
   "metadata": {},
   "outputs": [],
   "source": [
    "populate_settings = {'display_progress': True}"
   ]
  },
  {
   "cell_type": "code",
   "execution_count": null,
   "metadata": {},
   "outputs": [],
   "source": [
    "scan.ScanInfo.populate(**populate_settings)"
   ]
  },
  {
   "source": [
    "## (Optional) Insert a new entry into `imaging.ProcessingParamSet` for Suite2p or CaImAn\n",
    "\n",
    "+ Define and insert the parameters that will be used for the Suite2p or CaImAn processing.\n",
    "\n",
    "+ This step is not needed if you are using an existing ProcessingParamSet.\n",
    "\n",
    "### Define Suite2p parameters"
   ],
   "cell_type": "markdown",
   "metadata": {}
  },
  {
   "cell_type": "code",
   "execution_count": null,
   "metadata": {},
   "outputs": [],
   "source": [
    "params_suite2p = {'look_one_level_down': 0.0,\n",
    "                  'fast_disk': [],\n",
    "                  'delete_bin': False,\n",
    "                  'mesoscan': False,\n",
    "                  'h5py': [],\n",
    "                  'h5py_key': 'data',\n",
    "                  'save_path0': [],\n",
    "                  'subfolders': [],\n",
    "                  'nplanes': 1,\n",
    "                  'nchannels': 1,\n",
    "                  'functional_chan': 1,\n",
    "                  'tau': 1.0,\n",
    "                  'fs': 10.0,\n",
    "                  'force_sktiff': False,\n",
    "                  'preclassify': 0.0,\n",
    "                  'save_mat': False,\n",
    "                  'combined': True,\n",
    "                  'aspect': 1.0,\n",
    "                  'do_bidiphase': False,\n",
    "                  'bidiphase': 0.0,\n",
    "                  'do_registration': True,\n",
    "                  'keep_movie_raw': False,\n",
    "                  'nimg_init': 300,\n",
    "                  'batch_size': 500,\n",
    "                  'maxregshift': 0.1,\n",
    "                  'align_by_chan': 1,\n",
    "                  'reg_tif': False,\n",
    "                  'reg_tif_chan2': False,\n",
    "                  'subpixel': 10,\n",
    "                  'smooth_sigma': 1.15,\n",
    "                  'th_badframes': 1.0,\n",
    "                  'pad_fft': False,\n",
    "                  'nonrigid': True,\n",
    "                  'block_size': [128, 128],\n",
    "                  'snr_thresh': 1.2,\n",
    "                  'maxregshiftNR': 5.0,\n",
    "                  '1Preg': False,\n",
    "                  'spatial_hp': 50.0,\n",
    "                  'pre_smooth': 2.0,\n",
    "                  'spatial_taper': 50.0,\n",
    "                  'roidetect': True,\n",
    "                  'sparse_mode': False,\n",
    "                  'diameter': 12,\n",
    "                  'spatial_scale': 0,\n",
    "                  'connected': True,\n",
    "                  'nbinned': 5000,\n",
    "                  'max_iterations': 20,\n",
    "                  'threshold_scaling': 1.0,\n",
    "                  'max_overlap': 0.75,\n",
    "                  'high_pass': 100.0,\n",
    "                  'inner_neuropil_radius': 2,\n",
    "                  'min_neuropil_pixels': 350,\n",
    "                  'allow_overlap': False,\n",
    "                  'chan2_thres': 0.65,\n",
    "                  'baseline': 'maximin',\n",
    "                  'win_baseline': 60.0,\n",
    "                  'sig_baseline': 10.0,\n",
    "                  'prctile_baseline': 8.0,\n",
    "                  'neucoeff': 0.7,\n",
    "                  'xrange': np.array([0, 0]),\n",
    "                  'yrange': np.array([0, 0])}"
   ]
  },
  {
   "source": [
    "### Insert Suite2p parameters"
   ],
   "cell_type": "markdown",
   "metadata": {}
  },
  {
   "cell_type": "code",
   "execution_count": null,
   "metadata": {},
   "outputs": [],
   "source": [
    "imaging.ProcessingParamSet.insert_new_params(\n",
    "    processing_method='suite2p', \n",
    "    paramset_idx=0, \n",
    "    params=params_suite2p,\n",
    "    paramset_desc='Calcium imaging analysis with Suite2p using default Suite2p parameters')"
   ]
  },
  {
   "source": [
    "## Insert new ProcessingTask to trigger ingestion of motion-correction/segmentation results\n",
    "\n",
    "+ Motion correction and segmentation are performed for each scan,\n",
    "once the processing job has been completed, an entry in the `ProcessingTask` needs to be added to trigger the ingestion of the processed results.\n",
    "\n",
    "+ Two pieces of information need to be specified:\n",
    "\n",
    "    + The `paramset_idx` is the parameter set stored in `imaging.ProcessingParamSet` that is used for the imaging processing job.\n",
    "    \n",
    "    + The `processing_output_dir` stores the directory of the processing results (relative to the imaging root data directory)."
   ],
   "cell_type": "markdown",
   "metadata": {}
  },
  {
   "cell_type": "code",
   "execution_count": null,
   "metadata": {},
   "outputs": [],
   "source": [
    "imaging.ProcessingTask.insert1(dict(subject='subject3', \n",
    "                                    session_datetime='2021-04-30 12:22:15.032', \n",
    "                                    scan_id=0,\n",
    "                                    paramset_idx=0,\n",
    "                                    processing_output_dir='subject3/session0',\n",
    "                                    task_mode='load'))"
   ]
  },
  {
   "source": [
    "## Populate `imaging.Processing`\n",
    "\n",
    "+ For the `task_mode=load` specified above in `imaging.ProcessingTask`, this step ensures that the output directory contains the valid processed outputs.\n",
    "\n",
    "+ In the future, this step will provide for the option to `trigger` the analysis within this workflow (if the `task_mode=trigger`)."
   ],
   "cell_type": "markdown",
   "metadata": {}
  },
  {
   "cell_type": "code",
   "execution_count": null,
   "metadata": {},
   "outputs": [],
   "source": [
    "imaging.Processing.populate(**populate_settings)"
   ]
  },
  {
   "source": [
    "## Insert new Curation following the ProcessingTask\n",
    "\n",
    "+ The next step in the pipeline is the curation of segmentation results. If a manual curation was implemented, an entry needs to be manually inserted into the table Curation, which specifies the directory to the curated results in curation_output_dir. If we would like to process the processed outcome directly, an entry is also needed in Curation. A method create1_from_processing_task was provided to help this insertion. It copies the processing_output_dir in ProcessingTask to the field curation_output_dir in the table Curation with a new curation_id.\n",
    "\n",
    "+ In this example, we create/insert one `imaging.Curation` for each `imaging.ProcessingTask`, specifying the same output directory.\n",
    "\n",
    "+ To this end, we could also make use of a convenient function `imaging.Curation().create1_from_processing_task()`"
   ],
   "cell_type": "markdown",
   "metadata": {}
  },
  {
   "cell_type": "code",
   "execution_count": null,
   "metadata": {},
   "outputs": [],
   "source": [
    "imaging.Curation.insert1(dict(subject='subject3', \n",
    "                              session_datetime='2021-04-30 12:22:15.032', \n",
    "                              scan_id=0,\n",
    "                              paramset_idx=0,\n",
    "                              curation_id=0,\n",
    "                              curation_time='2021-04-30 12:22:15.032', \n",
    "                              curation_output_dir='subject3/session0',\n",
    "                              manual_curation=False,\n",
    "                              curation_note=''))"
   ]
  },
  {
   "source": [
    "## Populate `imaging.MotionCorrection`\n",
    "\n",
    "+ This table contains the rigid or non-rigid motion correction data including the shifts and summary images.\n"
   ],
   "cell_type": "markdown",
   "metadata": {}
  },
  {
   "cell_type": "code",
   "execution_count": null,
   "metadata": {},
   "outputs": [],
   "source": [
    "imaging.MotionCorrection.populate(**populate_settings)"
   ]
  },
  {
   "source": [
    "## Populate `imaging.Segmentation`\n",
    "\n",
    "+ This table contains the mask coordinates, weights, and centers."
   ],
   "cell_type": "markdown",
   "metadata": {}
  },
  {
   "cell_type": "code",
   "execution_count": null,
   "metadata": {},
   "outputs": [],
   "source": [
    "imaging.Segmentation.populate(**populate_settings)"
   ]
  },
  {
   "source": [
    "## Insert an entry into `imaging.Curation`\n",
    "    \n",
    "+ As an option, you can create a new entry for a curation of the motion correction or segmentation data.\n",
    "\n",
    "+ If adding a new entry to `imaging.Curation`, please populate the `imaging.MotionCorrection` and `imaging.Segmentation` tables."
   ],
   "cell_type": "markdown",
   "metadata": {}
  },
  {
   "source": [
    "## Populate `imaging.MaskClassification`\n",
    "\n",
    "+ This table is currently not implemented."
   ],
   "cell_type": "markdown",
   "metadata": {}
  },
  {
   "cell_type": "code",
   "execution_count": null,
   "metadata": {},
   "outputs": [],
   "source": [
    "imaging.MaskClassification.populate(**populate_settings)"
   ]
  },
  {
   "source": [
    "## Populate `imaging.Fluorescence`\n",
    "\n",
    "+ This table contains the fluorescence traces prior filtering and spike extraction"
   ],
   "cell_type": "markdown",
   "metadata": {}
  },
  {
   "cell_type": "code",
   "execution_count": null,
   "metadata": {},
   "outputs": [],
   "source": [
    "imaging.Fluorescence.populate(**populate_settings)"
   ]
  },
  {
   "source": [
    "## Populate `imaging.Activity`\n",
    "+ This table contains the inferred neural activity from the fluorescence traces."
   ],
   "cell_type": "markdown",
   "metadata": {}
  },
  {
   "cell_type": "code",
   "execution_count": null,
   "metadata": {},
   "outputs": [],
   "source": [
    "imaging.Activity.populate(**populate_settings)"
   ]
  },
  {
   "source": [
    "## Next steps\n",
    "\n",
    "+ Proceed to the [05-explore](05-explore.ipynb) to learn how to  query, fetch, and visualize the imaging data."
   ],
   "cell_type": "markdown",
   "metadata": {}
  }
 ]
}