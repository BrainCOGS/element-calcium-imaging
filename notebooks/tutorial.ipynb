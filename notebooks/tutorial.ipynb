{
 "cells": [
  {
   "attachments": {},
   "cell_type": "markdown",
   "metadata": {},
   "source": [
    "# DataJoint Element for Calcium Imaging\n",
    "\n",
    "Open-source data pipeline to automate analyses and organize data\n",
    "\n",
    "<img src =../docs/src/images/rawscans.gif title=\"value\" width=\"200\" height=\"200\"/>\n",
    "<img src =../docs/src/images/motioncorrectedscans.gif width=\"200\" height=\"200\"/>\n",
    "<img src =../docs/src/images/cellsegmentation.png width=\"200\" height=\"200\"/>\n",
    "<img src =../docs/src/images/calciumtraces.png width=\"200\" height=\"200\"/> \n",
    "\n",
    "Left to right: Raw scans, Motion corrected scans, Cell segmentations, Calcium events\n",
    "\n",
    "In this tutorial, we will walk through processing two-photon calcium imaging data collected from ScanImage and processed with Suite2p.\n",
    "\n",
    "We will explain the following concepts as they relate to this pipeline:\n",
    "- What is an Element versus a pipeline?\n",
    "- Plot the pipeline with `dj.Diagram`\n",
    "- Insert data into tables\n",
    "- Query table contents\n",
    "- Fetch table contents\n",
    "- Run the pipeline for your experiments\n",
    "\n",
    "For detailed documentation and tutorials on general DataJoint principles that support collaboration, automation, reproducibility, and visualizations:\n",
    "\n",
    "- [DataJoint for Python - Interactive Tutorials](https://github.com/datajoint/datajoint-tutorials) - Fundamentals including table tiers, query operations, fetch operations, automated computations with the `make` function, etc.\n",
    "\n",
    "- [DataJoint for Python - Documentation](https://datajoint.com/docs/core/datajoint-python/)\n",
    "\n",
    "- [DataJoint Element for Calcium Imaging - Documentation](https://datajoint.com/docs/elements/element-calcium-imaging/)\n",
    "\n",
    "Let's start by importing the packages necessary to run this pipeline. "
   ]
  },
  {
   "cell_type": "code",
   "execution_count": 1,
   "metadata": {},
   "outputs": [
    {
     "name": "stderr",
     "output_type": "stream",
     "text": [
      "[2023-06-08 00:13:21,344][WARNING]: lab.Project and related tables will be removed in a future version of Element Lab. Please use the project schema.\n",
      "[2023-06-08 00:13:21,347][INFO]: Connecting root@fakeservices.datajoint.io:3306\n",
      "[2023-06-08 00:13:21,369][INFO]: Connected root@fakeservices.datajoint.io:3306\n"
     ]
    }
   ],
   "source": [
    "import datajoint as dj\n",
    "import datetime\n",
    "import matplotlib.pyplot as plt\n",
    "import numpy as np"
   ]
  },
  {
   "attachments": {},
   "cell_type": "markdown",
   "metadata": {},
   "source": [
    "## Combine multiple Elements into a pipeline\n",
    "\n",
    "Each DataJoint Element is a modular set of tables that can be combined into a complete pipeline.\n",
    "\n",
    "Each Element contains 1 or more modules, and each module declares its own schema in the database.\n",
    "\n",
    "This tutorial pipeline is assembled from four DataJoint Elements.\n",
    "\n",
    "| Element | Source Code | Documentation | Description |\n",
    "| -- | -- | -- | -- |\n",
    "| Element Lab | [Link](https://github.com/datajoint/element-lab) | [Link](https://datajoint.com/docs/elements/element-lab) | Lab management related information, such as Lab, User, Project, Protocol, Source. |\n",
    "| Element Animal | [Link](https://github.com/datajoint/element-animal) | [Link](https://datajoint.com/docs/elements/element-animal) | General animal metadata and surgery information. |\n",
    "| Element Session | [Link](https://github.com/datajoint/element-session) | [Link](https://datajoint.com/docs/elements/element-session) | General information of experimental sessions. |\n",
    "| Element Calcium Imaging | [Link](https://github.com/datajoint/element-calcium-imaging) | [Link](https://datajoint.com/docs/elements/element-calcium-imaging) |  Calcium imaging analysis with Suite2p, CaImAn, and EXTRACT. |\n",
    "\n",
    "By importing the modules for the first time, the schemas and tables will be created in the database.  Once created, importing modules will not create schemas and tables again, but the existing schemas/tables can be accessed.\n",
    "\n",
    "The Elements are imported and activated within the `tutorial_pipeline` script."
   ]
  },
  {
   "cell_type": "code",
   "execution_count": null,
   "metadata": {},
   "outputs": [],
   "source": [
    "from tutorial_pipeline import lab, subject, session, scan, imaging, Equipment"
   ]
  },
  {
   "attachments": {},
   "cell_type": "markdown",
   "metadata": {},
   "source": [
    "Each Python module (e.g. `subject`) contains a schema object that enables interaction with the schema in the database."
   ]
  },
  {
   "cell_type": "code",
   "execution_count": null,
   "metadata": {},
   "outputs": [],
   "source": [
    "subject.schema"
   ]
  },
  {
   "attachments": {},
   "cell_type": "markdown",
   "metadata": {},
   "source": [
    "The Python classes in the module correspond to a table in the database server."
   ]
  },
  {
   "cell_type": "code",
   "execution_count": null,
   "metadata": {},
   "outputs": [],
   "source": [
    "subject.Subject()"
   ]
  },
  {
   "attachments": {},
   "cell_type": "markdown",
   "metadata": {},
   "source": [
    "## Diagram\n",
    "\n",
    "Let's plot the diagram of tables within multiple schemas and their dependencies using `dj.Diagram()` (see [Diagram docs](https://datajoint.com/docs/core/concepts/getting-started/diagrams/))."
   ]
  },
  {
   "cell_type": "code",
   "execution_count": 2,
   "metadata": {},
   "outputs": [
    {
     "data": {
      "image/svg+xml": [
       "<svg xmlns=\"http://www.w3.org/2000/svg\" xmlns:xlink=\"http://www.w3.org/1999/xlink\" width=\"1564pt\" height=\"648pt\" viewBox=\"0.00 0.00 1563.50 648.00\">\n",
       "<g id=\"graph0\" class=\"graph\" transform=\"scale(1 1) rotate(0) translate(4 644)\">\n",
       "<title>%3</title>\n",
       "<polygon fill=\"white\" stroke=\"transparent\" points=\"-4,4 -4,-644 1559.5,-644 1559.5,4 -4,4\"/>\n",
       "<!-- 0 -->\n",
       "<g id=\"node1\" class=\"node\">\n",
       "<title>0</title>\n",
       "<ellipse fill=\"#ff8800\" fill-opacity=\"0.501961\" stroke=\"#ff8800\" stroke-opacity=\"0.501961\" cx=\"435.5\" cy=\"-205.5\" rx=\"2\" ry=\"2\"/>\n",
       "<text text-anchor=\"middle\" x=\"435.5\" y=\"-205.2\" font-family=\"arial\" font-size=\"1.00\" fill=\"#ff8800\" fill-opacity=\"0.501961\">0</text>\n",
       "</g>\n",
       "<!-- imaging.MotionCorrection -->\n",
       "<g id=\"node21\" class=\"node\">\n",
       "<title>imaging.MotionCorrection</title>\n",
       "<g id=\"a_node21\"><a xlink:title=\"→ imaging.Curation\r------------------------------\r→ scan.Channel.proj(motion_correct_channel=&quot;channel&quot;)\r\">\n",
       "<ellipse fill=\"#00007f\" fill-opacity=\"0.250980\" stroke=\"#00007f\" stroke-opacity=\"0.250980\" cx=\"304.5\" cy=\"-134.5\" rx=\"96\" ry=\"17.5\"/>\n",
       "<text text-anchor=\"middle\" x=\"304.5\" y=\"-131.4\" font-family=\"arial\" font-size=\"12.00\" fill=\"#00007f\" fill-opacity=\"0.627451\">imaging.MotionCorrection</text>\n",
       "</a>\n",
       "</g>\n",
       "</g>\n",
       "<!-- 0&#45;&gt;imaging.MotionCorrection -->\n",
       "<g id=\"edge1\" class=\"edge\">\n",
       "<title>0-&gt;imaging.MotionCorrection</title>\n",
       "<path fill=\"none\" stroke=\"#000000\" stroke-width=\"0.75\" stroke-dasharray=\"5,2\" stroke-opacity=\"0.250980\" d=\"M434.03,-203.73C424.39,-198.65 369.53,-169.75 334.37,-151.23\"/>\n",
       "</g>\n",
       "<!-- 1 -->\n",
       "<g id=\"node2\" class=\"node\">\n",
       "<title>1</title>\n",
       "<ellipse fill=\"#ff8800\" fill-opacity=\"0.501961\" stroke=\"#ff8800\" stroke-opacity=\"0.501961\" cx=\"523.5\" cy=\"-205.5\" rx=\"2\" ry=\"2\"/>\n",
       "<text text-anchor=\"middle\" x=\"523.5\" y=\"-205.2\" font-family=\"arial\" font-size=\"1.00\" fill=\"#ff8800\" fill-opacity=\"0.501961\">1</text>\n",
       "</g>\n",
       "<!-- imaging.Segmentation.Mask -->\n",
       "<g id=\"node15\" class=\"node\">\n",
       "<title>imaging.Segmentation.Mask</title>\n",
       "<g id=\"a_node15\"><a xlink:title=\"→ imaging.Segmentation\rmask                 \r------------------------------\r→ scan.Channel.proj(segmentation_channel=&quot;channel&quot;)\rmask_npix            \rmask_center_x        \rmask_center_y        \rmask_center_z=null   \rmask_xpix            \rmask_ypix            \rmask_zpix=null       \rmask_weights         \r\">\n",
       "<polygon fill=\"transparent\" stroke=\"transparent\" points=\"923.5,-144 783.5,-144 783.5,-125 923.5,-125 923.5,-144\"/>\n",
       "<text text-anchor=\"start\" x=\"791.5\" y=\"-133\" font-family=\"arial\" text-decoration=\"underline\" font-size=\"10.00\">imaging.Segmentation.Mask</text>\n",
       "</a>\n",
       "</g>\n",
       "</g>\n",
       "<!-- 1&#45;&gt;imaging.Segmentation.Mask -->\n",
       "<g id=\"edge2\" class=\"edge\">\n",
       "<title>1-&gt;imaging.Segmentation.Mask</title>\n",
       "<path fill=\"none\" stroke=\"#000000\" stroke-width=\"0.75\" stroke-dasharray=\"5,2\" stroke-opacity=\"0.250980\" d=\"M525.28,-204.13C545.29,-199.94 729.32,-161.46 812.74,-144.02\"/>\n",
       "</g>\n",
       "<!-- 2 -->\n",
       "<g id=\"node3\" class=\"node\">\n",
       "<title>2</title>\n",
       "<ellipse fill=\"#ff8800\" fill-opacity=\"0.501961\" stroke=\"#ff8800\" stroke-opacity=\"0.501961\" cx=\"484.5\" cy=\"-205.5\" rx=\"2\" ry=\"2\"/>\n",
       "<text text-anchor=\"middle\" x=\"484.5\" y=\"-205.2\" font-family=\"arial\" font-size=\"1.00\" fill=\"#ff8800\" fill-opacity=\"0.501961\">2</text>\n",
       "</g>\n",
       "<!-- imaging.Fluorescence.Trace -->\n",
       "<g id=\"node10\" class=\"node\">\n",
       "<title>imaging.Fluorescence.Trace</title>\n",
       "<g id=\"a_node10\"><a xlink:title=\"→ imaging.Fluorescence\r→ imaging.Segmentation.Mask\r→ scan.Channel.proj(fluo_channel=&quot;channel&quot;)\r------------------------------\rfluorescence         \rneuropil_fluorescence=null \r\">\n",
       "<polygon fill=\"transparent\" stroke=\"transparent\" points=\"1093.5,-77.5 953.5,-77.5 953.5,-58.5 1093.5,-58.5 1093.5,-77.5\"/>\n",
       "<text text-anchor=\"middle\" x=\"1023.5\" y=\"-65.5\" font-family=\"arial\" font-size=\"10.00\">imaging.Fluorescence.Trace</text>\n",
       "</a>\n",
       "</g>\n",
       "</g>\n",
       "<!-- 2&#45;&gt;imaging.Fluorescence.Trace -->\n",
       "<g id=\"edge3\" class=\"edge\">\n",
       "<title>2-&gt;imaging.Fluorescence.Trace</title>\n",
       "<path fill=\"none\" stroke=\"#000000\" stroke-width=\"0.75\" stroke-opacity=\"0.250980\" d=\"M485.59,-203.43C488.63,-200.52 497.56,-192.33 506.5,-188 589.8,-147.63 861.01,-97.3 973.7,-77.53\"/>\n",
       "</g>\n",
       "<!-- imaging.ProcessingQualityMetrics.Trace -->\n",
       "<g id=\"node4\" class=\"node\">\n",
       "<title>imaging.ProcessingQualityMetrics.Trace</title>\n",
       "<g id=\"a_node4\"><a xlink:title=\"→ imaging.ProcessingQualityMetrics\r→ imaging.Fluorescence.Trace\r------------------------------\rskewness             \rvariance             \r\">\n",
       "<polygon fill=\"transparent\" stroke=\"transparent\" points=\"1073,-19 880,-19 880,0 1073,0 1073,-19\"/>\n",
       "<text text-anchor=\"middle\" x=\"976.5\" y=\"-7\" font-family=\"arial\" font-size=\"10.00\">imaging.ProcessingQualityMetrics.Trace</text>\n",
       "</a>\n",
       "</g>\n",
       "</g>\n",
       "<!-- imaging.ProcessingQualityMetrics.Mask -->\n",
       "<g id=\"node5\" class=\"node\">\n",
       "<title>imaging.ProcessingQualityMetrics.Mask</title>\n",
       "<g id=\"a_node5\"><a xlink:title=\"→ imaging.ProcessingQualityMetrics\r→ imaging.Segmentation.Mask\r------------------------------\rmask_area=null       \rroundness            \r\">\n",
       "<polygon fill=\"transparent\" stroke=\"transparent\" points=\"861.5,-19 669.5,-19 669.5,0 861.5,0 861.5,-19\"/>\n",
       "<text text-anchor=\"middle\" x=\"765.5\" y=\"-7\" font-family=\"arial\" font-size=\"10.00\">imaging.ProcessingQualityMetrics.Mask</text>\n",
       "</a>\n",
       "</g>\n",
       "</g>\n",
       "<!-- imaging.ProcessingQualityMetrics -->\n",
       "<g id=\"node6\" class=\"node\">\n",
       "<title>imaging.ProcessingQualityMetrics</title>\n",
       "<g id=\"a_node6\"><a xlink:title=\"→ imaging.Fluorescence\r\">\n",
       "<ellipse fill=\"#ff0000\" fill-opacity=\"0.125490\" stroke=\"#ff0000\" stroke-opacity=\"0.125490\" cx=\"836.5\" cy=\"-68\" rx=\"13\" ry=\"13\"/>\n",
       "<text text-anchor=\"middle\" x=\"836.5\" y=\"-64.9\" font-family=\"arial\" font-size=\"12.00\" fill=\"#7f0000\" fill-opacity=\"0.627451\">imaging.ProcessingQualityMetrics</text>\n",
       "</a>\n",
       "</g>\n",
       "</g>\n",
       "<!-- imaging.ProcessingQualityMetrics&#45;&gt;imaging.ProcessingQualityMetrics.Trace -->\n",
       "<g id=\"edge4\" class=\"edge\">\n",
       "<title>imaging.ProcessingQualityMetrics-&gt;imaging.ProcessingQualityMetrics.Trace</title>\n",
       "<path fill=\"none\" stroke=\"#000000\" stroke-width=\"0.75\" stroke-opacity=\"0.250980\" d=\"M848.44,-62.18C872.18,-52.6 925.59,-31.05 955.39,-19.02\"/>\n",
       "</g>\n",
       "<!-- imaging.ProcessingQualityMetrics&#45;&gt;imaging.ProcessingQualityMetrics.Mask -->\n",
       "<g id=\"edge5\" class=\"edge\">\n",
       "<title>imaging.ProcessingQualityMetrics-&gt;imaging.ProcessingQualityMetrics.Mask</title>\n",
       "<path fill=\"none\" stroke=\"#000000\" stroke-width=\"0.75\" stroke-opacity=\"0.250980\" d=\"M826.63,-59.14C813.37,-48.59 789.89,-29.91 776.22,-19.03\"/>\n",
       "</g>\n",
       "<!-- imaging.Activity.Trace -->\n",
       "<g id=\"node7\" class=\"node\">\n",
       "<title>imaging.Activity.Trace</title>\n",
       "<g id=\"a_node7\"><a xlink:title=\"→ imaging.Activity\r→ imaging.Fluorescence.Trace\r------------------------------\ractivity_trace       \r\">\n",
       "<polygon fill=\"transparent\" stroke=\"transparent\" points=\"1219,-19 1106,-19 1106,0 1219,0 1219,-19\"/>\n",
       "<text text-anchor=\"middle\" x=\"1162.5\" y=\"-7\" font-family=\"arial\" font-size=\"10.00\">imaging.Activity.Trace</text>\n",
       "</a>\n",
       "</g>\n",
       "</g>\n",
       "<!-- imaging.Activity -->\n",
       "<g id=\"node8\" class=\"node\">\n",
       "<title>imaging.Activity</title>\n",
       "<g id=\"a_node8\"><a xlink:title=\"→ imaging.Fluorescence\r→ imaging.ActivityExtractionMethod\r\">\n",
       "<ellipse fill=\"#ff0000\" fill-opacity=\"0.125490\" stroke=\"#ff0000\" stroke-opacity=\"0.125490\" cx=\"1162.5\" cy=\"-68\" rx=\"13\" ry=\"13\"/>\n",
       "<text text-anchor=\"middle\" x=\"1162.5\" y=\"-64.9\" font-family=\"arial\" font-size=\"12.00\" fill=\"#7f0000\" fill-opacity=\"0.627451\">imaging.Activity</text>\n",
       "</a>\n",
       "</g>\n",
       "</g>\n",
       "<!-- imaging.Activity&#45;&gt;imaging.Activity.Trace -->\n",
       "<g id=\"edge6\" class=\"edge\">\n",
       "<title>imaging.Activity-&gt;imaging.Activity.Trace</title>\n",
       "<path fill=\"none\" stroke=\"#000000\" stroke-width=\"0.75\" stroke-opacity=\"0.250980\" d=\"M1162.5,-54.74C1162.5,-43.97 1162.5,-28.56 1162.5,-19.06\"/>\n",
       "</g>\n",
       "<!-- imaging.ActivityExtractionMethod -->\n",
       "<g id=\"node9\" class=\"node\">\n",
       "<title>imaging.ActivityExtractionMethod</title>\n",
       "<g id=\"a_node9\"><a xlink:title=\"extraction_method    \r\">\n",
       "<polygon fill=\"#000000\" fill-opacity=\"0.125490\" stroke=\"transparent\" points=\"1258,-152 1095,-152 1095,-117 1258,-117 1258,-152\"/>\n",
       "<text text-anchor=\"start\" x=\"1103\" y=\"-133\" font-family=\"arial\" text-decoration=\"underline\" font-size=\"10.00\">imaging.ActivityExtractionMethod</text>\n",
       "</a>\n",
       "</g>\n",
       "</g>\n",
       "<!-- imaging.ActivityExtractionMethod&#45;&gt;imaging.Activity -->\n",
       "<g id=\"edge7\" class=\"edge\">\n",
       "<title>imaging.ActivityExtractionMethod-&gt;imaging.Activity</title>\n",
       "<path fill=\"none\" stroke=\"#000000\" stroke-width=\"0.75\" stroke-opacity=\"0.250980\" d=\"M1172.89,-116.89C1170.46,-105.69 1167.31,-91.17 1165.12,-81.07\"/>\n",
       "</g>\n",
       "<!-- imaging.Fluorescence.Trace&#45;&gt;imaging.ProcessingQualityMetrics.Trace -->\n",
       "<g id=\"edge8\" class=\"edge\">\n",
       "<title>imaging.Fluorescence.Trace-&gt;imaging.ProcessingQualityMetrics.Trace</title>\n",
       "<path fill=\"none\" stroke=\"#000000\" stroke-width=\"2\" stroke-opacity=\"0.250980\" d=\"M1016.16,-58.17C1007.27,-47.5 992.43,-29.65 983.64,-19.08\"/>\n",
       "</g>\n",
       "<!-- imaging.Fluorescence.Trace&#45;&gt;imaging.Activity.Trace -->\n",
       "<g id=\"edge9\" class=\"edge\">\n",
       "<title>imaging.Fluorescence.Trace-&gt;imaging.Activity.Trace</title>\n",
       "<path fill=\"none\" stroke=\"#000000\" stroke-width=\"0.75\" stroke-opacity=\"0.250980\" d=\"M1044.61,-58.42C1070.74,-47.8 1114.97,-29.82 1141.19,-19.16\"/>\n",
       "</g>\n",
       "<!-- imaging.Fluorescence -->\n",
       "<g id=\"node11\" class=\"node\">\n",
       "<title>imaging.Fluorescence</title>\n",
       "<g id=\"a_node11\"><a xlink:title=\"→ imaging.Segmentation\r\">\n",
       "<ellipse fill=\"#ff0000\" fill-opacity=\"0.125490\" stroke=\"#ff0000\" stroke-opacity=\"0.125490\" cx=\"1009.5\" cy=\"-134.5\" rx=\"13\" ry=\"13\"/>\n",
       "<text text-anchor=\"middle\" x=\"1009.5\" y=\"-131.4\" font-family=\"arial\" font-size=\"12.00\" fill=\"#7f0000\" fill-opacity=\"0.627451\">imaging.Fluorescence</text>\n",
       "</a>\n",
       "</g>\n",
       "</g>\n",
       "<!-- imaging.Fluorescence&#45;&gt;imaging.ProcessingQualityMetrics -->\n",
       "<g id=\"edge10\" class=\"edge\">\n",
       "<title>imaging.Fluorescence-&gt;imaging.ProcessingQualityMetrics</title>\n",
       "<path fill=\"none\" stroke=\"#000000\" stroke-width=\"2\" stroke-opacity=\"0.250980\" d=\"M997.61,-129.07C966,-117.28 880.17,-85.28 848.47,-73.46\"/>\n",
       "</g>\n",
       "<!-- imaging.Fluorescence&#45;&gt;imaging.Activity -->\n",
       "<g id=\"edge11\" class=\"edge\">\n",
       "<title>imaging.Fluorescence-&gt;imaging.Activity</title>\n",
       "<path fill=\"none\" stroke=\"#000000\" stroke-width=\"0.75\" stroke-opacity=\"0.250980\" d=\"M1021.51,-128.44C1050.11,-116.38 1122.01,-86.07 1150.55,-74.04\"/>\n",
       "</g>\n",
       "<!-- imaging.Fluorescence&#45;&gt;imaging.Fluorescence.Trace -->\n",
       "<g id=\"edge12\" class=\"edge\">\n",
       "<title>imaging.Fluorescence-&gt;imaging.Fluorescence.Trace</title>\n",
       "<path fill=\"none\" stroke=\"#000000\" stroke-width=\"0.75\" stroke-opacity=\"0.250980\" d=\"M1012.07,-121.67C1014.81,-109.01 1019.11,-89.23 1021.58,-77.85\"/>\n",
       "</g>\n",
       "<!-- imaging.MaskClassification.MaskType -->\n",
       "<g id=\"node12\" class=\"node\">\n",
       "<title>imaging.MaskClassification.MaskType</title>\n",
       "<g id=\"a_node12\"><a xlink:title=\"→ imaging.MaskClassification\r→ imaging.Segmentation.Mask\r------------------------------\r→ imaging.MaskType\rconfidence=null      \r\">\n",
       "<polygon fill=\"transparent\" stroke=\"transparent\" points=\"1450,-77.5 1265,-77.5 1265,-58.5 1450,-58.5 1450,-77.5\"/>\n",
       "<text text-anchor=\"middle\" x=\"1357.5\" y=\"-65.5\" font-family=\"arial\" font-size=\"10.00\">imaging.MaskClassification.MaskType</text>\n",
       "</a>\n",
       "</g>\n",
       "</g>\n",
       "<!-- imaging.MaskClassification -->\n",
       "<g id=\"node13\" class=\"node\">\n",
       "<title>imaging.MaskClassification</title>\n",
       "<g id=\"a_node13\"><a xlink:title=\"→ imaging.Segmentation\r→ imaging.MaskClassificationMethod\r\">\n",
       "<ellipse fill=\"#ff0000\" fill-opacity=\"0.125490\" stroke=\"#ff0000\" stroke-opacity=\"0.125490\" cx=\"1357.5\" cy=\"-134.5\" rx=\"13\" ry=\"13\"/>\n",
       "<text text-anchor=\"middle\" x=\"1357.5\" y=\"-131.4\" font-family=\"arial\" font-size=\"12.00\" fill=\"#7f0000\" fill-opacity=\"0.627451\">imaging.MaskClassification</text>\n",
       "</a>\n",
       "</g>\n",
       "</g>\n",
       "<!-- imaging.MaskClassification&#45;&gt;imaging.MaskClassification.MaskType -->\n",
       "<g id=\"edge13\" class=\"edge\">\n",
       "<title>imaging.MaskClassification-&gt;imaging.MaskClassification.MaskType</title>\n",
       "<path fill=\"none\" stroke=\"#000000\" stroke-width=\"0.75\" stroke-opacity=\"0.250980\" d=\"M1357.5,-121.37C1357.5,-108.67 1357.5,-89.04 1357.5,-77.77\"/>\n",
       "</g>\n",
       "<!-- imaging.MaskClassificationMethod -->\n",
       "<g id=\"node14\" class=\"node\">\n",
       "<title>imaging.MaskClassificationMethod</title>\n",
       "<g id=\"a_node14\"><a xlink:title=\"mask_classification_method \r\">\n",
       "<polygon fill=\"#000000\" fill-opacity=\"0.125490\" stroke=\"transparent\" points=\"1442,-223 1273,-223 1273,-188 1442,-188 1442,-223\"/>\n",
       "<text text-anchor=\"start\" x=\"1281\" y=\"-204\" font-family=\"arial\" text-decoration=\"underline\" font-size=\"10.00\">imaging.MaskClassificationMethod</text>\n",
       "</a>\n",
       "</g>\n",
       "</g>\n",
       "<!-- imaging.MaskClassificationMethod&#45;&gt;imaging.MaskClassification -->\n",
       "<g id=\"edge14\" class=\"edge\">\n",
       "<title>imaging.MaskClassificationMethod-&gt;imaging.MaskClassification</title>\n",
       "<path fill=\"none\" stroke=\"#000000\" stroke-width=\"0.75\" stroke-opacity=\"0.250980\" d=\"M1357.5,-187.8C1357.5,-175.35 1357.5,-158.66 1357.5,-147.51\"/>\n",
       "</g>\n",
       "<!-- imaging.Segmentation.Mask&#45;&gt;imaging.ProcessingQualityMetrics.Mask -->\n",
       "<g id=\"edge15\" class=\"edge\">\n",
       "<title>imaging.Segmentation.Mask-&gt;imaging.ProcessingQualityMetrics.Mask</title>\n",
       "<path fill=\"none\" stroke=\"#000000\" stroke-width=\"2\" stroke-opacity=\"0.250980\" d=\"M799.35,-124.98C773.29,-117.85 744.33,-104.82 728.5,-81 714.42,-59.82 739.7,-32.66 755.03,-19.07\"/>\n",
       "</g>\n",
       "<!-- imaging.Segmentation.Mask&#45;&gt;imaging.Fluorescence.Trace -->\n",
       "<g id=\"edge16\" class=\"edge\">\n",
       "<title>imaging.Segmentation.Mask-&gt;imaging.Fluorescence.Trace</title>\n",
       "<path fill=\"none\" stroke=\"#000000\" stroke-width=\"0.75\" stroke-opacity=\"0.250980\" d=\"M876.07,-124.93C908.59,-112.6 968.27,-89.96 1000.83,-77.6\"/>\n",
       "</g>\n",
       "<!-- imaging.Segmentation.Mask&#45;&gt;imaging.MaskClassification.MaskType -->\n",
       "<g id=\"edge17\" class=\"edge\">\n",
       "<title>imaging.Segmentation.Mask-&gt;imaging.MaskClassification.MaskType</title>\n",
       "<path fill=\"none\" stroke=\"#000000\" stroke-width=\"0.75\" stroke-opacity=\"0.250980\" d=\"M891.22,-124.99C904.53,-122.18 919.64,-119.21 933.5,-117 1047.08,-98.9 1178.83,-85.1 1264.95,-77.04\"/>\n",
       "</g>\n",
       "<!-- imaging.Segmentation -->\n",
       "<g id=\"node16\" class=\"node\">\n",
       "<title>imaging.Segmentation</title>\n",
       "<g id=\"a_node16\"><a xlink:title=\"→ imaging.Curation\r\">\n",
       "<ellipse fill=\"#ff0000\" fill-opacity=\"0.125490\" stroke=\"#ff0000\" stroke-opacity=\"0.125490\" cx=\"853.5\" cy=\"-205.5\" rx=\"13\" ry=\"13\"/>\n",
       "<text text-anchor=\"middle\" x=\"853.5\" y=\"-202.4\" font-family=\"arial\" font-size=\"12.00\" fill=\"#7f0000\" fill-opacity=\"0.627451\">imaging.Segmentation</text>\n",
       "</a>\n",
       "</g>\n",
       "</g>\n",
       "<!-- imaging.Segmentation&#45;&gt;imaging.Fluorescence -->\n",
       "<g id=\"edge18\" class=\"edge\">\n",
       "<title>imaging.Segmentation-&gt;imaging.Fluorescence</title>\n",
       "<path fill=\"none\" stroke=\"#000000\" stroke-width=\"2\" stroke-opacity=\"0.250980\" d=\"M865.23,-199.31C894.14,-186.53 968.59,-153.6 997.64,-140.75\"/>\n",
       "</g>\n",
       "<!-- imaging.Segmentation&#45;&gt;imaging.MaskClassification -->\n",
       "<g id=\"edge19\" class=\"edge\">\n",
       "<title>imaging.Segmentation-&gt;imaging.MaskClassification</title>\n",
       "<path fill=\"none\" stroke=\"#000000\" stroke-width=\"0.75\" stroke-opacity=\"0.250980\" d=\"M866.41,-203.13C917.45,-197.64 1109.99,-176.41 1267.5,-152 1295.13,-147.72 1327.31,-141.53 1344.72,-138.07\"/>\n",
       "</g>\n",
       "<!-- imaging.Segmentation&#45;&gt;imaging.Segmentation.Mask -->\n",
       "<g id=\"edge20\" class=\"edge\">\n",
       "<title>imaging.Segmentation-&gt;imaging.Segmentation.Mask</title>\n",
       "<path fill=\"none\" stroke=\"#000000\" stroke-width=\"0.75\" stroke-opacity=\"0.250980\" d=\"M853.5,-192.48C853.5,-178.74 853.5,-156.56 853.5,-144.32\"/>\n",
       "</g>\n",
       "<!-- imaging.MotionCorrection.Summary -->\n",
       "<g id=\"node17\" class=\"node\">\n",
       "<title>imaging.MotionCorrection.Summary</title>\n",
       "<g id=\"a_node17\"><a xlink:title=\"→ imaging.MotionCorrection\r→ scan.ScanInfo.Field\r------------------------------\rref_image            \raverage_image        \rcorrelation_image=null \rmax_proj_image=null  \r\">\n",
       "<polygon fill=\"transparent\" stroke=\"transparent\" points=\"173,-77.5 0,-77.5 0,-58.5 173,-58.5 173,-77.5\"/>\n",
       "<text text-anchor=\"middle\" x=\"86.5\" y=\"-65.5\" font-family=\"arial\" font-size=\"10.00\">imaging.MotionCorrection.Summary</text>\n",
       "</a>\n",
       "</g>\n",
       "</g>\n",
       "<!-- imaging.MotionCorrection.Block -->\n",
       "<g id=\"node18\" class=\"node\">\n",
       "<title>imaging.MotionCorrection.Block</title>\n",
       "<g id=\"a_node18\"><a xlink:title=\"→ imaging.MotionCorrection.NonRigidMotionCorrection\rblock_id             \r------------------------------\rblock_y              \rblock_x              \rblock_z              \ry_shifts             \rx_shifts             \rz_shifts=null        \ry_std                \rx_std                \rz_std=null           \r\">\n",
       "<polygon fill=\"transparent\" stroke=\"transparent\" points=\"636,-19 481,-19 481,0 636,0 636,-19\"/>\n",
       "<text text-anchor=\"start\" x=\"489\" y=\"-8\" font-family=\"arial\" text-decoration=\"underline\" font-size=\"10.00\">imaging.MotionCorrection.Block</text>\n",
       "</a>\n",
       "</g>\n",
       "</g>\n",
       "<!-- imaging.MotionCorrection.NonRigidMotionCorrection -->\n",
       "<g id=\"node19\" class=\"node\">\n",
       "<title>imaging.MotionCorrection.NonRigidMotionCorrection</title>\n",
       "<g id=\"a_node19\"><a xlink:title=\"→ imaging.MotionCorrection\r------------------------------\routlier_frames=null  \rblock_height         \rblock_width          \rblock_depth          \rblock_count_y        \rblock_count_x        \rblock_count_z        \r\">\n",
       "<polygon fill=\"transparent\" stroke=\"transparent\" points=\"681,-77.5 436,-77.5 436,-58.5 681,-58.5 681,-77.5\"/>\n",
       "<text text-anchor=\"middle\" x=\"558.5\" y=\"-65.5\" font-family=\"arial\" font-size=\"10.00\">imaging.MotionCorrection.NonRigidMotionCorrection</text>\n",
       "</a>\n",
       "</g>\n",
       "</g>\n",
       "<!-- imaging.MotionCorrection.NonRigidMotionCorrection&#45;&gt;imaging.MotionCorrection.Block -->\n",
       "<g id=\"edge21\" class=\"edge\">\n",
       "<title>imaging.MotionCorrection.NonRigidMotionCorrection-&gt;imaging.MotionCorrection.Block</title>\n",
       "<path fill=\"none\" stroke=\"#000000\" stroke-width=\"0.75\" stroke-opacity=\"0.250980\" d=\"M558.5,-58.17C558.5,-47.5 558.5,-29.65 558.5,-19.08\"/>\n",
       "</g>\n",
       "<!-- imaging.MotionCorrection.RigidMotionCorrection -->\n",
       "<g id=\"node20\" class=\"node\">\n",
       "<title>imaging.MotionCorrection.RigidMotionCorrection</title>\n",
       "<g id=\"a_node20\"><a xlink:title=\"→ imaging.MotionCorrection\r------------------------------\routlier_frames=null  \ry_shifts             \rx_shifts             \rz_shifts=null        \ry_std                \rx_std                \rz_std=null           \r\">\n",
       "<polygon fill=\"transparent\" stroke=\"transparent\" points=\"418,-77.5 191,-77.5 191,-58.5 418,-58.5 418,-77.5\"/>\n",
       "<text text-anchor=\"middle\" x=\"304.5\" y=\"-65.5\" font-family=\"arial\" font-size=\"10.00\">imaging.MotionCorrection.RigidMotionCorrection</text>\n",
       "</a>\n",
       "</g>\n",
       "</g>\n",
       "<!-- imaging.MotionCorrection&#45;&gt;imaging.MotionCorrection.Summary -->\n",
       "<g id=\"edge22\" class=\"edge\">\n",
       "<title>imaging.MotionCorrection-&gt;imaging.MotionCorrection.Summary</title>\n",
       "<path fill=\"none\" stroke=\"#000000\" stroke-width=\"0.75\" stroke-opacity=\"0.250980\" d=\"M256.39,-119.27C213.26,-106.5 151.39,-88.2 115.44,-77.56\"/>\n",
       "</g>\n",
       "<!-- imaging.MotionCorrection&#45;&gt;imaging.MotionCorrection.NonRigidMotionCorrection -->\n",
       "<g id=\"edge23\" class=\"edge\">\n",
       "<title>imaging.MotionCorrection-&gt;imaging.MotionCorrection.NonRigidMotionCorrection</title>\n",
       "<path fill=\"none\" stroke=\"#000000\" stroke-width=\"2\" stroke-opacity=\"0.250980\" d=\"M358.06,-119.9C408.42,-107.11 482.25,-88.36 524.83,-77.55\"/>\n",
       "</g>\n",
       "<!-- imaging.MotionCorrection&#45;&gt;imaging.MotionCorrection.RigidMotionCorrection -->\n",
       "<g id=\"edge24\" class=\"edge\">\n",
       "<title>imaging.MotionCorrection-&gt;imaging.MotionCorrection.RigidMotionCorrection</title>\n",
       "<path fill=\"none\" stroke=\"#000000\" stroke-width=\"2\" stroke-opacity=\"0.250980\" d=\"M304.5,-116.89C304.5,-104.35 304.5,-87.64 304.5,-77.64\"/>\n",
       "</g>\n",
       "<!-- imaging.Curation -->\n",
       "<g id=\"node22\" class=\"node\">\n",
       "<title>imaging.Curation</title>\n",
       "<g id=\"a_node22\"><a xlink:title=\"→ imaging.Processing\rcuration_id          \r------------------------------\rcuration_time        \rcuration_output_dir  \rmanual_curation      \rcuration_note=&quot;&quot;     \r\">\n",
       "<polygon fill=\"#00ff00\" fill-opacity=\"0.188235\" stroke=\"#00ff00\" stroke-opacity=\"0.188235\" points=\"623.5,-294 515.5,-294 515.5,-259 623.5,-259 623.5,-294\"/>\n",
       "<text text-anchor=\"start\" x=\"523.5\" y=\"-274.4\" font-family=\"arial\" text-decoration=\"underline\" font-size=\"12.00\" fill=\"darkgreen\">imaging.Curation</text>\n",
       "</a>\n",
       "</g>\n",
       "</g>\n",
       "<!-- imaging.Curation&#45;&gt;imaging.Segmentation -->\n",
       "<g id=\"edge25\" class=\"edge\">\n",
       "<title>imaging.Curation-&gt;imaging.Segmentation</title>\n",
       "<path fill=\"none\" stroke=\"#000000\" stroke-width=\"2\" stroke-opacity=\"0.250980\" d=\"M623.59,-262.36C691.5,-245.86 803.65,-218.61 840.98,-209.54\"/>\n",
       "</g>\n",
       "<!-- imaging.Curation&#45;&gt;imaging.MotionCorrection -->\n",
       "<g id=\"edge26\" class=\"edge\">\n",
       "<title>imaging.Curation-&gt;imaging.MotionCorrection</title>\n",
       "<path fill=\"none\" stroke=\"#000000\" stroke-width=\"2\" stroke-opacity=\"0.250980\" d=\"M568.93,-258.7C567.31,-238.86 561.53,-206.27 541.5,-188 518.54,-167.05 443.36,-152.82 383.76,-144.51\"/>\n",
       "</g>\n",
       "<!-- imaging.Processing -->\n",
       "<g id=\"node23\" class=\"node\">\n",
       "<title>imaging.Processing</title>\n",
       "<g id=\"a_node23\"><a xlink:title=\"→ imaging.ProcessingTask\r------------------------------\rprocessing_time      \rpackage_version=&quot;&quot;   \r\">\n",
       "<ellipse fill=\"#ff0000\" fill-opacity=\"0.125490\" stroke=\"#ff0000\" stroke-opacity=\"0.125490\" cx=\"569.5\" cy=\"-343\" rx=\"13\" ry=\"13\"/>\n",
       "<text text-anchor=\"middle\" x=\"569.5\" y=\"-339.9\" font-family=\"arial\" font-size=\"12.00\" fill=\"#7f0000\" fill-opacity=\"0.627451\">imaging.Processing</text>\n",
       "</a>\n",
       "</g>\n",
       "</g>\n",
       "<!-- imaging.Processing&#45;&gt;imaging.Curation -->\n",
       "<g id=\"edge27\" class=\"edge\">\n",
       "<title>imaging.Processing-&gt;imaging.Curation</title>\n",
       "<path fill=\"none\" stroke=\"#000000\" stroke-width=\"0.75\" stroke-opacity=\"0.250980\" d=\"M569.5,-329.87C569.5,-319.8 569.5,-305.37 569.5,-294.2\"/>\n",
       "</g>\n",
       "<!-- imaging.ProcessingTask -->\n",
       "<g id=\"node24\" class=\"node\">\n",
       "<title>imaging.ProcessingTask</title>\n",
       "<g id=\"a_node24\"><a xlink:title=\"→ scan.Scan\r→ imaging.ProcessingParamSet\r------------------------------\rprocessing_output_dir \rtask_mode=&quot;load&quot;     \r\">\n",
       "<polygon fill=\"#00ff00\" fill-opacity=\"0.188235\" stroke=\"#00ff00\" stroke-opacity=\"0.188235\" points=\"643,-427 496,-427 496,-392 643,-392 643,-427\"/>\n",
       "<text text-anchor=\"middle\" x=\"569.5\" y=\"-406.4\" font-family=\"arial\" font-size=\"12.00\" fill=\"darkgreen\">imaging.ProcessingTask</text>\n",
       "</a>\n",
       "</g>\n",
       "</g>\n",
       "<!-- imaging.ProcessingTask&#45;&gt;imaging.Processing -->\n",
       "<g id=\"edge28\" class=\"edge\">\n",
       "<title>imaging.ProcessingTask-&gt;imaging.Processing</title>\n",
       "<path fill=\"none\" stroke=\"#000000\" stroke-width=\"2\" stroke-opacity=\"0.250980\" d=\"M569.5,-391.89C569.5,-380.69 569.5,-366.17 569.5,-356.07\"/>\n",
       "</g>\n",
       "<!-- imaging.MaskType -->\n",
       "<g id=\"node25\" class=\"node\">\n",
       "<title>imaging.MaskType</title>\n",
       "<g id=\"a_node25\"><a xlink:title=\"mask_type            \r\">\n",
       "<polygon fill=\"#000000\" fill-opacity=\"0.125490\" stroke=\"transparent\" points=\"1555.5,-152 1457.5,-152 1457.5,-117 1555.5,-117 1555.5,-152\"/>\n",
       "<text text-anchor=\"start\" x=\"1465.5\" y=\"-133\" font-family=\"arial\" text-decoration=\"underline\" font-size=\"10.00\">imaging.MaskType</text>\n",
       "</a>\n",
       "</g>\n",
       "</g>\n",
       "<!-- imaging.MaskType&#45;&gt;imaging.MaskClassification.MaskType -->\n",
       "<g id=\"edge29\" class=\"edge\">\n",
       "<title>imaging.MaskType-&gt;imaging.MaskClassification.MaskType</title>\n",
       "<path fill=\"none\" stroke=\"#000000\" stroke-width=\"0.75\" stroke-dasharray=\"5,2\" stroke-opacity=\"0.250980\" d=\"M1468.13,-116.89C1439.16,-104.35 1400.57,-87.64 1377.46,-77.64\"/>\n",
       "</g>\n",
       "<!-- imaging.CellCompartment -->\n",
       "<g id=\"node26\" class=\"node\">\n",
       "<title>imaging.CellCompartment</title>\n",
       "<g id=\"a_node26\"><a xlink:title=\"cell_compartment     \r\">\n",
       "<polygon fill=\"#000000\" fill-opacity=\"0.125490\" stroke=\"transparent\" points=\"613.5,-640 483.5,-640 483.5,-605 613.5,-605 613.5,-640\"/>\n",
       "<text text-anchor=\"start\" x=\"491.5\" y=\"-621\" font-family=\"arial\" text-decoration=\"underline\" font-size=\"10.00\">imaging.CellCompartment</text>\n",
       "</a>\n",
       "</g>\n",
       "</g>\n",
       "<!-- imaging.ProcessingParamSet -->\n",
       "<g id=\"node27\" class=\"node\">\n",
       "<title>imaging.ProcessingParamSet</title>\n",
       "<g id=\"a_node27\"><a xlink:title=\"paramset_idx         \r------------------------------\r→ imaging.ProcessingMethod\rparamset_desc        \rparam_set_hash       \rparams               \rUNIQUE INDEX (param_set_hash)\r\">\n",
       "<polygon fill=\"#000000\" fill-opacity=\"0.125490\" stroke=\"transparent\" points=\"642.5,-498 496.5,-498 496.5,-463 642.5,-463 642.5,-498\"/>\n",
       "<text text-anchor=\"start\" x=\"504.5\" y=\"-479\" font-family=\"arial\" text-decoration=\"underline\" font-size=\"10.00\">imaging.ProcessingParamSet</text>\n",
       "</a>\n",
       "</g>\n",
       "</g>\n",
       "<!-- imaging.ProcessingParamSet&#45;&gt;imaging.ProcessingTask -->\n",
       "<g id=\"edge30\" class=\"edge\">\n",
       "<title>imaging.ProcessingParamSet-&gt;imaging.ProcessingTask</title>\n",
       "<path fill=\"none\" stroke=\"#000000\" stroke-width=\"0.75\" stroke-opacity=\"0.250980\" d=\"M569.5,-462.8C569.5,-451.95 569.5,-437.87 569.5,-427.05\"/>\n",
       "</g>\n",
       "<!-- imaging.ProcessingMethod -->\n",
       "<g id=\"node28\" class=\"node\">\n",
       "<title>imaging.ProcessingMethod</title>\n",
       "<g id=\"a_node28\"><a xlink:title=\"processing_method    \r------------------------------\rprocessing_method_desc \r\">\n",
       "<polygon fill=\"#000000\" fill-opacity=\"0.125490\" stroke=\"transparent\" points=\"636.5,-569 502.5,-569 502.5,-534 636.5,-534 636.5,-569\"/>\n",
       "<text text-anchor=\"start\" x=\"510.5\" y=\"-550\" font-family=\"arial\" text-decoration=\"underline\" font-size=\"10.00\">imaging.ProcessingMethod</text>\n",
       "</a>\n",
       "</g>\n",
       "</g>\n",
       "<!-- imaging.ProcessingMethod&#45;&gt;imaging.ProcessingParamSet -->\n",
       "<g id=\"edge31\" class=\"edge\">\n",
       "<title>imaging.ProcessingMethod-&gt;imaging.ProcessingParamSet</title>\n",
       "<path fill=\"none\" stroke=\"#000000\" stroke-width=\"0.75\" stroke-dasharray=\"5,2\" stroke-opacity=\"0.250980\" d=\"M569.5,-533.8C569.5,-522.95 569.5,-508.87 569.5,-498.05\"/>\n",
       "</g>\n",
       "<!-- scan.ScanQualityMetrics.Frames -->\n",
       "<g id=\"node29\" class=\"node\">\n",
       "<title>scan.ScanQualityMetrics.Frames</title>\n",
       "<g id=\"a_node29\"><a xlink:title=\"→ scan.ScanQualityMetrics\r→ scan.Channel\r------------------------------\rmin_intensity        \rmean_intensity       \rmax_intensity        \rcontrast             \r\">\n",
       "<polygon fill=\"transparent\" stroke=\"transparent\" points=\"372.5,-215 210.5,-215 210.5,-196 372.5,-196 372.5,-215\"/>\n",
       "<text text-anchor=\"middle\" x=\"291.5\" y=\"-203\" font-family=\"arial\" font-size=\"10.00\">scan.ScanQualityMetrics.Frames</text>\n",
       "</a>\n",
       "</g>\n",
       "</g>\n",
       "<!-- scan.ScanQualityMetrics -->\n",
       "<g id=\"node30\" class=\"node\">\n",
       "<title>scan.ScanQualityMetrics</title>\n",
       "<g id=\"a_node30\"><a xlink:title=\"→ scan.ScanInfo.Field\r\">\n",
       "<ellipse fill=\"#ff0000\" fill-opacity=\"0.125490\" stroke=\"#ff0000\" stroke-opacity=\"0.125490\" cx=\"291.5\" cy=\"-276.5\" rx=\"13\" ry=\"13\"/>\n",
       "<text text-anchor=\"middle\" x=\"291.5\" y=\"-273.4\" font-family=\"arial\" font-size=\"12.00\" fill=\"#7f0000\" fill-opacity=\"0.627451\">scan.ScanQualityMetrics</text>\n",
       "</a>\n",
       "</g>\n",
       "</g>\n",
       "<!-- scan.ScanQualityMetrics&#45;&gt;scan.ScanQualityMetrics.Frames -->\n",
       "<g id=\"edge32\" class=\"edge\">\n",
       "<title>scan.ScanQualityMetrics-&gt;scan.ScanQualityMetrics.Frames</title>\n",
       "<path fill=\"none\" stroke=\"#000000\" stroke-width=\"0.75\" stroke-opacity=\"0.250980\" d=\"M291.5,-263.48C291.5,-249.74 291.5,-227.56 291.5,-215.32\"/>\n",
       "</g>\n",
       "<!-- scan.ScanInfo.ScanFile -->\n",
       "<g id=\"node31\" class=\"node\">\n",
       "<title>scan.ScanInfo.ScanFile</title>\n",
       "<g id=\"a_node31\"><a xlink:title=\"→ scan.ScanInfo\rfile_path            \r\">\n",
       "<polygon fill=\"transparent\" stroke=\"transparent\" points=\"357,-352.5 236,-352.5 236,-333.5 357,-333.5 357,-352.5\"/>\n",
       "<text text-anchor=\"start\" x=\"244\" y=\"-341.5\" font-family=\"arial\" text-decoration=\"underline\" font-size=\"10.00\">scan.ScanInfo.ScanFile</text>\n",
       "</a>\n",
       "</g>\n",
       "</g>\n",
       "<!-- scan.ScanInfo.Field -->\n",
       "<g id=\"node32\" class=\"node\">\n",
       "<title>scan.ScanInfo.Field</title>\n",
       "<g id=\"a_node32\"><a xlink:title=\"→ scan.ScanInfo\rfield_idx            \r------------------------------\rpx_height            \rpx_width             \rum_height=null       \rum_width=null        \rfield_x=null         \rfield_y=null         \rfield_z=null         \rdelay_image=null     \rroi=null             \r\">\n",
       "<polygon fill=\"transparent\" stroke=\"transparent\" points=\"217.5,-352.5 113.5,-352.5 113.5,-333.5 217.5,-333.5 217.5,-352.5\"/>\n",
       "<text text-anchor=\"start\" x=\"121.5\" y=\"-341.5\" font-family=\"arial\" text-decoration=\"underline\" font-size=\"10.00\">scan.ScanInfo.Field</text>\n",
       "</a>\n",
       "</g>\n",
       "</g>\n",
       "<!-- scan.ScanInfo.Field&#45;&gt;imaging.MotionCorrection.Summary -->\n",
       "<g id=\"edge33\" class=\"edge\">\n",
       "<title>scan.ScanInfo.Field-&gt;imaging.MotionCorrection.Summary</title>\n",
       "<path fill=\"none\" stroke=\"#000000\" stroke-width=\"0.75\" stroke-opacity=\"0.250980\" d=\"M162.96,-333.23C151.05,-292.07 100.8,-118.4 88.99,-77.61\"/>\n",
       "</g>\n",
       "<!-- scan.ScanInfo.Field&#45;&gt;scan.ScanQualityMetrics -->\n",
       "<g id=\"edge34\" class=\"edge\">\n",
       "<title>scan.ScanInfo.Field-&gt;scan.ScanQualityMetrics</title>\n",
       "<path fill=\"none\" stroke=\"#000000\" stroke-width=\"2\" stroke-opacity=\"0.250980\" d=\"M182.23,-333.43C208.34,-320.07 258.07,-294.61 280.29,-283.24\"/>\n",
       "</g>\n",
       "<!-- scan.ScanInfo -->\n",
       "<g id=\"node33\" class=\"node\">\n",
       "<title>scan.ScanInfo</title>\n",
       "<g id=\"a_node33\"><a xlink:title=\"→ scan.Scan\r------------------------------\rnfields              \rnchannels            \rndepths              \rnframes              \rnrois                \rx=null               \ry=null               \rz=null               \rfps                  \rbidirectional        \rusecs_per_line=null  \rfill_fraction=null   \rscan_datetime=null   \rscan_duration=null   \rbidirectional_z=null \r\">\n",
       "<ellipse fill=\"#00007f\" fill-opacity=\"0.250980\" stroke=\"#00007f\" stroke-opacity=\"0.250980\" cx=\"283.5\" cy=\"-409.5\" rx=\"57.5\" ry=\"17.5\"/>\n",
       "<text text-anchor=\"middle\" x=\"283.5\" y=\"-406.4\" font-family=\"arial\" font-size=\"12.00\" fill=\"#00007f\" fill-opacity=\"0.627451\">scan.ScanInfo</text>\n",
       "</a>\n",
       "</g>\n",
       "</g>\n",
       "<!-- scan.ScanInfo&#45;&gt;scan.ScanInfo.ScanFile -->\n",
       "<g id=\"edge35\" class=\"edge\">\n",
       "<title>scan.ScanInfo-&gt;scan.ScanInfo.ScanFile</title>\n",
       "<path fill=\"none\" stroke=\"#000000\" stroke-width=\"0.75\" stroke-opacity=\"0.250980\" d=\"M286.85,-391.89C289.38,-379.35 292.74,-362.64 294.76,-352.64\"/>\n",
       "</g>\n",
       "<!-- scan.ScanInfo&#45;&gt;scan.ScanInfo.Field -->\n",
       "<g id=\"edge36\" class=\"edge\">\n",
       "<title>scan.ScanInfo-&gt;scan.ScanInfo.Field</title>\n",
       "<path fill=\"none\" stroke=\"#000000\" stroke-width=\"0.75\" stroke-opacity=\"0.250980\" d=\"M256.72,-393.86C233.47,-381.15 200.58,-363.17 181.3,-352.64\"/>\n",
       "</g>\n",
       "<!-- scan.ScanLocation -->\n",
       "<g id=\"node34\" class=\"node\">\n",
       "<title>scan.ScanLocation</title>\n",
       "<g id=\"a_node34\"><a xlink:title=\"→ scan.Scan\r------------------------------\r→ Location\r\">\n",
       "<polygon fill=\"#00ff00\" fill-opacity=\"0.188235\" stroke=\"#00ff00\" stroke-opacity=\"0.188235\" points=\"478,-427 359,-427 359,-392 478,-392 478,-427\"/>\n",
       "<text text-anchor=\"middle\" x=\"418.5\" y=\"-406.4\" font-family=\"arial\" font-size=\"12.00\" fill=\"darkgreen\">scan.ScanLocation</text>\n",
       "</a>\n",
       "</g>\n",
       "</g>\n",
       "<!-- scan.Scan -->\n",
       "<g id=\"node35\" class=\"node\">\n",
       "<title>scan.Scan</title>\n",
       "<g id=\"a_node35\"><a xlink:title=\"→ Session\rscan_id              \r------------------------------\r→ [nullable] Equipment\r→ scan.AcquisitionSoftware\rscan_notes=&quot;&quot;        \r\">\n",
       "<polygon fill=\"#00ff00\" fill-opacity=\"0.188235\" stroke=\"#00ff00\" stroke-opacity=\"0.188235\" points=\"455,-498 382,-498 382,-463 455,-463 455,-498\"/>\n",
       "<text text-anchor=\"start\" x=\"390\" y=\"-478.4\" font-family=\"arial\" text-decoration=\"underline\" font-size=\"12.00\" fill=\"darkgreen\">scan.Scan</text>\n",
       "</a>\n",
       "</g>\n",
       "</g>\n",
       "<!-- scan.Scan&#45;&gt;imaging.ProcessingTask -->\n",
       "<g id=\"edge37\" class=\"edge\">\n",
       "<title>scan.Scan-&gt;imaging.ProcessingTask</title>\n",
       "<path fill=\"none\" stroke=\"#000000\" stroke-width=\"0.75\" stroke-opacity=\"0.250980\" d=\"M454.67,-462.97C478.49,-452.09 509.55,-437.89 533.37,-427.01\"/>\n",
       "</g>\n",
       "<!-- scan.Scan&#45;&gt;scan.ScanInfo -->\n",
       "<g id=\"edge38\" class=\"edge\">\n",
       "<title>scan.Scan-&gt;scan.ScanInfo</title>\n",
       "<path fill=\"none\" stroke=\"#000000\" stroke-width=\"2\" stroke-opacity=\"0.250980\" d=\"M386.16,-462.97C363.54,-451.41 333.61,-436.11 311.91,-425.02\"/>\n",
       "</g>\n",
       "<!-- scan.Scan&#45;&gt;scan.ScanLocation -->\n",
       "<g id=\"edge39\" class=\"edge\">\n",
       "<title>scan.Scan-&gt;scan.ScanLocation</title>\n",
       "<path fill=\"none\" stroke=\"#000000\" stroke-width=\"2\" stroke-opacity=\"0.250980\" d=\"M418.5,-462.8C418.5,-451.95 418.5,-437.87 418.5,-427.05\"/>\n",
       "</g>\n",
       "<!-- scan.Channel -->\n",
       "<g id=\"node36\" class=\"node\">\n",
       "<title>scan.Channel</title>\n",
       "<g id=\"a_node36\"><a xlink:title=\"channel              \r\">\n",
       "<polygon fill=\"#000000\" fill-opacity=\"0.125490\" stroke=\"transparent\" points=\"485,-294 408,-294 408,-259 485,-259 485,-294\"/>\n",
       "<text text-anchor=\"start\" x=\"416\" y=\"-275\" font-family=\"arial\" text-decoration=\"underline\" font-size=\"10.00\">scan.Channel</text>\n",
       "</a>\n",
       "</g>\n",
       "</g>\n",
       "<!-- scan.Channel&#45;&gt;0 -->\n",
       "<g id=\"edge40\" class=\"edge\">\n",
       "<title>scan.Channel-&gt;0</title>\n",
       "<path fill=\"none\" stroke=\"#000000\" stroke-width=\"0.75\" stroke-dasharray=\"5,2\" stroke-opacity=\"0.250980\" d=\"M443.84,-258.8C440.99,-240.93 436.74,-214.29 435.72,-207.91\"/>\n",
       "</g>\n",
       "<!-- scan.Channel&#45;&gt;1 -->\n",
       "<g id=\"edge41\" class=\"edge\">\n",
       "<title>scan.Channel-&gt;1</title>\n",
       "<path fill=\"none\" stroke=\"#000000\" stroke-width=\"0.75\" stroke-dasharray=\"5,2\" stroke-opacity=\"0.250980\" d=\"M465.14,-258.8C485.79,-240.29 516.94,-212.38 522.6,-207.3\"/>\n",
       "</g>\n",
       "<!-- scan.Channel&#45;&gt;2 -->\n",
       "<g id=\"edge42\" class=\"edge\">\n",
       "<title>scan.Channel-&gt;2</title>\n",
       "<path fill=\"none\" stroke=\"#000000\" stroke-width=\"0.75\" stroke-opacity=\"0.250980\" d=\"M455.7,-258.8C465.54,-240.93 480.21,-214.29 483.72,-207.91\"/>\n",
       "</g>\n",
       "<!-- scan.Channel&#45;&gt;scan.ScanQualityMetrics.Frames -->\n",
       "<g id=\"edge43\" class=\"edge\">\n",
       "<title>scan.Channel-&gt;scan.ScanQualityMetrics.Frames</title>\n",
       "<path fill=\"none\" stroke=\"#000000\" stroke-width=\"0.75\" stroke-opacity=\"0.250980\" d=\"M409.37,-258.97C378.39,-245.18 335.45,-226.06 310.87,-215.12\"/>\n",
       "</g>\n",
       "<!-- scan.AcquisitionSoftware -->\n",
       "<g id=\"node37\" class=\"node\">\n",
       "<title>scan.AcquisitionSoftware</title>\n",
       "<g id=\"a_node37\"><a xlink:title=\"acq_software         \r\">\n",
       "<polygon fill=\"#000000\" fill-opacity=\"0.125490\" stroke=\"transparent\" points=\"388.5,-569 260.5,-569 260.5,-534 388.5,-534 388.5,-569\"/>\n",
       "<text text-anchor=\"start\" x=\"268.5\" y=\"-550\" font-family=\"arial\" text-decoration=\"underline\" font-size=\"10.00\">scan.AcquisitionSoftware</text>\n",
       "</a>\n",
       "</g>\n",
       "</g>\n",
       "<!-- scan.AcquisitionSoftware&#45;&gt;scan.Scan -->\n",
       "<g id=\"edge44\" class=\"edge\">\n",
       "<title>scan.AcquisitionSoftware-&gt;scan.Scan</title>\n",
       "<path fill=\"none\" stroke=\"#000000\" stroke-width=\"0.75\" stroke-dasharray=\"5,2\" stroke-opacity=\"0.250980\" d=\"M347.25,-533.8C362.03,-522.95 381.22,-508.87 395.95,-498.05\"/>\n",
       "</g>\n",
       "<!-- Session -->\n",
       "<g id=\"node38\" class=\"node\">\n",
       "<title>Session</title>\n",
       "<g id=\"a_node38\"><a xlink:title=\"→ Subject\rsession_datetime     \r\">\n",
       "<polygon fill=\"#00ff00\" fill-opacity=\"0.188235\" stroke=\"#00ff00\" stroke-opacity=\"0.188235\" points=\"466.5,-569 406.5,-569 406.5,-534 466.5,-534 466.5,-569\"/>\n",
       "<text text-anchor=\"start\" x=\"414.5\" y=\"-549.4\" font-family=\"arial\" text-decoration=\"underline\" font-size=\"12.00\" fill=\"darkgreen\">Session</text>\n",
       "</a>\n",
       "</g>\n",
       "</g>\n",
       "<!-- Session&#45;&gt;scan.Scan -->\n",
       "<g id=\"edge45\" class=\"edge\">\n",
       "<title>Session-&gt;scan.Scan</title>\n",
       "<path fill=\"none\" stroke=\"#000000\" stroke-width=\"0.75\" stroke-opacity=\"0.250980\" d=\"M432.14,-533.8C429.31,-522.95 425.64,-508.87 422.82,-498.05\"/>\n",
       "</g>\n",
       "<!-- Subject -->\n",
       "<g id=\"node39\" class=\"node\">\n",
       "<title>Subject</title>\n",
       "<g id=\"a_node39\"><a xlink:title=\"subject              \r------------------------------\rsubject_nickname=&quot;&quot;  \rsex                  \rsubject_birth_date   \rsubject_description=&quot;&quot; \r\">\n",
       "<polygon fill=\"#00ff00\" fill-opacity=\"0.188235\" stroke=\"#00ff00\" stroke-opacity=\"0.188235\" points=\"465,-640 408,-640 408,-605 465,-605 465,-640\"/>\n",
       "<text text-anchor=\"start\" x=\"416\" y=\"-620.4\" font-family=\"arial\" text-decoration=\"underline\" font-size=\"12.00\" fill=\"darkgreen\">Subject</text>\n",
       "</a>\n",
       "</g>\n",
       "</g>\n",
       "<!-- Subject&#45;&gt;Session -->\n",
       "<g id=\"edge46\" class=\"edge\">\n",
       "<title>Subject-&gt;Session</title>\n",
       "<path fill=\"none\" stroke=\"#000000\" stroke-width=\"0.75\" stroke-opacity=\"0.250980\" d=\"M436.5,-604.8C436.5,-593.95 436.5,-579.87 436.5,-569.05\"/>\n",
       "</g>\n",
       "</g>\n",
       "</svg>"
      ],
      "text/plain": [
       "<datajoint.diagram.Diagram at 0x7f8458403340>"
      ]
     },
     "execution_count": 2,
     "metadata": {},
     "output_type": "execute_result"
    }
   ],
   "source": [
    "(\n",
    "    dj.Diagram(subject.Subject)\n",
    "    + dj.Diagram(session.Session)\n",
    "    + dj.Diagram(scan)\n",
    "    + dj.Diagram(imaging)\n",
    ")"
   ]
  },
  {
   "attachments": {},
   "cell_type": "markdown",
   "metadata": {},
   "source": [
    "#### Table Types\n",
    "\n",
    "There are 5 table types in DataJoint.  Each of these appear in the diagram above.\n",
    "\n",
    "| Table tier | Color and shape | Description |\n",
    "| -- | -- | -- |\n",
    "| Manual table | Green box | Data entered from outside the pipeline, either by hand or with external helper scripts. |\n",
    "| Lookup table | Gray box | Small tables containing general facts and settings of the data pipeline; not specific to any experiment or dataset. |  \n",
    "| Imported table | Blue oval | Data ingested automatically inside the pipeline but requiring access to data outside the pipeline. |\n",
    "| Computed table | Red circle | Data computed automatically entirely inside the pipeline. |\n",
    "| Part table | Plain text | Part tables share the same tier as their master table. |\n",
    "\n",
    "The diagram becomes clear when it's approached as a hierarchy of tables that define the order in which the pipeline expects to receive data in each of the tables. \n",
    "\n",
    "The tables higher up in the diagram such as `subject.Subject()` should be the first to receive data.\n",
    "\n",
    "Data is manually entered into the green rectangular tables with the `insert1()` method.\n",
    "\n",
    "Tables connected by a line depend on entries from the table above it.\n",
    " \n",
    "Tables with a purple oval or red circle will be automatically filled with relevant data\n",
    "  by calling `populate()`. For example `scan.ScanInfo` and its part-table\n",
    "  `scan.ScanInfo.Field` are both populated with `scan.ScanInfo.populate()`.\n",
    "\n",
    "## DataJoint Basics\n",
    "\n",
    "DataJoint pipelines can be run with four commands:\n",
    "- `Insert`\n",
    "- `Populate`\n",
    "- `Query`\n",
    "- `Fetch`\n",
    "\n",
    "In this demo we will:\n",
    "- `Insert` metadata about a subject, recording session, and \n",
    "  parameters related to processing calcium imaging data through Suite2p.\n",
    "\n",
    "- `Populate` tables with outputs of image processing including motion correction,\n",
    "  segmentation, fluorescence traces and deconvolved activity traces.\n",
    "\n",
    "- `Query` the data from the database.\n",
    "\n",
    "- `Fetch` and plot calcium activity traces.\n"
   ]
  },
  {
   "attachments": {},
   "cell_type": "markdown",
   "metadata": {},
   "source": [
    "## Insert entries into manual tables\n",
    "\n",
    "Let's start with the first table in the schema diagram (i.e. `subject.Subject` table).\n",
    "\n",
    "To know what data to insert into the table, we can view its dependencies and attributes using the `.describe()` and `.heading` functions."
   ]
  },
  {
   "cell_type": "code",
   "execution_count": 3,
   "metadata": {},
   "outputs": [
    {
     "name": "stdout",
     "output_type": "stream",
     "text": [
      "subject              : varchar(8)                   \n",
      "---\n",
      "subject_nickname=\"\"  : varchar(64)                  \n",
      "sex                  : enum('M','F','U')            \n",
      "subject_birth_date   : date                         \n",
      "subject_description=\"\" : varchar(1024)                \n",
      "\n"
     ]
    }
   ],
   "source": [
    "print(subject.Subject.describe())"
   ]
  },
  {
   "cell_type": "code",
   "execution_count": 4,
   "metadata": {},
   "outputs": [
    {
     "data": {
      "text/plain": [
       "# \n",
       "subject              : varchar(8)                   # \n",
       "---\n",
       "subject_nickname=\"\"  : varchar(64)                  # \n",
       "sex                  : enum('M','F','U')            # \n",
       "subject_birth_date   : date                         # \n",
       "subject_description=\"\" : varchar(1024)                # "
      ]
     },
     "execution_count": 4,
     "metadata": {},
     "output_type": "execute_result"
    }
   ],
   "source": [
    "subject.Subject.heading"
   ]
  },
  {
   "attachments": {},
   "cell_type": "markdown",
   "metadata": {},
   "source": [
    "The cells above show all attributes of the subject table.\n",
    "We will insert data into the\n",
    "`subject.Subject` table. "
   ]
  },
  {
   "cell_type": "code",
   "execution_count": 5,
   "metadata": {},
   "outputs": [
    {
     "data": {
      "text/html": [
       "\n",
       "    \n",
       "    <style type=\"text/css\">\n",
       "        .Table{\n",
       "            border-collapse:collapse;\n",
       "        }\n",
       "        .Table th{\n",
       "            background: #A0A0A0; color: #ffffff; padding:4px; border:#f0e0e0 1px solid;\n",
       "            font-weight: normal; font-family: monospace; font-size: 100%;\n",
       "        }\n",
       "        .Table td{\n",
       "            padding:4px; border:#f0e0e0 1px solid; font-size:100%;\n",
       "        }\n",
       "        .Table tr:nth-child(odd){\n",
       "            background: #ffffff;\n",
       "            color: #000000;\n",
       "        }\n",
       "        .Table tr:nth-child(even){\n",
       "            background: #f3f1ff;\n",
       "            color: #000000;\n",
       "        }\n",
       "        /* Tooltip container */\n",
       "        .djtooltip {\n",
       "        }\n",
       "        /* Tooltip text */\n",
       "        .djtooltip .djtooltiptext {\n",
       "            visibility: hidden;\n",
       "            width: 120px;\n",
       "            background-color: black;\n",
       "            color: #fff;\n",
       "            text-align: center;\n",
       "            padding: 5px 0;\n",
       "            border-radius: 6px;\n",
       "            /* Position the tooltip text - see examples below! */\n",
       "            position: absolute;\n",
       "            z-index: 1;\n",
       "        }\n",
       "        #primary {\n",
       "            font-weight: bold;\n",
       "            color: black;\n",
       "        }\n",
       "        #nonprimary {\n",
       "            font-weight: normal;\n",
       "            color: white;\n",
       "        }\n",
       "\n",
       "        /* Show the tooltip text when you mouse over the tooltip container */\n",
       "        .djtooltip:hover .djtooltiptext {\n",
       "            visibility: visible;\n",
       "        }\n",
       "    </style>\n",
       "    \n",
       "    <b></b>\n",
       "        <div style=\"max-height:1000px;max-width:1500px;overflow:auto;\">\n",
       "        <table border=\"1\" class=\"Table\">\n",
       "            <thead> <tr style=\"text-align: right;\"> <th> <div class=\"djtooltip\">\n",
       "                            <p id=\"primary\">subject</p>\n",
       "                            <span class=\"djtooltiptext\"></span>\n",
       "                        </div></th><th><div class=\"djtooltip\">\n",
       "                            <p id=\"nonprimary\">subject_nickname</p>\n",
       "                            <span class=\"djtooltiptext\"></span>\n",
       "                        </div></th><th><div class=\"djtooltip\">\n",
       "                            <p id=\"nonprimary\">sex</p>\n",
       "                            <span class=\"djtooltiptext\"></span>\n",
       "                        </div></th><th><div class=\"djtooltip\">\n",
       "                            <p id=\"nonprimary\">subject_birth_date</p>\n",
       "                            <span class=\"djtooltiptext\"></span>\n",
       "                        </div></th><th><div class=\"djtooltip\">\n",
       "                            <p id=\"nonprimary\">subject_description</p>\n",
       "                            <span class=\"djtooltiptext\"></span>\n",
       "                        </div> </th> </tr> </thead>\n",
       "            <tbody> <tr> <td>subject1</td>\n",
       "<td></td>\n",
       "<td>F</td>\n",
       "<td>2020-01-01</td>\n",
       "<td>ScanImage acquisition. Suite2p processing.</td> </tr> </tbody>\n",
       "        </table>\n",
       "        \n",
       "        <p>Total: 1</p></div>\n",
       "        "
      ],
      "text/plain": [
       "*subject     subject_nickna sex     subject_birth_ subject_descri\n",
       "+----------+ +------------+ +-----+ +------------+ +------------+\n",
       "subject1                    F       2020-01-01     ScanImage acqu\n",
       " (Total: 1)"
      ]
     },
     "execution_count": 5,
     "metadata": {},
     "output_type": "execute_result"
    }
   ],
   "source": [
    "subject.Subject.insert1(\n",
    "    dict(\n",
    "        subject=\"subject1\",\n",
    "        sex=\"F\",\n",
    "        subject_birth_date=\"2020-01-01\",\n",
    "        subject_description=\"ScanImage acquisition. Suite2p processing.\",\n",
    "    )\n",
    ")\n",
    "subject.Subject()"
   ]
  },
  {
   "attachments": {},
   "cell_type": "markdown",
   "metadata": {},
   "source": [
    "Let's repeat the steps above for the `Session` table."
   ]
  },
  {
   "cell_type": "code",
   "execution_count": 6,
   "metadata": {},
   "outputs": [
    {
     "name": "stdout",
     "output_type": "stream",
     "text": [
      "-> Subject\n",
      "session_datetime     : datetime                     \n",
      "\n"
     ]
    }
   ],
   "source": [
    "print(session.Session.describe())"
   ]
  },
  {
   "cell_type": "code",
   "execution_count": 7,
   "metadata": {},
   "outputs": [
    {
     "data": {
      "text/plain": [
       "# \n",
       "subject              : varchar(8)                   # \n",
       "session_datetime     : datetime                     # "
      ]
     },
     "execution_count": 7,
     "metadata": {},
     "output_type": "execute_result"
    }
   ],
   "source": [
    "session.Session.heading"
   ]
  },
  {
   "attachments": {},
   "cell_type": "markdown",
   "metadata": {},
   "source": [
    "Notice that `describe` displays the table definition with the dependencies (i.e. foreign key references). The `Session` table depends on the upstream `Subject` table. \n",
    "\n",
    "Whereas `heading` displays all the attributes of the table definition, regardless of\n",
    "whether they are declared in an upstream table.\n",
    "\n",
    "Next we can insert in the `session.Session` table by passing a dictionary to the `insert1` method."
   ]
  },
  {
   "cell_type": "code",
   "execution_count": 8,
   "metadata": {},
   "outputs": [],
   "source": [
    "session_key = dict(subject=\"subject1\", session_datetime=\"2021-04-30 12:22:15.032\")"
   ]
  },
  {
   "cell_type": "code",
   "execution_count": 9,
   "metadata": {},
   "outputs": [
    {
     "data": {
      "text/html": [
       "\n",
       "    \n",
       "    <style type=\"text/css\">\n",
       "        .Table{\n",
       "            border-collapse:collapse;\n",
       "        }\n",
       "        .Table th{\n",
       "            background: #A0A0A0; color: #ffffff; padding:4px; border:#f0e0e0 1px solid;\n",
       "            font-weight: normal; font-family: monospace; font-size: 100%;\n",
       "        }\n",
       "        .Table td{\n",
       "            padding:4px; border:#f0e0e0 1px solid; font-size:100%;\n",
       "        }\n",
       "        .Table tr:nth-child(odd){\n",
       "            background: #ffffff;\n",
       "            color: #000000;\n",
       "        }\n",
       "        .Table tr:nth-child(even){\n",
       "            background: #f3f1ff;\n",
       "            color: #000000;\n",
       "        }\n",
       "        /* Tooltip container */\n",
       "        .djtooltip {\n",
       "        }\n",
       "        /* Tooltip text */\n",
       "        .djtooltip .djtooltiptext {\n",
       "            visibility: hidden;\n",
       "            width: 120px;\n",
       "            background-color: black;\n",
       "            color: #fff;\n",
       "            text-align: center;\n",
       "            padding: 5px 0;\n",
       "            border-radius: 6px;\n",
       "            /* Position the tooltip text - see examples below! */\n",
       "            position: absolute;\n",
       "            z-index: 1;\n",
       "        }\n",
       "        #primary {\n",
       "            font-weight: bold;\n",
       "            color: black;\n",
       "        }\n",
       "        #nonprimary {\n",
       "            font-weight: normal;\n",
       "            color: white;\n",
       "        }\n",
       "\n",
       "        /* Show the tooltip text when you mouse over the tooltip container */\n",
       "        .djtooltip:hover .djtooltiptext {\n",
       "            visibility: visible;\n",
       "        }\n",
       "    </style>\n",
       "    \n",
       "    <b></b>\n",
       "        <div style=\"max-height:1000px;max-width:1500px;overflow:auto;\">\n",
       "        <table border=\"1\" class=\"Table\">\n",
       "            <thead> <tr style=\"text-align: right;\"> <th> <div class=\"djtooltip\">\n",
       "                            <p id=\"primary\">subject</p>\n",
       "                            <span class=\"djtooltiptext\"></span>\n",
       "                        </div></th><th><div class=\"djtooltip\">\n",
       "                            <p id=\"primary\">session_datetime</p>\n",
       "                            <span class=\"djtooltiptext\"></span>\n",
       "                        </div> </th> </tr> </thead>\n",
       "            <tbody> <tr> <td>subject1</td>\n",
       "<td>2021-04-30 12:22:15</td> </tr> </tbody>\n",
       "        </table>\n",
       "        \n",
       "        <p>Total: 1</p></div>\n",
       "        "
      ],
      "text/plain": [
       "*subject     *session_datet\n",
       "+----------+ +------------+\n",
       "subject1     2021-04-30 12:\n",
       " (Total: 1)"
      ]
     },
     "execution_count": 9,
     "metadata": {},
     "output_type": "execute_result"
    }
   ],
   "source": [
    "session.Session.insert1(session_key)\n",
    "session.Session()"
   ]
  },
  {
   "attachments": {},
   "cell_type": "markdown",
   "metadata": {},
   "source": [
    "The `SessionDirectory` table locates the relevant data files in a directory path\n",
    "relative to the root directory defined in your `dj.config[\"custom\"]`. More\n",
    "information about `dj.config` is provided in the [User Guide](https://datajoint.com/docs/elements/user-guide/)."
   ]
  },
  {
   "cell_type": "code",
   "execution_count": 12,
   "metadata": {},
   "outputs": [
    {
     "data": {
      "text/html": [
       "\n",
       "    \n",
       "    <style type=\"text/css\">\n",
       "        .Table{\n",
       "            border-collapse:collapse;\n",
       "        }\n",
       "        .Table th{\n",
       "            background: #A0A0A0; color: #ffffff; padding:4px; border:#f0e0e0 1px solid;\n",
       "            font-weight: normal; font-family: monospace; font-size: 100%;\n",
       "        }\n",
       "        .Table td{\n",
       "            padding:4px; border:#f0e0e0 1px solid; font-size:100%;\n",
       "        }\n",
       "        .Table tr:nth-child(odd){\n",
       "            background: #ffffff;\n",
       "            color: #000000;\n",
       "        }\n",
       "        .Table tr:nth-child(even){\n",
       "            background: #f3f1ff;\n",
       "            color: #000000;\n",
       "        }\n",
       "        /* Tooltip container */\n",
       "        .djtooltip {\n",
       "        }\n",
       "        /* Tooltip text */\n",
       "        .djtooltip .djtooltiptext {\n",
       "            visibility: hidden;\n",
       "            width: 120px;\n",
       "            background-color: black;\n",
       "            color: #fff;\n",
       "            text-align: center;\n",
       "            padding: 5px 0;\n",
       "            border-radius: 6px;\n",
       "            /* Position the tooltip text - see examples below! */\n",
       "            position: absolute;\n",
       "            z-index: 1;\n",
       "        }\n",
       "        #primary {\n",
       "            font-weight: bold;\n",
       "            color: black;\n",
       "        }\n",
       "        #nonprimary {\n",
       "            font-weight: normal;\n",
       "            color: white;\n",
       "        }\n",
       "\n",
       "        /* Show the tooltip text when you mouse over the tooltip container */\n",
       "        .djtooltip:hover .djtooltiptext {\n",
       "            visibility: visible;\n",
       "        }\n",
       "    </style>\n",
       "    \n",
       "    <b></b>\n",
       "        <div style=\"max-height:1000px;max-width:1500px;overflow:auto;\">\n",
       "        <table border=\"1\" class=\"Table\">\n",
       "            <thead> <tr style=\"text-align: right;\"> <th> <div class=\"djtooltip\">\n",
       "                            <p id=\"primary\">subject</p>\n",
       "                            <span class=\"djtooltiptext\"></span>\n",
       "                        </div></th><th><div class=\"djtooltip\">\n",
       "                            <p id=\"primary\">session_datetime</p>\n",
       "                            <span class=\"djtooltiptext\"></span>\n",
       "                        </div></th><th><div class=\"djtooltip\">\n",
       "                            <p id=\"nonprimary\">session_dir</p>\n",
       "                            <span class=\"djtooltiptext\">Path to the data directory for a session</span>\n",
       "                        </div> </th> </tr> </thead>\n",
       "            <tbody> <tr> <td>subject1</td>\n",
       "<td>2021-04-30 12:22:15</td>\n",
       "<td>subject1/session1</td> </tr> </tbody>\n",
       "        </table>\n",
       "        \n",
       "        <p>Total: 1</p></div>\n",
       "        "
      ],
      "text/plain": [
       "*subject     *session_datet session_dir   \n",
       "+----------+ +------------+ +------------+\n",
       "subject1     2021-04-30 12: subject1/sessi\n",
       " (Total: 1)"
      ]
     },
     "execution_count": 12,
     "metadata": {},
     "output_type": "execute_result"
    }
   ],
   "source": [
    "session.SessionDirectory.insert1(dict(**session_key, session_dir=\"subject1/session1\"))\n",
    "session.SessionDirectory()"
   ]
  },
  {
   "attachments": {},
   "cell_type": "markdown",
   "metadata": {},
   "source": [
    "Next, we'll use `describe` and `heading` for the Scan table. Do you notice anything we\n",
    "might have missed here? "
   ]
  },
  {
   "cell_type": "code",
   "execution_count": null,
   "metadata": {},
   "outputs": [],
   "source": [
    "print(scan.Scan.describe())"
   ]
  },
  {
   "attachments": {},
   "cell_type": "markdown",
   "metadata": {},
   "source": [
    "The `Scan` table's attributes include the `Session` table **and** the `Equipment` table.\n",
    "Let's insert into the `Equipment` table and then `Scan`."
   ]
  },
  {
   "cell_type": "code",
   "execution_count": 15,
   "metadata": {},
   "outputs": [],
   "source": [
    "Equipment.insert1(dict(device=\"Mesoscope1\", modality=\"Calcium imaging\"))"
   ]
  },
  {
   "cell_type": "code",
   "execution_count": 16,
   "metadata": {},
   "outputs": [
    {
     "data": {
      "text/html": [
       "\n",
       "    \n",
       "    <style type=\"text/css\">\n",
       "        .Table{\n",
       "            border-collapse:collapse;\n",
       "        }\n",
       "        .Table th{\n",
       "            background: #A0A0A0; color: #ffffff; padding:4px; border:#f0e0e0 1px solid;\n",
       "            font-weight: normal; font-family: monospace; font-size: 100%;\n",
       "        }\n",
       "        .Table td{\n",
       "            padding:4px; border:#f0e0e0 1px solid; font-size:100%;\n",
       "        }\n",
       "        .Table tr:nth-child(odd){\n",
       "            background: #ffffff;\n",
       "            color: #000000;\n",
       "        }\n",
       "        .Table tr:nth-child(even){\n",
       "            background: #f3f1ff;\n",
       "            color: #000000;\n",
       "        }\n",
       "        /* Tooltip container */\n",
       "        .djtooltip {\n",
       "        }\n",
       "        /* Tooltip text */\n",
       "        .djtooltip .djtooltiptext {\n",
       "            visibility: hidden;\n",
       "            width: 120px;\n",
       "            background-color: black;\n",
       "            color: #fff;\n",
       "            text-align: center;\n",
       "            padding: 5px 0;\n",
       "            border-radius: 6px;\n",
       "            /* Position the tooltip text - see examples below! */\n",
       "            position: absolute;\n",
       "            z-index: 1;\n",
       "        }\n",
       "        #primary {\n",
       "            font-weight: bold;\n",
       "            color: black;\n",
       "        }\n",
       "        #nonprimary {\n",
       "            font-weight: normal;\n",
       "            color: white;\n",
       "        }\n",
       "\n",
       "        /* Show the tooltip text when you mouse over the tooltip container */\n",
       "        .djtooltip:hover .djtooltiptext {\n",
       "            visibility: visible;\n",
       "        }\n",
       "    </style>\n",
       "    \n",
       "    <b></b>\n",
       "        <div style=\"max-height:1000px;max-width:1500px;overflow:auto;\">\n",
       "        <table border=\"1\" class=\"Table\">\n",
       "            <thead> <tr style=\"text-align: right;\"> <th> <div class=\"djtooltip\">\n",
       "                            <p id=\"primary\">subject</p>\n",
       "                            <span class=\"djtooltiptext\"></span>\n",
       "                        </div></th><th><div class=\"djtooltip\">\n",
       "                            <p id=\"primary\">session_datetime</p>\n",
       "                            <span class=\"djtooltiptext\"></span>\n",
       "                        </div></th><th><div class=\"djtooltip\">\n",
       "                            <p id=\"primary\">scan_id</p>\n",
       "                            <span class=\"djtooltiptext\"></span>\n",
       "                        </div></th><th><div class=\"djtooltip\">\n",
       "                            <p id=\"nonprimary\">device</p>\n",
       "                            <span class=\"djtooltiptext\"></span>\n",
       "                        </div></th><th><div class=\"djtooltip\">\n",
       "                            <p id=\"nonprimary\">acq_software</p>\n",
       "                            <span class=\"djtooltiptext\"></span>\n",
       "                        </div></th><th><div class=\"djtooltip\">\n",
       "                            <p id=\"nonprimary\">scan_notes</p>\n",
       "                            <span class=\"djtooltiptext\"></span>\n",
       "                        </div> </th> </tr> </thead>\n",
       "            <tbody> <tr> <td>subject1</td>\n",
       "<td>2021-04-30 12:22:15</td>\n",
       "<td>0</td>\n",
       "<td>Mesoscope1</td>\n",
       "<td>ScanImage</td>\n",
       "<td></td> </tr> </tbody>\n",
       "        </table>\n",
       "        \n",
       "        <p>Total: 1</p></div>\n",
       "        "
      ],
      "text/plain": [
       "*subject     *session_datet *scan_id    device         acq_software   scan_notes    \n",
       "+----------+ +------------+ +---------+ +------------+ +------------+ +------------+\n",
       "subject1     2021-04-30 12: 0           Mesoscope1     ScanImage                    \n",
       " (Total: 1)"
      ]
     },
     "execution_count": 16,
     "metadata": {},
     "output_type": "execute_result"
    }
   ],
   "source": [
    "scan.Scan.insert1(\n",
    "    dict(\n",
    "        **session_key,\n",
    "        scan_id=0,\n",
    "        device=\"Mesoscope1\",\n",
    "        acq_software=\"ScanImage\",\n",
    "        scan_notes=\"\",\n",
    "    )\n",
    ")\n",
    "scan.Scan()"
   ]
  },
  {
   "attachments": {},
   "cell_type": "markdown",
   "metadata": {},
   "source": [
    "## Automatically populate tables\n",
    "\n",
    "`scan.ScanInfo` is the first table in the pipeline that can be populated automatically with the `populate` method.\n",
    "\n",
    "If a table contains a Part table, `populate()` inserts data into both.\n",
    "\n",
    "Let's populate the `scan.ScanInfo` and its Part table `scan.ScanInfo.Field`."
   ]
  },
  {
   "cell_type": "code",
   "execution_count": 17,
   "metadata": {},
   "outputs": [
    {
     "data": {
      "text/plain": [
       "# General data about the resoscans/mesoscans from header\n",
       "subject              : varchar(8)                   # \n",
       "session_datetime     : datetime                     # \n",
       "scan_id              : int                          # \n",
       "---\n",
       "nfields              : tinyint                      # number of fields\n",
       "nchannels            : tinyint                      # number of channels\n",
       "ndepths              : int                          # Number of scanning depths (planes)\n",
       "nframes              : int                          # number of recorded frames\n",
       "nrois                : tinyint                      # number of ROIs (see scanimage's multi ROI imaging)\n",
       "x=null               : float                        # (um) ScanImage's 0 point in the motor coordinate system\n",
       "y=null               : float                        # (um) ScanImage's 0 point in the motor coordinate system\n",
       "z=null               : float                        # (um) ScanImage's 0 point in the motor coordinate system\n",
       "fps                  : float                        # (Hz) frames per second - Volumetric Scan Rate\n",
       "bidirectional        : tinyint                      # true = bidirectional scanning\n",
       "usecs_per_line=null  : float                        # microseconds per scan line\n",
       "fill_fraction=null   : float                        # raster scan temporal fill fraction (see scanimage)\n",
       "scan_datetime=null   : datetime                     # datetime of the scan\n",
       "scan_duration=null   : float                        # (seconds) duration of the scan\n",
       "bidirectional_z=null : tinyint                      # true = bidirectional z-scan"
      ]
     },
     "execution_count": 17,
     "metadata": {},
     "output_type": "execute_result"
    }
   ],
   "source": [
    "scan.ScanInfo.heading"
   ]
  },
  {
   "cell_type": "code",
   "execution_count": 18,
   "metadata": {},
   "outputs": [
    {
     "data": {
      "text/plain": [
       "# field-specific scan information\n",
       "subject              : varchar(8)                   # \n",
       "session_datetime     : datetime                     # \n",
       "scan_id              : int                          # \n",
       "field_idx            : int                          # \n",
       "---\n",
       "px_height            : smallint                     # height in pixels\n",
       "px_width             : smallint                     # width in pixels\n",
       "um_height=null       : float                        # height in microns\n",
       "um_width=null        : float                        # width in microns\n",
       "field_x=null         : float                        # (um) center of field in the motor coordinate system\n",
       "field_y=null         : float                        # (um) center of field in the motor coordinate system\n",
       "field_z=null         : float                        # (um) relative depth of field\n",
       "delay_image=null     : longblob                     # (ms) delay between the start of the scan and pixels in this field\n",
       "roi=null             : int                          # the scanning roi (as recorded in the acquisition software) containing this field - only relevant to mesoscale scans"
      ]
     },
     "execution_count": 18,
     "metadata": {},
     "output_type": "execute_result"
    }
   ],
   "source": [
    "scan.ScanInfo.Field.heading"
   ]
  },
  {
   "cell_type": "code",
   "execution_count": 19,
   "metadata": {},
   "outputs": [
    {
     "data": {
      "text/html": [
       "\n",
       "    \n",
       "    <style type=\"text/css\">\n",
       "        .Table{\n",
       "            border-collapse:collapse;\n",
       "        }\n",
       "        .Table th{\n",
       "            background: #A0A0A0; color: #ffffff; padding:4px; border:#f0e0e0 1px solid;\n",
       "            font-weight: normal; font-family: monospace; font-size: 100%;\n",
       "        }\n",
       "        .Table td{\n",
       "            padding:4px; border:#f0e0e0 1px solid; font-size:100%;\n",
       "        }\n",
       "        .Table tr:nth-child(odd){\n",
       "            background: #ffffff;\n",
       "            color: #000000;\n",
       "        }\n",
       "        .Table tr:nth-child(even){\n",
       "            background: #f3f1ff;\n",
       "            color: #000000;\n",
       "        }\n",
       "        /* Tooltip container */\n",
       "        .djtooltip {\n",
       "        }\n",
       "        /* Tooltip text */\n",
       "        .djtooltip .djtooltiptext {\n",
       "            visibility: hidden;\n",
       "            width: 120px;\n",
       "            background-color: black;\n",
       "            color: #fff;\n",
       "            text-align: center;\n",
       "            padding: 5px 0;\n",
       "            border-radius: 6px;\n",
       "            /* Position the tooltip text - see examples below! */\n",
       "            position: absolute;\n",
       "            z-index: 1;\n",
       "        }\n",
       "        #primary {\n",
       "            font-weight: bold;\n",
       "            color: black;\n",
       "        }\n",
       "        #nonprimary {\n",
       "            font-weight: normal;\n",
       "            color: white;\n",
       "        }\n",
       "\n",
       "        /* Show the tooltip text when you mouse over the tooltip container */\n",
       "        .djtooltip:hover .djtooltiptext {\n",
       "            visibility: visible;\n",
       "        }\n",
       "    </style>\n",
       "    \n",
       "    <b>General data about the resoscans/mesoscans from header</b>\n",
       "        <div style=\"max-height:1000px;max-width:1500px;overflow:auto;\">\n",
       "        <table border=\"1\" class=\"Table\">\n",
       "            <thead> <tr style=\"text-align: right;\"> <th> <div class=\"djtooltip\">\n",
       "                            <p id=\"primary\">subject</p>\n",
       "                            <span class=\"djtooltiptext\"></span>\n",
       "                        </div></th><th><div class=\"djtooltip\">\n",
       "                            <p id=\"primary\">session_datetime</p>\n",
       "                            <span class=\"djtooltiptext\"></span>\n",
       "                        </div></th><th><div class=\"djtooltip\">\n",
       "                            <p id=\"primary\">scan_id</p>\n",
       "                            <span class=\"djtooltiptext\"></span>\n",
       "                        </div></th><th><div class=\"djtooltip\">\n",
       "                            <p id=\"nonprimary\">nfields</p>\n",
       "                            <span class=\"djtooltiptext\">number of fields</span>\n",
       "                        </div></th><th><div class=\"djtooltip\">\n",
       "                            <p id=\"nonprimary\">nchannels</p>\n",
       "                            <span class=\"djtooltiptext\">number of channels</span>\n",
       "                        </div></th><th><div class=\"djtooltip\">\n",
       "                            <p id=\"nonprimary\">ndepths</p>\n",
       "                            <span class=\"djtooltiptext\">Number of scanning depths (planes)</span>\n",
       "                        </div></th><th><div class=\"djtooltip\">\n",
       "                            <p id=\"nonprimary\">nframes</p>\n",
       "                            <span class=\"djtooltiptext\">number of recorded frames</span>\n",
       "                        </div></th><th><div class=\"djtooltip\">\n",
       "                            <p id=\"nonprimary\">nrois</p>\n",
       "                            <span class=\"djtooltiptext\">number of ROIs (see scanimage's multi ROI imaging)</span>\n",
       "                        </div></th><th><div class=\"djtooltip\">\n",
       "                            <p id=\"nonprimary\">x</p>\n",
       "                            <span class=\"djtooltiptext\">(um) ScanImage's 0 point in the motor coordinate system</span>\n",
       "                        </div></th><th><div class=\"djtooltip\">\n",
       "                            <p id=\"nonprimary\">y</p>\n",
       "                            <span class=\"djtooltiptext\">(um) ScanImage's 0 point in the motor coordinate system</span>\n",
       "                        </div></th><th><div class=\"djtooltip\">\n",
       "                            <p id=\"nonprimary\">z</p>\n",
       "                            <span class=\"djtooltiptext\">(um) ScanImage's 0 point in the motor coordinate system</span>\n",
       "                        </div></th><th><div class=\"djtooltip\">\n",
       "                            <p id=\"nonprimary\">fps</p>\n",
       "                            <span class=\"djtooltiptext\">(Hz) frames per second - Volumetric Scan Rate</span>\n",
       "                        </div></th><th><div class=\"djtooltip\">\n",
       "                            <p id=\"nonprimary\">bidirectional</p>\n",
       "                            <span class=\"djtooltiptext\">true = bidirectional scanning</span>\n",
       "                        </div></th><th><div class=\"djtooltip\">\n",
       "                            <p id=\"nonprimary\">usecs_per_line</p>\n",
       "                            <span class=\"djtooltiptext\">microseconds per scan line</span>\n",
       "                        </div></th><th><div class=\"djtooltip\">\n",
       "                            <p id=\"nonprimary\">fill_fraction</p>\n",
       "                            <span class=\"djtooltiptext\">raster scan temporal fill fraction (see scanimage)</span>\n",
       "                        </div></th><th><div class=\"djtooltip\">\n",
       "                            <p id=\"nonprimary\">scan_datetime</p>\n",
       "                            <span class=\"djtooltiptext\">datetime of the scan</span>\n",
       "                        </div></th><th><div class=\"djtooltip\">\n",
       "                            <p id=\"nonprimary\">scan_duration</p>\n",
       "                            <span class=\"djtooltiptext\">(seconds) duration of the scan</span>\n",
       "                        </div></th><th><div class=\"djtooltip\">\n",
       "                            <p id=\"nonprimary\">bidirectional_z</p>\n",
       "                            <span class=\"djtooltiptext\">true = bidirectional z-scan</span>\n",
       "                        </div> </th> </tr> </thead>\n",
       "            <tbody> <tr>  </tr> </tbody>\n",
       "        </table>\n",
       "        \n",
       "        <p>Total: 0</p></div>\n",
       "        "
      ],
      "text/plain": [
       "*subject    *session_datet *scan_id    nfields     nchannels     ndepths     nframes     nrois     x     y     z     fps     bidirectional  usecs_per_line fill_fraction  scan_datetime  scan_duration  bidirectional_\n",
       "+---------+ +------------+ +---------+ +---------+ +-----------+ +---------+ +---------+ +-------+ +---+ +---+ +---+ +-----+ +------------+ +------------+ +------------+ +------------+ +------------+ +------------+\n",
       "\n",
       " (Total: 0)"
      ]
     },
     "execution_count": 19,
     "metadata": {},
     "output_type": "execute_result"
    }
   ],
   "source": [
    "scan.ScanInfo()"
   ]
  },
  {
   "cell_type": "code",
   "execution_count": 20,
   "metadata": {},
   "outputs": [
    {
     "data": {
      "text/html": [
       "\n",
       "    \n",
       "    <style type=\"text/css\">\n",
       "        .Table{\n",
       "            border-collapse:collapse;\n",
       "        }\n",
       "        .Table th{\n",
       "            background: #A0A0A0; color: #ffffff; padding:4px; border:#f0e0e0 1px solid;\n",
       "            font-weight: normal; font-family: monospace; font-size: 100%;\n",
       "        }\n",
       "        .Table td{\n",
       "            padding:4px; border:#f0e0e0 1px solid; font-size:100%;\n",
       "        }\n",
       "        .Table tr:nth-child(odd){\n",
       "            background: #ffffff;\n",
       "            color: #000000;\n",
       "        }\n",
       "        .Table tr:nth-child(even){\n",
       "            background: #f3f1ff;\n",
       "            color: #000000;\n",
       "        }\n",
       "        /* Tooltip container */\n",
       "        .djtooltip {\n",
       "        }\n",
       "        /* Tooltip text */\n",
       "        .djtooltip .djtooltiptext {\n",
       "            visibility: hidden;\n",
       "            width: 120px;\n",
       "            background-color: black;\n",
       "            color: #fff;\n",
       "            text-align: center;\n",
       "            padding: 5px 0;\n",
       "            border-radius: 6px;\n",
       "            /* Position the tooltip text - see examples below! */\n",
       "            position: absolute;\n",
       "            z-index: 1;\n",
       "        }\n",
       "        #primary {\n",
       "            font-weight: bold;\n",
       "            color: black;\n",
       "        }\n",
       "        #nonprimary {\n",
       "            font-weight: normal;\n",
       "            color: white;\n",
       "        }\n",
       "\n",
       "        /* Show the tooltip text when you mouse over the tooltip container */\n",
       "        .djtooltip:hover .djtooltiptext {\n",
       "            visibility: visible;\n",
       "        }\n",
       "    </style>\n",
       "    \n",
       "    <b>field-specific scan information</b>\n",
       "        <div style=\"max-height:1000px;max-width:1500px;overflow:auto;\">\n",
       "        <table border=\"1\" class=\"Table\">\n",
       "            <thead> <tr style=\"text-align: right;\"> <th> <div class=\"djtooltip\">\n",
       "                            <p id=\"primary\">subject</p>\n",
       "                            <span class=\"djtooltiptext\"></span>\n",
       "                        </div></th><th><div class=\"djtooltip\">\n",
       "                            <p id=\"primary\">session_datetime</p>\n",
       "                            <span class=\"djtooltiptext\"></span>\n",
       "                        </div></th><th><div class=\"djtooltip\">\n",
       "                            <p id=\"primary\">scan_id</p>\n",
       "                            <span class=\"djtooltiptext\"></span>\n",
       "                        </div></th><th><div class=\"djtooltip\">\n",
       "                            <p id=\"primary\">field_idx</p>\n",
       "                            <span class=\"djtooltiptext\"></span>\n",
       "                        </div></th><th><div class=\"djtooltip\">\n",
       "                            <p id=\"nonprimary\">px_height</p>\n",
       "                            <span class=\"djtooltiptext\">height in pixels</span>\n",
       "                        </div></th><th><div class=\"djtooltip\">\n",
       "                            <p id=\"nonprimary\">px_width</p>\n",
       "                            <span class=\"djtooltiptext\">width in pixels</span>\n",
       "                        </div></th><th><div class=\"djtooltip\">\n",
       "                            <p id=\"nonprimary\">um_height</p>\n",
       "                            <span class=\"djtooltiptext\">height in microns</span>\n",
       "                        </div></th><th><div class=\"djtooltip\">\n",
       "                            <p id=\"nonprimary\">um_width</p>\n",
       "                            <span class=\"djtooltiptext\">width in microns</span>\n",
       "                        </div></th><th><div class=\"djtooltip\">\n",
       "                            <p id=\"nonprimary\">field_x</p>\n",
       "                            <span class=\"djtooltiptext\">(um) center of field in the motor coordinate system</span>\n",
       "                        </div></th><th><div class=\"djtooltip\">\n",
       "                            <p id=\"nonprimary\">field_y</p>\n",
       "                            <span class=\"djtooltiptext\">(um) center of field in the motor coordinate system</span>\n",
       "                        </div></th><th><div class=\"djtooltip\">\n",
       "                            <p id=\"nonprimary\">field_z</p>\n",
       "                            <span class=\"djtooltiptext\">(um) relative depth of field</span>\n",
       "                        </div></th><th><div class=\"djtooltip\">\n",
       "                            <p id=\"nonprimary\">delay_image</p>\n",
       "                            <span class=\"djtooltiptext\">(ms) delay between the start of the scan and pixels in this field</span>\n",
       "                        </div></th><th><div class=\"djtooltip\">\n",
       "                            <p id=\"nonprimary\">roi</p>\n",
       "                            <span class=\"djtooltiptext\">the scanning roi (as recorded in the acquisition software) containing this field - only relevant to mesoscale scans</span>\n",
       "                        </div> </th> </tr> </thead>\n",
       "            <tbody> <tr>  </tr> </tbody>\n",
       "        </table>\n",
       "        \n",
       "        <p>Total: 0</p></div>\n",
       "        "
      ],
      "text/plain": [
       "*subject    *session_datet *scan_id    *field_idx    px_height     px_width     um_height     um_width     field_x     field_y     field_z     delay_imag roi    \n",
       "+---------+ +------------+ +---------+ +-----------+ +-----------+ +----------+ +-----------+ +----------+ +---------+ +---------+ +---------+ +--------+ +-----+\n",
       "\n",
       " (Total: 0)"
      ]
     },
     "execution_count": 20,
     "metadata": {},
     "output_type": "execute_result"
    }
   ],
   "source": [
    "scan.ScanInfo.Field()"
   ]
  },
  {
   "cell_type": "code",
   "execution_count": 21,
   "metadata": {},
   "outputs": [
    {
     "name": "stderr",
     "output_type": "stream",
     "text": [
      "ScanInfo: 100%|██████████| 1/1 [00:00<00:00,  1.27it/s]\n"
     ]
    }
   ],
   "source": [
    "# duration depends on your network bandwidth to s3\n",
    "scan.ScanInfo.populate(display_progress=True)"
   ]
  },
  {
   "attachments": {},
   "cell_type": "markdown",
   "metadata": {},
   "source": [
    "Let's view the information was entered into these tables."
   ]
  },
  {
   "cell_type": "code",
   "execution_count": 22,
   "metadata": {},
   "outputs": [
    {
     "data": {
      "text/html": [
       "\n",
       "    \n",
       "    <style type=\"text/css\">\n",
       "        .Table{\n",
       "            border-collapse:collapse;\n",
       "        }\n",
       "        .Table th{\n",
       "            background: #A0A0A0; color: #ffffff; padding:4px; border:#f0e0e0 1px solid;\n",
       "            font-weight: normal; font-family: monospace; font-size: 100%;\n",
       "        }\n",
       "        .Table td{\n",
       "            padding:4px; border:#f0e0e0 1px solid; font-size:100%;\n",
       "        }\n",
       "        .Table tr:nth-child(odd){\n",
       "            background: #ffffff;\n",
       "            color: #000000;\n",
       "        }\n",
       "        .Table tr:nth-child(even){\n",
       "            background: #f3f1ff;\n",
       "            color: #000000;\n",
       "        }\n",
       "        /* Tooltip container */\n",
       "        .djtooltip {\n",
       "        }\n",
       "        /* Tooltip text */\n",
       "        .djtooltip .djtooltiptext {\n",
       "            visibility: hidden;\n",
       "            width: 120px;\n",
       "            background-color: black;\n",
       "            color: #fff;\n",
       "            text-align: center;\n",
       "            padding: 5px 0;\n",
       "            border-radius: 6px;\n",
       "            /* Position the tooltip text - see examples below! */\n",
       "            position: absolute;\n",
       "            z-index: 1;\n",
       "        }\n",
       "        #primary {\n",
       "            font-weight: bold;\n",
       "            color: black;\n",
       "        }\n",
       "        #nonprimary {\n",
       "            font-weight: normal;\n",
       "            color: white;\n",
       "        }\n",
       "\n",
       "        /* Show the tooltip text when you mouse over the tooltip container */\n",
       "        .djtooltip:hover .djtooltiptext {\n",
       "            visibility: visible;\n",
       "        }\n",
       "    </style>\n",
       "    \n",
       "    <b>General data about the resoscans/mesoscans from header</b>\n",
       "        <div style=\"max-height:1000px;max-width:1500px;overflow:auto;\">\n",
       "        <table border=\"1\" class=\"Table\">\n",
       "            <thead> <tr style=\"text-align: right;\"> <th> <div class=\"djtooltip\">\n",
       "                            <p id=\"primary\">subject</p>\n",
       "                            <span class=\"djtooltiptext\"></span>\n",
       "                        </div></th><th><div class=\"djtooltip\">\n",
       "                            <p id=\"primary\">session_datetime</p>\n",
       "                            <span class=\"djtooltiptext\"></span>\n",
       "                        </div></th><th><div class=\"djtooltip\">\n",
       "                            <p id=\"primary\">scan_id</p>\n",
       "                            <span class=\"djtooltiptext\"></span>\n",
       "                        </div></th><th><div class=\"djtooltip\">\n",
       "                            <p id=\"nonprimary\">nfields</p>\n",
       "                            <span class=\"djtooltiptext\">number of fields</span>\n",
       "                        </div></th><th><div class=\"djtooltip\">\n",
       "                            <p id=\"nonprimary\">nchannels</p>\n",
       "                            <span class=\"djtooltiptext\">number of channels</span>\n",
       "                        </div></th><th><div class=\"djtooltip\">\n",
       "                            <p id=\"nonprimary\">ndepths</p>\n",
       "                            <span class=\"djtooltiptext\">Number of scanning depths (planes)</span>\n",
       "                        </div></th><th><div class=\"djtooltip\">\n",
       "                            <p id=\"nonprimary\">nframes</p>\n",
       "                            <span class=\"djtooltiptext\">number of recorded frames</span>\n",
       "                        </div></th><th><div class=\"djtooltip\">\n",
       "                            <p id=\"nonprimary\">nrois</p>\n",
       "                            <span class=\"djtooltiptext\">number of ROIs (see scanimage's multi ROI imaging)</span>\n",
       "                        </div></th><th><div class=\"djtooltip\">\n",
       "                            <p id=\"nonprimary\">x</p>\n",
       "                            <span class=\"djtooltiptext\">(um) ScanImage's 0 point in the motor coordinate system</span>\n",
       "                        </div></th><th><div class=\"djtooltip\">\n",
       "                            <p id=\"nonprimary\">y</p>\n",
       "                            <span class=\"djtooltiptext\">(um) ScanImage's 0 point in the motor coordinate system</span>\n",
       "                        </div></th><th><div class=\"djtooltip\">\n",
       "                            <p id=\"nonprimary\">z</p>\n",
       "                            <span class=\"djtooltiptext\">(um) ScanImage's 0 point in the motor coordinate system</span>\n",
       "                        </div></th><th><div class=\"djtooltip\">\n",
       "                            <p id=\"nonprimary\">fps</p>\n",
       "                            <span class=\"djtooltiptext\">(Hz) frames per second - Volumetric Scan Rate</span>\n",
       "                        </div></th><th><div class=\"djtooltip\">\n",
       "                            <p id=\"nonprimary\">bidirectional</p>\n",
       "                            <span class=\"djtooltiptext\">true = bidirectional scanning</span>\n",
       "                        </div></th><th><div class=\"djtooltip\">\n",
       "                            <p id=\"nonprimary\">usecs_per_line</p>\n",
       "                            <span class=\"djtooltiptext\">microseconds per scan line</span>\n",
       "                        </div></th><th><div class=\"djtooltip\">\n",
       "                            <p id=\"nonprimary\">fill_fraction</p>\n",
       "                            <span class=\"djtooltiptext\">raster scan temporal fill fraction (see scanimage)</span>\n",
       "                        </div></th><th><div class=\"djtooltip\">\n",
       "                            <p id=\"nonprimary\">scan_datetime</p>\n",
       "                            <span class=\"djtooltiptext\">datetime of the scan</span>\n",
       "                        </div></th><th><div class=\"djtooltip\">\n",
       "                            <p id=\"nonprimary\">scan_duration</p>\n",
       "                            <span class=\"djtooltiptext\">(seconds) duration of the scan</span>\n",
       "                        </div></th><th><div class=\"djtooltip\">\n",
       "                            <p id=\"nonprimary\">bidirectional_z</p>\n",
       "                            <span class=\"djtooltiptext\">true = bidirectional z-scan</span>\n",
       "                        </div> </th> </tr> </thead>\n",
       "            <tbody> <tr> <td>subject1</td>\n",
       "<td>2021-04-30 12:22:15</td>\n",
       "<td>0</td>\n",
       "<td>1</td>\n",
       "<td>1</td>\n",
       "<td>1</td>\n",
       "<td>3000</td>\n",
       "<td>0</td>\n",
       "<td>13441.9</td>\n",
       "<td>15745.0</td>\n",
       "<td>-205821.0</td>\n",
       "<td>29.2398</td>\n",
       "<td>1</td>\n",
       "<td>63.0981</td>\n",
       "<td>0.712867</td>\n",
       "<td>None</td>\n",
       "<td>102.6</td>\n",
       "<td>None</td> </tr> </tbody>\n",
       "        </table>\n",
       "        \n",
       "        <p>Total: 1</p></div>\n",
       "        "
      ],
      "text/plain": [
       "*subject     *session_datet *scan_id    nfields     nchannels     ndepths     nframes     nrois     x           y           z             fps         bidirectional  usecs_per_line fill_fraction  scan_datetime  scan_duration  bidirectional_\n",
       "+----------+ +------------+ +---------+ +---------+ +-----------+ +---------+ +---------+ +-------+ +---------+ +---------+ +-----------+ +---------+ +------------+ +------------+ +------------+ +------------+ +------------+ +------------+\n",
       "subject1     2021-04-30 12: 0           1           1             1           3000        0         13441.9     15745.0     -205821.0     29.2398     1              63.0981        0.712867       None           102.6          None          \n",
       " (Total: 1)"
      ]
     },
     "execution_count": 22,
     "metadata": {},
     "output_type": "execute_result"
    }
   ],
   "source": [
    "scan.ScanInfo()"
   ]
  },
  {
   "cell_type": "code",
   "execution_count": 23,
   "metadata": {},
   "outputs": [
    {
     "data": {
      "text/html": [
       "\n",
       "    \n",
       "    <style type=\"text/css\">\n",
       "        .Table{\n",
       "            border-collapse:collapse;\n",
       "        }\n",
       "        .Table th{\n",
       "            background: #A0A0A0; color: #ffffff; padding:4px; border:#f0e0e0 1px solid;\n",
       "            font-weight: normal; font-family: monospace; font-size: 100%;\n",
       "        }\n",
       "        .Table td{\n",
       "            padding:4px; border:#f0e0e0 1px solid; font-size:100%;\n",
       "        }\n",
       "        .Table tr:nth-child(odd){\n",
       "            background: #ffffff;\n",
       "            color: #000000;\n",
       "        }\n",
       "        .Table tr:nth-child(even){\n",
       "            background: #f3f1ff;\n",
       "            color: #000000;\n",
       "        }\n",
       "        /* Tooltip container */\n",
       "        .djtooltip {\n",
       "        }\n",
       "        /* Tooltip text */\n",
       "        .djtooltip .djtooltiptext {\n",
       "            visibility: hidden;\n",
       "            width: 120px;\n",
       "            background-color: black;\n",
       "            color: #fff;\n",
       "            text-align: center;\n",
       "            padding: 5px 0;\n",
       "            border-radius: 6px;\n",
       "            /* Position the tooltip text - see examples below! */\n",
       "            position: absolute;\n",
       "            z-index: 1;\n",
       "        }\n",
       "        #primary {\n",
       "            font-weight: bold;\n",
       "            color: black;\n",
       "        }\n",
       "        #nonprimary {\n",
       "            font-weight: normal;\n",
       "            color: white;\n",
       "        }\n",
       "\n",
       "        /* Show the tooltip text when you mouse over the tooltip container */\n",
       "        .djtooltip:hover .djtooltiptext {\n",
       "            visibility: visible;\n",
       "        }\n",
       "    </style>\n",
       "    \n",
       "    <b>field-specific scan information</b>\n",
       "        <div style=\"max-height:1000px;max-width:1500px;overflow:auto;\">\n",
       "        <table border=\"1\" class=\"Table\">\n",
       "            <thead> <tr style=\"text-align: right;\"> <th> <div class=\"djtooltip\">\n",
       "                            <p id=\"primary\">subject</p>\n",
       "                            <span class=\"djtooltiptext\"></span>\n",
       "                        </div></th><th><div class=\"djtooltip\">\n",
       "                            <p id=\"primary\">session_datetime</p>\n",
       "                            <span class=\"djtooltiptext\"></span>\n",
       "                        </div></th><th><div class=\"djtooltip\">\n",
       "                            <p id=\"primary\">scan_id</p>\n",
       "                            <span class=\"djtooltiptext\"></span>\n",
       "                        </div></th><th><div class=\"djtooltip\">\n",
       "                            <p id=\"primary\">field_idx</p>\n",
       "                            <span class=\"djtooltiptext\"></span>\n",
       "                        </div></th><th><div class=\"djtooltip\">\n",
       "                            <p id=\"nonprimary\">px_height</p>\n",
       "                            <span class=\"djtooltiptext\">height in pixels</span>\n",
       "                        </div></th><th><div class=\"djtooltip\">\n",
       "                            <p id=\"nonprimary\">px_width</p>\n",
       "                            <span class=\"djtooltiptext\">width in pixels</span>\n",
       "                        </div></th><th><div class=\"djtooltip\">\n",
       "                            <p id=\"nonprimary\">um_height</p>\n",
       "                            <span class=\"djtooltiptext\">height in microns</span>\n",
       "                        </div></th><th><div class=\"djtooltip\">\n",
       "                            <p id=\"nonprimary\">um_width</p>\n",
       "                            <span class=\"djtooltiptext\">width in microns</span>\n",
       "                        </div></th><th><div class=\"djtooltip\">\n",
       "                            <p id=\"nonprimary\">field_x</p>\n",
       "                            <span class=\"djtooltiptext\">(um) center of field in the motor coordinate system</span>\n",
       "                        </div></th><th><div class=\"djtooltip\">\n",
       "                            <p id=\"nonprimary\">field_y</p>\n",
       "                            <span class=\"djtooltiptext\">(um) center of field in the motor coordinate system</span>\n",
       "                        </div></th><th><div class=\"djtooltip\">\n",
       "                            <p id=\"nonprimary\">field_z</p>\n",
       "                            <span class=\"djtooltiptext\">(um) relative depth of field</span>\n",
       "                        </div></th><th><div class=\"djtooltip\">\n",
       "                            <p id=\"nonprimary\">delay_image</p>\n",
       "                            <span class=\"djtooltiptext\">(ms) delay between the start of the scan and pixels in this field</span>\n",
       "                        </div></th><th><div class=\"djtooltip\">\n",
       "                            <p id=\"nonprimary\">roi</p>\n",
       "                            <span class=\"djtooltiptext\">the scanning roi (as recorded in the acquisition software) containing this field - only relevant to mesoscale scans</span>\n",
       "                        </div> </th> </tr> </thead>\n",
       "            <tbody> <tr> <td>subject1</td>\n",
       "<td>2021-04-30 12:22:15</td>\n",
       "<td>0</td>\n",
       "<td>0</td>\n",
       "<td>512</td>\n",
       "<td>512</td>\n",
       "<td>nan</td>\n",
       "<td>nan</td>\n",
       "<td>13441.9</td>\n",
       "<td>15745.0</td>\n",
       "<td>-205821.0</td>\n",
       "<td>=BLOB=</td>\n",
       "<td>None</td> </tr> </tbody>\n",
       "        </table>\n",
       "        \n",
       "        <p>Total: 1</p></div>\n",
       "        "
      ],
      "text/plain": [
       "*subject     *session_datet *scan_id    *field_idx    px_height     px_width     um_height     um_width     field_x     field_y     field_z       delay_imag roi     \n",
       "+----------+ +------------+ +---------+ +-----------+ +-----------+ +----------+ +-----------+ +----------+ +---------+ +---------+ +-----------+ +--------+ +------+\n",
       "subject1     2021-04-30 12: 0           0             512           512          nan           nan          13441.9     15745.0     -205821.0     =BLOB=     None    \n",
       " (Total: 1)"
      ]
     },
     "execution_count": 23,
     "metadata": {},
     "output_type": "execute_result"
    }
   ],
   "source": [
    "scan.ScanInfo.Field()"
   ]
  },
  {
   "attachments": {},
   "cell_type": "markdown",
   "metadata": {},
   "source": [
    "Let's define the Suite2p parameters by making an entry in the `ProcessingParamSet` table."
   ]
  },
  {
   "cell_type": "code",
   "execution_count": 25,
   "metadata": {},
   "outputs": [],
   "source": [
    "import suite2p\n",
    "\n",
    "params_suite2p = suite2p.default_ops()\n",
    "params_suite2p[\"nonrigid\"] = False\n",
    "\n",
    "imaging.ProcessingParamSet.insert_new_params(\n",
    "    processing_method=\"suite2p\",\n",
    "    paramset_idx=0,\n",
    "    params=params_suite2p,\n",
    "    paramset_desc=\"Calcium imaging analysis with Suite2p using default parameters\",\n",
    ")"
   ]
  },
  {
   "attachments": {},
   "cell_type": "markdown",
   "metadata": {},
   "source": [
    "The `ProcessingTask` table is used to select the `ProcessingParamSet` entry that is used to process a selected `Scan` entry in the downstream tables."
   ]
  },
  {
   "cell_type": "code",
   "execution_count": 26,
   "metadata": {},
   "outputs": [
    {
     "name": "stdout",
     "output_type": "stream",
     "text": [
      "# Manual table for defining a processing task ready to be run\n",
      "-> scan.Scan\n",
      "-> imaging.ProcessingParamSet\n",
      "---\n",
      "processing_output_dir : varchar(255)                 # Output directory of the processed scan relative to root data directory\n",
      "task_mode=\"load\"     : enum('load','trigger')       # 'load': load computed analysis results, 'trigger': trigger computation\n",
      "\n"
     ]
    }
   ],
   "source": [
    "print(imaging.ProcessingTask.describe())"
   ]
  },
  {
   "cell_type": "code",
   "execution_count": null,
   "metadata": {},
   "outputs": [],
   "source": [
    "imaging.ProcessingTask.heading"
   ]
  },
  {
   "attachments": {},
   "cell_type": "markdown",
   "metadata": {},
   "source": [
    "The `ProcessingParamSet` table contains two important attributes: \n",
    "+ `paramset_idx` - Allows the user to choose the parameter set with which\n",
    "you want to run image processing.\n",
    "+ `task_mode` - Can be set to `load` or `trigger`. When set to `load`,\n",
    "running the processing step initiates a search for existing output files of the image\n",
    "processing algorithm defined in `ProcessingParamSet`. When set to `trigger`, the\n",
    "processing step will run image processing on the raw data. "
   ]
  },
  {
   "cell_type": "code",
   "execution_count": 28,
   "metadata": {},
   "outputs": [],
   "source": [
    "imaging.ProcessingTask.insert1(\n",
    "    dict(\n",
    "        **session_key,\n",
    "        scan_id=0,\n",
    "        paramset_idx=0,\n",
    "        task_mode=\"load\",  # load or trigger\n",
    "        processing_output_dir=\"subject1/session1/suite2p\",\n",
    "    )\n",
    ")"
   ]
  },
  {
   "attachments": {},
   "cell_type": "markdown",
   "metadata": {},
   "source": [
    "Let's call populate on the `Processing` table, which checks the Suite2p results since `task_mode=load`."
   ]
  },
  {
   "cell_type": "code",
   "execution_count": 29,
   "metadata": {},
   "outputs": [
    {
     "name": "stderr",
     "output_type": "stream",
     "text": [
      "Processing: 100%|██████████| 1/1 [00:00<00:00, 48.47it/s]\n"
     ]
    }
   ],
   "source": [
    "imaging.Processing.populate(session_key, display_progress=True)"
   ]
  },
  {
   "attachments": {},
   "cell_type": "markdown",
   "metadata": {},
   "source": [
    "Once processing is complete, you can optionally curate the output of Suite2p using the `Curation` table."
   ]
  },
  {
   "cell_type": "code",
   "execution_count": 30,
   "metadata": {},
   "outputs": [
    {
     "data": {
      "text/plain": [
       "# Curation(s) results\n",
       "subject              : varchar(8)                   # \n",
       "session_datetime     : datetime                     # \n",
       "scan_id              : int                          # \n",
       "paramset_idx         : smallint                     # Unique parameter set ID.\n",
       "curation_id          : int                          # \n",
       "---\n",
       "curation_time        : datetime                     # Time of generation of this set of curated results\n",
       "curation_output_dir  : varchar(255)                 # Output directory of the curated results, relative to root data directory\n",
       "manual_curation      : tinyint                      # Has manual curation been performed on this result?\n",
       "curation_note=\"\"     : varchar(2000)                # "
      ]
     },
     "execution_count": 30,
     "metadata": {},
     "output_type": "execute_result"
    }
   ],
   "source": [
    "imaging.Curation.heading"
   ]
  },
  {
   "cell_type": "code",
   "execution_count": 31,
   "metadata": {},
   "outputs": [],
   "source": [
    "imaging.Curation.insert1(\n",
    "    dict(\n",
    "        **session_key,\n",
    "        scan_id=0,\n",
    "        paramset_idx=0,\n",
    "        curation_id=0,\n",
    "        curation_time=\"2021-04-30 12:22:15.032\",\n",
    "        curation_output_dir=\"subject1/session1/suite2p\",\n",
    "        manual_curation=False,\n",
    "        curation_note=\"\",\n",
    "    )\n",
    ")"
   ]
  },
  {
   "attachments": {},
   "cell_type": "markdown",
   "metadata": {},
   "source": [
    "Now, we will populate several tables that store the output of image processing, including\n",
    "`MotionCorrection`, `Segmentation`, `Fluorescence`, and `Activity`."
   ]
  },
  {
   "cell_type": "code",
   "execution_count": 32,
   "metadata": {},
   "outputs": [
    {
     "name": "stderr",
     "output_type": "stream",
     "text": [
      "MotionCorrection: 100%|██████████| 1/1 [00:01<00:00,  1.75s/it]\n"
     ]
    }
   ],
   "source": [
    "imaging.MotionCorrection.populate(display_progress=True)\n",
    "imaging.Segmentation.populate(display_progress=True)\n",
    "imaging.Fluorescence.populate(display_progress=True)\n",
    "imaging.Activity.populate(display_progress=True)"
   ]
  },
  {
   "attachments": {},
   "cell_type": "markdown",
   "metadata": {},
   "source": [
    "## Query\n",
    "\n",
    "Queries allow you to view the contents of the database.  The simplest query is the instance of the table class."
   ]
  },
  {
   "cell_type": "code",
   "execution_count": null,
   "metadata": {},
   "outputs": [],
   "source": [
    "subject.Subject()"
   ]
  },
  {
   "attachments": {},
   "cell_type": "markdown",
   "metadata": {},
   "source": [
    "Let's query the contents of the `Mask` part table."
   ]
  },
  {
   "cell_type": "code",
   "execution_count": null,
   "metadata": {},
   "outputs": [],
   "source": [
    "imaging.Segmentation.Mask()"
   ]
  },
  {
   "attachments": {},
   "cell_type": "markdown",
   "metadata": {},
   "source": [
    "With the `&` operator, we will restrict the contents of the `imaging.Segmentation.Mask` table to the entry where the `mask` attribute is 10."
   ]
  },
  {
   "cell_type": "code",
   "execution_count": null,
   "metadata": {},
   "outputs": [],
   "source": [
    "imaging.Segmentation.Mask & \"mask = '10'\""
   ]
  },
  {
   "attachments": {},
   "cell_type": "markdown",
   "metadata": {},
   "source": [
    "DataJoint queries can be a highly flexible tool with several [operators](https://datajoint.com/docs/core/concepts/query-lang/operators/).  The next operator we will explore is `join` which combines matching information from tables.\n",
    "\n",
    "First let's view the contents of each table."
   ]
  },
  {
   "cell_type": "code",
   "execution_count": null,
   "metadata": {},
   "outputs": [],
   "source": [
    "imaging.Segmentation.Mask()"
   ]
  },
  {
   "cell_type": "code",
   "execution_count": null,
   "metadata": {},
   "outputs": [],
   "source": [
    "imaging.MaskClassification.MaskType()"
   ]
  },
  {
   "attachments": {},
   "cell_type": "markdown",
   "metadata": {},
   "source": [
    "Let's use the `join` operator to combine matching information in `imaging.Segmentation.Mask` and `imaging.MaskClassification.MaskType`.   The result contains all matching combinations of entities from both arguments."
   ]
  },
  {
   "cell_type": "code",
   "execution_count": null,
   "metadata": {},
   "outputs": [],
   "source": [
    "imaging.Segmentation.Mask * imaging.MaskClassification.MaskType"
   ]
  },
  {
   "attachments": {},
   "cell_type": "markdown",
   "metadata": {},
   "source": [
    "We can chain these operators together."
   ]
  },
  {
   "cell_type": "code",
   "execution_count": null,
   "metadata": {},
   "outputs": [],
   "source": [
    "imaging.Segmentation.Mask * imaging.MaskClassification.MaskType & \"mask = '10'\""
   ]
  },
  {
   "attachments": {},
   "cell_type": "markdown",
   "metadata": {},
   "source": [
    "## Fetch\n",
    "\n",
    "The `fetch` and `fetch1` methods download the data from the query object into the workspace.\n",
    "\n",
    "Below we will run `fetch()` to return all attributes of all entries in the table."
   ]
  },
  {
   "cell_type": "code",
   "execution_count": null,
   "metadata": {},
   "outputs": [],
   "source": [
    "imaging.Fluorescence.Trace.fetch(as_dict=True)"
   ]
  },
  {
   "attachments": {},
   "cell_type": "markdown",
   "metadata": {},
   "source": [
    "Next, we will fetch the `fluorescence` attribute for `mask=10` with the `fetch1` method by passing the attribute as an argument to the method.\n",
    "\n",
    "By default, `fetch1()` returns all attributes of one of the entries in the table.  If a query has multiple entries, `fetch1()` imports the first entry in the table."
   ]
  },
  {
   "cell_type": "code",
   "execution_count": 38,
   "metadata": {},
   "outputs": [],
   "source": [
    "trace = (imaging.Fluorescence.Trace & \"mask = '10'\").fetch1(\"fluorescence\")"
   ]
  },
  {
   "attachments": {},
   "cell_type": "markdown",
   "metadata": {},
   "source": [
    "Let's plot this trace.  First we will fetch the sampling rate of the data to define the x-axis values."
   ]
  },
  {
   "cell_type": "code",
   "execution_count": null,
   "metadata": {},
   "outputs": [],
   "source": [
    "sampling_rate = (scan.ScanInfo & session_key & \"scan_id=0\").fetch1(\"fps\")"
   ]
  },
  {
   "cell_type": "code",
   "execution_count": 39,
   "metadata": {},
   "outputs": [
    {
     "data": {
      "image/png": "[encoded data removed]",
      "text/plain": [
       "<Figure size 640x480 with 1 Axes>"
      ]
     },
     "metadata": {},
     "output_type": "display_data"
    }
   ],
   "source": [
    "plt.plot(np.r_[: trace.size] * 1 / sampling_rate, trace)\n",
    "plt.title(\"Fluorescence trace for mask 10\")\n",
    "plt.xlabel(\"Time (s)\")\n",
    "plt.ylabel(\"Activity (a.u.)\");"
   ]
  },
  {
   "attachments": {},
   "cell_type": "markdown",
   "metadata": {},
   "source": [
    "We will fetch and plot the average, motion-corrected image."
   ]
  },
  {
   "cell_type": "code",
   "execution_count": null,
   "metadata": {},
   "outputs": [],
   "source": [
    "average_image = (imaging.MotionCorrection.Summary & session_key & \"field_idx=0\").fetch1(\n",
    "    \"average_image\"\n",
    ")"
   ]
  },
  {
   "cell_type": "code",
   "execution_count": null,
   "metadata": {},
   "outputs": [],
   "source": [
    "plt.imshow(average_image)"
   ]
  },
  {
   "attachments": {},
   "cell_type": "markdown",
   "metadata": {},
   "source": [
    "We will fetch mask coordinates and overlay these on the average image."
   ]
  },
  {
   "cell_type": "code",
   "execution_count": 46,
   "metadata": {},
   "outputs": [],
   "source": [
    "mask_xpix, mask_ypix = (\n",
    "    imaging.Segmentation.Mask * imaging.MaskClassification.MaskType\n",
    "    & session_key\n",
    "    & \"mask_center_z=0\"\n",
    "    & \"mask_npix > 130\"\n",
    ").fetch(\"mask_xpix\", \"mask_ypix\")"
   ]
  },
  {
   "cell_type": "code",
   "execution_count": 47,
   "metadata": {},
   "outputs": [],
   "source": [
    "mask_image = np.zeros(np.shape(average_image), dtype=bool)\n",
    "for xpix, ypix in zip(mask_xpix, mask_ypix):\n",
    "    mask_image[ypix, xpix] = True"
   ]
  },
  {
   "cell_type": "code",
   "execution_count": 48,
   "metadata": {},
   "outputs": [
    {
     "data": {
      "image/png": "[encoded data removed]",
      "text/plain": [
       "<Figure size 640x480 with 1 Axes>"
      ]
     },
     "metadata": {},
     "output_type": "display_data"
    }
   ],
   "source": [
    "plt.imshow(average_image)\n",
    "plt.contour(mask_image, colors=\"white\", linewidths=0.5);"
   ]
  },
  {
   "attachments": {},
   "cell_type": "markdown",
   "metadata": {},
   "source": [
    "This Element includes an interactive widget to plot the segmentations and traces to visualize the results after processing with Suite2p, CaImAn, or EXTRACT.\n",
    "\n",
    "First, let's populate the `imaging_report` table with these plots, and then we can visualize the plots with the widget."
   ]
  },
  {
   "cell_type": "code",
   "execution_count": null,
   "metadata": {},
   "outputs": [],
   "source": [
    "imaging_report.ScanLevelReport.populate(session_key, display_progress=True)\n",
    "imaging_report.TraceReport.populate(session_key, display_progress=True)"
   ]
  },
  {
   "cell_type": "code",
   "execution_count": null,
   "metadata": {},
   "outputs": [],
   "source": [
    "from element_calcium_imaging import plotting"
   ]
  },
  {
   "cell_type": "code",
   "execution_count": null,
   "metadata": {},
   "outputs": [],
   "source": [
    "plotting.widget.main(imaging)"
   ]
  },
  {
   "attachments": {},
   "cell_type": "markdown",
   "metadata": {},
   "source": [
    "Congratulations!  You have learned about the DataJoint Element for Calcium Imaging and common DataJoint commands to interact with the pipeline, including insert, populate, query, and fetch.\n",
    "\n",
    "## Next steps\n",
    "\n",
    "Follow the steps below to run this pipeline for your experiments:\n",
    "\n",
    "- Create a fork of this repository to your GitHub account.\n",
    "- Clone the repository to your local machine and configure for use with the instructions in the [User Guide](https://datajoint.com/docs/elements/user-guide/).\n",
    "- The DataJoint team offers free [Office Hours](https://datajoint.com/docs/community/support/) to help you setup this pipeline.\n",
    "- If you have any questions, please reach out at support@datajoint.com."
   ]
  },
  {
   "attachments": {},
   "cell_type": "markdown",
   "metadata": {},
   "source": []
  }
 ],
 "metadata": {
  "jupytext": {
   "encoding": "# -*- coding: utf-8 -*-"
  },
  "kernelspec": {
   "display_name": "Python 3",
   "language": "python",
   "name": "python3"
  },
  "language_info": {
   "codemirror_mode": {
    "name": "ipython",
    "version": 3
   },
   "file_extension": ".py",
   "mimetype": "text/x-python",
   "name": "python",
   "nbconvert_exporter": "python",
   "pygments_lexer": "ipython3",
   "version": "3.9.17"
  },
  "vscode": {
   "interpreter": {
    "hash": "949777d72b0d2535278d3dc13498b2535136f6dfe0678499012e853ee9abcab1"
   }
  }
 },
 "nbformat": 4,
 "nbformat_minor": 4
}
