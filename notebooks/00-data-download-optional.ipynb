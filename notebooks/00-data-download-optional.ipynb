{
 "cells": [
  {
   "cell_type": "markdown",
   "metadata": {},
   "source": [
    "# Download example dataset\n",
    "\n",
    "+ This workflow will need two-photon calcium imaging data collected from either ScanImage or Scanbox and the processed with Suite2p or CaImAn.  We provide an example dataset to be downloaded to run through the workflow. This notebook walks you through the process to download the dataset.\n",
    "\n",
    "## Install `djarchive-client`\n",
    "\n",
    "+ The example dataset is hosted on `djarchive`, an AWS storage.\n",
    "\n",
    "+ We provide a client package, [djarchive-client](https://github.com/datajoint/djarchive-client), to download the data which can be installed with pip:"
   ]
  },
  {
   "cell_type": "code",
   "execution_count": null,
   "metadata": {},
   "outputs": [],
   "source": [
    "pip install git+https://github.com/datajoint/djarchive-client.git"
   ]
  },
  {
   "cell_type": "markdown",
   "metadata": {},
   "source": [
    "## Download calcium imaging example datasets using `djarchive-client`"
   ]
  },
  {
   "cell_type": "code",
   "execution_count": null,
   "metadata": {},
   "outputs": [],
   "source": [
    "import djarchive_client\n",
    "client = djarchive_client.client()"
   ]
  },
  {
   "cell_type": "markdown",
   "metadata": {},
   "source": [
    "Browse the datasets that are available on `djarchive`:"
   ]
  },
  {
   "cell_type": "code",
   "execution_count": null,
   "metadata": {},
   "outputs": [],
   "source": [
    "list(client.datasets())"
   ]
  },
  {
   "cell_type": "markdown",
   "metadata": {},
   "source": [
    "Each of the datasets have different versions associated with the version of the `workflow-calcium-imaging` package. Browse the revisions:"
   ]
  },
  {
   "cell_type": "code",
   "execution_count": null,
   "metadata": {},
   "outputs": [],
   "source": [
    "list(client.revisions())"
   ]
  },
  {
   "cell_type": "markdown",
   "metadata": {},
   "source": [
    "To download the dataset, let's prepare a root directory, for example in `/tmp`:"
   ]
  },
  {
   "cell_type": "code",
   "execution_count": null,
   "metadata": {},
   "outputs": [],
   "source": [
    "mkdir /tmp/example_data"
   ]
  },
  {
   "cell_type": "markdown",
   "metadata": {},
   "source": [
    "Get the dataset revision with the current version of `workflow-calcium-imaging`:"
   ]
  },
  {
   "cell_type": "code",
   "execution_count": null,
   "metadata": {},
   "outputs": [],
   "source": [
    "from workflow_calcium_imaging import version\n",
    "revision = version.__version__.replace('.', '_')\n",
    "revision"
   ]
  },
  {
   "cell_type": "markdown",
   "metadata": {},
   "source": [
    "Run download for a given dataset and revision:"
   ]
  },
  {
   "cell_type": "code",
   "execution_count": null,
   "metadata": {},
   "outputs": [],
   "source": [
    "client.download('workflow-calcium-imaging-test-set', target_directory='/tmp/example_data', revision=revision)"
   ]
  },
  {
   "cell_type": "markdown",
   "metadata": {},
   "source": [
    "## Directory structure\n",
    "\n",
    "+ After downloading, the directory will be organized as follows:\n",
    "\n",
    "    ```\n",
    "    /tmp/example_data/\n",
    "    - subject3/\n",
    "        - 210107_run00_orientation_8dir/\n",
    "            - run00_orientation_8dir_000_000.sbx\n",
    "            - run00_orientation_8dir_000_000.mat\n",
    "            - suite2p/\n",
    "                - combined\n",
    "                - plane0\n",
    "                - plane1\n",
    "                - plane2\n",
    "                - plane3\n",
    "    - subject7/\n",
    "        - session1\n",
    "            - suite2p\n",
    "                - plane0\n",
    "    ```\n",
    "\n",
    "+ subject 3 data is recorded with Scanbox and processed with Suite2p.\n",
    "\n",
    "+ subject 7 data is recorded with ScanImage and processed with Suite2p.\n",
    "\n",
    "+ `element-calcium-imaging` and `workflow-calcium-imaging` also support ingestion of data processed with CaImAn.\n",
    "\n",
    "+ We will use the dataset for subject 3 as an example for the rest of the notebooks. If you use your own dataset for the workflow, change the path accordingly.\n",
    "\n",
    "## Next step\n",
    "\n",
    "+ In the next notebook ([01-configure](01-configure.ipynb)) we will set up the configuration file for the workflow."
   ]
  }
 ],
 "metadata": {
  "kernelspec": {
   "name": "python379jvsc74a57bd01a512f474e195e32ad84236879d3bb44800a92b431919ef0b10d543f5012a23c",
   "display_name": "Python 3.7.9 64-bit ('workflow-calcium-imaging': conda)"
  },
  "language_info": {
   "codemirror_mode": {
    "name": "ipython",
    "version": 3
   },
   "file_extension": ".py",
   "mimetype": "text/x-python",
   "name": "python",
   "nbconvert_exporter": "python",
   "pygments_lexer": "ipython3",
   "version": "3.7.9"
  }
 },
 "nbformat": 4,
 "nbformat_minor": 4
}