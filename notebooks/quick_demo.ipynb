{
 "cells": [
  {
   "attachments": {},
   "cell_type": "markdown",
   "metadata": {},
   "source": [
    "# DataJoint Workflow Calcium Imaging Demo\n",
    "\n",
    "This notebook demonstrates using DataJoint's open-source Elements packages to build a workflow for\n",
    "calcium imaging. For a detailed tutorial, please see our tutorial notebooks."
   ]
  },
  {
   "attachments": {},
   "cell_type": "markdown",
   "metadata": {},
   "source": [
    "### The Basics:\n",
    "\n",
    "Any DataJoint workflow can be broken down into basic 3 parts:\n",
    "\n",
    "- `Insert`\n",
    "- `Populate` (or process)\n",
    "- `Analyze`\n",
    "\n",
    "In this demo we will:\n",
    "- `Insert` information about an animal subject, recording session, and the parameters related\n",
    "  to processing calcium imaging data through Suite2p or CaImAn.\n",
    "- `Populate` tables with outputs of image processing including motion correction,\n",
    "  segmentation, mask classification, and activity traces.\n",
    "- `Analyze` the processed data by querying and plotting activity traces."
   ]
  },
  {
   "cell_type": "code",
   "execution_count": 4,
   "metadata": {},
   "outputs": [],
   "source": [
    "import os\n",
    "\n",
    "if os.path.basename(os.getcwd()) == \"notebooks\":\n",
    "    os.chdir(\"..\")\n",
    "\n",
    "import datajoint as dj\n",
    "import datetime\n",
    "import matplotlib.pyplot as plt\n",
    "from workflow_calcium_imaging.pipeline import subject, session, scan, imaging"
   ]
  },
  {
   "cell_type": "code",
   "execution_count": null,
   "metadata": {},
   "outputs": [],
   "source": [
    "subject.Subject.insert1(\n",
    "    dict(\n",
    "        subject='subject1',\n",
    "        dob='2023-01-01',\n",
    "        sex='U',\n",
    "    ),\n",
    "    skip_duplicates=True\n",
    ")"
   ]
  },
  {
   "cell_type": "code",
   "execution_count": null,
   "metadata": {},
   "outputs": [],
   "source": [
    "session.Session.insert1(\n",
    "    dict(\n",
    "        subject='subject1',\n",
    "        start_time=datetime.datetime.now()\n",
    "    )\n",
    ")"
   ]
  },
  {
   "cell_type": "code",
   "execution_count": null,
   "metadata": {},
   "outputs": [],
   "source": [
    "session_key = (session.Session & \"subject = 'subject1'\").fetch(\"KEY\")[-1]"
   ]
  },
  {
   "cell_type": "code",
   "execution_count": null,
   "metadata": {},
   "outputs": [],
   "source": [
    "scan.Scan.insert1(\n",
    "    dict(\n",
    "        session_key,\n",
    "        scan_id=0,\n",
    "        acq_software='ScanImage',\n",
    "    )\n",
    ")"
   ]
  }
 ],
 "metadata": {
  "kernelspec": {
   "display_name": "elementsPractice",
   "language": "python",
   "name": "python3"
  },
  "language_info": {
   "codemirror_mode": {
    "name": "ipython",
    "version": 3
   },
   "file_extension": ".py",
   "mimetype": "text/x-python",
   "name": "python",
   "nbconvert_exporter": "python",
   "pygments_lexer": "ipython3",
   "version": "3.9.12"
  },
  "orig_nbformat": 4,
  "vscode": {
   "interpreter": {
    "hash": "28657e2c4c8fc87d9c51bab987cae00550904d22e795ba7dc84df7e29d09653b"
   }
  }
 },
 "nbformat": 4,
 "nbformat_minor": 2
}
