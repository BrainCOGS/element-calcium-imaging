{
 "cells": [
  {
   "cell_type": "markdown",
   "id": "d7e0268d-2d43-4f2e-8852-bb47391d0852",
   "metadata": {
    "tags": []
   },
   "source": [
    "# DataJoint U24 - Workflow Calcium Imaging"
   ]
  },
  {
   "cell_type": "markdown",
   "id": "f59b4b0b-a0a0-4946-8b0a-9160965e5516",
   "metadata": {
    "tags": []
   },
   "source": [
    "## Setup"
   ]
  },
  {
   "cell_type": "markdown",
   "id": "3bd39998-9678-4c09-ab85-494074e5680c",
   "metadata": {},
   "source": [
    "First, let's change directories to find the `dj_local_conf` file."
   ]
  },
  {
   "cell_type": "code",
   "execution_count": 1,
   "id": "436715bc-c039-4d16-80b1-a2d18ee03c52",
   "metadata": {},
   "outputs": [],
   "source": [
    "import os\n",
    "# change to the upper level folder to detect dj_local_conf.json\n",
    "if os.path.basename(os.getcwd())=='notebooks': os.chdir('..')\n",
    "assert os.path.basename(os.getcwd())=='workflow-calcium-imaging', (\n",
    "    \"Please move to the workflow directory\")\n",
    "# We'll be working with long tables, so we'll make visualization easier with a limit\n",
    "import datajoint as dj; dj.config['display.limit']=10"
   ]
  },
  {
   "cell_type": "markdown",
   "id": "30b79178-1bdf-4c45-81c0-98cc85b65b69",
   "metadata": {},
   "source": [
    "Next, we populate the python namespace with the required schemas"
   ]
  },
  {
   "cell_type": "code",
   "execution_count": 2,
   "id": "79cef246",
   "metadata": {},
   "outputs": [
    {
     "name": "stdout",
     "output_type": "stream",
     "text": [
      "Connecting root@localhost:3306\n"
     ]
    }
   ],
   "source": [
    "from workflow_calcium_imaging.pipeline import session, imaging, trial, event"
   ]
  },
  {
   "cell_type": "markdown",
   "id": "1aef115b-e711-4614-a555-0319fff8ca33",
   "metadata": {
    "jp-MarkdownHeadingCollapsed": true,
    "tags": []
   },
   "source": [
    "## Trial and Event schemas"
   ]
  },
  {
   "cell_type": "markdown",
   "id": "9603fc4f-b70f-42da-8ef3-cf4477fec5d0",
   "metadata": {},
   "source": [
    "Tables in the `trial` and `event` schemas specify the structure of your experiment, including block, trial and event timing. \n",
    "- Session has a 1-to-1 mapping with a behavior recording\n",
    "- A block is a continuous phase of an experiment that contains repeated instances of a condition, or trials. \n",
    "- Events may occur within or outside of conditions, either instantaneous or continuous.\n",
    "\n",
    "The diagram below shows (a) the levels of hierarchy and (b) how the bounds may not completely overlap. A block may not fully capure trials and events may occur outside both blocks/trials."
   ]
  },
  {
   "cell_type": "markdown",
   "id": "e9dddcdf-df71-4b67-8b0c-7ef7c95c32bb",
   "metadata": {},
   "source": [
    "```\n",
    "|----------------------------------------------------------------------------|\n",
    "|-------------------------------- Session ---------------------------------|__\n",
    "|-------------------------- BehaviorRecording ---------------------------|____\n",
    "|----- Block 1 -----|______|----- Block 2 -----|______|----- Block 3 -----|___\n",
    "| trial 1 || trial 2 |____| trial 3 || trial 4 |____| trial 5 |____| trial 6 |\n",
    "|_|e1|_|e2||e3|_|e4|__|e5|__|e6||e7||e8||e9||e10||e11|____|e12||e13|_________|\n",
    "|----------------------------------------------------------------------------|\n",
    "```"
   ]
  },
  {
   "cell_type": "markdown",
   "id": "a63a23cc-ff15-4e24-8cf9-bd5c5e0c5d5f",
   "metadata": {},
   "source": [
    "Let's load some example data. The `ingest.py` script has a series of loaders to help. If you've already run the other notebooks, you might skip `ingest_subjects` and `ingest_sessions`."
   ]
  },
  {
   "cell_type": "code",
   "execution_count": 3,
   "id": "00584a67-524a-4002-ad0f-683f2b53c5b0",
   "metadata": {},
   "outputs": [],
   "source": [
    "from workflow_calcium_imaging.ingest import ingest_subjects, ingest_sessions,\\\n",
    "                                            ingest_events, ingest_alignment"
   ]
  },
  {
   "cell_type": "code",
   "execution_count": 4,
   "id": "5b6eaecd-a823-4649-9b81-63f8f2b4dc21",
   "metadata": {},
   "outputs": [
    {
     "name": "stdout",
     "output_type": "stream",
     "text": [
      "\n",
      "---- Inserting 0 entry(s) into behavior_recording ----\n",
      "\n",
      "---- Inserting 0 entry(s) into behavior_recording__file ----\n",
      "\n",
      "---- Inserting 0 entry(s) into _block ----\n",
      "\n",
      "---- Inserting 0 entry(s) into _block__attribute ----\n",
      "\n",
      "---- Inserting 0 entry(s) into #trial_type ----\n",
      "\n",
      "---- Inserting 0 entry(s) into _trial ----\n",
      "\n",
      "---- Inserting 0 entry(s) into _trial__attribute ----\n",
      "\n",
      "---- Inserting 0 entry(s) into _block_trial ----\n",
      "\n",
      "---- Inserting 0 entry(s) into #event_type ----\n",
      "\n",
      "---- Inserting 0 entry(s) into _event ----\n",
      "\n",
      "---- Inserting 52 entry(s) into _trial_event ----\n"
     ]
    }
   ],
   "source": [
    "# ingest_subjects(); ingest_sessions()\n",
    "ingest_events()"
   ]
  },
  {
   "cell_type": "markdown",
   "id": "9b512789-a9d8-4b1a-af50-45eec09ab47a",
   "metadata": {},
   "source": [
    "We have 40 total trials, either 'stim' or 'ctrl', with start and stop time"
   ]
  },
  {
   "cell_type": "code",
   "execution_count": 5,
   "id": "4cdf4879-cd05-43c3-89fa-cacc1b1474a6",
   "metadata": {},
   "outputs": [
    {
     "data": {
      "text/html": [
       "\n",
       "    \n",
       "    <style type=\"text/css\">\n",
       "        .Relation{\n",
       "            border-collapse:collapse;\n",
       "        }\n",
       "        .Relation th{\n",
       "            background: #A0A0A0; color: #ffffff; padding:4px; border:#f0e0e0 1px solid;\n",
       "            font-weight: normal; font-family: monospace; font-size: 100%;\n",
       "        }\n",
       "        .Relation td{\n",
       "            padding:4px; border:#f0e0e0 1px solid; font-size:100%;\n",
       "        }\n",
       "        .Relation tr:nth-child(odd){\n",
       "            background: #ffffff;\n",
       "        }\n",
       "        .Relation tr:nth-child(even){\n",
       "            background: #f3f1ff;\n",
       "        }\n",
       "        /* Tooltip container */\n",
       "        .djtooltip {\n",
       "        }\n",
       "        /* Tooltip text */\n",
       "        .djtooltip .djtooltiptext {\n",
       "            visibility: hidden;\n",
       "            width: 120px;\n",
       "            background-color: black;\n",
       "            color: #fff;\n",
       "            text-align: center;\n",
       "            padding: 5px 0;\n",
       "            border-radius: 6px;\n",
       "            /* Position the tooltip text - see examples below! */\n",
       "            position: absolute;\n",
       "            z-index: 1;\n",
       "        }\n",
       "        #primary {\n",
       "            font-weight: bold;\n",
       "            color: black;\n",
       "        }\n",
       "        #nonprimary {\n",
       "            font-weight: normal;\n",
       "            color: white;\n",
       "        }\n",
       "\n",
       "        /* Show the tooltip text when you mouse over the tooltip container */\n",
       "        .djtooltip:hover .djtooltiptext {\n",
       "            visibility: visible;\n",
       "        }\n",
       "    </style>\n",
       "    \n",
       "    <b>Experimental trials</b>\n",
       "        <div style=\"max-height:1000px;max-width:1500px;overflow:auto;\">\n",
       "        <table border=\"1\" class=\"Relation\">\n",
       "            <thead> <tr style=\"text-align: right;\"> <th> <div class=\"djtooltip\">\n",
       "                            <p id=\"primary\">subject</p>\n",
       "                            <span class=\"djtooltiptext\"></span>\n",
       "                        </div></th><th><div class=\"djtooltip\">\n",
       "                            <p id=\"primary\">session_datetime</p>\n",
       "                            <span class=\"djtooltiptext\"></span>\n",
       "                        </div></th><th><div class=\"djtooltip\">\n",
       "                            <p id=\"primary\">trial_id</p>\n",
       "                            <span class=\"djtooltiptext\">trial number (1-based indexing)</span>\n",
       "                        </div></th><th><div class=\"djtooltip\">\n",
       "                            <p id=\"nonprimary\">trial_type</p>\n",
       "                            <span class=\"djtooltiptext\"></span>\n",
       "                        </div></th><th><div class=\"djtooltip\">\n",
       "                            <p id=\"nonprimary\">trial_start_time</p>\n",
       "                            <span class=\"djtooltiptext\">(second) relative to recording start</span>\n",
       "                        </div></th><th><div class=\"djtooltip\">\n",
       "                            <p id=\"nonprimary\">trial_stop_time</p>\n",
       "                            <span class=\"djtooltiptext\">(second) relative to recording start</span>\n",
       "                        </div> </th> </tr> </thead>\n",
       "            <tbody> <tr> <td>subject3</td>\n",
       "<td>2021-10-25 13:06:40</td>\n",
       "<td>1</td>\n",
       "<td>stim</td>\n",
       "<td>0.285</td>\n",
       "<td>20.285</td></tr><tr><td>subject3</td>\n",
       "<td>2021-10-25 13:06:40</td>\n",
       "<td>2</td>\n",
       "<td>ctrl</td>\n",
       "<td>23.927</td>\n",
       "<td>43.927</td></tr><tr><td>subject3</td>\n",
       "<td>2021-10-25 13:06:40</td>\n",
       "<td>3</td>\n",
       "<td>stim</td>\n",
       "<td>47.622</td>\n",
       "<td>67.622</td></tr><tr><td>subject3</td>\n",
       "<td>2021-10-25 13:06:40</td>\n",
       "<td>4</td>\n",
       "<td>ctrl</td>\n",
       "<td>71.443</td>\n",
       "<td>91.443</td></tr><tr><td>subject3</td>\n",
       "<td>2021-10-25 13:06:40</td>\n",
       "<td>5</td>\n",
       "<td>ctrl</td>\n",
       "<td>95.385</td>\n",
       "<td>115.385</td></tr><tr><td>subject3</td>\n",
       "<td>2021-10-25 13:06:40</td>\n",
       "<td>6</td>\n",
       "<td>ctrl</td>\n",
       "<td>119.331</td>\n",
       "<td>139.331</td></tr><tr><td>subject3</td>\n",
       "<td>2021-10-25 13:06:40</td>\n",
       "<td>7</td>\n",
       "<td>ctrl</td>\n",
       "<td>143.254</td>\n",
       "<td>163.254</td></tr><tr><td>subject3</td>\n",
       "<td>2021-10-25 13:06:40</td>\n",
       "<td>8</td>\n",
       "<td>stim</td>\n",
       "<td>166.86</td>\n",
       "<td>186.86</td></tr><tr><td>subject3</td>\n",
       "<td>2021-10-25 13:06:40</td>\n",
       "<td>9</td>\n",
       "<td>ctrl</td>\n",
       "<td>190.465</td>\n",
       "<td>210.465</td></tr><tr><td>subject3</td>\n",
       "<td>2021-10-25 13:06:40</td>\n",
       "<td>10</td>\n",
       "<td>ctrl</td>\n",
       "<td>214.395</td>\n",
       "<td>234.395</td> </tr> </tbody>\n",
       "        </table>\n",
       "        <p>...</p>\n",
       "        <p>Total: 40</p></div>\n",
       "        "
      ],
      "text/plain": [
       "*subject     *session_datet *trial_id    trial_type     trial_start_ti trial_stop_tim\n",
       "+----------+ +------------+ +----------+ +------------+ +------------+ +------------+\n",
       "subject3     2021-10-25 13: 1            stim           0.285          20.285        \n",
       "subject3     2021-10-25 13: 2            ctrl           23.927         43.927        \n",
       "subject3     2021-10-25 13: 3            stim           47.622         67.622        \n",
       "subject3     2021-10-25 13: 4            ctrl           71.443         91.443        \n",
       "subject3     2021-10-25 13: 5            ctrl           95.385         115.385       \n",
       "subject3     2021-10-25 13: 6            ctrl           119.331        139.331       \n",
       "subject3     2021-10-25 13: 7            ctrl           143.254        163.254       \n",
       "subject3     2021-10-25 13: 8            stim           166.86         186.86        \n",
       "subject3     2021-10-25 13: 9            ctrl           190.465        210.465       \n",
       "subject3     2021-10-25 13: 10           ctrl           214.395        234.395       \n",
       "   ...\n",
       " (Total: 40)"
      ]
     },
     "execution_count": 5,
     "metadata": {},
     "output_type": "execute_result"
    }
   ],
   "source": [
    "trial.Trial()"
   ]
  },
  {
   "cell_type": "markdown",
   "id": "e1b7fd18-ef4b-4323-bd59-29c48f38ad3c",
   "metadata": {},
   "source": [
    "Each trial is paired with one or more events that take place during the trial window."
   ]
  },
  {
   "cell_type": "code",
   "execution_count": 6,
   "id": "7fe42898-3ff9-4394-a811-a4cb85320f04",
   "metadata": {},
   "outputs": [
    {
     "data": {
      "text/html": [
       "\n",
       "    \n",
       "    <style type=\"text/css\">\n",
       "        .Relation{\n",
       "            border-collapse:collapse;\n",
       "        }\n",
       "        .Relation th{\n",
       "            background: #A0A0A0; color: #ffffff; padding:4px; border:#f0e0e0 1px solid;\n",
       "            font-weight: normal; font-family: monospace; font-size: 100%;\n",
       "        }\n",
       "        .Relation td{\n",
       "            padding:4px; border:#f0e0e0 1px solid; font-size:100%;\n",
       "        }\n",
       "        .Relation tr:nth-child(odd){\n",
       "            background: #ffffff;\n",
       "        }\n",
       "        .Relation tr:nth-child(even){\n",
       "            background: #f3f1ff;\n",
       "        }\n",
       "        /* Tooltip container */\n",
       "        .djtooltip {\n",
       "        }\n",
       "        /* Tooltip text */\n",
       "        .djtooltip .djtooltiptext {\n",
       "            visibility: hidden;\n",
       "            width: 120px;\n",
       "            background-color: black;\n",
       "            color: #fff;\n",
       "            text-align: center;\n",
       "            padding: 5px 0;\n",
       "            border-radius: 6px;\n",
       "            /* Position the tooltip text - see examples below! */\n",
       "            position: absolute;\n",
       "            z-index: 1;\n",
       "        }\n",
       "        #primary {\n",
       "            font-weight: bold;\n",
       "            color: black;\n",
       "        }\n",
       "        #nonprimary {\n",
       "            font-weight: normal;\n",
       "            color: white;\n",
       "        }\n",
       "\n",
       "        /* Show the tooltip text when you mouse over the tooltip container */\n",
       "        .djtooltip:hover .djtooltiptext {\n",
       "            visibility: visible;\n",
       "        }\n",
       "    </style>\n",
       "    \n",
       "    <b></b>\n",
       "        <div style=\"max-height:1000px;max-width:1500px;overflow:auto;\">\n",
       "        <table border=\"1\" class=\"Relation\">\n",
       "            <thead> <tr style=\"text-align: right;\"> <th> <div class=\"djtooltip\">\n",
       "                            <p id=\"primary\">subject</p>\n",
       "                            <span class=\"djtooltiptext\"></span>\n",
       "                        </div></th><th><div class=\"djtooltip\">\n",
       "                            <p id=\"primary\">session_datetime</p>\n",
       "                            <span class=\"djtooltiptext\"></span>\n",
       "                        </div></th><th><div class=\"djtooltip\">\n",
       "                            <p id=\"primary\">trial_id</p>\n",
       "                            <span class=\"djtooltiptext\">trial number (1-based indexing)</span>\n",
       "                        </div></th><th><div class=\"djtooltip\">\n",
       "                            <p id=\"primary\">event_type</p>\n",
       "                            <span class=\"djtooltiptext\"></span>\n",
       "                        </div></th><th><div class=\"djtooltip\">\n",
       "                            <p id=\"primary\">event_start_time</p>\n",
       "                            <span class=\"djtooltiptext\">(second) relative to recording start</span>\n",
       "                        </div> </th> </tr> </thead>\n",
       "            <tbody> <tr> <td>subject3</td>\n",
       "<td>2021-10-25 13:06:40</td>\n",
       "<td>1</td>\n",
       "<td>center</td>\n",
       "<td>2.794</td></tr><tr><td>subject3</td>\n",
       "<td>2021-10-25 13:06:40</td>\n",
       "<td>1</td>\n",
       "<td>center</td>\n",
       "<td>13.252</td></tr><tr><td>subject3</td>\n",
       "<td>2021-10-25 13:06:40</td>\n",
       "<td>3</td>\n",
       "<td>center</td>\n",
       "<td>59.234</td></tr><tr><td>subject3</td>\n",
       "<td>2021-10-25 13:06:40</td>\n",
       "<td>4</td>\n",
       "<td>center</td>\n",
       "<td>76.33</td></tr><tr><td>subject3</td>\n",
       "<td>2021-10-25 13:06:40</td>\n",
       "<td>4</td>\n",
       "<td>center</td>\n",
       "<td>82.185</td></tr><tr><td>subject3</td>\n",
       "<td>2021-10-25 13:06:40</td>\n",
       "<td>4</td>\n",
       "<td>center</td>\n",
       "<td>89.928</td></tr><tr><td>subject3</td>\n",
       "<td>2021-10-25 13:06:40</td>\n",
       "<td>1</td>\n",
       "<td>left</td>\n",
       "<td>16.014</td></tr><tr><td>subject3</td>\n",
       "<td>2021-10-25 13:06:40</td>\n",
       "<td>3</td>\n",
       "<td>left</td>\n",
       "<td>52.128</td></tr><tr><td>subject3</td>\n",
       "<td>2021-10-25 13:06:40</td>\n",
       "<td>3</td>\n",
       "<td>left</td>\n",
       "<td>65.688</td> </tr> </tbody>\n",
       "        </table>\n",
       "        \n",
       "        <p>Total: 9</p></div>\n",
       "        "
      ],
      "text/plain": [
       "*subject     *session_datet *trial_id    *event_type    *event_start_t\n",
       "+----------+ +------------+ +----------+ +------------+ +------------+\n",
       "subject3     2021-10-25 13: 1            center         2.794         \n",
       "subject3     2021-10-25 13: 1            center         13.252        \n",
       "subject3     2021-10-25 13: 3            center         59.234        \n",
       "subject3     2021-10-25 13: 4            center         76.33         \n",
       "subject3     2021-10-25 13: 4            center         82.185        \n",
       "subject3     2021-10-25 13: 4            center         89.928        \n",
       "subject3     2021-10-25 13: 1            left           16.014        \n",
       "subject3     2021-10-25 13: 3            left           52.128        \n",
       "subject3     2021-10-25 13: 3            left           65.688        \n",
       " (Total: 9)"
      ]
     },
     "execution_count": 6,
     "metadata": {},
     "output_type": "execute_result"
    }
   ],
   "source": [
    "trial.TrialEvent() & 'trial_id<5'"
   ]
  },
  {
   "cell_type": "markdown",
   "id": "4ee25da8-b5ce-4a9b-b1f9-eba06ac09136",
   "metadata": {},
   "source": [
    "Finally, the `AlignmentEvent` describes the event of interest and the window we'd like to see around it."
   ]
  },
  {
   "cell_type": "code",
   "execution_count": 7,
   "id": "5122d831-48b2-4214-bd43-a42d67a5dc2d",
   "metadata": {},
   "outputs": [
    {
     "name": "stdout",
     "output_type": "stream",
     "text": [
      "\n",
      "---- Inserting 3 entry(s) into alignment_event ----\n"
     ]
    }
   ],
   "source": [
    "ingest_alignment()"
   ]
  },
  {
   "cell_type": "code",
   "execution_count": 13,
   "id": "50a2c99f",
   "metadata": {},
   "outputs": [
    {
     "data": {
      "text/html": [
       "\n",
       "    \n",
       "    <style type=\"text/css\">\n",
       "        .Relation{\n",
       "            border-collapse:collapse;\n",
       "        }\n",
       "        .Relation th{\n",
       "            background: #A0A0A0; color: #ffffff; padding:4px; border:#f0e0e0 1px solid;\n",
       "            font-weight: normal; font-family: monospace; font-size: 100%;\n",
       "        }\n",
       "        .Relation td{\n",
       "            padding:4px; border:#f0e0e0 1px solid; font-size:100%;\n",
       "        }\n",
       "        .Relation tr:nth-child(odd){\n",
       "            background: #ffffff;\n",
       "        }\n",
       "        .Relation tr:nth-child(even){\n",
       "            background: #f3f1ff;\n",
       "        }\n",
       "        /* Tooltip container */\n",
       "        .djtooltip {\n",
       "        }\n",
       "        /* Tooltip text */\n",
       "        .djtooltip .djtooltiptext {\n",
       "            visibility: hidden;\n",
       "            width: 120px;\n",
       "            background-color: black;\n",
       "            color: #fff;\n",
       "            text-align: center;\n",
       "            padding: 5px 0;\n",
       "            border-radius: 6px;\n",
       "            /* Position the tooltip text - see examples below! */\n",
       "            position: absolute;\n",
       "            z-index: 1;\n",
       "        }\n",
       "        #primary {\n",
       "            font-weight: bold;\n",
       "            color: black;\n",
       "        }\n",
       "        #nonprimary {\n",
       "            font-weight: normal;\n",
       "            color: white;\n",
       "        }\n",
       "\n",
       "        /* Show the tooltip text when you mouse over the tooltip container */\n",
       "        .djtooltip:hover .djtooltiptext {\n",
       "            visibility: visible;\n",
       "        }\n",
       "    </style>\n",
       "    \n",
       "    <b>time_shift is seconds to shift with respect to (WRT) a variable</b>\n",
       "        <div style=\"max-height:1000px;max-width:1500px;overflow:auto;\">\n",
       "        <table border=\"1\" class=\"Relation\">\n",
       "            <thead> <tr style=\"text-align: right;\"> <th> <div class=\"djtooltip\">\n",
       "                            <p id=\"primary\">alignment_name</p>\n",
       "                            <span class=\"djtooltiptext\"></span>\n",
       "                        </div></th><th><div class=\"djtooltip\">\n",
       "                            <p id=\"nonprimary\">alignment_description</p>\n",
       "                            <span class=\"djtooltiptext\"></span>\n",
       "                        </div></th><th><div class=\"djtooltip\">\n",
       "                            <p id=\"nonprimary\">alignment_event_type</p>\n",
       "                            <span class=\"djtooltiptext\"></span>\n",
       "                        </div></th><th><div class=\"djtooltip\">\n",
       "                            <p id=\"nonprimary\">alignment_time_shift</p>\n",
       "                            <span class=\"djtooltiptext\">(s) WRT alignment_event_type</span>\n",
       "                        </div></th><th><div class=\"djtooltip\">\n",
       "                            <p id=\"nonprimary\">start_event_type</p>\n",
       "                            <span class=\"djtooltiptext\"></span>\n",
       "                        </div></th><th><div class=\"djtooltip\">\n",
       "                            <p id=\"nonprimary\">start_time_shift</p>\n",
       "                            <span class=\"djtooltiptext\">(s) WRT start_event_type</span>\n",
       "                        </div></th><th><div class=\"djtooltip\">\n",
       "                            <p id=\"nonprimary\">end_event_type</p>\n",
       "                            <span class=\"djtooltiptext\"></span>\n",
       "                        </div></th><th><div class=\"djtooltip\">\n",
       "                            <p id=\"nonprimary\">end_time_shift</p>\n",
       "                            <span class=\"djtooltiptext\">(s) WRT end_event_type</span>\n",
       "                        </div> </th> </tr> </thead>\n",
       "            <tbody> <tr> <td>center_button</td>\n",
       "<td></td>\n",
       "<td>center</td>\n",
       "<td>0.0</td>\n",
       "<td>center</td>\n",
       "<td>-5.0</td>\n",
       "<td>center</td>\n",
       "<td>5.0</td></tr><tr><td>left_button</td>\n",
       "<td></td>\n",
       "<td>left</td>\n",
       "<td>0.0</td>\n",
       "<td>left</td>\n",
       "<td>-5.0</td>\n",
       "<td>left</td>\n",
       "<td>5.0</td></tr><tr><td>right_button</td>\n",
       "<td></td>\n",
       "<td>right</td>\n",
       "<td>0.0</td>\n",
       "<td>right</td>\n",
       "<td>-5.0</td>\n",
       "<td>right</td>\n",
       "<td>5.0</td> </tr> </tbody>\n",
       "        </table>\n",
       "        \n",
       "        <p>Total: 3</p></div>\n",
       "        "
      ],
      "text/plain": [
       "*alignment_nam alignment_desc alignment_even alignment_time start_event_ty start_time_shi end_event_type end_time_shift\n",
       "+------------+ +------------+ +------------+ +------------+ +------------+ +------------+ +------------+ +------------+\n",
       "center_button                 center         0.0            center         -5.0           center         5.0           \n",
       "left_button                   left           0.0            left           -5.0           left           5.0           \n",
       "right_button                  right          0.0            right          -5.0           right          5.0           \n",
       " (Total: 3)"
      ]
     },
     "execution_count": 8,
     "metadata": {},
     "output_type": "execute_result"
    }
   ],
   "source": [
    "event.AlignmentEvent()"
   ]
  },
  {
   "cell_type": "markdown",
   "id": "4936a1e8",
   "metadata": {
    "tags": []
   },
   "source": [
    "# Event-aligned trialized calcium activity"
   ]
  },
  {
   "cell_type": "markdown",
   "id": "f4a64347-803f-4fab-a937-e75e5cf03eac",
   "metadata": {
    "jp-MarkdownHeadingCollapsed": true,
    "tags": []
   },
   "source": [
    "### Analysis"
   ]
  },
  {
   "cell_type": "code",
   "execution_count": 3,
   "id": "0678d202",
   "metadata": {},
   "outputs": [],
   "source": []
  },
  {
   "cell_type": "markdown",
   "id": "a2e97d75",
   "metadata": {},
   "source": [
    "The `analysis` schema provides example tables to perform event-aligned Calcium activity analysis.\n",
    "+ ***ActivityAlignmentCondition*** - a manual table to specify the inputs and condition for the analysis\n",
    "+ ***ActivityAlignment*** - a computed table to extract event-aligned Calcium activity (e.g. dF/F, spikes)"
   ]
  },
  {
   "cell_type": "markdown",
   "id": "ba4607a1",
   "metadata": {},
   "source": [
    "Let's start by creating several analyses configuration - i.e. inserting into ***ActivityAlignmentCondition***"
   ]
  },
  {
   "cell_type": "code",
   "execution_count": 10,
   "id": "9a36c342",
   "metadata": {},
   "outputs": [
    {
     "data": {
      "text/html": [
       "\n",
       "    \n",
       "    <style type=\"text/css\">\n",
       "        .Relation{\n",
       "            border-collapse:collapse;\n",
       "        }\n",
       "        .Relation th{\n",
       "            background: #A0A0A0; color: #ffffff; padding:4px; border:#f0e0e0 1px solid;\n",
       "            font-weight: normal; font-family: monospace; font-size: 100%;\n",
       "        }\n",
       "        .Relation td{\n",
       "            padding:4px; border:#f0e0e0 1px solid; font-size:100%;\n",
       "        }\n",
       "        .Relation tr:nth-child(odd){\n",
       "            background: #ffffff;\n",
       "        }\n",
       "        .Relation tr:nth-child(even){\n",
       "            background: #f3f1ff;\n",
       "        }\n",
       "        /* Tooltip container */\n",
       "        .djtooltip {\n",
       "        }\n",
       "        /* Tooltip text */\n",
       "        .djtooltip .djtooltiptext {\n",
       "            visibility: hidden;\n",
       "            width: 120px;\n",
       "            background-color: black;\n",
       "            color: #fff;\n",
       "            text-align: center;\n",
       "            padding: 5px 0;\n",
       "            border-radius: 6px;\n",
       "            /* Position the tooltip text - see examples below! */\n",
       "            position: absolute;\n",
       "            z-index: 1;\n",
       "        }\n",
       "        #primary {\n",
       "            font-weight: bold;\n",
       "            color: black;\n",
       "        }\n",
       "        #nonprimary {\n",
       "            font-weight: normal;\n",
       "            color: white;\n",
       "        }\n",
       "\n",
       "        /* Show the tooltip text when you mouse over the tooltip container */\n",
       "        .djtooltip:hover .djtooltiptext {\n",
       "            visibility: visible;\n",
       "        }\n",
       "    </style>\n",
       "    \n",
       "    <b>inferred neural activity from fluorescence trace - e.g. dff, spikes</b>\n",
       "        <div style=\"max-height:1000px;max-width:1500px;overflow:auto;\">\n",
       "        <table border=\"1\" class=\"Relation\">\n",
       "            <thead> <tr style=\"text-align: right;\"> <th> <div class=\"djtooltip\">\n",
       "                            <p id=\"primary\">subject</p>\n",
       "                            <span class=\"djtooltiptext\"></span>\n",
       "                        </div></th><th><div class=\"djtooltip\">\n",
       "                            <p id=\"primary\">session_datetime</p>\n",
       "                            <span class=\"djtooltiptext\"></span>\n",
       "                        </div></th><th><div class=\"djtooltip\">\n",
       "                            <p id=\"primary\">scan_id</p>\n",
       "                            <span class=\"djtooltiptext\"></span>\n",
       "                        </div></th><th><div class=\"djtooltip\">\n",
       "                            <p id=\"primary\">paramset_idx</p>\n",
       "                            <span class=\"djtooltiptext\"></span>\n",
       "                        </div></th><th><div class=\"djtooltip\">\n",
       "                            <p id=\"primary\">curation_id</p>\n",
       "                            <span class=\"djtooltiptext\"></span>\n",
       "                        </div></th><th><div class=\"djtooltip\">\n",
       "                            <p id=\"primary\">extraction_method</p>\n",
       "                            <span class=\"djtooltiptext\"></span>\n",
       "                        </div> </th> </tr> </thead>\n",
       "            <tbody> <tr> <td>subject3</td>\n",
       "<td>2021-10-25 13:06:40</td>\n",
       "<td>0</td>\n",
       "<td>0</td>\n",
       "<td>1</td>\n",
       "<td>suite2p_deconvolution</td> </tr> </tbody>\n",
       "        </table>\n",
       "        \n",
       "        <p>Total: 1</p></div>\n",
       "        "
      ],
      "text/plain": [
       "*subject     *session_datet *scan_id    *paramset_idx  *curation_id   *extraction_me\n",
       "+----------+ +------------+ +---------+ +------------+ +------------+ +------------+\n",
       "subject3     2021-10-25 13: 0           0              1              suite2p_deconv\n",
       " (Total: 1)"
      ]
     },
     "execution_count": 10,
     "metadata": {},
     "output_type": "execute_result"
    }
   ],
   "source": [
    "imaging.Activity()"
   ]
  },
  {
   "cell_type": "markdown",
   "id": "177809bb-2c9a-44dc-8deb-63106a22b7b4",
   "metadata": {},
   "source": [
    "We'll isolate the scan of interest with the following key:"
   ]
  },
  {
   "cell_type": "code",
   "execution_count": 12,
   "id": "8642f010",
   "metadata": {},
   "outputs": [],
   "source": [
    "ca_activity_key = (imaging.Activity & {'subject': 'subject3', 'scan_id': 0}\n",
    "                  ).fetch1('KEY')"
   ]
  },
  {
   "cell_type": "markdown",
   "id": "f69aa462-564b-4144-9ab8-3f391bff2c80",
   "metadata": {},
   "source": [
    "Here, we can see all trials for this scan:"
   ]
  },
  {
   "cell_type": "code",
   "execution_count": 14,
   "id": "c9c95806",
   "metadata": {},
   "outputs": [
    {
     "data": {
      "text/html": [
       "\n",
       "    \n",
       "    <style type=\"text/css\">\n",
       "        .Relation{\n",
       "            border-collapse:collapse;\n",
       "        }\n",
       "        .Relation th{\n",
       "            background: #A0A0A0; color: #ffffff; padding:4px; border:#f0e0e0 1px solid;\n",
       "            font-weight: normal; font-family: monospace; font-size: 100%;\n",
       "        }\n",
       "        .Relation td{\n",
       "            padding:4px; border:#f0e0e0 1px solid; font-size:100%;\n",
       "        }\n",
       "        .Relation tr:nth-child(odd){\n",
       "            background: #ffffff;\n",
       "        }\n",
       "        .Relation tr:nth-child(even){\n",
       "            background: #f3f1ff;\n",
       "        }\n",
       "        /* Tooltip container */\n",
       "        .djtooltip {\n",
       "        }\n",
       "        /* Tooltip text */\n",
       "        .djtooltip .djtooltiptext {\n",
       "            visibility: hidden;\n",
       "            width: 120px;\n",
       "            background-color: black;\n",
       "            color: #fff;\n",
       "            text-align: center;\n",
       "            padding: 5px 0;\n",
       "            border-radius: 6px;\n",
       "            /* Position the tooltip text - see examples below! */\n",
       "            position: absolute;\n",
       "            z-index: 1;\n",
       "        }\n",
       "        #primary {\n",
       "            font-weight: bold;\n",
       "            color: black;\n",
       "        }\n",
       "        #nonprimary {\n",
       "            font-weight: normal;\n",
       "            color: white;\n",
       "        }\n",
       "\n",
       "        /* Show the tooltip text when you mouse over the tooltip container */\n",
       "        .djtooltip:hover .djtooltiptext {\n",
       "            visibility: visible;\n",
       "        }\n",
       "    </style>\n",
       "    \n",
       "    <b>Experimental trials</b>\n",
       "        <div style=\"max-height:1000px;max-width:1500px;overflow:auto;\">\n",
       "        <table border=\"1\" class=\"Relation\">\n",
       "            <thead> <tr style=\"text-align: right;\"> <th> <div class=\"djtooltip\">\n",
       "                            <p id=\"primary\">subject</p>\n",
       "                            <span class=\"djtooltiptext\"></span>\n",
       "                        </div></th><th><div class=\"djtooltip\">\n",
       "                            <p id=\"primary\">session_datetime</p>\n",
       "                            <span class=\"djtooltiptext\"></span>\n",
       "                        </div></th><th><div class=\"djtooltip\">\n",
       "                            <p id=\"primary\">trial_id</p>\n",
       "                            <span class=\"djtooltiptext\">trial number (1-based indexing)</span>\n",
       "                        </div></th><th><div class=\"djtooltip\">\n",
       "                            <p id=\"nonprimary\">trial_type</p>\n",
       "                            <span class=\"djtooltiptext\"></span>\n",
       "                        </div></th><th><div class=\"djtooltip\">\n",
       "                            <p id=\"nonprimary\">trial_start_time</p>\n",
       "                            <span class=\"djtooltiptext\">(second) relative to recording start</span>\n",
       "                        </div></th><th><div class=\"djtooltip\">\n",
       "                            <p id=\"nonprimary\">trial_stop_time</p>\n",
       "                            <span class=\"djtooltiptext\">(second) relative to recording start</span>\n",
       "                        </div> </th> </tr> </thead>\n",
       "            <tbody> <tr> <td>subject3</td>\n",
       "<td>2021-10-25 13:06:40</td>\n",
       "<td>1</td>\n",
       "<td>stim</td>\n",
       "<td>0.285</td>\n",
       "<td>20.285</td></tr><tr><td>subject3</td>\n",
       "<td>2021-10-25 13:06:40</td>\n",
       "<td>2</td>\n",
       "<td>ctrl</td>\n",
       "<td>23.927</td>\n",
       "<td>43.927</td></tr><tr><td>subject3</td>\n",
       "<td>2021-10-25 13:06:40</td>\n",
       "<td>3</td>\n",
       "<td>stim</td>\n",
       "<td>47.622</td>\n",
       "<td>67.622</td></tr><tr><td>subject3</td>\n",
       "<td>2021-10-25 13:06:40</td>\n",
       "<td>4</td>\n",
       "<td>ctrl</td>\n",
       "<td>71.443</td>\n",
       "<td>91.443</td></tr><tr><td>subject3</td>\n",
       "<td>2021-10-25 13:06:40</td>\n",
       "<td>5</td>\n",
       "<td>ctrl</td>\n",
       "<td>95.385</td>\n",
       "<td>115.385</td></tr><tr><td>subject3</td>\n",
       "<td>2021-10-25 13:06:40</td>\n",
       "<td>6</td>\n",
       "<td>ctrl</td>\n",
       "<td>119.331</td>\n",
       "<td>139.331</td></tr><tr><td>subject3</td>\n",
       "<td>2021-10-25 13:06:40</td>\n",
       "<td>7</td>\n",
       "<td>ctrl</td>\n",
       "<td>143.254</td>\n",
       "<td>163.254</td></tr><tr><td>subject3</td>\n",
       "<td>2021-10-25 13:06:40</td>\n",
       "<td>8</td>\n",
       "<td>stim</td>\n",
       "<td>166.86</td>\n",
       "<td>186.86</td></tr><tr><td>subject3</td>\n",
       "<td>2021-10-25 13:06:40</td>\n",
       "<td>9</td>\n",
       "<td>ctrl</td>\n",
       "<td>190.465</td>\n",
       "<td>210.465</td></tr><tr><td>subject3</td>\n",
       "<td>2021-10-25 13:06:40</td>\n",
       "<td>10</td>\n",
       "<td>ctrl</td>\n",
       "<td>214.395</td>\n",
       "<td>234.395</td> </tr> </tbody>\n",
       "        </table>\n",
       "        <p>...</p>\n",
       "        <p>Total: 40</p></div>\n",
       "        "
      ],
      "text/plain": [
       "*subject     *session_datet *trial_id    trial_type     trial_start_ti trial_stop_tim\n",
       "+----------+ +------------+ +----------+ +------------+ +------------+ +------------+\n",
       "subject3     2021-10-25 13: 1            stim           0.285          20.285        \n",
       "subject3     2021-10-25 13: 2            ctrl           23.927         43.927        \n",
       "subject3     2021-10-25 13: 3            stim           47.622         67.622        \n",
       "subject3     2021-10-25 13: 4            ctrl           71.443         91.443        \n",
       "subject3     2021-10-25 13: 5            ctrl           95.385         115.385       \n",
       "subject3     2021-10-25 13: 6            ctrl           119.331        139.331       \n",
       "subject3     2021-10-25 13: 7            ctrl           143.254        163.254       \n",
       "subject3     2021-10-25 13: 8            stim           166.86         186.86        \n",
       "subject3     2021-10-25 13: 9            ctrl           190.465        210.465       \n",
       "subject3     2021-10-25 13: 10           ctrl           214.395        234.395       \n",
       "   ...\n",
       " (Total: 40)"
      ]
     },
     "execution_count": 14,
     "metadata": {},
     "output_type": "execute_result"
    }
   ],
   "source": [
    "trial.Trial & ca_activity_key"
   ]
  },
  {
   "cell_type": "markdown",
   "id": "699c695b-6c71-4743-a352-f01adc2276f5",
   "metadata": {},
   "source": [
    "And highlight a subset based on `trial_type`"
   ]
  },
  {
   "cell_type": "code",
   "execution_count": 15,
   "id": "1851ad2b",
   "metadata": {},
   "outputs": [
    {
     "data": {
      "text/html": [
       "\n",
       "    \n",
       "    <style type=\"text/css\">\n",
       "        .Relation{\n",
       "            border-collapse:collapse;\n",
       "        }\n",
       "        .Relation th{\n",
       "            background: #A0A0A0; color: #ffffff; padding:4px; border:#f0e0e0 1px solid;\n",
       "            font-weight: normal; font-family: monospace; font-size: 100%;\n",
       "        }\n",
       "        .Relation td{\n",
       "            padding:4px; border:#f0e0e0 1px solid; font-size:100%;\n",
       "        }\n",
       "        .Relation tr:nth-child(odd){\n",
       "            background: #ffffff;\n",
       "        }\n",
       "        .Relation tr:nth-child(even){\n",
       "            background: #f3f1ff;\n",
       "        }\n",
       "        /* Tooltip container */\n",
       "        .djtooltip {\n",
       "        }\n",
       "        /* Tooltip text */\n",
       "        .djtooltip .djtooltiptext {\n",
       "            visibility: hidden;\n",
       "            width: 120px;\n",
       "            background-color: black;\n",
       "            color: #fff;\n",
       "            text-align: center;\n",
       "            padding: 5px 0;\n",
       "            border-radius: 6px;\n",
       "            /* Position the tooltip text - see examples below! */\n",
       "            position: absolute;\n",
       "            z-index: 1;\n",
       "        }\n",
       "        #primary {\n",
       "            font-weight: bold;\n",
       "            color: black;\n",
       "        }\n",
       "        #nonprimary {\n",
       "            font-weight: normal;\n",
       "            color: white;\n",
       "        }\n",
       "\n",
       "        /* Show the tooltip text when you mouse over the tooltip container */\n",
       "        .djtooltip:hover .djtooltiptext {\n",
       "            visibility: visible;\n",
       "        }\n",
       "    </style>\n",
       "    \n",
       "    <b>Experimental trials</b>\n",
       "        <div style=\"max-height:1000px;max-width:1500px;overflow:auto;\">\n",
       "        <table border=\"1\" class=\"Relation\">\n",
       "            <thead> <tr style=\"text-align: right;\"> <th> <div class=\"djtooltip\">\n",
       "                            <p id=\"primary\">subject</p>\n",
       "                            <span class=\"djtooltiptext\"></span>\n",
       "                        </div></th><th><div class=\"djtooltip\">\n",
       "                            <p id=\"primary\">session_datetime</p>\n",
       "                            <span class=\"djtooltiptext\"></span>\n",
       "                        </div></th><th><div class=\"djtooltip\">\n",
       "                            <p id=\"primary\">trial_id</p>\n",
       "                            <span class=\"djtooltiptext\">trial number (1-based indexing)</span>\n",
       "                        </div></th><th><div class=\"djtooltip\">\n",
       "                            <p id=\"nonprimary\">trial_type</p>\n",
       "                            <span class=\"djtooltiptext\"></span>\n",
       "                        </div></th><th><div class=\"djtooltip\">\n",
       "                            <p id=\"nonprimary\">trial_start_time</p>\n",
       "                            <span class=\"djtooltiptext\">(second) relative to recording start</span>\n",
       "                        </div></th><th><div class=\"djtooltip\">\n",
       "                            <p id=\"nonprimary\">trial_stop_time</p>\n",
       "                            <span class=\"djtooltiptext\">(second) relative to recording start</span>\n",
       "                        </div> </th> </tr> </thead>\n",
       "            <tbody> <tr> <td>subject3</td>\n",
       "<td>2021-10-25 13:06:40</td>\n",
       "<td>2</td>\n",
       "<td>ctrl</td>\n",
       "<td>23.927</td>\n",
       "<td>43.927</td></tr><tr><td>subject3</td>\n",
       "<td>2021-10-25 13:06:40</td>\n",
       "<td>4</td>\n",
       "<td>ctrl</td>\n",
       "<td>71.443</td>\n",
       "<td>91.443</td></tr><tr><td>subject3</td>\n",
       "<td>2021-10-25 13:06:40</td>\n",
       "<td>5</td>\n",
       "<td>ctrl</td>\n",
       "<td>95.385</td>\n",
       "<td>115.385</td></tr><tr><td>subject3</td>\n",
       "<td>2021-10-25 13:06:40</td>\n",
       "<td>6</td>\n",
       "<td>ctrl</td>\n",
       "<td>119.331</td>\n",
       "<td>139.331</td></tr><tr><td>subject3</td>\n",
       "<td>2021-10-25 13:06:40</td>\n",
       "<td>7</td>\n",
       "<td>ctrl</td>\n",
       "<td>143.254</td>\n",
       "<td>163.254</td></tr><tr><td>subject3</td>\n",
       "<td>2021-10-25 13:06:40</td>\n",
       "<td>9</td>\n",
       "<td>ctrl</td>\n",
       "<td>190.465</td>\n",
       "<td>210.465</td></tr><tr><td>subject3</td>\n",
       "<td>2021-10-25 13:06:40</td>\n",
       "<td>10</td>\n",
       "<td>ctrl</td>\n",
       "<td>214.395</td>\n",
       "<td>234.395</td></tr><tr><td>subject3</td>\n",
       "<td>2021-10-25 13:06:40</td>\n",
       "<td>12</td>\n",
       "<td>ctrl</td>\n",
       "<td>264.974</td>\n",
       "<td>284.974</td></tr><tr><td>subject3</td>\n",
       "<td>2021-10-25 13:06:40</td>\n",
       "<td>15</td>\n",
       "<td>ctrl</td>\n",
       "<td>336.724</td>\n",
       "<td>356.724</td></tr><tr><td>subject3</td>\n",
       "<td>2021-10-25 13:06:40</td>\n",
       "<td>19</td>\n",
       "<td>ctrl</td>\n",
       "<td>431.431</td>\n",
       "<td>451.431</td> </tr> </tbody>\n",
       "        </table>\n",
       "        <p>...</p>\n",
       "        <p>Total: 19</p></div>\n",
       "        "
      ],
      "text/plain": [
       "*subject     *session_datet *trial_id    trial_type     trial_start_ti trial_stop_tim\n",
       "+----------+ +------------+ +----------+ +------------+ +------------+ +------------+\n",
       "subject3     2021-10-25 13: 2            ctrl           23.927         43.927        \n",
       "subject3     2021-10-25 13: 4            ctrl           71.443         91.443        \n",
       "subject3     2021-10-25 13: 5            ctrl           95.385         115.385       \n",
       "subject3     2021-10-25 13: 6            ctrl           119.331        139.331       \n",
       "subject3     2021-10-25 13: 7            ctrl           143.254        163.254       \n",
       "subject3     2021-10-25 13: 9            ctrl           190.465        210.465       \n",
       "subject3     2021-10-25 13: 10           ctrl           214.395        234.395       \n",
       "subject3     2021-10-25 13: 12           ctrl           264.974        284.974       \n",
       "subject3     2021-10-25 13: 15           ctrl           336.724        356.724       \n",
       "subject3     2021-10-25 13: 19           ctrl           431.431        451.431       \n",
       "   ...\n",
       " (Total: 19)"
      ]
     },
     "execution_count": 15,
     "metadata": {},
     "output_type": "execute_result"
    }
   ],
   "source": [
    "ctrl_trials = trial.Trial & ca_activity_key & 'trial_type = \"ctrl\"'\n",
    "ctrl_trials"
   ]
  },
  {
   "cell_type": "markdown",
   "id": "f65a298b-7bba-411a-9827-26bf3e2a19c6",
   "metadata": {},
   "source": [
    "Here, we target the event of interest with another key:"
   ]
  },
  {
   "cell_type": "code",
   "execution_count": 16,
   "id": "a8714cf0-86ff-4053-b17a-cf8784195b18",
   "metadata": {},
   "outputs": [
    {
     "data": {
      "text/plain": [
       "{'alignment_name': 'center_button'}"
      ]
     },
     "execution_count": 16,
     "metadata": {},
     "output_type": "execute_result"
    }
   ],
   "source": [
    "alignment_key = (event.AlignmentEvent & 'alignment_name = \"center_button\"'\n",
    "                ).fetch1('KEY')\n",
    "alignment_key"
   ]
  },
  {
   "cell_type": "code",
   "execution_count": 17,
   "id": "dc1d3449-ea2a-430d-84b1-c45c9774e9d3",
   "metadata": {},
   "outputs": [
    {
     "data": {
      "text/plain": [
       "{'subject': 'subject3',\n",
       " 'session_datetime': datetime.datetime(2021, 10, 25, 13, 6, 40),\n",
       " 'scan_id': 0,\n",
       " 'paramset_idx': 0,\n",
       " 'curation_id': 1,\n",
       " 'extraction_method': 'suite2p_deconvolution',\n",
       " 'alignment_name': 'center_button',\n",
       " 'trial_condition': 'ctrl_center_button'}"
      ]
     },
     "execution_count": 17,
     "metadata": {},
     "output_type": "execute_result"
    }
   ],
   "source": [
    "alignment_condition = {**ca_activity_key, **alignment_key, \n",
    "                       'trial_condition': 'ctrl_center_button'}\n",
    "alignment_condition"
   ]
  },
  {
   "cell_type": "markdown",
   "id": "f81c8ef8-89a0-4147-9cbb-9bdb4527e769",
   "metadata": {},
   "source": [
    "Next, we add this to the `ActivityAlignment` table in the `analysis` schema"
   ]
  },
  {
   "cell_type": "code",
   "execution_count": 18,
   "id": "8bc824cb",
   "metadata": {},
   "outputs": [],
   "source": [
    "analysis.ActivityAlignmentCondition.insert1(alignment_condition, skip_duplicates=True)"
   ]
  },
  {
   "cell_type": "code",
   "execution_count": 19,
   "id": "946902da-60ff-42ed-99aa-b55bb7c16e53",
   "metadata": {},
   "outputs": [
    {
     "data": {
      "text/html": [
       "\n",
       "    \n",
       "    <style type=\"text/css\">\n",
       "        .Relation{\n",
       "            border-collapse:collapse;\n",
       "        }\n",
       "        .Relation th{\n",
       "            background: #A0A0A0; color: #ffffff; padding:4px; border:#f0e0e0 1px solid;\n",
       "            font-weight: normal; font-family: monospace; font-size: 100%;\n",
       "        }\n",
       "        .Relation td{\n",
       "            padding:4px; border:#f0e0e0 1px solid; font-size:100%;\n",
       "        }\n",
       "        .Relation tr:nth-child(odd){\n",
       "            background: #ffffff;\n",
       "        }\n",
       "        .Relation tr:nth-child(even){\n",
       "            background: #f3f1ff;\n",
       "        }\n",
       "        /* Tooltip container */\n",
       "        .djtooltip {\n",
       "        }\n",
       "        /* Tooltip text */\n",
       "        .djtooltip .djtooltiptext {\n",
       "            visibility: hidden;\n",
       "            width: 120px;\n",
       "            background-color: black;\n",
       "            color: #fff;\n",
       "            text-align: center;\n",
       "            padding: 5px 0;\n",
       "            border-radius: 6px;\n",
       "            /* Position the tooltip text - see examples below! */\n",
       "            position: absolute;\n",
       "            z-index: 1;\n",
       "        }\n",
       "        #primary {\n",
       "            font-weight: bold;\n",
       "            color: black;\n",
       "        }\n",
       "        #nonprimary {\n",
       "            font-weight: normal;\n",
       "            color: white;\n",
       "        }\n",
       "\n",
       "        /* Show the tooltip text when you mouse over the tooltip container */\n",
       "        .djtooltip:hover .djtooltiptext {\n",
       "            visibility: visible;\n",
       "        }\n",
       "    </style>\n",
       "    \n",
       "    <b></b>\n",
       "        <div style=\"max-height:1000px;max-width:1500px;overflow:auto;\">\n",
       "        <table border=\"1\" class=\"Relation\">\n",
       "            <thead> <tr style=\"text-align: right;\"> <th> <div class=\"djtooltip\">\n",
       "                            <p id=\"primary\">subject</p>\n",
       "                            <span class=\"djtooltiptext\"></span>\n",
       "                        </div></th><th><div class=\"djtooltip\">\n",
       "                            <p id=\"primary\">session_datetime</p>\n",
       "                            <span class=\"djtooltiptext\"></span>\n",
       "                        </div></th><th><div class=\"djtooltip\">\n",
       "                            <p id=\"primary\">scan_id</p>\n",
       "                            <span class=\"djtooltiptext\"></span>\n",
       "                        </div></th><th><div class=\"djtooltip\">\n",
       "                            <p id=\"primary\">paramset_idx</p>\n",
       "                            <span class=\"djtooltiptext\"></span>\n",
       "                        </div></th><th><div class=\"djtooltip\">\n",
       "                            <p id=\"primary\">curation_id</p>\n",
       "                            <span class=\"djtooltiptext\"></span>\n",
       "                        </div></th><th><div class=\"djtooltip\">\n",
       "                            <p id=\"primary\">extraction_method</p>\n",
       "                            <span class=\"djtooltiptext\"></span>\n",
       "                        </div></th><th><div class=\"djtooltip\">\n",
       "                            <p id=\"primary\">alignment_name</p>\n",
       "                            <span class=\"djtooltiptext\"></span>\n",
       "                        </div></th><th><div class=\"djtooltip\">\n",
       "                            <p id=\"primary\">trial_condition</p>\n",
       "                            <span class=\"djtooltiptext\">user-friendly name of condition</span>\n",
       "                        </div></th><th><div class=\"djtooltip\">\n",
       "                            <p id=\"nonprimary\">condition_description</p>\n",
       "                            <span class=\"djtooltiptext\"></span>\n",
       "                        </div></th><th><div class=\"djtooltip\">\n",
       "                            <p id=\"nonprimary\">bin_size</p>\n",
       "                            <span class=\"djtooltiptext\">bin-size (in second) used to compute the PSTH</span>\n",
       "                        </div> </th> </tr> </thead>\n",
       "            <tbody> <tr> <td>subject3</td>\n",
       "<td>2021-10-25 13:06:40</td>\n",
       "<td>0</td>\n",
       "<td>0</td>\n",
       "<td>1</td>\n",
       "<td>suite2p_deconvolution</td>\n",
       "<td>center_button</td>\n",
       "<td>ctrl_center_button</td>\n",
       "<td></td>\n",
       "<td>0.04</td> </tr> </tbody>\n",
       "        </table>\n",
       "        \n",
       "        <p>Total: 1</p></div>\n",
       "        "
      ],
      "text/plain": [
       "*subject     *session_datet *scan_id    *paramset_idx  *curation_id   *extraction_me *alignment_nam *trial_conditi condition_desc bin_size    \n",
       "+----------+ +------------+ +---------+ +------------+ +------------+ +------------+ +------------+ +------------+ +------------+ +----------+\n",
       "subject3     2021-10-25 13: 0           0              1              suite2p_deconv center_button  ctrl_center_bu                0.04        \n",
       " (Total: 1)"
      ]
     },
     "execution_count": 19,
     "metadata": {},
     "output_type": "execute_result"
    }
   ],
   "source": [
    "analysis.ActivityAlignmentCondition()"
   ]
  },
  {
   "cell_type": "markdown",
   "id": "0754c8ea-a1f8-4eba-aad2-7a3c2b837940",
   "metadata": {},
   "source": [
    "Using the [projection](https://docs.datajoint.org/python/v0.13/queries/08-Proj.html) method, we can generate a table of relevant trials by `trial_type` and `alignment_condition`"
   ]
  },
  {
   "cell_type": "code",
   "execution_count": 22,
   "id": "4b263a8f-3bdb-4cb2-9dd1-95cb754c7e63",
   "metadata": {},
   "outputs": [
    {
     "data": {
      "text/html": [
       "\n",
       "    \n",
       "    <style type=\"text/css\">\n",
       "        .Relation{\n",
       "            border-collapse:collapse;\n",
       "        }\n",
       "        .Relation th{\n",
       "            background: #A0A0A0; color: #ffffff; padding:4px; border:#f0e0e0 1px solid;\n",
       "            font-weight: normal; font-family: monospace; font-size: 100%;\n",
       "        }\n",
       "        .Relation td{\n",
       "            padding:4px; border:#f0e0e0 1px solid; font-size:100%;\n",
       "        }\n",
       "        .Relation tr:nth-child(odd){\n",
       "            background: #ffffff;\n",
       "        }\n",
       "        .Relation tr:nth-child(even){\n",
       "            background: #f3f1ff;\n",
       "        }\n",
       "        /* Tooltip container */\n",
       "        .djtooltip {\n",
       "        }\n",
       "        /* Tooltip text */\n",
       "        .djtooltip .djtooltiptext {\n",
       "            visibility: hidden;\n",
       "            width: 120px;\n",
       "            background-color: black;\n",
       "            color: #fff;\n",
       "            text-align: center;\n",
       "            padding: 5px 0;\n",
       "            border-radius: 6px;\n",
       "            /* Position the tooltip text - see examples below! */\n",
       "            position: absolute;\n",
       "            z-index: 1;\n",
       "        }\n",
       "        #primary {\n",
       "            font-weight: bold;\n",
       "            color: black;\n",
       "        }\n",
       "        #nonprimary {\n",
       "            font-weight: normal;\n",
       "            color: white;\n",
       "        }\n",
       "\n",
       "        /* Show the tooltip text when you mouse over the tooltip container */\n",
       "        .djtooltip:hover .djtooltiptext {\n",
       "            visibility: visible;\n",
       "        }\n",
       "    </style>\n",
       "    \n",
       "    \n",
       "        <div style=\"max-height:1000px;max-width:1500px;overflow:auto;\">\n",
       "        <table border=\"1\" class=\"Relation\">\n",
       "            <thead> <tr style=\"text-align: right;\"> <th> <div class=\"djtooltip\">\n",
       "                            <p id=\"primary\">subject</p>\n",
       "                            <span class=\"djtooltiptext\"></span>\n",
       "                        </div></th><th><div class=\"djtooltip\">\n",
       "                            <p id=\"primary\">session_datetime</p>\n",
       "                            <span class=\"djtooltiptext\"></span>\n",
       "                        </div></th><th><div class=\"djtooltip\">\n",
       "                            <p id=\"primary\">scan_id</p>\n",
       "                            <span class=\"djtooltiptext\"></span>\n",
       "                        </div></th><th><div class=\"djtooltip\">\n",
       "                            <p id=\"primary\">paramset_idx</p>\n",
       "                            <span class=\"djtooltiptext\"></span>\n",
       "                        </div></th><th><div class=\"djtooltip\">\n",
       "                            <p id=\"primary\">curation_id</p>\n",
       "                            <span class=\"djtooltiptext\"></span>\n",
       "                        </div></th><th><div class=\"djtooltip\">\n",
       "                            <p id=\"primary\">extraction_method</p>\n",
       "                            <span class=\"djtooltiptext\"></span>\n",
       "                        </div></th><th><div class=\"djtooltip\">\n",
       "                            <p id=\"primary\">alignment_name</p>\n",
       "                            <span class=\"djtooltiptext\"></span>\n",
       "                        </div></th><th><div class=\"djtooltip\">\n",
       "                            <p id=\"primary\">trial_condition</p>\n",
       "                            <span class=\"djtooltiptext\">user-friendly name of condition</span>\n",
       "                        </div></th><th><div class=\"djtooltip\">\n",
       "                            <p id=\"primary\">trial_id</p>\n",
       "                            <span class=\"djtooltiptext\">trial number (1-based indexing)</span>\n",
       "                        </div> </th> </tr> </thead>\n",
       "            <tbody> <tr> <td>subject3</td>\n",
       "<td>2021-10-25 13:06:40</td>\n",
       "<td>0</td>\n",
       "<td>0</td>\n",
       "<td>1</td>\n",
       "<td>suite2p_deconvolution</td>\n",
       "<td>center_button</td>\n",
       "<td>ctrl_center_button</td>\n",
       "<td>2</td></tr><tr><td>subject3</td>\n",
       "<td>2021-10-25 13:06:40</td>\n",
       "<td>0</td>\n",
       "<td>0</td>\n",
       "<td>1</td>\n",
       "<td>suite2p_deconvolution</td>\n",
       "<td>center_button</td>\n",
       "<td>ctrl_center_button</td>\n",
       "<td>4</td></tr><tr><td>subject3</td>\n",
       "<td>2021-10-25 13:06:40</td>\n",
       "<td>0</td>\n",
       "<td>0</td>\n",
       "<td>1</td>\n",
       "<td>suite2p_deconvolution</td>\n",
       "<td>center_button</td>\n",
       "<td>ctrl_center_button</td>\n",
       "<td>5</td></tr><tr><td>subject3</td>\n",
       "<td>2021-10-25 13:06:40</td>\n",
       "<td>0</td>\n",
       "<td>0</td>\n",
       "<td>1</td>\n",
       "<td>suite2p_deconvolution</td>\n",
       "<td>center_button</td>\n",
       "<td>ctrl_center_button</td>\n",
       "<td>6</td></tr><tr><td>subject3</td>\n",
       "<td>2021-10-25 13:06:40</td>\n",
       "<td>0</td>\n",
       "<td>0</td>\n",
       "<td>1</td>\n",
       "<td>suite2p_deconvolution</td>\n",
       "<td>center_button</td>\n",
       "<td>ctrl_center_button</td>\n",
       "<td>7</td></tr><tr><td>subject3</td>\n",
       "<td>2021-10-25 13:06:40</td>\n",
       "<td>0</td>\n",
       "<td>0</td>\n",
       "<td>1</td>\n",
       "<td>suite2p_deconvolution</td>\n",
       "<td>center_button</td>\n",
       "<td>ctrl_center_button</td>\n",
       "<td>9</td></tr><tr><td>subject3</td>\n",
       "<td>2021-10-25 13:06:40</td>\n",
       "<td>0</td>\n",
       "<td>0</td>\n",
       "<td>1</td>\n",
       "<td>suite2p_deconvolution</td>\n",
       "<td>center_button</td>\n",
       "<td>ctrl_center_button</td>\n",
       "<td>10</td></tr><tr><td>subject3</td>\n",
       "<td>2021-10-25 13:06:40</td>\n",
       "<td>0</td>\n",
       "<td>0</td>\n",
       "<td>1</td>\n",
       "<td>suite2p_deconvolution</td>\n",
       "<td>center_button</td>\n",
       "<td>ctrl_center_button</td>\n",
       "<td>12</td></tr><tr><td>subject3</td>\n",
       "<td>2021-10-25 13:06:40</td>\n",
       "<td>0</td>\n",
       "<td>0</td>\n",
       "<td>1</td>\n",
       "<td>suite2p_deconvolution</td>\n",
       "<td>center_button</td>\n",
       "<td>ctrl_center_button</td>\n",
       "<td>15</td></tr><tr><td>subject3</td>\n",
       "<td>2021-10-25 13:06:40</td>\n",
       "<td>0</td>\n",
       "<td>0</td>\n",
       "<td>1</td>\n",
       "<td>suite2p_deconvolution</td>\n",
       "<td>center_button</td>\n",
       "<td>ctrl_center_button</td>\n",
       "<td>19</td> </tr> </tbody>\n",
       "        </table>\n",
       "        <p>...</p>\n",
       "        <p>Total: 19</p></div>\n",
       "        "
      ],
      "text/plain": [
       "*subject     *session_datet *scan_id    *paramset_idx  *curation_id   *extraction_me *alignment_nam *trial_conditi *trial_id   \n",
       "+----------+ +------------+ +---------+ +------------+ +------------+ +------------+ +------------+ +------------+ +----------+\n",
       "subject3     2021-10-25 13: 0           0              1              suite2p_deconv center_button  ctrl_center_bu 2           \n",
       "subject3     2021-10-25 13: 0           0              1              suite2p_deconv center_button  ctrl_center_bu 4           \n",
       "subject3     2021-10-25 13: 0           0              1              suite2p_deconv center_button  ctrl_center_bu 5           \n",
       "subject3     2021-10-25 13: 0           0              1              suite2p_deconv center_button  ctrl_center_bu 6           \n",
       "subject3     2021-10-25 13: 0           0              1              suite2p_deconv center_button  ctrl_center_bu 7           \n",
       "subject3     2021-10-25 13: 0           0              1              suite2p_deconv center_button  ctrl_center_bu 9           \n",
       "subject3     2021-10-25 13: 0           0              1              suite2p_deconv center_button  ctrl_center_bu 10          \n",
       "subject3     2021-10-25 13: 0           0              1              suite2p_deconv center_button  ctrl_center_bu 12          \n",
       "subject3     2021-10-25 13: 0           0              1              suite2p_deconv center_button  ctrl_center_bu 15          \n",
       "subject3     2021-10-25 13: 0           0              1              suite2p_deconv center_button  ctrl_center_bu 19          \n",
       "   ...\n",
       " (Total: 19)"
      ]
     },
     "execution_count": 22,
     "metadata": {},
     "output_type": "execute_result"
    }
   ],
   "source": [
    "sample = (analysis.ActivityAlignmentCondition * ctrl_trials & alignment_condition).proj()\n",
    "sample"
   ]
  },
  {
   "cell_type": "markdown",
   "id": "4915c554-a79d-4e3a-8cdc-23d47acf981e",
   "metadata": {},
   "source": [
    "And insert these trials into the `ActivityAlignmentCondition.Trial` part table"
   ]
  },
  {
   "cell_type": "code",
   "execution_count": 23,
   "id": "8994e8f5",
   "metadata": {},
   "outputs": [
    {
     "data": {
      "text/html": [
       "\n",
       "    \n",
       "    <style type=\"text/css\">\n",
       "        .Relation{\n",
       "            border-collapse:collapse;\n",
       "        }\n",
       "        .Relation th{\n",
       "            background: #A0A0A0; color: #ffffff; padding:4px; border:#f0e0e0 1px solid;\n",
       "            font-weight: normal; font-family: monospace; font-size: 100%;\n",
       "        }\n",
       "        .Relation td{\n",
       "            padding:4px; border:#f0e0e0 1px solid; font-size:100%;\n",
       "        }\n",
       "        .Relation tr:nth-child(odd){\n",
       "            background: #ffffff;\n",
       "        }\n",
       "        .Relation tr:nth-child(even){\n",
       "            background: #f3f1ff;\n",
       "        }\n",
       "        /* Tooltip container */\n",
       "        .djtooltip {\n",
       "        }\n",
       "        /* Tooltip text */\n",
       "        .djtooltip .djtooltiptext {\n",
       "            visibility: hidden;\n",
       "            width: 120px;\n",
       "            background-color: black;\n",
       "            color: #fff;\n",
       "            text-align: center;\n",
       "            padding: 5px 0;\n",
       "            border-radius: 6px;\n",
       "            /* Position the tooltip text - see examples below! */\n",
       "            position: absolute;\n",
       "            z-index: 1;\n",
       "        }\n",
       "        #primary {\n",
       "            font-weight: bold;\n",
       "            color: black;\n",
       "        }\n",
       "        #nonprimary {\n",
       "            font-weight: normal;\n",
       "            color: white;\n",
       "        }\n",
       "\n",
       "        /* Show the tooltip text when you mouse over the tooltip container */\n",
       "        .djtooltip:hover .djtooltiptext {\n",
       "            visibility: visible;\n",
       "        }\n",
       "    </style>\n",
       "    \n",
       "    <b>Trials (or subset of trials) to computed event-aligned activity</b>\n",
       "        <div style=\"max-height:1000px;max-width:1500px;overflow:auto;\">\n",
       "        <table border=\"1\" class=\"Relation\">\n",
       "            <thead> <tr style=\"text-align: right;\"> <th> <div class=\"djtooltip\">\n",
       "                            <p id=\"primary\">subject</p>\n",
       "                            <span class=\"djtooltiptext\"></span>\n",
       "                        </div></th><th><div class=\"djtooltip\">\n",
       "                            <p id=\"primary\">session_datetime</p>\n",
       "                            <span class=\"djtooltiptext\"></span>\n",
       "                        </div></th><th><div class=\"djtooltip\">\n",
       "                            <p id=\"primary\">scan_id</p>\n",
       "                            <span class=\"djtooltiptext\"></span>\n",
       "                        </div></th><th><div class=\"djtooltip\">\n",
       "                            <p id=\"primary\">paramset_idx</p>\n",
       "                            <span class=\"djtooltiptext\"></span>\n",
       "                        </div></th><th><div class=\"djtooltip\">\n",
       "                            <p id=\"primary\">curation_id</p>\n",
       "                            <span class=\"djtooltiptext\"></span>\n",
       "                        </div></th><th><div class=\"djtooltip\">\n",
       "                            <p id=\"primary\">extraction_method</p>\n",
       "                            <span class=\"djtooltiptext\"></span>\n",
       "                        </div></th><th><div class=\"djtooltip\">\n",
       "                            <p id=\"primary\">alignment_name</p>\n",
       "                            <span class=\"djtooltiptext\"></span>\n",
       "                        </div></th><th><div class=\"djtooltip\">\n",
       "                            <p id=\"primary\">trial_condition</p>\n",
       "                            <span class=\"djtooltiptext\">user-friendly name of condition</span>\n",
       "                        </div></th><th><div class=\"djtooltip\">\n",
       "                            <p id=\"primary\">trial_id</p>\n",
       "                            <span class=\"djtooltiptext\">trial number (1-based indexing)</span>\n",
       "                        </div> </th> </tr> </thead>\n",
       "            <tbody> <tr> <td>subject3</td>\n",
       "<td>2021-10-25 13:06:40</td>\n",
       "<td>0</td>\n",
       "<td>0</td>\n",
       "<td>1</td>\n",
       "<td>suite2p_deconvolution</td>\n",
       "<td>center_button</td>\n",
       "<td>ctrl_center_button</td>\n",
       "<td>2</td></tr><tr><td>subject3</td>\n",
       "<td>2021-10-25 13:06:40</td>\n",
       "<td>0</td>\n",
       "<td>0</td>\n",
       "<td>1</td>\n",
       "<td>suite2p_deconvolution</td>\n",
       "<td>center_button</td>\n",
       "<td>ctrl_center_button</td>\n",
       "<td>4</td></tr><tr><td>subject3</td>\n",
       "<td>2021-10-25 13:06:40</td>\n",
       "<td>0</td>\n",
       "<td>0</td>\n",
       "<td>1</td>\n",
       "<td>suite2p_deconvolution</td>\n",
       "<td>center_button</td>\n",
       "<td>ctrl_center_button</td>\n",
       "<td>5</td></tr><tr><td>subject3</td>\n",
       "<td>2021-10-25 13:06:40</td>\n",
       "<td>0</td>\n",
       "<td>0</td>\n",
       "<td>1</td>\n",
       "<td>suite2p_deconvolution</td>\n",
       "<td>center_button</td>\n",
       "<td>ctrl_center_button</td>\n",
       "<td>6</td></tr><tr><td>subject3</td>\n",
       "<td>2021-10-25 13:06:40</td>\n",
       "<td>0</td>\n",
       "<td>0</td>\n",
       "<td>1</td>\n",
       "<td>suite2p_deconvolution</td>\n",
       "<td>center_button</td>\n",
       "<td>ctrl_center_button</td>\n",
       "<td>7</td></tr><tr><td>subject3</td>\n",
       "<td>2021-10-25 13:06:40</td>\n",
       "<td>0</td>\n",
       "<td>0</td>\n",
       "<td>1</td>\n",
       "<td>suite2p_deconvolution</td>\n",
       "<td>center_button</td>\n",
       "<td>ctrl_center_button</td>\n",
       "<td>9</td></tr><tr><td>subject3</td>\n",
       "<td>2021-10-25 13:06:40</td>\n",
       "<td>0</td>\n",
       "<td>0</td>\n",
       "<td>1</td>\n",
       "<td>suite2p_deconvolution</td>\n",
       "<td>center_button</td>\n",
       "<td>ctrl_center_button</td>\n",
       "<td>10</td></tr><tr><td>subject3</td>\n",
       "<td>2021-10-25 13:06:40</td>\n",
       "<td>0</td>\n",
       "<td>0</td>\n",
       "<td>1</td>\n",
       "<td>suite2p_deconvolution</td>\n",
       "<td>center_button</td>\n",
       "<td>ctrl_center_button</td>\n",
       "<td>12</td></tr><tr><td>subject3</td>\n",
       "<td>2021-10-25 13:06:40</td>\n",
       "<td>0</td>\n",
       "<td>0</td>\n",
       "<td>1</td>\n",
       "<td>suite2p_deconvolution</td>\n",
       "<td>center_button</td>\n",
       "<td>ctrl_center_button</td>\n",
       "<td>15</td></tr><tr><td>subject3</td>\n",
       "<td>2021-10-25 13:06:40</td>\n",
       "<td>0</td>\n",
       "<td>0</td>\n",
       "<td>1</td>\n",
       "<td>suite2p_deconvolution</td>\n",
       "<td>center_button</td>\n",
       "<td>ctrl_center_button</td>\n",
       "<td>19</td> </tr> </tbody>\n",
       "        </table>\n",
       "        <p>...</p>\n",
       "        <p>Total: 19</p></div>\n",
       "        "
      ],
      "text/plain": [
       "*subject     *session_datet *scan_id    *paramset_idx  *curation_id   *extraction_me *alignment_nam *trial_conditi *trial_id   \n",
       "+----------+ +------------+ +---------+ +------------+ +------------+ +------------+ +------------+ +------------+ +----------+\n",
       "subject3     2021-10-25 13: 0           0              1              suite2p_deconv center_button  ctrl_center_bu 2           \n",
       "subject3     2021-10-25 13: 0           0              1              suite2p_deconv center_button  ctrl_center_bu 4           \n",
       "subject3     2021-10-25 13: 0           0              1              suite2p_deconv center_button  ctrl_center_bu 5           \n",
       "subject3     2021-10-25 13: 0           0              1              suite2p_deconv center_button  ctrl_center_bu 6           \n",
       "subject3     2021-10-25 13: 0           0              1              suite2p_deconv center_button  ctrl_center_bu 7           \n",
       "subject3     2021-10-25 13: 0           0              1              suite2p_deconv center_button  ctrl_center_bu 9           \n",
       "subject3     2021-10-25 13: 0           0              1              suite2p_deconv center_button  ctrl_center_bu 10          \n",
       "subject3     2021-10-25 13: 0           0              1              suite2p_deconv center_button  ctrl_center_bu 12          \n",
       "subject3     2021-10-25 13: 0           0              1              suite2p_deconv center_button  ctrl_center_bu 15          \n",
       "subject3     2021-10-25 13: 0           0              1              suite2p_deconv center_button  ctrl_center_bu 19          \n",
       "   ...\n",
       " (Total: 19)"
      ]
     },
     "execution_count": 23,
     "metadata": {},
     "output_type": "execute_result"
    }
   ],
   "source": [
    "analysis.ActivityAlignmentCondition.Trial.insert(sample, skip_duplicates=True)\n",
    "analysis.ActivityAlignmentCondition.Trial()"
   ]
  },
  {
   "cell_type": "markdown",
   "id": "4ddd0345",
   "metadata": {},
   "source": [
    "With the steps above, we have create a new alignment condition for analysis, named `ctrl_center_button`, which specifies:\n",
    "+ an Activity of interest for analysis\n",
    "+ an event of interest to align the Ca+ activity to - `center_button`\n",
    "+ a set of trials of interest to perform the analysis on - `ctrl` trials\n",
    "\n",
    "---"
   ]
  },
  {
   "cell_type": "markdown",
   "id": "2a23b206",
   "metadata": {},
   "source": [
    "Now, let's create another set with:\n",
    "+ the same Activity of interest for analysis\n",
    "+ an event of interest to align the Ca+ activity to - `center_button`\n",
    "+ a set of trials of interest to perform the analysis on - `stim` trials"
   ]
  },
  {
   "cell_type": "code",
   "execution_count": 24,
   "id": "39d4d423",
   "metadata": {},
   "outputs": [],
   "source": [
    "stim_trials = trial.Trial & ca_activity_key & 'trial_type = \"stim\"'\n",
    "alignment_condition = {**ca_activity_key, **alignment_key, \n",
    "                       'trial_condition': 'stim_center_button'}\n",
    "analysis.ActivityAlignmentCondition.insert1(alignment_condition, skip_duplicates=True)\n",
    "analysis.ActivityAlignmentCondition.Trial.insert(\n",
    "    (analysis.ActivityAlignmentCondition * stim_trials & alignment_condition).proj(),\n",
    "    skip_duplicates=True)"
   ]
  },
  {
   "cell_type": "markdown",
   "id": "00cbff81-346d-43a2-b638-5858d19b5506",
   "metadata": {},
   "source": [
    "Note the two entries in `ActivityAlignmentCondition.trial_condition`"
   ]
  },
  {
   "cell_type": "code",
   "execution_count": 25,
   "id": "6452c508",
   "metadata": {},
   "outputs": [
    {
     "data": {
      "text/html": [
       "\n",
       "    \n",
       "    <style type=\"text/css\">\n",
       "        .Relation{\n",
       "            border-collapse:collapse;\n",
       "        }\n",
       "        .Relation th{\n",
       "            background: #A0A0A0; color: #ffffff; padding:4px; border:#f0e0e0 1px solid;\n",
       "            font-weight: normal; font-family: monospace; font-size: 100%;\n",
       "        }\n",
       "        .Relation td{\n",
       "            padding:4px; border:#f0e0e0 1px solid; font-size:100%;\n",
       "        }\n",
       "        .Relation tr:nth-child(odd){\n",
       "            background: #ffffff;\n",
       "        }\n",
       "        .Relation tr:nth-child(even){\n",
       "            background: #f3f1ff;\n",
       "        }\n",
       "        /* Tooltip container */\n",
       "        .djtooltip {\n",
       "        }\n",
       "        /* Tooltip text */\n",
       "        .djtooltip .djtooltiptext {\n",
       "            visibility: hidden;\n",
       "            width: 120px;\n",
       "            background-color: black;\n",
       "            color: #fff;\n",
       "            text-align: center;\n",
       "            padding: 5px 0;\n",
       "            border-radius: 6px;\n",
       "            /* Position the tooltip text - see examples below! */\n",
       "            position: absolute;\n",
       "            z-index: 1;\n",
       "        }\n",
       "        #primary {\n",
       "            font-weight: bold;\n",
       "            color: black;\n",
       "        }\n",
       "        #nonprimary {\n",
       "            font-weight: normal;\n",
       "            color: white;\n",
       "        }\n",
       "\n",
       "        /* Show the tooltip text when you mouse over the tooltip container */\n",
       "        .djtooltip:hover .djtooltiptext {\n",
       "            visibility: visible;\n",
       "        }\n",
       "    </style>\n",
       "    \n",
       "    <b></b>\n",
       "        <div style=\"max-height:1000px;max-width:1500px;overflow:auto;\">\n",
       "        <table border=\"1\" class=\"Relation\">\n",
       "            <thead> <tr style=\"text-align: right;\"> <th> <div class=\"djtooltip\">\n",
       "                            <p id=\"primary\">subject</p>\n",
       "                            <span class=\"djtooltiptext\"></span>\n",
       "                        </div></th><th><div class=\"djtooltip\">\n",
       "                            <p id=\"primary\">session_datetime</p>\n",
       "                            <span class=\"djtooltiptext\"></span>\n",
       "                        </div></th><th><div class=\"djtooltip\">\n",
       "                            <p id=\"primary\">scan_id</p>\n",
       "                            <span class=\"djtooltiptext\"></span>\n",
       "                        </div></th><th><div class=\"djtooltip\">\n",
       "                            <p id=\"primary\">paramset_idx</p>\n",
       "                            <span class=\"djtooltiptext\"></span>\n",
       "                        </div></th><th><div class=\"djtooltip\">\n",
       "                            <p id=\"primary\">curation_id</p>\n",
       "                            <span class=\"djtooltiptext\"></span>\n",
       "                        </div></th><th><div class=\"djtooltip\">\n",
       "                            <p id=\"primary\">extraction_method</p>\n",
       "                            <span class=\"djtooltiptext\"></span>\n",
       "                        </div></th><th><div class=\"djtooltip\">\n",
       "                            <p id=\"primary\">alignment_name</p>\n",
       "                            <span class=\"djtooltiptext\"></span>\n",
       "                        </div></th><th><div class=\"djtooltip\">\n",
       "                            <p id=\"primary\">trial_condition</p>\n",
       "                            <span class=\"djtooltiptext\">user-friendly name of condition</span>\n",
       "                        </div></th><th><div class=\"djtooltip\">\n",
       "                            <p id=\"nonprimary\">condition_description</p>\n",
       "                            <span class=\"djtooltiptext\"></span>\n",
       "                        </div></th><th><div class=\"djtooltip\">\n",
       "                            <p id=\"nonprimary\">bin_size</p>\n",
       "                            <span class=\"djtooltiptext\">bin-size (in second) used to compute the PSTH</span>\n",
       "                        </div> </th> </tr> </thead>\n",
       "            <tbody> <tr> <td>subject3</td>\n",
       "<td>2021-10-25 13:06:40</td>\n",
       "<td>0</td>\n",
       "<td>0</td>\n",
       "<td>1</td>\n",
       "<td>suite2p_deconvolution</td>\n",
       "<td>center_button</td>\n",
       "<td>ctrl_center_button</td>\n",
       "<td></td>\n",
       "<td>0.04</td></tr><tr><td>subject3</td>\n",
       "<td>2021-10-25 13:06:40</td>\n",
       "<td>0</td>\n",
       "<td>0</td>\n",
       "<td>1</td>\n",
       "<td>suite2p_deconvolution</td>\n",
       "<td>center_button</td>\n",
       "<td>stim_center_button</td>\n",
       "<td></td>\n",
       "<td>0.04</td> </tr> </tbody>\n",
       "        </table>\n",
       "        \n",
       "        <p>Total: 2</p></div>\n",
       "        "
      ],
      "text/plain": [
       "*subject     *session_datet *scan_id    *paramset_idx  *curation_id   *extraction_me *alignment_nam *trial_conditi condition_desc bin_size    \n",
       "+----------+ +------------+ +---------+ +------------+ +------------+ +------------+ +------------+ +------------+ +------------+ +----------+\n",
       "subject3     2021-10-25 13: 0           0              1              suite2p_deconv center_button  ctrl_center_bu                0.04        \n",
       "subject3     2021-10-25 13: 0           0              1              suite2p_deconv center_button  stim_center_bu                0.04        \n",
       " (Total: 2)"
      ]
     },
     "execution_count": 25,
     "metadata": {},
     "output_type": "execute_result"
    }
   ],
   "source": [
    "analysis.ActivityAlignmentCondition()"
   ]
  },
  {
   "cell_type": "code",
   "execution_count": 19,
   "id": "7a9ef2fb",
   "metadata": {},
   "outputs": [
    {
     "data": {
      "text/html": [
       "\n",
       "    \n",
       "    <style type=\"text/css\">\n",
       "        .Relation{\n",
       "            border-collapse:collapse;\n",
       "        }\n",
       "        .Relation th{\n",
       "            background: #A0A0A0; color: #ffffff; padding:4px; border:#f0e0e0 1px solid;\n",
       "            font-weight: normal; font-family: monospace; font-size: 100%;\n",
       "        }\n",
       "        .Relation td{\n",
       "            padding:4px; border:#f0e0e0 1px solid; font-size:100%;\n",
       "        }\n",
       "        .Relation tr:nth-child(odd){\n",
       "            background: #ffffff;\n",
       "        }\n",
       "        .Relation tr:nth-child(even){\n",
       "            background: #f3f1ff;\n",
       "        }\n",
       "        /* Tooltip container */\n",
       "        .djtooltip {\n",
       "        }\n",
       "        /* Tooltip text */\n",
       "        .djtooltip .djtooltiptext {\n",
       "            visibility: hidden;\n",
       "            width: 120px;\n",
       "            background-color: black;\n",
       "            color: #fff;\n",
       "            text-align: center;\n",
       "            padding: 5px 0;\n",
       "            border-radius: 6px;\n",
       "            /* Position the tooltip text - see examples below! */\n",
       "            position: absolute;\n",
       "            z-index: 1;\n",
       "        }\n",
       "        #primary {\n",
       "            font-weight: bold;\n",
       "            color: black;\n",
       "        }\n",
       "        #nonprimary {\n",
       "            font-weight: normal;\n",
       "            color: white;\n",
       "        }\n",
       "\n",
       "        /* Show the tooltip text when you mouse over the tooltip container */\n",
       "        .djtooltip:hover .djtooltiptext {\n",
       "            visibility: visible;\n",
       "        }\n",
       "    </style>\n",
       "    \n",
       "    <b>Trials (or subset of trials) to computed event-aligned activity</b>\n",
       "        <div style=\"max-height:1000px;max-width:1500px;overflow:auto;\">\n",
       "        <table border=\"1\" class=\"Relation\">\n",
       "            <thead> <tr style=\"text-align: right;\"> <th> <div class=\"djtooltip\">\n",
       "                            <p id=\"primary\">subject</p>\n",
       "                            <span class=\"djtooltiptext\"></span>\n",
       "                        </div></th><th><div class=\"djtooltip\">\n",
       "                            <p id=\"primary\">session_datetime</p>\n",
       "                            <span class=\"djtooltiptext\"></span>\n",
       "                        </div></th><th><div class=\"djtooltip\">\n",
       "                            <p id=\"primary\">scan_id</p>\n",
       "                            <span class=\"djtooltiptext\"></span>\n",
       "                        </div></th><th><div class=\"djtooltip\">\n",
       "                            <p id=\"primary\">paramset_idx</p>\n",
       "                            <span class=\"djtooltiptext\"></span>\n",
       "                        </div></th><th><div class=\"djtooltip\">\n",
       "                            <p id=\"primary\">curation_id</p>\n",
       "                            <span class=\"djtooltiptext\"></span>\n",
       "                        </div></th><th><div class=\"djtooltip\">\n",
       "                            <p id=\"primary\">extraction_method</p>\n",
       "                            <span class=\"djtooltiptext\"></span>\n",
       "                        </div></th><th><div class=\"djtooltip\">\n",
       "                            <p id=\"primary\">alignment_name</p>\n",
       "                            <span class=\"djtooltiptext\"></span>\n",
       "                        </div></th><th><div class=\"djtooltip\">\n",
       "                            <p id=\"primary\">trial_condition</p>\n",
       "                            <span class=\"djtooltiptext\">user-friendly name of condition</span>\n",
       "                        </div></th><th><div class=\"djtooltip\">\n",
       "                            <p id=\"primary\">trial_id</p>\n",
       "                            <span class=\"djtooltiptext\">trial number (1-based indexing)</span>\n",
       "                        </div> </th> </tr> </thead>\n",
       "            <tbody> <tr> <td>subject3</td>\n",
       "<td>2021-01-28 14:56:52</td>\n",
       "<td>0</td>\n",
       "<td>0</td>\n",
       "<td>1</td>\n",
       "<td>suite2p_deconvolution</td>\n",
       "<td>center_button</td>\n",
       "<td>ctrl_center_button</td>\n",
       "<td>2</td></tr><tr><td>subject3</td>\n",
       "<td>2021-01-28 14:56:52</td>\n",
       "<td>0</td>\n",
       "<td>0</td>\n",
       "<td>1</td>\n",
       "<td>suite2p_deconvolution</td>\n",
       "<td>center_button</td>\n",
       "<td>ctrl_center_button</td>\n",
       "<td>4</td></tr><tr><td>subject3</td>\n",
       "<td>2021-01-28 14:56:52</td>\n",
       "<td>0</td>\n",
       "<td>0</td>\n",
       "<td>1</td>\n",
       "<td>suite2p_deconvolution</td>\n",
       "<td>center_button</td>\n",
       "<td>ctrl_center_button</td>\n",
       "<td>5</td></tr><tr><td>subject3</td>\n",
       "<td>2021-01-28 14:56:52</td>\n",
       "<td>0</td>\n",
       "<td>0</td>\n",
       "<td>1</td>\n",
       "<td>suite2p_deconvolution</td>\n",
       "<td>center_button</td>\n",
       "<td>ctrl_center_button</td>\n",
       "<td>6</td></tr><tr><td>subject3</td>\n",
       "<td>2021-01-28 14:56:52</td>\n",
       "<td>0</td>\n",
       "<td>0</td>\n",
       "<td>1</td>\n",
       "<td>suite2p_deconvolution</td>\n",
       "<td>center_button</td>\n",
       "<td>ctrl_center_button</td>\n",
       "<td>7</td></tr><tr><td>subject3</td>\n",
       "<td>2021-01-28 14:56:52</td>\n",
       "<td>0</td>\n",
       "<td>0</td>\n",
       "<td>1</td>\n",
       "<td>suite2p_deconvolution</td>\n",
       "<td>center_button</td>\n",
       "<td>ctrl_center_button</td>\n",
       "<td>9</td></tr><tr><td>subject3</td>\n",
       "<td>2021-01-28 14:56:52</td>\n",
       "<td>0</td>\n",
       "<td>0</td>\n",
       "<td>1</td>\n",
       "<td>suite2p_deconvolution</td>\n",
       "<td>center_button</td>\n",
       "<td>ctrl_center_button</td>\n",
       "<td>10</td></tr><tr><td>subject3</td>\n",
       "<td>2021-01-28 14:56:52</td>\n",
       "<td>0</td>\n",
       "<td>0</td>\n",
       "<td>1</td>\n",
       "<td>suite2p_deconvolution</td>\n",
       "<td>center_button</td>\n",
       "<td>ctrl_center_button</td>\n",
       "<td>12</td></tr><tr><td>subject3</td>\n",
       "<td>2021-01-28 14:56:52</td>\n",
       "<td>0</td>\n",
       "<td>0</td>\n",
       "<td>1</td>\n",
       "<td>suite2p_deconvolution</td>\n",
       "<td>center_button</td>\n",
       "<td>ctrl_center_button</td>\n",
       "<td>15</td></tr><tr><td>subject3</td>\n",
       "<td>2021-01-28 14:56:52</td>\n",
       "<td>0</td>\n",
       "<td>0</td>\n",
       "<td>1</td>\n",
       "<td>suite2p_deconvolution</td>\n",
       "<td>center_button</td>\n",
       "<td>ctrl_center_button</td>\n",
       "<td>19</td></tr><tr><td>subject3</td>\n",
       "<td>2021-01-28 14:56:52</td>\n",
       "<td>0</td>\n",
       "<td>0</td>\n",
       "<td>1</td>\n",
       "<td>suite2p_deconvolution</td>\n",
       "<td>center_button</td>\n",
       "<td>ctrl_center_button</td>\n",
       "<td>22</td></tr><tr><td>subject3</td>\n",
       "<td>2021-01-28 14:56:52</td>\n",
       "<td>0</td>\n",
       "<td>0</td>\n",
       "<td>1</td>\n",
       "<td>suite2p_deconvolution</td>\n",
       "<td>center_button</td>\n",
       "<td>ctrl_center_button</td>\n",
       "<td>23</td></tr><tr><td>subject3</td>\n",
       "<td>2021-01-28 14:56:52</td>\n",
       "<td>0</td>\n",
       "<td>0</td>\n",
       "<td>1</td>\n",
       "<td>suite2p_deconvolution</td>\n",
       "<td>center_button</td>\n",
       "<td>ctrl_center_button</td>\n",
       "<td>25</td></tr><tr><td>subject3</td>\n",
       "<td>2021-01-28 14:56:52</td>\n",
       "<td>0</td>\n",
       "<td>0</td>\n",
       "<td>1</td>\n",
       "<td>suite2p_deconvolution</td>\n",
       "<td>center_button</td>\n",
       "<td>ctrl_center_button</td>\n",
       "<td>28</td></tr><tr><td>subject3</td>\n",
       "<td>2021-01-28 14:56:52</td>\n",
       "<td>0</td>\n",
       "<td>0</td>\n",
       "<td>1</td>\n",
       "<td>suite2p_deconvolution</td>\n",
       "<td>center_button</td>\n",
       "<td>ctrl_center_button</td>\n",
       "<td>30</td> </tr> </tbody>\n",
       "        </table>\n",
       "        <p>...</p>\n",
       "        <p>Total: 19</p></div>\n",
       "        "
      ],
      "text/plain": [
       "*subject     *session_datetime       *scan_id    *paramset_idx    *curation_id    *extraction_method        *alignment_name    *trial_condition       *trial_id   \n",
       "+----------+ +---------------------+ +---------+ +--------------+ +-------------+ +-----------------------+ +----------------+ +--------------------+ +----------+\n",
       "subject3     2021-01-28 14:56:52     0           0                1               suite2p_deconvolution     center_button      ctrl_center_button     2           \n",
       "subject3     2021-01-28 14:56:52     0           0                1               suite2p_deconvolution     center_button      ctrl_center_button     4           \n",
       "subject3     2021-01-28 14:56:52     0           0                1               suite2p_deconvolution     center_button      ctrl_center_button     5           \n",
       "subject3     2021-01-28 14:56:52     0           0                1               suite2p_deconvolution     center_button      ctrl_center_button     6           \n",
       "subject3     2021-01-28 14:56:52     0           0                1               suite2p_deconvolution     center_button      ctrl_center_button     7           \n",
       "subject3     2021-01-28 14:56:52     0           0                1               suite2p_deconvolution     center_button      ctrl_center_button     9           \n",
       "subject3     2021-01-28 14:56:52     0           0                1               suite2p_deconvolution     center_button      ctrl_center_button     10          \n",
       "subject3     2021-01-28 14:56:52     0           0                1               suite2p_deconvolution     center_button      ctrl_center_button     12          \n",
       "subject3     2021-01-28 14:56:52     0           0                1               suite2p_deconvolution     center_button      ctrl_center_button     15          \n",
       "subject3     2021-01-28 14:56:52     0           0                1               suite2p_deconvolution     center_button      ctrl_center_button     19          \n",
       "subject3     2021-01-28 14:56:52     0           0                1               suite2p_deconvolution     center_button      ctrl_center_button     22          \n",
       "subject3     2021-01-28 14:56:52     0           0                1               suite2p_deconvolution     center_button      ctrl_center_button     23          \n",
       "subject3     2021-01-28 14:56:52     0           0                1               suite2p_deconvolution     center_button      ctrl_center_button     25          \n",
       "subject3     2021-01-28 14:56:52     0           0                1               suite2p_deconvolution     center_button      ctrl_center_button     28          \n",
       "subject3     2021-01-28 14:56:52     0           0                1               suite2p_deconvolution     center_button      ctrl_center_button     30          \n",
       "   ...\n",
       " (Total: 19)"
      ]
     },
     "execution_count": 19,
     "metadata": {},
     "output_type": "execute_result"
    }
   ],
   "source": [
    "analysis.ActivityAlignmentCondition.Trial & 'trial_condition = \"ctrl_center_button\"'"
   ]
  },
  {
   "cell_type": "markdown",
   "id": "1486add8",
   "metadata": {
    "jp-MarkdownHeadingCollapsed": true,
    "tags": []
   },
   "source": [
    "### Computation\n",
    "Just like the element itself, we can run computations with `populate()`"
   ]
  },
  {
   "cell_type": "code",
   "execution_count": 4,
   "id": "f467d3f7",
   "metadata": {},
   "outputs": [
    {
     "name": "stderr",
     "output_type": "stream",
     "text": [
      "ActivityAlignment: 100%|██████████████████████████| 2/2 [00:50<00:00, 25.29s/it]\n"
     ]
    }
   ],
   "source": [
    "analysis.ActivityAlignment.populate(display_progress=True)"
   ]
  },
  {
   "cell_type": "code",
   "execution_count": 5,
   "id": "c3a9d9ce-6e7c-4467-ae7e-96063b2fddf4",
   "metadata": {},
   "outputs": [
    {
     "data": {
      "text/html": [
       "\n",
       "    \n",
       "    <style type=\"text/css\">\n",
       "        .Relation{\n",
       "            border-collapse:collapse;\n",
       "        }\n",
       "        .Relation th{\n",
       "            background: #A0A0A0; color: #ffffff; padding:4px; border:#f0e0e0 1px solid;\n",
       "            font-weight: normal; font-family: monospace; font-size: 100%;\n",
       "        }\n",
       "        .Relation td{\n",
       "            padding:4px; border:#f0e0e0 1px solid; font-size:100%;\n",
       "        }\n",
       "        .Relation tr:nth-child(odd){\n",
       "            background: #ffffff;\n",
       "        }\n",
       "        .Relation tr:nth-child(even){\n",
       "            background: #f3f1ff;\n",
       "        }\n",
       "        /* Tooltip container */\n",
       "        .djtooltip {\n",
       "        }\n",
       "        /* Tooltip text */\n",
       "        .djtooltip .djtooltiptext {\n",
       "            visibility: hidden;\n",
       "            width: 120px;\n",
       "            background-color: black;\n",
       "            color: #fff;\n",
       "            text-align: center;\n",
       "            padding: 5px 0;\n",
       "            border-radius: 6px;\n",
       "            /* Position the tooltip text - see examples below! */\n",
       "            position: absolute;\n",
       "            z-index: 1;\n",
       "        }\n",
       "        #primary {\n",
       "            font-weight: bold;\n",
       "            color: black;\n",
       "        }\n",
       "        #nonprimary {\n",
       "            font-weight: normal;\n",
       "            color: white;\n",
       "        }\n",
       "\n",
       "        /* Show the tooltip text when you mouse over the tooltip container */\n",
       "        .djtooltip:hover .djtooltiptext {\n",
       "            visibility: visible;\n",
       "        }\n",
       "    </style>\n",
       "    \n",
       "    <b></b>\n",
       "        <div style=\"max-height:1000px;max-width:1500px;overflow:auto;\">\n",
       "        <table border=\"1\" class=\"Relation\">\n",
       "            <thead> <tr style=\"text-align: right;\"> <th> <div class=\"djtooltip\">\n",
       "                            <p id=\"primary\">subject</p>\n",
       "                            <span class=\"djtooltiptext\"></span>\n",
       "                        </div></th><th><div class=\"djtooltip\">\n",
       "                            <p id=\"primary\">session_datetime</p>\n",
       "                            <span class=\"djtooltiptext\"></span>\n",
       "                        </div></th><th><div class=\"djtooltip\">\n",
       "                            <p id=\"primary\">scan_id</p>\n",
       "                            <span class=\"djtooltiptext\"></span>\n",
       "                        </div></th><th><div class=\"djtooltip\">\n",
       "                            <p id=\"primary\">paramset_idx</p>\n",
       "                            <span class=\"djtooltiptext\"></span>\n",
       "                        </div></th><th><div class=\"djtooltip\">\n",
       "                            <p id=\"primary\">curation_id</p>\n",
       "                            <span class=\"djtooltiptext\"></span>\n",
       "                        </div></th><th><div class=\"djtooltip\">\n",
       "                            <p id=\"primary\">extraction_method</p>\n",
       "                            <span class=\"djtooltiptext\"></span>\n",
       "                        </div></th><th><div class=\"djtooltip\">\n",
       "                            <p id=\"primary\">alignment_name</p>\n",
       "                            <span class=\"djtooltiptext\"></span>\n",
       "                        </div></th><th><div class=\"djtooltip\">\n",
       "                            <p id=\"primary\">trial_condition</p>\n",
       "                            <span class=\"djtooltiptext\">user-friendly name of condition</span>\n",
       "                        </div></th><th><div class=\"djtooltip\">\n",
       "                            <p id=\"nonprimary\">aligned_timestamps</p>\n",
       "                            <span class=\"djtooltiptext\"></span>\n",
       "                        </div> </th> </tr> </thead>\n",
       "            <tbody> <tr> <td>subject3</td>\n",
       "<td>2021-10-25 13:06:40</td>\n",
       "<td>0</td>\n",
       "<td>0</td>\n",
       "<td>1</td>\n",
       "<td>suite2p_deconvolution</td>\n",
       "<td>center_button</td>\n",
       "<td>ctrl_center_button</td>\n",
       "<td>=BLOB=</td></tr><tr><td>subject3</td>\n",
       "<td>2021-10-25 13:06:40</td>\n",
       "<td>0</td>\n",
       "<td>0</td>\n",
       "<td>1</td>\n",
       "<td>suite2p_deconvolution</td>\n",
       "<td>center_button</td>\n",
       "<td>stim_center_button</td>\n",
       "<td>=BLOB=</td> </tr> </tbody>\n",
       "        </table>\n",
       "        \n",
       "        <p>Total: 2</p></div>\n",
       "        "
      ],
      "text/plain": [
       "*subject     *session_datet *scan_id    *paramset_idx  *curation_id   *extraction_me *alignment_nam *trial_conditi aligned_ti\n",
       "+----------+ +------------+ +---------+ +------------+ +------------+ +------------+ +------------+ +------------+ +--------+\n",
       "subject3     2021-10-25 13: 0           0              1              suite2p_deconv center_button  ctrl_center_bu =BLOB=    \n",
       "subject3     2021-10-25 13: 0           0              1              suite2p_deconv center_button  stim_center_bu =BLOB=    \n",
       " (Total: 2)"
      ]
     },
     "execution_count": 5,
     "metadata": {},
     "output_type": "execute_result"
    }
   ],
   "source": [
    "analysis.ActivityAlignment()"
   ]
  },
  {
   "cell_type": "markdown",
   "id": "e014bece-ce78-41fe-9f69-b05beee1d307",
   "metadata": {},
   "source": [
    "The `AlignedTrialSpikes` part table captures aligned traces fore each alignment and trial condition specified in the master table."
   ]
  },
  {
   "cell_type": "code",
   "execution_count": 6,
   "id": "974d65f3-da0f-4dbf-aa79-108e42fb74c0",
   "metadata": {},
   "outputs": [
    {
     "data": {
      "text/html": [
       "\n",
       "    \n",
       "    <style type=\"text/css\">\n",
       "        .Relation{\n",
       "            border-collapse:collapse;\n",
       "        }\n",
       "        .Relation th{\n",
       "            background: #A0A0A0; color: #ffffff; padding:4px; border:#f0e0e0 1px solid;\n",
       "            font-weight: normal; font-family: monospace; font-size: 100%;\n",
       "        }\n",
       "        .Relation td{\n",
       "            padding:4px; border:#f0e0e0 1px solid; font-size:100%;\n",
       "        }\n",
       "        .Relation tr:nth-child(odd){\n",
       "            background: #ffffff;\n",
       "        }\n",
       "        .Relation tr:nth-child(even){\n",
       "            background: #f3f1ff;\n",
       "        }\n",
       "        /* Tooltip container */\n",
       "        .djtooltip {\n",
       "        }\n",
       "        /* Tooltip text */\n",
       "        .djtooltip .djtooltiptext {\n",
       "            visibility: hidden;\n",
       "            width: 120px;\n",
       "            background-color: black;\n",
       "            color: #fff;\n",
       "            text-align: center;\n",
       "            padding: 5px 0;\n",
       "            border-radius: 6px;\n",
       "            /* Position the tooltip text - see examples below! */\n",
       "            position: absolute;\n",
       "            z-index: 1;\n",
       "        }\n",
       "        #primary {\n",
       "            font-weight: bold;\n",
       "            color: black;\n",
       "        }\n",
       "        #nonprimary {\n",
       "            font-weight: normal;\n",
       "            color: white;\n",
       "        }\n",
       "\n",
       "        /* Show the tooltip text when you mouse over the tooltip container */\n",
       "        .djtooltip:hover .djtooltiptext {\n",
       "            visibility: visible;\n",
       "        }\n",
       "    </style>\n",
       "    \n",
       "    <b></b>\n",
       "        <div style=\"max-height:1000px;max-width:1500px;overflow:auto;\">\n",
       "        <table border=\"1\" class=\"Relation\">\n",
       "            <thead> <tr style=\"text-align: right;\"> <th> <div class=\"djtooltip\">\n",
       "                            <p id=\"primary\">subject</p>\n",
       "                            <span class=\"djtooltiptext\"></span>\n",
       "                        </div></th><th><div class=\"djtooltip\">\n",
       "                            <p id=\"primary\">session_datetime</p>\n",
       "                            <span class=\"djtooltiptext\"></span>\n",
       "                        </div></th><th><div class=\"djtooltip\">\n",
       "                            <p id=\"primary\">scan_id</p>\n",
       "                            <span class=\"djtooltiptext\"></span>\n",
       "                        </div></th><th><div class=\"djtooltip\">\n",
       "                            <p id=\"primary\">paramset_idx</p>\n",
       "                            <span class=\"djtooltiptext\"></span>\n",
       "                        </div></th><th><div class=\"djtooltip\">\n",
       "                            <p id=\"primary\">curation_id</p>\n",
       "                            <span class=\"djtooltiptext\"></span>\n",
       "                        </div></th><th><div class=\"djtooltip\">\n",
       "                            <p id=\"primary\">extraction_method</p>\n",
       "                            <span class=\"djtooltiptext\"></span>\n",
       "                        </div></th><th><div class=\"djtooltip\">\n",
       "                            <p id=\"primary\">alignment_name</p>\n",
       "                            <span class=\"djtooltiptext\"></span>\n",
       "                        </div></th><th><div class=\"djtooltip\">\n",
       "                            <p id=\"primary\">trial_condition</p>\n",
       "                            <span class=\"djtooltiptext\">user-friendly name of condition</span>\n",
       "                        </div></th><th><div class=\"djtooltip\">\n",
       "                            <p id=\"primary\">mask</p>\n",
       "                            <span class=\"djtooltiptext\"></span>\n",
       "                        </div></th><th><div class=\"djtooltip\">\n",
       "                            <p id=\"primary\">fluo_channel</p>\n",
       "                            <span class=\"djtooltiptext\">0-based indexing</span>\n",
       "                        </div></th><th><div class=\"djtooltip\">\n",
       "                            <p id=\"primary\">trial_id</p>\n",
       "                            <span class=\"djtooltiptext\">trial number (1-based indexing)</span>\n",
       "                        </div></th><th><div class=\"djtooltip\">\n",
       "                            <p id=\"nonprimary\">aligned_trace</p>\n",
       "                            <span class=\"djtooltiptext\">(s) Calcium activity aligned to the event time</span>\n",
       "                        </div> </th> </tr> </thead>\n",
       "            <tbody> <tr> <td>subject3</td>\n",
       "<td>2021-10-25 13:06:40</td>\n",
       "<td>0</td>\n",
       "<td>0</td>\n",
       "<td>1</td>\n",
       "<td>suite2p_deconvolution</td>\n",
       "<td>center_button</td>\n",
       "<td>ctrl_center_button</td>\n",
       "<td>0</td>\n",
       "<td>0</td>\n",
       "<td>4</td>\n",
       "<td>=BLOB=</td></tr><tr><td>subject3</td>\n",
       "<td>2021-10-25 13:06:40</td>\n",
       "<td>0</td>\n",
       "<td>0</td>\n",
       "<td>1</td>\n",
       "<td>suite2p_deconvolution</td>\n",
       "<td>center_button</td>\n",
       "<td>ctrl_center_button</td>\n",
       "<td>0</td>\n",
       "<td>0</td>\n",
       "<td>5</td>\n",
       "<td>=BLOB=</td></tr><tr><td>subject3</td>\n",
       "<td>2021-10-25 13:06:40</td>\n",
       "<td>0</td>\n",
       "<td>0</td>\n",
       "<td>1</td>\n",
       "<td>suite2p_deconvolution</td>\n",
       "<td>center_button</td>\n",
       "<td>ctrl_center_button</td>\n",
       "<td>0</td>\n",
       "<td>0</td>\n",
       "<td>15</td>\n",
       "<td>=BLOB=</td></tr><tr><td>subject3</td>\n",
       "<td>2021-10-25 13:06:40</td>\n",
       "<td>0</td>\n",
       "<td>0</td>\n",
       "<td>1</td>\n",
       "<td>suite2p_deconvolution</td>\n",
       "<td>center_button</td>\n",
       "<td>ctrl_center_button</td>\n",
       "<td>0</td>\n",
       "<td>0</td>\n",
       "<td>19</td>\n",
       "<td>=BLOB=</td></tr><tr><td>subject3</td>\n",
       "<td>2021-10-25 13:06:40</td>\n",
       "<td>0</td>\n",
       "<td>0</td>\n",
       "<td>1</td>\n",
       "<td>suite2p_deconvolution</td>\n",
       "<td>center_button</td>\n",
       "<td>ctrl_center_button</td>\n",
       "<td>0</td>\n",
       "<td>0</td>\n",
       "<td>22</td>\n",
       "<td>=BLOB=</td></tr><tr><td>subject3</td>\n",
       "<td>2021-10-25 13:06:40</td>\n",
       "<td>0</td>\n",
       "<td>0</td>\n",
       "<td>1</td>\n",
       "<td>suite2p_deconvolution</td>\n",
       "<td>center_button</td>\n",
       "<td>ctrl_center_button</td>\n",
       "<td>0</td>\n",
       "<td>0</td>\n",
       "<td>23</td>\n",
       "<td>=BLOB=</td></tr><tr><td>subject3</td>\n",
       "<td>2021-10-25 13:06:40</td>\n",
       "<td>0</td>\n",
       "<td>0</td>\n",
       "<td>1</td>\n",
       "<td>suite2p_deconvolution</td>\n",
       "<td>center_button</td>\n",
       "<td>ctrl_center_button</td>\n",
       "<td>0</td>\n",
       "<td>0</td>\n",
       "<td>33</td>\n",
       "<td>=BLOB=</td></tr><tr><td>subject3</td>\n",
       "<td>2021-10-25 13:06:40</td>\n",
       "<td>0</td>\n",
       "<td>0</td>\n",
       "<td>1</td>\n",
       "<td>suite2p_deconvolution</td>\n",
       "<td>center_button</td>\n",
       "<td>ctrl_center_button</td>\n",
       "<td>0</td>\n",
       "<td>0</td>\n",
       "<td>36</td>\n",
       "<td>=BLOB=</td></tr><tr><td>subject3</td>\n",
       "<td>2021-10-25 13:06:40</td>\n",
       "<td>0</td>\n",
       "<td>0</td>\n",
       "<td>1</td>\n",
       "<td>suite2p_deconvolution</td>\n",
       "<td>center_button</td>\n",
       "<td>ctrl_center_button</td>\n",
       "<td>0</td>\n",
       "<td>0</td>\n",
       "<td>40</td>\n",
       "<td>=BLOB=</td></tr><tr><td>subject3</td>\n",
       "<td>2021-10-25 13:06:40</td>\n",
       "<td>0</td>\n",
       "<td>0</td>\n",
       "<td>1</td>\n",
       "<td>suite2p_deconvolution</td>\n",
       "<td>center_button</td>\n",
       "<td>stim_center_button</td>\n",
       "<td>0</td>\n",
       "<td>0</td>\n",
       "<td>1</td>\n",
       "<td>=BLOB=</td> </tr> </tbody>\n",
       "        </table>\n",
       "        <p>...</p>\n",
       "        <p>Total: 126084</p></div>\n",
       "        "
      ],
      "text/plain": [
       "*subject     *session_datet *scan_id    *paramset_idx  *curation_id   *extraction_me *alignment_nam *trial_conditi *mask    *fluo_channel  *trial_id    aligned_tr\n",
       "+----------+ +------------+ +---------+ +------------+ +------------+ +------------+ +------------+ +------------+ +------+ +------------+ +----------+ +--------+\n",
       "subject3     2021-10-25 13: 0           0              1              suite2p_deconv center_button  ctrl_center_bu 0        0              4            =BLOB=    \n",
       "subject3     2021-10-25 13: 0           0              1              suite2p_deconv center_button  ctrl_center_bu 0        0              5            =BLOB=    \n",
       "subject3     2021-10-25 13: 0           0              1              suite2p_deconv center_button  ctrl_center_bu 0        0              15           =BLOB=    \n",
       "subject3     2021-10-25 13: 0           0              1              suite2p_deconv center_button  ctrl_center_bu 0        0              19           =BLOB=    \n",
       "subject3     2021-10-25 13: 0           0              1              suite2p_deconv center_button  ctrl_center_bu 0        0              22           =BLOB=    \n",
       "subject3     2021-10-25 13: 0           0              1              suite2p_deconv center_button  ctrl_center_bu 0        0              23           =BLOB=    \n",
       "subject3     2021-10-25 13: 0           0              1              suite2p_deconv center_button  ctrl_center_bu 0        0              33           =BLOB=    \n",
       "subject3     2021-10-25 13: 0           0              1              suite2p_deconv center_button  ctrl_center_bu 0        0              36           =BLOB=    \n",
       "subject3     2021-10-25 13: 0           0              1              suite2p_deconv center_button  ctrl_center_bu 0        0              40           =BLOB=    \n",
       "subject3     2021-10-25 13: 0           0              1              suite2p_deconv center_button  stim_center_bu 0        0              1            =BLOB=    \n",
       "   ...\n",
       " (Total: 126084)"
      ]
     },
     "execution_count": 6,
     "metadata": {},
     "output_type": "execute_result"
    }
   ],
   "source": [
    "analysis.ActivityAlignment.AlignedTrialSpikes()"
   ]
  },
  {
   "cell_type": "markdown",
   "id": "c4320cdd",
   "metadata": {},
   "source": [
    "### Visualization"
   ]
  },
  {
   "cell_type": "markdown",
   "id": "40d11d31-782c-432d-acf8-3273b533ed51",
   "metadata": {},
   "source": [
    "With the `plot_aligned_activities` function, we can see the density of spikes relative to our alignment event."
   ]
  },
  {
   "cell_type": "code",
   "execution_count": 2,
   "id": "2c4962b7",
   "metadata": {},
   "outputs": [
    {
     "name": "stdout",
     "output_type": "stream",
     "text": [
      "Connecting cbroz@dss-db.datajoint.io:3306\n"
     ]
    },
    {
     "ename": "ValueError",
     "evalue": "all the input array dimensions for the concatenation axis must match exactly, but along dimension 1, the array at index 0 has size 316 and the array at index 4 has size 317",
     "output_type": "error",
     "traceback": [
      "\u001b[0;31m---------------------------------------------------------------------------\u001b[0m",
      "\u001b[0;31mValueError\u001b[0m                                Traceback (most recent call last)",
      "\u001b[0;32m/var/folders/_9/tzvq__ws5z9gv5s7jvkj570r0000gn/T/ipykernel_7502/2914933712.py\u001b[0m in \u001b[0;36m<module>\u001b[0;34m\u001b[0m\n\u001b[1;32m      7\u001b[0m alignment_condition = {**ca_activity_key, **alignment_key, \n\u001b[1;32m      8\u001b[0m                        'trial_condition': 'ctrl_center_button'}\n\u001b[0;32m----> 9\u001b[0;31m \u001b[0manalysis\u001b[0m\u001b[0;34m.\u001b[0m\u001b[0mActivityAlignment\u001b[0m\u001b[0;34m(\u001b[0m\u001b[0;34m)\u001b[0m\u001b[0;34m.\u001b[0m\u001b[0mplot_aligned_activities\u001b[0m\u001b[0;34m(\u001b[0m\u001b[0malignment_condition\u001b[0m\u001b[0;34m,\u001b[0m \u001b[0mroi\u001b[0m\u001b[0;34m=\u001b[0m\u001b[0;36m2\u001b[0m\u001b[0;34m)\u001b[0m\u001b[0;34m\u001b[0m\u001b[0;34m\u001b[0m\u001b[0m\n\u001b[0m",
      "\u001b[0;32m/Volumes/GoogleDrive/My Drive/NWB/workflow-calcium-imaging/workflow_calcium_imaging/analysis.py\u001b[0m in \u001b[0;36mplot_aligned_activities\u001b[0;34m(self, key, roi, axs)\u001b[0m\n\u001b[1;32m    109\u001b[0m                                                                   order_by='trial_id')\n\u001b[1;32m    110\u001b[0m \u001b[0;34m\u001b[0m\u001b[0m\n\u001b[0;32m--> 111\u001b[0;31m         \u001b[0maligned_spikes\u001b[0m \u001b[0;34m=\u001b[0m \u001b[0mnp\u001b[0m\u001b[0;34m.\u001b[0m\u001b[0mvstack\u001b[0m\u001b[0;34m(\u001b[0m\u001b[0maligned_spikes\u001b[0m\u001b[0;34m)\u001b[0m\u001b[0;34m\u001b[0m\u001b[0;34m\u001b[0m\u001b[0m\n\u001b[0m\u001b[1;32m    112\u001b[0m \u001b[0;34m\u001b[0m\u001b[0m\n\u001b[1;32m    113\u001b[0m         \u001b[0max0\u001b[0m\u001b[0;34m.\u001b[0m\u001b[0mimgshow\u001b[0m\u001b[0;34m(\u001b[0m\u001b[0maligned_spikes\u001b[0m\u001b[0;34m,\u001b[0m \u001b[0mcmap\u001b[0m\u001b[0;34m=\u001b[0m\u001b[0;34m'gray'\u001b[0m\u001b[0;34m,\u001b[0m \u001b[0minterpolation\u001b[0m\u001b[0;34m=\u001b[0m\u001b[0;34m'nearest'\u001b[0m\u001b[0;34m)\u001b[0m\u001b[0;34m\u001b[0m\u001b[0;34m\u001b[0m\u001b[0m\n",
      "\u001b[0;32m<__array_function__ internals>\u001b[0m in \u001b[0;36mvstack\u001b[0;34m(*args, **kwargs)\u001b[0m\n",
      "\u001b[0;32m~/miniconda3/envs/venv-nwb/lib/python3.8/site-packages/numpy/core/shape_base.py\u001b[0m in \u001b[0;36mvstack\u001b[0;34m(tup)\u001b[0m\n\u001b[1;32m    280\u001b[0m     \u001b[0;32mif\u001b[0m \u001b[0;32mnot\u001b[0m \u001b[0misinstance\u001b[0m\u001b[0;34m(\u001b[0m\u001b[0marrs\u001b[0m\u001b[0;34m,\u001b[0m \u001b[0mlist\u001b[0m\u001b[0;34m)\u001b[0m\u001b[0;34m:\u001b[0m\u001b[0;34m\u001b[0m\u001b[0;34m\u001b[0m\u001b[0m\n\u001b[1;32m    281\u001b[0m         \u001b[0marrs\u001b[0m \u001b[0;34m=\u001b[0m \u001b[0;34m[\u001b[0m\u001b[0marrs\u001b[0m\u001b[0;34m]\u001b[0m\u001b[0;34m\u001b[0m\u001b[0;34m\u001b[0m\u001b[0m\n\u001b[0;32m--> 282\u001b[0;31m     \u001b[0;32mreturn\u001b[0m \u001b[0m_nx\u001b[0m\u001b[0;34m.\u001b[0m\u001b[0mconcatenate\u001b[0m\u001b[0;34m(\u001b[0m\u001b[0marrs\u001b[0m\u001b[0;34m,\u001b[0m \u001b[0;36m0\u001b[0m\u001b[0;34m)\u001b[0m\u001b[0;34m\u001b[0m\u001b[0;34m\u001b[0m\u001b[0m\n\u001b[0m\u001b[1;32m    283\u001b[0m \u001b[0;34m\u001b[0m\u001b[0m\n\u001b[1;32m    284\u001b[0m \u001b[0;34m\u001b[0m\u001b[0m\n",
      "\u001b[0;32m<__array_function__ internals>\u001b[0m in \u001b[0;36mconcatenate\u001b[0;34m(*args, **kwargs)\u001b[0m\n",
      "\u001b[0;31mValueError\u001b[0m: all the input array dimensions for the concatenation axis must match exactly, but along dimension 1, the array at index 0 has size 316 and the array at index 4 has size 317"
     ]
    },
    {
     "data": {
      "image/png": "[encoded data removed]",
      "text/plain": [
       "<Figure size 864x576 with 2 Axes>"
      ]
     },
     "metadata": {
      "needs_background": "light"
     },
     "output_type": "display_data"
    }
   ],
   "source": [
    "from workflow_calcium_imaging import analysis\n",
    "from workflow_calcium_imaging.pipeline import session, imaging, trial, event\n",
    "ca_activity_key = (imaging.Activity & {'subject': 'subject3', 'scan_id': 0}\n",
    "                  ).fetch1('KEY')\n",
    "alignment_key = (event.AlignmentEvent & 'alignment_name = \"center_button\"'\n",
    "                ).fetch1('KEY')\n",
    "alignment_condition = {**ca_activity_key, **alignment_key, \n",
    "                       'trial_condition': 'ctrl_center_button'}\n",
    "analysis.ActivityAlignment().plot_aligned_activities(alignment_condition, roi=2)"
   ]
  },
  {
   "cell_type": "code",
   "execution_count": 3,
   "id": "f32694bc-68a2-4464-8d5e-2f822a5bf0d8",
   "metadata": {},
   "outputs": [
    {
     "name": "stdout",
     "output_type": "stream",
     "text": [
      "> \u001b[0;32m<__array_function__ internals>\u001b[0m(5)\u001b[0;36mconcatenate\u001b[0;34m()\u001b[0m\n",
      "\n"
     ]
    },
    {
     "name": "stdin",
     "output_type": "stream",
     "text": [
      "ipdb>  u\n"
     ]
    },
    {
     "name": "stdout",
     "output_type": "stream",
     "text": [
      "> \u001b[0;32m/Users/cb/miniconda3/envs/venv-nwb/lib/python3.8/site-packages/numpy/core/shape_base.py\u001b[0m(282)\u001b[0;36mvstack\u001b[0;34m()\u001b[0m\n",
      "\u001b[0;32m    280 \u001b[0;31m    \u001b[0;32mif\u001b[0m \u001b[0;32mnot\u001b[0m \u001b[0misinstance\u001b[0m\u001b[0;34m(\u001b[0m\u001b[0marrs\u001b[0m\u001b[0;34m,\u001b[0m \u001b[0mlist\u001b[0m\u001b[0;34m)\u001b[0m\u001b[0;34m:\u001b[0m\u001b[0;34m\u001b[0m\u001b[0;34m\u001b[0m\u001b[0m\n",
      "\u001b[0m\u001b[0;32m    281 \u001b[0;31m        \u001b[0marrs\u001b[0m \u001b[0;34m=\u001b[0m \u001b[0;34m[\u001b[0m\u001b[0marrs\u001b[0m\u001b[0;34m]\u001b[0m\u001b[0;34m\u001b[0m\u001b[0;34m\u001b[0m\u001b[0m\n",
      "\u001b[0m\u001b[0;32m--> 282 \u001b[0;31m    \u001b[0;32mreturn\u001b[0m \u001b[0m_nx\u001b[0m\u001b[0;34m.\u001b[0m\u001b[0mconcatenate\u001b[0m\u001b[0;34m(\u001b[0m\u001b[0marrs\u001b[0m\u001b[0;34m,\u001b[0m \u001b[0;36m0\u001b[0m\u001b[0;34m)\u001b[0m\u001b[0;34m\u001b[0m\u001b[0;34m\u001b[0m\u001b[0m\n",
      "\u001b[0m\u001b[0;32m    283 \u001b[0;31m\u001b[0;34m\u001b[0m\u001b[0m\n",
      "\u001b[0m\u001b[0;32m    284 \u001b[0;31m\u001b[0;34m\u001b[0m\u001b[0m\n",
      "\u001b[0m\n"
     ]
    },
    {
     "name": "stdin",
     "output_type": "stream",
     "text": [
      "ipdb>  u\n"
     ]
    },
    {
     "name": "stdout",
     "output_type": "stream",
     "text": [
      "> \u001b[0;32m<__array_function__ internals>\u001b[0m(5)\u001b[0;36mvstack\u001b[0;34m()\u001b[0m\n",
      "\n"
     ]
    },
    {
     "name": "stdin",
     "output_type": "stream",
     "text": [
      "ipdb>  \n"
     ]
    },
    {
     "name": "stdout",
     "output_type": "stream",
     "text": [
      "> \u001b[0;32m/Volumes/GoogleDrive/My Drive/NWB/workflow-calcium-imaging/workflow_calcium_imaging/analysis.py\u001b[0m(111)\u001b[0;36mplot_aligned_activities\u001b[0;34m()\u001b[0m\n",
      "\u001b[0;32m    109 \u001b[0;31m                                                                  order_by='trial_id')\n",
      "\u001b[0m\u001b[0;32m    110 \u001b[0;31m\u001b[0;34m\u001b[0m\u001b[0m\n",
      "\u001b[0m\u001b[0;32m--> 111 \u001b[0;31m        \u001b[0maligned_spikes\u001b[0m \u001b[0;34m=\u001b[0m \u001b[0mnp\u001b[0m\u001b[0;34m.\u001b[0m\u001b[0mvstack\u001b[0m\u001b[0;34m(\u001b[0m\u001b[0maligned_spikes\u001b[0m\u001b[0;34m)\u001b[0m\u001b[0;34m\u001b[0m\u001b[0;34m\u001b[0m\u001b[0m\n",
      "\u001b[0m\u001b[0;32m    112 \u001b[0;31m\u001b[0;34m\u001b[0m\u001b[0m\n",
      "\u001b[0m\u001b[0;32m    113 \u001b[0;31m        \u001b[0max0\u001b[0m\u001b[0;34m.\u001b[0m\u001b[0mimgshow\u001b[0m\u001b[0;34m(\u001b[0m\u001b[0maligned_spikes\u001b[0m\u001b[0;34m,\u001b[0m \u001b[0mcmap\u001b[0m\u001b[0;34m=\u001b[0m\u001b[0;34m'gray'\u001b[0m\u001b[0;34m,\u001b[0m \u001b[0minterpolation\u001b[0m\u001b[0;34m=\u001b[0m\u001b[0;34m'nearest'\u001b[0m\u001b[0;34m)\u001b[0m\u001b[0;34m\u001b[0m\u001b[0;34m\u001b[0m\u001b[0m\n",
      "\u001b[0m\n"
     ]
    },
    {
     "name": "stdin",
     "output_type": "stream",
     "text": [
      "ipdb>  \n"
     ]
    },
    {
     "name": "stdout",
     "output_type": "stream",
     "text": [
      "> \u001b[0;32m/var/folders/_9/tzvq__ws5z9gv5s7jvkj570r0000gn/T/ipykernel_7502/2914933712.py\u001b[0m(9)\u001b[0;36m<module>\u001b[0;34m()\u001b[0m\n",
      "\u001b[0;32m      5 \u001b[0;31malignment_key = (event.AlignmentEvent & 'alignment_name = \"center_button\"'\n",
      "\u001b[0m\u001b[0;32m      6 \u001b[0;31m                ).fetch1('KEY')\n",
      "\u001b[0m\u001b[0;32m      7 \u001b[0;31malignment_condition = {**ca_activity_key, **alignment_key, \n",
      "\u001b[0m\u001b[0;32m      8 \u001b[0;31m                       'trial_condition': 'ctrl_center_button'}\n",
      "\u001b[0m\u001b[0;32m----> 9 \u001b[0;31m\u001b[0manalysis\u001b[0m\u001b[0;34m.\u001b[0m\u001b[0mActivityAlignment\u001b[0m\u001b[0;34m(\u001b[0m\u001b[0;34m)\u001b[0m\u001b[0;34m.\u001b[0m\u001b[0mplot_aligned_activities\u001b[0m\u001b[0;34m(\u001b[0m\u001b[0malignment_condition\u001b[0m\u001b[0;34m,\u001b[0m \u001b[0mroi\u001b[0m\u001b[0;34m=\u001b[0m\u001b[0;36m2\u001b[0m\u001b[0;34m)\u001b[0m\u001b[0;34m\u001b[0m\u001b[0;34m\u001b[0m\u001b[0m\n",
      "\u001b[0m\n"
     ]
    },
    {
     "name": "stdin",
     "output_type": "stream",
     "text": [
      "ipdb>  d\n"
     ]
    },
    {
     "name": "stdout",
     "output_type": "stream",
     "text": [
      "> \u001b[0;32m/Volumes/GoogleDrive/My Drive/NWB/workflow-calcium-imaging/workflow_calcium_imaging/analysis.py\u001b[0m(111)\u001b[0;36mplot_aligned_activities\u001b[0;34m()\u001b[0m\n",
      "\u001b[0;32m    109 \u001b[0;31m                                                                  order_by='trial_id')\n",
      "\u001b[0m\u001b[0;32m    110 \u001b[0;31m\u001b[0;34m\u001b[0m\u001b[0m\n",
      "\u001b[0m\u001b[0;32m--> 111 \u001b[0;31m        \u001b[0maligned_spikes\u001b[0m \u001b[0;34m=\u001b[0m \u001b[0mnp\u001b[0m\u001b[0;34m.\u001b[0m\u001b[0mvstack\u001b[0m\u001b[0;34m(\u001b[0m\u001b[0maligned_spikes\u001b[0m\u001b[0;34m)\u001b[0m\u001b[0;34m\u001b[0m\u001b[0;34m\u001b[0m\u001b[0m\n",
      "\u001b[0m\u001b[0;32m    112 \u001b[0;31m\u001b[0;34m\u001b[0m\u001b[0m\n",
      "\u001b[0m\u001b[0;32m    113 \u001b[0;31m        \u001b[0max0\u001b[0m\u001b[0;34m.\u001b[0m\u001b[0mimgshow\u001b[0m\u001b[0;34m(\u001b[0m\u001b[0maligned_spikes\u001b[0m\u001b[0;34m,\u001b[0m \u001b[0mcmap\u001b[0m\u001b[0;34m=\u001b[0m\u001b[0;34m'gray'\u001b[0m\u001b[0;34m,\u001b[0m \u001b[0minterpolation\u001b[0m\u001b[0;34m=\u001b[0m\u001b[0;34m'nearest'\u001b[0m\u001b[0;34m)\u001b[0m\u001b[0;34m\u001b[0m\u001b[0;34m\u001b[0m\u001b[0m\n",
      "\u001b[0m\n"
     ]
    },
    {
     "name": "stdin",
     "output_type": "stream",
     "text": [
      "ipdb>  aligned_spikes.shape()\n"
     ]
    },
    {
     "name": "stdout",
     "output_type": "stream",
     "text": [
      "*** TypeError: 'tuple' object is not callable\n"
     ]
    },
    {
     "name": "stdin",
     "output_type": "stream",
     "text": [
      "ipdb>  aligned_spikes.shape\n"
     ]
    },
    {
     "name": "stdout",
     "output_type": "stream",
     "text": [
      "(9,)\n"
     ]
    },
    {
     "name": "stdin",
     "output_type": "stream",
     "text": [
      "ipdb>  np.vstack(aligned_spikes).shape\n"
     ]
    },
    {
     "name": "stdout",
     "output_type": "stream",
     "text": [
      "*** ValueError: all the input array dimensions for the concatenation axis must match exactly, but along dimension 1, the array at index 0 has size 316 and the array at index 4 has size 317\n"
     ]
    },
    {
     "name": "stdin",
     "output_type": "stream",
     "text": [
      "ipdb>  key\n"
     ]
    },
    {
     "name": "stdout",
     "output_type": "stream",
     "text": [
      "{'subject': 'subject3', 'session_datetime': datetime.datetime(2021, 10, 25, 13, 6, 40), 'scan_id': 0, 'paramset_idx': 0, 'curation_id': 1, 'extraction_method': 'suite2p_deconvolution', 'alignment_name': 'center_button', 'trial_condition': 'ctrl_center_button'}\n"
     ]
    },
    {
     "name": "stdin",
     "output_type": "stream",
     "text": [
      "ipdb>  key = {'subject': 'subject3', 'session_datetime': datetime.datetime(2021, 10, 25, 13, 6, 40), 'scan_id': 0, 'paramset_idx': 0, 'curation_id': 1, 'extraction_method': 'suite2p_deconvolution', 'alignment_name': 'center_button', 'trial_condition': 'ctrl_center_button'}\n"
     ]
    },
    {
     "name": "stdout",
     "output_type": "stream",
     "text": [
      "*** NameError: name 'datetime' is not defined\n"
     ]
    },
    {
     "name": "stdin",
     "output_type": "stream",
     "text": [
      "ipdb>  len(aligned_spikes[0])\n"
     ]
    },
    {
     "name": "stdout",
     "output_type": "stream",
     "text": [
      "316\n"
     ]
    },
    {
     "name": "stdin",
     "output_type": "stream",
     "text": [
      "ipdb>  len(aligned_spikes[1])\n"
     ]
    },
    {
     "name": "stdout",
     "output_type": "stream",
     "text": [
      "316\n"
     ]
    },
    {
     "name": "stdin",
     "output_type": "stream",
     "text": [
      "ipdb>  len(aligned_spikes[8])\n"
     ]
    },
    {
     "name": "stdout",
     "output_type": "stream",
     "text": [
      "290\n"
     ]
    },
    {
     "name": "stdin",
     "output_type": "stream",
     "text": [
      "ipdb>  len(aligned_spikes[7])\n"
     ]
    },
    {
     "name": "stdout",
     "output_type": "stream",
     "text": [
      "317\n"
     ]
    },
    {
     "name": "stdin",
     "output_type": "stream",
     "text": [
      "ipdb>  len(aligned_spikes[6])\n"
     ]
    },
    {
     "name": "stdout",
     "output_type": "stream",
     "text": [
      "317\n"
     ]
    },
    {
     "name": "stdin",
     "output_type": "stream",
     "text": [
      "ipdb>  len(aligned_spikes[5])\n"
     ]
    },
    {
     "name": "stdout",
     "output_type": "stream",
     "text": [
      "317\n"
     ]
    },
    {
     "name": "stdin",
     "output_type": "stream",
     "text": [
      "ipdb>  len(aligned_spikes[4])\n"
     ]
    },
    {
     "name": "stdout",
     "output_type": "stream",
     "text": [
      "317\n"
     ]
    },
    {
     "name": "stdin",
     "output_type": "stream",
     "text": [
      "ipdb>  len(aligned_spikes[3])\n"
     ]
    },
    {
     "name": "stdout",
     "output_type": "stream",
     "text": [
      "316\n"
     ]
    },
    {
     "name": "stdin",
     "output_type": "stream",
     "text": [
      "ipdb>  quit\n"
     ]
    }
   ],
   "source": [
    "%debug"
   ]
  },
  {
   "cell_type": "code",
   "execution_count": 43,
   "id": "9e83fb7d-f4c2-4646-a97e-24f7a3a6d896",
   "metadata": {},
   "outputs": [
    {
     "ename": "NameError",
     "evalue": "name 'aligned_timestamps' is not defined",
     "output_type": "error",
     "traceback": [
      "\u001b[0;31m---------------------------------------------------------------------------\u001b[0m",
      "\u001b[0;31mNameError\u001b[0m                                 Traceback (most recent call last)",
      "\u001b[0;32m/var/folders/_9/tzvq__ws5z9gv5s7jvkj570r0000gn/T/ipykernel_6909/2444695424.py\u001b[0m in \u001b[0;36m<module>\u001b[0;34m\u001b[0m\n\u001b[1;32m     15\u001b[0m \u001b[0mfig\u001b[0m\u001b[0;34m,\u001b[0m \u001b[0;34m(\u001b[0m\u001b[0max0\u001b[0m\u001b[0;34m,\u001b[0m \u001b[0max1\u001b[0m\u001b[0;34m)\u001b[0m \u001b[0;34m=\u001b[0m \u001b[0mplt\u001b[0m\u001b[0;34m.\u001b[0m\u001b[0msubplots\u001b[0m\u001b[0;34m(\u001b[0m\u001b[0;36m2\u001b[0m\u001b[0;34m,\u001b[0m \u001b[0;36m1\u001b[0m\u001b[0;34m,\u001b[0m \u001b[0mfigsize\u001b[0m\u001b[0;34m=\u001b[0m\u001b[0;34m(\u001b[0m\u001b[0;36m12\u001b[0m\u001b[0;34m,\u001b[0m \u001b[0;36m8\u001b[0m\u001b[0;34m)\u001b[0m\u001b[0;34m)\u001b[0m\u001b[0;34m\u001b[0m\u001b[0;34m\u001b[0m\u001b[0m\n\u001b[1;32m     16\u001b[0m \u001b[0max0\u001b[0m\u001b[0;34m.\u001b[0m\u001b[0mplot\u001b[0m\u001b[0;34m(\u001b[0m\u001b[0maligned_spikes\u001b[0m\u001b[0;34m)\u001b[0m\u001b[0;31m#, cmap='gray', interpolation='nearest')\u001b[0m\u001b[0;34m\u001b[0m\u001b[0;34m\u001b[0m\u001b[0m\n\u001b[0;32m---> 17\u001b[0;31m \u001b[0max1\u001b[0m\u001b[0;34m.\u001b[0m\u001b[0mplot\u001b[0m\u001b[0;34m(\u001b[0m\u001b[0maligned_timestamps\u001b[0m\u001b[0;34m,\u001b[0m \u001b[0mnp\u001b[0m\u001b[0;34m.\u001b[0m\u001b[0mnanmean\u001b[0m\u001b[0;34m(\u001b[0m\u001b[0maligned_spikes\u001b[0m\u001b[0;34m)\u001b[0m\u001b[0;34m)\u001b[0m\u001b[0;34m\u001b[0m\u001b[0;34m\u001b[0m\u001b[0m\n\u001b[0m",
      "\u001b[0;31mNameError\u001b[0m: name 'aligned_timestamps' is not defined"
     ]
    },
    {
     "data": {
      "image/png": "[encoded data removed]",
      "text/plain": [
       "<Figure size 864x576 with 2 Axes>"
      ]
     },
     "metadata": {
      "needs_background": "light"
     },
     "output_type": "display_data"
    }
   ],
   "source": [
    "# %debug\n",
    "import datetime\n",
    "key = {'subject': 'subject3', \n",
    "       'session_datetime': datetime.datetime(2021, 10, 25, 13, 6, 40), \n",
    "       'scan_id': 0, 'paramset_idx': 0, 'curation_id': 1, \n",
    "       'extraction_method': 'suite2p_deconvolution', \n",
    "       'alignment_name': 'center_button', 'trial_condition': 'ctrl_center_button'}\n",
    "trial_ids, aligned_spikes= (analysis.ActivityAlignment.AlignedTrialSpikes \n",
    "                            & key & {'mask': 2}\n",
    "                           ).fetch('trial_id', 'aligned_trace', order_by='trial_id')\n",
    "import numpy as np\n",
    "aligned_spikes = np.vstack(aligned_spikes)\n",
    "import matplotlib.pyplot as plt\n",
    "fig = None\n",
    "fig, (ax0, ax1) = plt.subplots(2, 1, figsize=(12, 8))\n",
    "ax0.plot(aligned_spikes)#, cmap='gray', interpolation='nearest')\n",
    "ax1.plot(aligned_timestamps, np.nanmean(aligned_spikes))"
   ]
  },
  {
   "cell_type": "code",
   "execution_count": 41,
   "id": "38fed5cf-a562-45d9-868e-476279278000",
   "metadata": {},
   "outputs": [
    {
     "data": {
      "text/plain": [
       "<module 'matplotlib.pyplot' from '/Users/cb/miniconda3/envs/venv-nwb/lib/python3.8/site-packages/matplotlib/pyplot.py'>"
      ]
     },
     "execution_count": 41,
     "metadata": {},
     "output_type": "execute_result"
    }
   ],
   "source": [
    "plt"
   ]
  },
  {
   "cell_type": "code",
   "execution_count": 6,
   "id": "af466c68",
   "metadata": {},
   "outputs": [
    {
     "data": {
      "image/png": "[encoded data removed]",
      "text/plain": [
       "<Figure size 864x576 with 2 Axes>"
      ]
     },
     "metadata": {
      "needs_background": "light"
     },
     "output_type": "display_data"
    }
   ],
   "source": [
    "alignment_condition = {**ca_activity_key, **alignment_key, \n",
    "                       'trial_condition': 'stim_center_button'}\n",
    "analysis.ActivityAlignment().plot_aligned_activities(alignment_condition, unit=2);"
   ]
  },
  {
   "cell_type": "code",
   "execution_count": null,
   "id": "6c0f1691",
   "metadata": {},
   "outputs": [],
   "source": []
  }
 ],
 "metadata": {
  "kernelspec": {
   "display_name": "venv-nwb",
   "language": "python",
   "name": "venv-nwb"
  },
  "language_info": {
   "codemirror_mode": {
    "name": "ipython",
    "version": 3
   },
   "file_extension": ".py",
   "mimetype": "text/x-python",
   "name": "python",
   "nbconvert_exporter": "python",
   "pygments_lexer": "ipython3",
   "version": "3.8.11"
  }
 },
 "nbformat": 4,
 "nbformat_minor": 5
}
