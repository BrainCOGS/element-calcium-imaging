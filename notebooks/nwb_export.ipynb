{
 "cells": [
  {
   "cell_type": "markdown",
   "metadata": {},
   "source": [
    "# Export workflow to Neurodata Without Borders file and upload to DANDI\n",
    "\n",
    "In this tutorial, we will walk through exporting two-photon calcium imaging data\n",
    "stored in a DataJoint pipeline to [Neurodata Without Borders (NWB)](https://www.nwb.org/) file format and\n",
    "uploading the NWB file to the [DANDI archive](https://dandiarchive.org/).\n",
    "\n",
    "Please ensure the following before running this notebook for the best experience:\n",
    "1. Set up an account with the [DANDI archive](https://dandiarchive.org/).\n",
    "2. Obtain your `DANDI api key` and `Dandiset ID`.\n",
    "\n",
    "*Before running this notebook, please see the calcium imaging [tutorial](./tutorial.ipynb) notebook to\n",
    "set up and insert data into the calcium imaging data pipeline.*"
   ]
  },
  {
   "cell_type": "code",
   "execution_count": null,
   "metadata": {},
   "outputs": [],
   "source": [
    "import os\n",
    "\n",
    "if os.path.basename(os.getcwd()) == \"notebooks\":\n",
    "    os.chdir(\"..\")\n",
    "\n",
    "import datajoint as dj\n",
    "from datetime import datetime\n",
    "import uuid\n",
    "from workflow.pipeline import *\n",
    "from element_lab.export import element_lab_to_nwb_dict\n",
    "from element_animal.export.nwb import subject_to_nwb\n",
    "from element_session.export.nwb import session_to_nwb\n",
    "from element_calcium_imaging.export.nwb import imaging_session_to_nwb, write_nwb\n",
    "from element_interface.dandi import upload_to_dandi"
   ]
  },
  {
   "cell_type": "markdown",
   "metadata": {},
   "source": [
    "Fetch the `session_key` for the session you want to convert to NWB. "
   ]
  },
  {
   "cell_type": "code",
   "execution_count": null,
   "metadata": {},
   "outputs": [],
   "source": [
    "session_key = (session.Session & \"subject='subject1'\").fetch1(\"KEY\")"
   ]
  },
  {
   "cell_type": "markdown",
   "metadata": {},
   "source": [
    "Define any optional keyword arguments for the NWB file and call the\n",
    "`imaging_session_to_nwb` function"
   ]
  },
  {
   "cell_type": "code",
   "execution_count": null,
   "metadata": {},
   "outputs": [],
   "source": [
    "nwb_kwargs = {\n",
    "    \"session_start_time\": datetime.now(),\n",
    "    \"session_description\": \"DataJoint Session\",\n",
    "    \"identifier\": uuid(\"DJNWBFile\"),\n",
    "}\n",
    "test_file = imaging_session_to_nwb(session_key=session_key, include_raw_data=False)"
   ]
  },
  {
   "cell_type": "markdown",
   "metadata": {},
   "source": [
    "Uploading to the DANDI archive requires information in the NWB file that may not be\n",
    "present when calling `imaging_session_to_nwb` such as the subject's date of birth or\n",
    "species. We can check for this information within the NWB file and add the information\n",
    "if it's missing. "
   ]
  },
  {
   "cell_type": "code",
   "execution_count": null,
   "metadata": {},
   "outputs": [],
   "source": [
    "test_file.subject"
   ]
  },
  {
   "cell_type": "code",
   "execution_count": null,
   "metadata": {},
   "outputs": [],
   "source": [
    "dob, subject_sex = (subject.Subject & session_key).fetch1(\"subject_birth_date\", \"sex\")\n",
    "species = \"Mus musculus\"\n",
    "test_file.subject.sex = subject_sex\n",
    "test_file.subject.date_of_birth = dob\n",
    "test_file.subject.species = species"
   ]
  },
  {
   "cell_type": "markdown",
   "metadata": {},
   "source": [
    "Save the NWB file to a local directory prior to uploading to DANDI. "
   ]
  },
  {
   "cell_type": "code",
   "execution_count": null,
   "metadata": {},
   "outputs": [],
   "source": [
    "write_nwb(test_file, \"subject1_nwb\")"
   ]
  },
  {
   "cell_type": "code",
   "execution_count": null,
   "metadata": {},
   "outputs": [],
   "source": [
    "upload_to_dandi(\n",
    "    data_directory=\"./example_data/000683/\",\n",
    "    working_directory=\"./example_data/\",\n",
    "    dandiset_id=dj.config[\"custom\"][\"dandiset_id\"],\n",
    "    staging=False,\n",
    "    api_key=dj.config[\"custom\"][\"dandi.api\"],\n",
    "    sync=False,\n",
    ")"
   ]
  },
  {
   "cell_type": "code",
   "execution_count": null,
   "metadata": {},
   "outputs": [],
   "source": []
  },
  {
   "cell_type": "code",
   "execution_count": null,
   "metadata": {},
   "outputs": [],
   "source": []
  }
 ],
 "metadata": {
  "kernelspec": {
   "display_name": "nwb",
   "language": "python",
   "name": "python3"
  },
  "language_info": {
   "codemirror_mode": {
    "name": "ipython",
    "version": 3
   },
   "file_extension": ".py",
   "mimetype": "text/x-python",
   "name": "python",
   "nbconvert_exporter": "python",
   "pygments_lexer": "ipython3",
   "version": "3.9.17"
  },
  "orig_nbformat": 4
 },
 "nbformat": 4,
 "nbformat_minor": 2
}
