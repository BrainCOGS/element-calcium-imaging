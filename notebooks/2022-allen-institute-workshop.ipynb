{
 "cells": [
  {
   "cell_type": "markdown",
   "id": "11e51a9c",
   "metadata": {},
   "source": [
    "# Allen Institute Calcium Imaging Workshop\n",
    "September 22, 2022\n",
    "+ In this notebook, we will show some of the advantages of working with DataJoint workflows, including how to interact with a database in Python and how re-run an analysis.\n",
    "\n",
    "+ Other notebooks in this directory describe the process for running the analysis steps in more detail.\n",
    "\n",
    "+ This notebook is meant to be run on CodeBook (`https://codebook.datajoint.io`) which contains example data.\n",
    "\n",
    "+ First run the `01-configure` and `04-automate` notebooks to set up your environment and load example data into the database, respectively."
   ]
  },
  {
   "cell_type": "markdown",
   "id": "14a6ba1d",
   "metadata": {},
   "source": [
    "## Configuration\n",
    "\n",
    "Import the relevant packages."
   ]
  },
  {
   "cell_type": "code",
   "execution_count": null,
   "id": "e1e0295c-57bf-49d2-9a1e-931d0e53264b",
   "metadata": {},
   "outputs": [],
   "source": [
    "import datajoint as dj\n",
    "import numpy as np\n",
    "from matplotlib import pyplot"
   ]
  },
  {
   "cell_type": "markdown",
   "id": "e652916f",
   "metadata": {},
   "source": [
    "Enter database credentials.  A DataJoint workflow requires a connection to an existing relational database. The connection setup parameters are defined in the `dj.config` python dictionary."
   ]
  },
  {
   "cell_type": "code",
   "execution_count": null,
   "id": "fdc35bd8-2381-4769-9f43-33a7f3fd2332",
   "metadata": {
    "tags": []
   },
   "outputs": [],
   "source": [
    "dj.config['custom'] = {'database.prefix': '<username>_allen_ophys_',\n",
    "                       'imaging_root_data_dir': '/home/inbox/0_1_0a2/'}"
   ]
  },
  {
   "cell_type": "markdown",
   "id": "7c545770",
   "metadata": {},
   "source": [
    "Import the workflow.  The current workflow is composed of multiple database schemas, each of them corresponding to a module within the `workflow_calcium_imaging.pipeline` file."
   ]
  },
  {
   "cell_type": "code",
   "execution_count": null,
   "id": "ee08b24f",
   "metadata": {},
   "outputs": [],
   "source": [
    "from workflow_calcium_imaging.pipeline import lab, subject, session, scan, imaging"
   ]
  },
  {
   "cell_type": "markdown",
   "id": "2bd6d86b",
   "metadata": {},
   "source": [
    "## Workflow diagram\n",
    "\n",
    "Plot the workflow diagram.  In relational databases, the entities (i.e. rows) in different tables are connected to each other. Visualization of this relationship helps one to write accurate queries. For the calcium imaging workflow, this connection is as follows:"
   ]
  },
  {
   "cell_type": "code",
   "execution_count": null,
   "id": "8dd6d3ee",
   "metadata": {
    "tags": []
   },
   "outputs": [],
   "source": [
    "dj.Diagram(lab.Lab) + dj.Diagram(subject.Subject) + dj.Diagram(session.Session) + \\\n",
    "dj.Diagram(scan) + dj.Diagram(imaging)"
   ]
  },
  {
   "cell_type": "code",
   "execution_count": null,
   "id": "1caa7ced-93f6-4182-aa57-61bfbf961d38",
   "metadata": {},
   "outputs": [],
   "source": [
    "subject.Subject()"
   ]
  },
  {
   "cell_type": "code",
   "execution_count": null,
   "id": "a110dca3-9149-40dd-8776-5b61476ccda1",
   "metadata": {},
   "outputs": [],
   "source": [
    "scan.Scan()"
   ]
  },
  {
   "cell_type": "code",
   "execution_count": null,
   "id": "9a4ea243",
   "metadata": {},
   "outputs": [],
   "source": [
    "imaging.Fluorescence()"
   ]
  },
  {
   "cell_type": "markdown",
   "id": "5ca53cb7",
   "metadata": {},
   "source": [
    "## Fetch data from the database\n",
    "\n",
    "Fetch a fluorescence trace for a single mask and plot these values."
   ]
  },
  {
   "cell_type": "code",
   "execution_count": null,
   "id": "082bcda0",
   "metadata": {},
   "outputs": [],
   "source": [
    "imaging.Fluorescence.Trace()"
   ]
  },
  {
   "cell_type": "markdown",
   "id": "0e3ebf0f",
   "metadata": {},
   "source": [
    "Restrict the table with specific criteria."
   ]
  },
  {
   "cell_type": "code",
   "execution_count": null,
   "id": "955af65d",
   "metadata": {},
   "outputs": [],
   "source": [
    "imaging.Fluorescence.Trace & 'subject=\"\"' \\\n",
    "                           & 'session_datetime=\"2020-08-08\"' \\\n",
    "                           & 'mask_id=120'"
   ]
  },
  {
   "cell_type": "markdown",
   "id": "509d5335",
   "metadata": {},
   "source": [
    "Fetch a fluorescence trace from the database."
   ]
  },
  {
   "cell_type": "code",
   "execution_count": null,
   "id": "96c1a6cd",
   "metadata": {},
   "outputs": [],
   "source": [
    "trace = (imaging.Fluorescence.Trace & 'subject=\"\"' \\\n",
    "                                    & 'session_datetime=\"2020-08-08\"' \\\n",
    "                                    & 'mask_id=120').fetch('fluorescence')"
   ]
  },
  {
   "cell_type": "markdown",
   "id": "a9bc7039",
   "metadata": {},
   "source": [
    "Plot the fluorescence trace."
   ]
  },
  {
   "cell_type": "code",
   "execution_count": null,
   "id": "a9a2cd6a",
   "metadata": {},
   "outputs": [],
   "source": [
    "sampling_rate = (scan.ScanInfo & 'subject=\"\"' & 'session_datetime=\"2020-08-08\"').fetch1('fps')\n",
    "\n",
    "pyplot.plot(np.r_[:trace.size] * 1/sampling_rate, trace, 'k')\n",
    "\n",
    "pyplot.title('Fluorescence trace for mask 120',labelsize=14)\n",
    "pyplot.tick_params(labelsize=14)\n",
    "pyplot.set_xlabel('Time (s)')\n",
    "pyplot.set_ylabel('Activity (a.u.)')"
   ]
  },
  {
   "cell_type": "markdown",
   "id": "68559c95-3c4e-4c6a-acbb-c06796a8399c",
   "metadata": {},
   "source": [
    "## Run analysis\n",
    "\n",
    "The workflow has already been run for with a parameter set (paramset_idx=1).  Let's re-run Suite2p with a different parameter set, changing the cell diameter to 10 microns."
   ]
  },
  {
   "cell_type": "code",
   "execution_count": null,
   "id": "6b01dfad",
   "metadata": {},
   "outputs": [],
   "source": [
    "dj.Diagram(imaging.Processing)-2"
   ]
  },
  {
   "cell_type": "code",
   "execution_count": null,
   "id": "3ec4c0bb-c724-4c0a-add7-ee198dd632d0",
   "metadata": {},
   "outputs": [],
   "source": [
    "imaging.ProcessingTask()"
   ]
  },
  {
   "cell_type": "code",
   "execution_count": null,
   "id": "7505c558",
   "metadata": {},
   "outputs": [],
   "source": [
    "imaging.ProcessingParamSet()"
   ]
  },
  {
   "cell_type": "code",
   "execution_count": null,
   "id": "55196834",
   "metadata": {},
   "outputs": [],
   "source": [
    "params_suite2p = {'look_one_level_down': 0.0,\n",
    "                  'fast_disk': [],\n",
    "                  'delete_bin': False,\n",
    "                  'mesoscan': False,\n",
    "                  'h5py': [],\n",
    "                  'h5py_key': 'data',\n",
    "                  'save_path0': [],\n",
    "                  'subfolders': [],\n",
    "                  'nplanes': 1,\n",
    "                  'nchannels': 1,\n",
    "                  'functional_chan': 1,\n",
    "                  'tau': 1.0,\n",
    "                  'fs': 10.0,\n",
    "                  'force_sktiff': False,\n",
    "                  'preclassify': 0.0,\n",
    "                  'save_mat': False,\n",
    "                  'combined': True,\n",
    "                  'aspect': 1.0,\n",
    "                  'do_bidiphase': False,\n",
    "                  'bidiphase': 0.0,\n",
    "                  'do_registration': True,\n",
    "                  'keep_movie_raw': False,\n",
    "                  'nimg_init': 300,\n",
    "                  'batch_size': 500,\n",
    "                  'maxregshift': 0.1,\n",
    "                  'align_by_chan': 1,\n",
    "                  'reg_tif': False,\n",
    "                  'reg_tif_chan2': False,\n",
    "                  'subpixel': 10,\n",
    "                  'smooth_sigma': 1.15,\n",
    "                  'th_badframes': 1.0,\n",
    "                  'pad_fft': False,\n",
    "                  'nonrigid': True,\n",
    "                  'block_size': [128, 128],\n",
    "                  'snr_thresh': 1.2,\n",
    "                  'maxregshiftNR': 5.0,\n",
    "                  '1Preg': False,\n",
    "                  'spatial_hp': 50.0,\n",
    "                  'pre_smooth': 2.0,\n",
    "                  'spatial_taper': 50.0,\n",
    "                  'roidetect': True,\n",
    "                  'sparse_mode': False,\n",
    "                  'diameter': 10,\n",
    "                  'spatial_scale': 0,\n",
    "                  'connected': True,\n",
    "                  'nbinned': 5000,\n",
    "                  'max_iterations': 20,\n",
    "                  'threshold_scaling': 1.0,\n",
    "                  'max_overlap': 0.75,\n",
    "                  'high_pass': 100.0,\n",
    "                  'inner_neuropil_radius': 2,\n",
    "                  'min_neuropil_pixels': 350,\n",
    "                  'allow_overlap': False,\n",
    "                  'chan2_thres': 0.65,\n",
    "                  'baseline': 'maximin',\n",
    "                  'win_baseline': 60.0,\n",
    "                  'sig_baseline': 10.0,\n",
    "                  'prctile_baseline': 8.0,\n",
    "                  'neucoeff': 0.7,\n",
    "                  'xrange': np.array([0, 0]),\n",
    "                  'yrange': np.array([0, 0])}"
   ]
  },
  {
   "cell_type": "code",
   "execution_count": null,
   "id": "ec0841aa",
   "metadata": {},
   "outputs": [],
   "source": [
    "imaging.ProcessingTask()"
   ]
  },
  {
   "cell_type": "markdown",
   "id": "637b9ec1",
   "metadata": {},
   "source": [
    "Run Suite2p for the new parameter set and save the results to the respective tables."
   ]
  },
  {
   "cell_type": "code",
   "execution_count": null,
   "id": "b5d6bc13",
   "metadata": {},
   "outputs": [],
   "source": [
    "populate_settings = dict(display_progress=True)\n",
    "\n",
    "imaging.Processing.populate(populate_settings)\n",
    "\n",
    "imaging.MotionCorrection.populate(populate_settings)\n",
    "\n",
    "imaging.Segmentation.populate(populate_settings)\n",
    "\n",
    "imaging.Fluorescence.populate(populate_settings)\n",
    "\n",
    "imaging.Activity.populate(populate_settings)"
   ]
  },
  {
   "cell_type": "markdown",
   "id": "4c8087a9",
   "metadata": {},
   "source": [
    "## Summary and next steps\n",
    "\n",
    "In this notebook we explored how to query and fetch data from the database, and re-run analysis with new parameters.  Next, please explore more of the features of the DataJoint Elements in the other notebooks.  Once you are ready to begin setting up your pipeline, fork this repository on GitHub and begin adapting it for your projects requirements."
   ]
  }
 ],
 "metadata": {
  "kernelspec": {
   "display_name": "Python 3.7.9 ('workflow-calcium-imaging')",
   "language": "python",
   "name": "python3"
  },
  "language_info": {
   "codemirror_mode": {
    "name": "ipython",
    "version": 3
   },
   "file_extension": ".py",
   "mimetype": "text/x-python",
   "name": "python",
   "nbconvert_exporter": "python",
   "pygments_lexer": "ipython3",
   "version": "3.7.9"
  },
  "vscode": {
   "interpreter": {
    "hash": "2da0f701b958ef27dbb9ddfd0ee0eb0d75664c3cb2b4bc67fd0780a51e2b3863"
   }
  }
 },
 "nbformat": 4,
 "nbformat_minor": 5
}
