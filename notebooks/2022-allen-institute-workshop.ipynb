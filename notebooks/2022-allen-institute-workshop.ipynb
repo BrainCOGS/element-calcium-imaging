{
 "cells": [
  {
   "cell_type": "markdown",
   "id": "11e51a9c",
   "metadata": {},
   "source": [
    "# Allen Institute Calcium Imaging Workshop\n",
    "September 22, 2022\n",
    "+ In this notebook, we will show how to interact with a database in Python and how re-run an analysis.\n",
    "\n",
    "+ Other notebooks in this directory describe the process for running the analysis steps in more detail.\n",
    "\n",
    "+ This notebook is meant to be run on CodeBook (`https://codebook.datajoint.io`) which contains example data.\n",
    "\n",
    "First, some packages we'll use in this notebook..."
   ]
  },
  {
   "cell_type": "code",
   "execution_count": null,
   "id": "e1e0295c-57bf-49d2-9a1e-931d0e53264b",
   "metadata": {},
   "outputs": [],
   "source": [
    "import datajoint as dj \n",
    "import numpy as np\n",
    "from matplotlib import pyplot\n",
    "import os\n",
    "import getpass"
   ]
  },
  {
   "cell_type": "markdown",
   "id": "14a6ba1d",
   "metadata": {},
   "source": [
    "## Configuration"
   ]
  },
  {
   "cell_type": "markdown",
   "id": "cb03797f",
   "metadata": {},
   "source": [
    "These steps are taken from [01-configure](01-configure.ipynb). If you've already saved a config file, you can skip to the next section."
   ]
  },
  {
   "cell_type": "markdown",
   "id": "e652916f",
   "metadata": {},
   "source": [
    "Enter database credentials.  A DataJoint workflow requires a connection to an existing relational database. The connection setup parameters are defined in the `dj.config` python dictionary."
   ]
  },
  {
   "cell_type": "code",
   "execution_count": null,
   "id": "fdc35bd8-2381-4769-9f43-33a7f3fd2332",
   "metadata": {
    "tags": []
   },
   "outputs": [],
   "source": [
    "username_as_prefix = dj.config[\"database.user\"] + \"_img_\"\n",
    "dj.config['custom'] = {\n",
    "    'database.prefix': username_as_prefix,\n",
    "    'imaging_root_data_dir': '/home/inbox/0_1_0a2/'\n",
    "}"
   ]
  },
  {
   "cell_type": "markdown",
   "id": "21a69c02",
   "metadata": {},
   "source": [
    "Next, we'll use a prompt to securely save your password."
   ]
  },
  {
   "cell_type": "code",
   "execution_count": null,
   "id": "66bea7cb",
   "metadata": {},
   "outputs": [],
   "source": [
    "dj.config[\"database.password\"] = getpass.getpass()"
   ]
  },
  {
   "cell_type": "markdown",
   "id": "c45a3aad",
   "metadata": {},
   "source": [
    "Now to save these credentials."
   ]
  },
  {
   "cell_type": "code",
   "execution_count": null,
   "id": "4e4f0448",
   "metadata": {},
   "outputs": [],
   "source": [
    "dj.config.save_global()"
   ]
  },
  {
   "cell_type": "markdown",
   "id": "a570822d",
   "metadata": {},
   "source": [
    "## Populating the database"
   ]
  },
  {
   "cell_type": "markdown",
   "id": "8ee61c1d",
   "metadata": {},
   "source": [
    "Next, we'll populate these schema using steps from [04-automate](04-automate-optional.ipynb). If your schema are already populated, you can skip this step. For more details on each of these steps, please visit [that notebook](04-automate-optional.ipynb)."
   ]
  },
  {
   "cell_type": "code",
   "execution_count": null,
   "id": "bc01b55c",
   "metadata": {},
   "outputs": [],
   "source": [
    "from workflow_calcium_imaging.pipeline import session, imaging # import schemas\n",
    "from workflow_calcium_imaging.ingest import ingest_subjects, ingest_sessions #csv loaders\n",
    "\n",
    "ingest_subjects(subject_csv_path=\"/home/user_data/subjects.csv\")\n",
    "ingest_sessions(session_csv_path=\"/home/user_data/sessions.csv\")\n",
    "\n",
    "params_suite2p = {'look_one_level_down': 0.0,\n",
    "                  'fast_disk': [],\n",
    "                  'delete_bin': False,\n",
    "                  'mesoscan': False,\n",
    "                  'h5py': [],\n",
    "                  'h5py_key': 'data',\n",
    "                  'save_path0': [],\n",
    "                  'subfolders': [],\n",
    "                  'nplanes': 1,\n",
    "                  'nchannels': 1,\n",
    "                  'functional_chan': 1,\n",
    "                  'tau': 1.0,\n",
    "                  'fs': 10.0,\n",
    "                  'force_sktiff': False,\n",
    "                  'preclassify': 0.0,\n",
    "                  'save_mat': False,\n",
    "                  'combined': True,\n",
    "                  'aspect': 1.0,\n",
    "                  'do_bidiphase': False,\n",
    "                  'bidiphase': 0.0,\n",
    "                  'do_registration': True,\n",
    "                  'keep_movie_raw': False,\n",
    "                  'nimg_init': 300,\n",
    "                  'batch_size': 500,\n",
    "                  'maxregshift': 0.1,\n",
    "                  'align_by_chan': 1,\n",
    "                  'reg_tif': False,\n",
    "                  'reg_tif_chan2': False,\n",
    "                  'subpixel': 10,\n",
    "                  'smooth_sigma': 1.15,\n",
    "                  'th_badframes': 1.0,\n",
    "                  'pad_fft': False,\n",
    "                  'nonrigid': True,\n",
    "                  'block_size': [128, 128],\n",
    "                  'snr_thresh': 1.2,\n",
    "                  'maxregshiftNR': 5.0,\n",
    "                  '1Preg': False,\n",
    "                  'spatial_hp': 50.0,\n",
    "                  'pre_smooth': 2.0,\n",
    "                  'spatial_taper': 50.0,\n",
    "                  'roidetect': True,\n",
    "                  'sparse_mode': False,\n",
    "                  'diameter': 12,\n",
    "                  'spatial_scale': 0,\n",
    "                  'connected': True,\n",
    "                  'nbinned': 5000,\n",
    "                  'max_iterations': 20,\n",
    "                  'threshold_scaling': 1.0,\n",
    "                  'max_overlap': 0.75,\n",
    "                  'high_pass': 100.0,\n",
    "                  'inner_neuropil_radius': 2,\n",
    "                  'min_neuropil_pixels': 350,\n",
    "                  'allow_overlap': False,\n",
    "                  'chan2_thres': 0.65,\n",
    "                  'baseline': 'maximin',\n",
    "                  'win_baseline': 60.0,\n",
    "                  'sig_baseline': 10.0,\n",
    "                  'prctile_baseline': 8.0,\n",
    "                  'neucoeff': 0.7,\n",
    "                  'xrange': np.array([0, 0]),\n",
    "                  'yrange': np.array([0, 0])}\n",
    "\n",
    "imaging.ProcessingParamSet.insert_new_params(\n",
    "    processing_method='suite2p', \n",
    "    paramset_idx=0, \n",
    "    params=params_suite2p,\n",
    "    paramset_desc='Calcium imaging analysis with Suite2p using default Suite2p parameters')"
   ]
  },
  {
   "cell_type": "markdown",
   "id": "97019839",
   "metadata": {},
   "source": [
    "Next, we'll trigger the relevant `populate` commands."
   ]
  },
  {
   "cell_type": "code",
   "execution_count": null,
   "id": "4b790374",
   "metadata": {},
   "outputs": [],
   "source": [
    "from workflow_calcium_imaging import process\n",
    "\n",
    "process.run()\n",
    "session_key = (session.Session & 'subject=\"subject3\"').fetch('KEY')[0]\n",
    "imaging.ProcessingTask.insert1(dict(session_key, \n",
    "                                    scan_id=0,\n",
    "                                    paramset_idx=0,\n",
    "                                    processing_output_dir='subject3/210107_run00_orientation_8dir/suite2p'), skip_duplicates=True)\n",
    "process.run()"
   ]
  },
  {
   "cell_type": "markdown",
   "id": "6d72a724",
   "metadata": {},
   "source": [
    "And then, we'll insert new Curation to trigger ingestion of curated results, followed by the same `process.run` automation.\n"
   ]
  },
  {
   "cell_type": "code",
   "execution_count": null,
   "id": "07d485e0",
   "metadata": {},
   "outputs": [],
   "source": [
    "key = (imaging.ProcessingTask & session_key).fetch1('KEY')\n",
    "imaging.Curation().create1_from_processing_task(key)\n",
    "process.run()"
   ]
  },
  {
   "cell_type": "markdown",
   "id": "a6cddd3c",
   "metadata": {},
   "source": [
    "## Exploring the workflow\n",
    "\n",
    "### Import the workflow\n",
    "\n",
    "The current workflow is composed of multiple database schemas, each of them corresponding to a module within the `workflow_calcium_imaging.pipeline` file."
   ]
  },
  {
   "cell_type": "code",
   "execution_count": null,
   "id": "ee08b24f",
   "metadata": {},
   "outputs": [],
   "source": [
    "from workflow_calcium_imaging.pipeline import lab, subject, session, scan, imaging"
   ]
  },
  {
   "cell_type": "markdown",
   "id": "2bd6d86b",
   "metadata": {},
   "source": [
    "### Diagrams and table design\n",
    "\n",
    "We can plot the workflow diagram.  In relational databases, the entities (i.e. rows) in different tables are connected to each other. Visualization of this relationship helps one to write accurate queries. For the calcium imaging workflow, this connection is as follows:"
   ]
  },
  {
   "cell_type": "code",
   "execution_count": null,
   "id": "8dd6d3ee",
   "metadata": {
    "tags": []
   },
   "outputs": [],
   "source": [
    "dj.Diagram(lab.Lab) + dj.Diagram(subject.Subject) + dj.Diagram(session.Session) + \\\n",
    "dj.Diagram(scan) + dj.Diagram(imaging)"
   ]
  },
  {
   "cell_type": "code",
   "execution_count": null,
   "id": "1caa7ced-93f6-4182-aa57-61bfbf961d38",
   "metadata": {},
   "outputs": [],
   "source": [
    "subject.Subject()"
   ]
  },
  {
   "cell_type": "code",
   "execution_count": null,
   "id": "a110dca3-9149-40dd-8776-5b61476ccda1",
   "metadata": {},
   "outputs": [],
   "source": [
    "scan.Scan()"
   ]
  },
  {
   "cell_type": "code",
   "execution_count": null,
   "id": "9a4ea243",
   "metadata": {},
   "outputs": [],
   "source": [
    "imaging.Fluorescence()"
   ]
  },
  {
   "cell_type": "markdown",
   "id": "5ca53cb7",
   "metadata": {},
   "source": [
    "### Fetch data\n",
    "\n",
    "Here, we fetch a fluorescence trace for a single mask and plot these values."
   ]
  },
  {
   "cell_type": "code",
   "execution_count": null,
   "id": "082bcda0",
   "metadata": {},
   "outputs": [],
   "source": [
    "imaging.Fluorescence.Trace()"
   ]
  },
  {
   "cell_type": "markdown",
   "id": "0e3ebf0f",
   "metadata": {},
   "source": [
    "Restrict the table with specific criteria."
   ]
  },
  {
   "cell_type": "code",
   "execution_count": null,
   "id": "955af65d",
   "metadata": {},
   "outputs": [],
   "source": [
    "query_trace = imaging.Fluorescence.Trace & 'subject=\"subject3\"' \\\n",
    "                                    & 'session_datetime=\"2022-09-01 19:16:44\"' \\\n",
    "                                    & 'mask=120'\n",
    "query_trace"
   ]
  },
  {
   "cell_type": "markdown",
   "id": "509d5335",
   "metadata": {},
   "source": [
    "Fetch a fluorescence trace from the database."
   ]
  },
  {
   "cell_type": "code",
   "execution_count": null,
   "id": "96c1a6cd",
   "metadata": {},
   "outputs": [],
   "source": [
    "trace = (query_trace).fetch('fluorescence')"
   ]
  },
  {
   "cell_type": "markdown",
   "id": "a9bc7039",
   "metadata": {},
   "source": [
    "Plot the fluorescence trace."
   ]
  },
  {
   "cell_type": "code",
   "execution_count": null,
   "id": "a9a2cd6a",
   "metadata": {},
   "outputs": [],
   "source": [
    "sampling_rate = (scan.ScanInfo & 'subject=\"subject3\"' & 'session_datetime=\"2022-09-01 19:16:44\"').fetch1('fps')\n",
    "\n",
    "pyplot.plot(np.r_[:trace.size] * 1/sampling_rate, trace, 'k')\n",
    "\n",
    "pyplot.title('Fluorescence trace for mask 120', fontsize=14)\n",
    "pyplot.tick_params(labelsize=14)\n",
    "pyplot.xlabel('Time (s)')\n",
    "pyplot.ylabel('Activity (a.u.)')"
   ]
  },
  {
   "cell_type": "markdown",
   "id": "68559c95-3c4e-4c6a-acbb-c06796a8399c",
   "metadata": {},
   "source": [
    "## Running an analysis\n",
    "\n",
    "The workflow has already been run for with a parameter set (`paramset_idx=1`).  Let's re-run Suite2p with a different parameter set, changing the cell diameter to 10 microns."
   ]
  },
  {
   "cell_type": "code",
   "execution_count": null,
   "id": "6b01dfad",
   "metadata": {},
   "outputs": [],
   "source": [
    "dj.Diagram(imaging.Processing)-2"
   ]
  },
  {
   "cell_type": "code",
   "execution_count": null,
   "id": "3ec4c0bb-c724-4c0a-add7-ee198dd632d0",
   "metadata": {},
   "outputs": [],
   "source": [
    "imaging.ProcessingTask()"
   ]
  },
  {
   "cell_type": "code",
   "execution_count": null,
   "id": "7505c558",
   "metadata": {},
   "outputs": [],
   "source": [
    "imaging.ProcessingParamSet()"
   ]
  },
  {
   "cell_type": "code",
   "execution_count": null,
   "id": "55196834",
   "metadata": {},
   "outputs": [],
   "source": [
    "params_suite2p = {'look_one_level_down': 0.0,\n",
    "                  'fast_disk': [],\n",
    "                  'delete_bin': False,\n",
    "                  'mesoscan': False,\n",
    "                  'h5py': [],\n",
    "                  'h5py_key': 'data',\n",
    "                  'save_path0': [],\n",
    "                  'subfolders': [],\n",
    "                  'nplanes': 1,\n",
    "                  'nchannels': 1,\n",
    "                  'functional_chan': 1,\n",
    "                  'tau': 1.0,\n",
    "                  'fs': 10.0,\n",
    "                  'force_sktiff': False,\n",
    "                  'preclassify': 0.0,\n",
    "                  'save_mat': False,\n",
    "                  'combined': True,\n",
    "                  'aspect': 1.0,\n",
    "                  'do_bidiphase': False,\n",
    "                  'bidiphase': 0.0,\n",
    "                  'do_registration': True,\n",
    "                  'keep_movie_raw': False,\n",
    "                  'nimg_init': 300,\n",
    "                  'batch_size': 500,\n",
    "                  'maxregshift': 0.1,\n",
    "                  'align_by_chan': 1,\n",
    "                  'reg_tif': False,\n",
    "                  'reg_tif_chan2': False,\n",
    "                  'subpixel': 10,\n",
    "                  'smooth_sigma': 1.15,\n",
    "                  'th_badframes': 1.0,\n",
    "                  'pad_fft': False,\n",
    "                  'nonrigid': True,\n",
    "                  'block_size': [128, 128],\n",
    "                  'snr_thresh': 1.2,\n",
    "                  'maxregshiftNR': 5.0,\n",
    "                  '1Preg': False,\n",
    "                  'spatial_hp': 50.0,\n",
    "                  'pre_smooth': 2.0,\n",
    "                  'spatial_taper': 50.0,\n",
    "                  'roidetect': True,\n",
    "                  'sparse_mode': False,\n",
    "                  'diameter': 10,\n",
    "                  'spatial_scale': 0,\n",
    "                  'connected': True,\n",
    "                  'nbinned': 5000,\n",
    "                  'max_iterations': 20,\n",
    "                  'threshold_scaling': 1.0,\n",
    "                  'max_overlap': 0.75,\n",
    "                  'high_pass': 100.0,\n",
    "                  'inner_neuropil_radius': 2,\n",
    "                  'min_neuropil_pixels': 350,\n",
    "                  'allow_overlap': False,\n",
    "                  'chan2_thres': 0.65,\n",
    "                  'baseline': 'maximin',\n",
    "                  'win_baseline': 60.0,\n",
    "                  'sig_baseline': 10.0,\n",
    "                  'prctile_baseline': 8.0,\n",
    "                  'neucoeff': 0.7,\n",
    "                  'xrange': np.array([0, 0]),\n",
    "                  'yrange': np.array([0, 0])}"
   ]
  },
  {
   "cell_type": "code",
   "execution_count": null,
   "id": "b42e5074",
   "metadata": {},
   "outputs": [],
   "source": [
    "imaging.ProcessingParamSet.insert_new_params(processing_method='suite2p', \n",
    "                                             paramset_idx=1, \n",
    "                                             params=params_suite2p,\n",
    "                                             paramset_desc='diameter=10')"
   ]
  },
  {
   "cell_type": "code",
   "execution_count": null,
   "id": "41fe465c",
   "metadata": {},
   "outputs": [],
   "source": [
    "imaging.ProcessingParamSet()"
   ]
  },
  {
   "cell_type": "code",
   "execution_count": null,
   "id": "5fb498b3",
   "metadata": {},
   "outputs": [],
   "source": [
    "os.makedirs('/home/inbox/0_1_0a2/subject3/210107_run00_orientation_8dir/suite2p_1', exist_ok=True)\n",
    "\n",
    "imaging.ProcessingTask.insert1(dict(subject='subject3', \n",
    "                                    session_datetime='2022-09-01 19:16:44', \n",
    "                                    scan_id=0,\n",
    "                                    paramset_idx=1,\n",
    "                                    processing_output_dir='subject3/210107_run00_orientation_8dir/suite2p_1'))"
   ]
  },
  {
   "cell_type": "code",
   "execution_count": null,
   "id": "ec0841aa",
   "metadata": {},
   "outputs": [],
   "source": [
    "imaging.ProcessingTask()"
   ]
  },
  {
   "cell_type": "markdown",
   "id": "637b9ec1",
   "metadata": {},
   "source": [
    "Run Suite2p for the new parameter set and save the results to the respective tables."
   ]
  },
  {
   "cell_type": "code",
   "execution_count": null,
   "id": "b5d6bc13",
   "metadata": {},
   "outputs": [],
   "source": [
    "populate_settings = dict(display_progress=True)\n",
    "\n",
    "imaging.Processing.populate(**populate_settings)\n",
    "\n",
    "key = (imaging.ProcessingTask & 'subject=\"subject3\"' & 'session_datetime=\"2022-09-01 19:16:44\"').fetch1('KEY')\n",
    "\n",
    "imaging.Curation().create1_from_processing_task(key)\n",
    "\n",
    "imaging.MotionCorrection.populate(**populate_settings)\n",
    "\n",
    "imaging.Segmentation.populate(**populate_settings)\n",
    "\n",
    "imaging.Fluorescence.populate(**populate_settings)\n",
    "\n",
    "imaging.Activity.populate(**populate_settings)"
   ]
  },
  {
   "cell_type": "markdown",
   "id": "4c8087a9",
   "metadata": {},
   "source": [
    "## Summary and next steps\n",
    "\n",
    "In this notebook we explored how to query and fetch data from the database, and re-run analysis with new parameters.  Next, please explore more of the features of the DataJoint Elements in the other notebooks.  Once you are ready to begin setting up your pipeline, fork this repository on GitHub and begin adapting it for your projects requirements."
   ]
  }
 ],
 "metadata": {
  "jupytext": {
   "formats": "ipynb,py"
  },
  "kernelspec": {
   "display_name": "Python 3.9.13 ('ele')",
   "language": "python",
   "name": "python3"
  },
  "language_info": {
   "codemirror_mode": {
    "name": "ipython",
    "version": 3
   },
   "file_extension": ".py",
   "mimetype": "text/x-python",
   "name": "python",
   "nbconvert_exporter": "python",
   "pygments_lexer": "ipython3",
   "version": "3.9.13"
  },
  "vscode": {
   "interpreter": {
    "hash": "d00c4ad21a7027bf1726d6ae3a9a6ef39c8838928eca5a3d5f51f3eb68720410"
   }
  }
 },
 "nbformat": 4,
 "nbformat_minor": 5
}
