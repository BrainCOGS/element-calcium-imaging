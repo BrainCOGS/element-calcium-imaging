{
 "cells": [
  {
   "attachments": {},
   "cell_type": "markdown",
   "metadata": {},
   "source": [
    "### Demo Preparation Notebook\n",
    "\n",
    "**Please Note**: This notebook and demo are NOT intended to be used as learning materials. To gain\n",
    "a thorough understanding of the DataJoint workflow for calcium imaging, please\n",
    "see our [`tutorial`](./tutorial.ipynb) notebook."
   ]
  },
  {
   "cell_type": "code",
   "execution_count": 1,
   "metadata": {},
   "outputs": [
    {
     "name": "stderr",
     "output_type": "stream",
     "text": [
      "[2023-03-07 17:53:28,952][INFO]: Connecting root@fakeservices.datajoint.io:3306\n",
      "[2023-03-07 17:53:28,959][INFO]: Connected root@fakeservices.datajoint.io:3306\n"
     ]
    }
   ],
   "source": [
    "import os\n",
    "\n",
    "if os.path.basename(os.getcwd()) == \"notebooks\":\n",
    "    os.chdir(\"..\")\n",
    "\n",
    "import datajoint as dj\n",
    "import datetime\n",
    "import numpy as np\n",
    "from workflow_calcium_imaging.pipeline import subject, session, scan, imaging\n",
    "from element_calcium_imaging import imaging_report\n",
    "import suite2p"
   ]
  },
  {
   "cell_type": "code",
   "execution_count": 2,
   "metadata": {},
   "outputs": [],
   "source": [
    "subject.Subject.insert1(\n",
    "    dict(\n",
    "        subject='subject1',\n",
    "        subject_birth_date='2023-01-01',\n",
    "        sex='U',\n",
    "    )\n",
    ")"
   ]
  },
  {
   "cell_type": "code",
   "execution_count": null,
   "metadata": {},
   "outputs": [],
   "source": [
    "Equipment.insert1(dict(scanner=\"Mesoscope\"))"
   ]
  },
  {
   "cell_type": "code",
   "execution_count": 3,
   "metadata": {},
   "outputs": [],
   "source": [
    "session_key = dict(subject='subject1', \n",
    "                   session_datetime=datetime.datetime.now())\n",
    "\n",
    "session.Session.insert1(session_key)\n",
    "\n",
    "session.SessionDirectory.insert1(\n",
    "    dict(\n",
    "        session_key, \n",
    "        session_dir='subject1/session1'\n",
    "    )\n",
    ")"
   ]
  },
  {
   "cell_type": "code",
   "execution_count": 4,
   "metadata": {},
   "outputs": [],
   "source": [
    "scan.Scan.insert1(\n",
    "    dict(\n",
    "        session_key,\n",
    "        scan_id=0,\n",
    "        scanner=\"Mesoscope\",\n",
    "        acq_software='ScanImage',\n",
    "    )\n",
    ")"
   ]
  },
  {
   "cell_type": "code",
   "execution_count": null,
   "metadata": {},
   "outputs": [],
   "source": [
    "populate_settings = {\"display_progress\": True}\n",
    "\n",
    "scan.ScanInfo.populate(**populate_settings)"
   ]
  },
  {
   "cell_type": "code",
   "execution_count": 5,
   "metadata": {},
   "outputs": [],
   "source": [
    "suite2p_params = suite2p.default_ops()\n",
    "suite2p_params['nonrigid']=False\n",
    "\n",
    "imaging.ProcessingParamSet.insert_new_params(\n",
    "    processing_method=\"suite2p\",\n",
    "    paramset_idx=0,\n",
    "    params=suite2p_params,\n",
    "    paramset_desc='Default parameter set for suite2p'\n",
    ")"
   ]
  },
  {
   "cell_type": "code",
   "execution_count": 6,
   "metadata": {},
   "outputs": [],
   "source": [
    "imaging.ProcessingTask.insert1(\n",
    "    dict(\n",
    "        session_key,\n",
    "        scan_id=0,\n",
    "        paramset_idx=0,\n",
    "        task_mode='load', # load or trigger\n",
    "        processing_output_dir='subject1/session1/suite2p',\n",
    "    )\n",
    ")\n",
    "\n",
    "imaging.Processing.populate(**populate_settings)"
   ]
  },
  {
   "cell_type": "code",
   "execution_count": 7,
   "metadata": {},
   "outputs": [
    {
     "name": "stderr",
     "output_type": "stream",
     "text": [
      "ScanInfo: 100%|██████████| 1/1 [00:00<00:00,  2.75it/s]\n",
      "Processing:   0%|          | 0/1 [00:00<?, ?it/s]"
     ]
    },
    {
     "name": "stdout",
     "output_type": "stream",
     "text": [
      "{'data_path': ['/workspaces/workflow-calcium-imaging/example_data/subject1/session1'], 'tiff_list': ['/workspaces/workflow-calcium-imaging/example_data/subject1/session1/example1.tif']}\n",
      "FOUND BINARIES AND OPS IN ['/workspaces/workflow-calcium-imaging/example_data/subject1/session1/suite2p/plane0/ops.npy']\n",
      ">>>>>>>>>>>>>>>>>>>>> PLANE 0 <<<<<<<<<<<<<<<<<<<<<<\n",
      "NOTE: not running registration, plane already registered\n",
      "binary path: /workspaces/workflow-calcium-imaging/example_data/subject1/session1/suite2p/plane0/data.bin\n",
      "NOTE: Applying builtin classifier at /usr/local/lib/python3.7/site-packages/suite2p/classifiers/classifier.npy\n",
      "----------- ROI DETECTION\n",
      "Binning movie in chunks of length 29\n",
      "Binned movie of size [103,504,506] created in 2.29 sec.\n",
      "ROIs: 200, cost: 0.2719, time: 37.3356\n",
      "ROIs: 400, cost: 0.2142, time: 63.2455\n",
      "ROIs: 547, cost: 0.1907, time: 84.7919\n",
      "ROIs: 583, cost: 0.1853, time: 98.0249\n",
      "ROIs: 599, cost: 0.1835, time: 109.7812\n",
      "ROIs: 599, cost: 0.4262, time: 114.3391\n",
      "ROIs: 599, cost: 0.3851, time: 126.5808\n",
      "ROIs: 599, cost: 0.3825, time: 140.0235\n",
      "Detected 599 ROIs, 161.39 sec\n",
      "After removing overlaps, 563 ROIs remain\n",
      "----------- Total 165.00 sec.\n",
      "----------- EXTRACTION\n",
      "Masks created, 2.40 sec.\n",
      "Extracted fluorescence from 563 ROIs in 3000 frames, 7.91 sec.\n",
      "----------- Total 10.40 sec.\n",
      "----------- CLASSIFICATION\n",
      "['npix_norm', 'compact', 'skew']\n",
      "----------- SPIKE DECONVOLUTION\n",
      "----------- Total 0.08 sec.\n",
      "Plane 0 processed in 175.58 sec (can open in GUI).\n",
      "total = 175.77 sec.\n",
      "TOTAL RUNTIME 175.77 sec\n"
     ]
    },
    {
     "name": "stderr",
     "output_type": "stream",
     "text": [
      "Processing: 100%|██████████| 1/1 [02:58<00:00, 178.28s/it]\n",
      "MotionCorrection: 100%|██████████| 1/1 [00:00<00:00,  1.53it/s]\n",
      "Segmentation: 100%|██████████| 1/1 [00:00<00:00,  1.76it/s]\n",
      "MaskClassification: 100%|██████████| 1/1 [00:00<00:00, 520.32it/s]\n",
      "Fluorescence: 100%|██████████| 1/1 [00:01<00:00,  1.29s/it]\n",
      "Activity: 100%|██████████| 1/1 [00:00<00:00,  3.69it/s]\n"
     ]
    }
   ],
   "source": [
    "imaging.Curation.insert1(\n",
    "    dict(\n",
    "        session_key,\n",
    "        scan_id=0,\n",
    "        paramset_idx=0,\n",
    "        curation_id=0,\n",
    "        curation_time=datetime.datetime.now(),\n",
    "        curation_output_dir='subject1/session1/suite2p',\n",
    "        manual_curation=False,\n",
    "    )\n",
    ")\n",
    "\n",
    "imaging.MotionCorrection.populate(**populate_settings)\n",
    "imaging.Segmentation.populate(**populate_settings)\n",
    "imaging.Fluorescence.populate(**populate_settings)\n",
    "imaging.Activity.populate(**populate_settings)\n",
    "imaging_report.ScanLevelReport.populate()\n",
    "imaging_report.TraceReport.populate()"
   ]
  }
 ],
 "metadata": {
  "kernelspec": {
   "display_name": "Python 3",
   "language": "python",
   "name": "python3"
  },
  "language_info": {
   "codemirror_mode": {
    "name": "ipython",
    "version": 3
   },
   "file_extension": ".py",
   "mimetype": "text/x-python",
   "name": "python",
   "nbconvert_exporter": "python",
   "pygments_lexer": "ipython3",
   "version": "3.7.16"
  },
  "orig_nbformat": 4
 },
 "nbformat": 4,
 "nbformat_minor": 2
}
