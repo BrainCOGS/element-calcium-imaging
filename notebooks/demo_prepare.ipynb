{
 "cells": [
  {
   "attachments": {},
   "cell_type": "markdown",
   "metadata": {},
   "source": [
    "### Demo Preparation Notebook\n",
    "\n",
    "**Please Note**: This notebook and demo are NOT intended to be used as learning materials. To gain\n",
    "a thorough understanding of the DataJoint workflow for calcium imaging, please\n",
    "see the [`tutorial`](./tutorial.ipynb) notebook."
   ]
  },
  {
   "cell_type": "code",
   "execution_count": null,
   "metadata": {},
   "outputs": [],
   "source": [
    "import os\n",
    "\n",
    "if os.path.basename(os.getcwd()) == \"notebooks\":\n",
    "    os.chdir(\"..\")\n",
    "\n",
    "import datajoint as dj\n",
    "import datetime\n",
    "import numpy as np\n",
    "from workflow_calcium_imaging.pipeline import subject, session, scan, imaging\n",
    "from element_calcium_imaging import imaging_report\n",
    "import suite2p"
   ]
  },
  {
   "cell_type": "code",
   "execution_count": null,
   "metadata": {},
   "outputs": [],
   "source": [
    "subject.Subject.insert1(\n",
    "    dict(\n",
    "        subject='subject1',\n",
    "        subject_birth_date='2023-01-01',\n",
    "        sex='U',\n",
    "    )\n",
    ")"
   ]
  },
  {
   "cell_type": "code",
   "execution_count": null,
   "metadata": {},
   "outputs": [],
   "source": [
    "Equipment.insert1(dict(scanner=\"Mesoscope\"))"
   ]
  },
  {
   "cell_type": "code",
   "execution_count": null,
   "metadata": {},
   "outputs": [],
   "source": [
    "session_key = dict(subject='subject1', \n",
    "                   session_datetime=datetime.datetime.now())\n",
    "\n",
    "session.Session.insert1(session_key)\n",
    "\n",
    "session.SessionDirectory.insert1(\n",
    "    dict(\n",
    "        session_key, \n",
    "        session_dir='subject1/session1'\n",
    "    )\n",
    ")"
   ]
  },
  {
   "cell_type": "code",
   "execution_count": null,
   "metadata": {},
   "outputs": [],
   "source": [
    "scan.Scan.insert1(\n",
    "    dict(\n",
    "        session_key,\n",
    "        scan_id=0,\n",
    "        scanner=\"Mesoscope\",\n",
    "        acq_software='ScanImage',\n",
    "    )\n",
    ")"
   ]
  },
  {
   "cell_type": "code",
   "execution_count": null,
   "metadata": {},
   "outputs": [],
   "source": [
    "populate_settings = {\"display_progress\": True}\n",
    "\n",
    "scan.ScanInfo.populate(**populate_settings)"
   ]
  },
  {
   "cell_type": "code",
   "execution_count": null,
   "metadata": {},
   "outputs": [],
   "source": [
    "suite2p_params = suite2p.default_ops()\n",
    "suite2p_params['nonrigid']=False\n",
    "\n",
    "imaging.ProcessingParamSet.insert_new_params(\n",
    "    processing_method=\"suite2p\",\n",
    "    paramset_idx=0,\n",
    "    params=suite2p_params,\n",
    "    paramset_desc='Default parameter set for suite2p'\n",
    ")"
   ]
  },
  {
   "cell_type": "code",
   "execution_count": null,
   "metadata": {},
   "outputs": [],
   "source": [
    "imaging.ProcessingTask.insert1(\n",
    "    dict(\n",
    "        session_key,\n",
    "        scan_id=0,\n",
    "        paramset_idx=0,\n",
    "        task_mode='load', # load or trigger\n",
    "        processing_output_dir='subject1/session1/suite2p',\n",
    "    )\n",
    ")\n",
    "\n",
    "imaging.Processing.populate(**populate_settings)"
   ]
  },
  {
   "cell_type": "code",
   "execution_count": null,
   "metadata": {},
   "outputs": [],
   "source": [
    "imaging.Curation.insert1(\n",
    "    dict(\n",
    "        session_key,\n",
    "        scan_id=0,\n",
    "        paramset_idx=0,\n",
    "        curation_id=0,\n",
    "        curation_time=datetime.datetime.now(),\n",
    "        curation_output_dir='subject1/session1/suite2p',\n",
    "        manual_curation=False,\n",
    "    )\n",
    ")\n",
    "\n",
    "imaging.MotionCorrection.populate(**populate_settings)\n",
    "imaging.Segmentation.populate(**populate_settings)\n",
    "imaging.Fluorescence.populate(**populate_settings)\n",
    "imaging.Activity.populate(**populate_settings)\n",
    "imaging_report.ScanLevelReport.populate()\n",
    "imaging_report.TraceReport.populate()"
   ]
  }
 ],
 "metadata": {
  "kernelspec": {
   "display_name": "Python 3",
   "language": "python",
   "name": "python3"
  },
  "language_info": {
   "codemirror_mode": {
    "name": "ipython",
    "version": 3
   },
   "file_extension": ".py",
   "mimetype": "text/x-python",
   "name": "python",
   "nbconvert_exporter": "python",
   "pygments_lexer": "ipython3",
   "version": "3.7.16"
  },
  "orig_nbformat": 4
 },
 "nbformat": 4,
 "nbformat_minor": 2
}
