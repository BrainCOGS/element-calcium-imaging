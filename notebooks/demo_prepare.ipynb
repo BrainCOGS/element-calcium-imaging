{
 "cells": [
  {
   "attachments": {},
   "cell_type": "markdown",
   "metadata": {},
   "source": [
    "### Demo Preparation Notebook\n",
    "\n",
    "**Please Note**: This notebook is NOT intended to be used as learning materials. To gain\n",
    "a thorough understanding of the DataJoint Element for Calcium Imaging, please\n",
    "see the [`tutorial`](./tutorial.ipynb) notebook."
   ]
  },
  {
   "cell_type": "code",
   "execution_count": null,
   "metadata": {},
   "outputs": [],
   "source": [
    "import datajoint as dj\n",
    "import datetime\n",
    "from collections import abc\n",
    "import suite2p\n",
    "\n",
    "from element_animal import subject\n",
    "from element_animal.subject import Subject\n",
    "from element_calcium_imaging import imaging, scan, imaging_report, db_prefix\n",
    "from element_lab import lab\n",
    "from element_lab.lab import Lab, Location, Project, Protocol, Source, User\n",
    "from element_lab.lab import Device as Equipment\n",
    "from element_lab.lab import User as Experimenter\n",
    "from element_session import session_with_datetime as session\n",
    "from element_session.session_with_datetime import Session\n",
    "import element_interface"
   ]
  },
  {
   "cell_type": "code",
   "execution_count": null,
   "metadata": {},
   "outputs": [],
   "source": [
    "def get_imaging_root_data_dir():\n",
    "    \"\"\"Retrieve imaging root data directory.\"\"\"\n",
    "    imaging_root_dirs = dj.config.get(\"custom\", {}).get(\"imaging_root_data_dir\", None)\n",
    "    if not imaging_root_dirs:\n",
    "        return None\n",
    "    elif not isinstance(imaging_root_dirs, abc.Sequence):\n",
    "        return list(imaging_root_dirs)\n",
    "    else:\n",
    "        return imaging_root_dirs\n",
    "\n",
    "def get_image_files(scan_key, file_type: str):\n",
    "    \"\"\"Retrieve the list of absolute paths associated with a given Scan.\"\"\"\n",
    "    # Folder structure: root / subject / session / .tif or .sbx or .nd2\n",
    "    session_dir = element_interface.utils.find_full_path(\n",
    "        get_imaging_root_data_dir(),\n",
    "        (session.SessionDirectory & scan_key).fetch1(\"session_dir\"),\n",
    "     )\n",
    "\n",
    "    filepaths = [fp.as_posix() for fp in session_dir.glob(file_type)]\n",
    "    \n",
    "    if filepaths:\n",
    "        return filepaths\n",
    "    else:\n",
    "        raise FileNotFoundError(f\"No {file_type} file found in {session_dir}\")"
   ]
  },
  {
   "cell_type": "code",
   "execution_count": null,
   "metadata": {},
   "outputs": [],
   "source": [
    "lab.activate(db_prefix + \"lab\")\n",
    "\n",
    "subject.activate(db_prefix + \"subject\", linking_module=__name__)\n",
    "\n",
    "session.activate(db_prefix + \"session\", linking_module=__name__)\n",
    "\n",
    "imaging.activate(db_prefix + \"imaging\", db_prefix + \"scan\", linking_module=__name__)"
   ]
  },
  {
   "cell_type": "code",
   "execution_count": null,
   "metadata": {},
   "outputs": [],
   "source": [
    "subject.Subject.insert1(\n",
    "    dict(\n",
    "        subject='subject1',\n",
    "        subject_birth_date='2023-01-01',\n",
    "        sex='U',\n",
    "    )\n",
    ")"
   ]
  },
  {
   "cell_type": "code",
   "execution_count": null,
   "metadata": {},
   "outputs": [],
   "source": [
    "Equipment.insert1(dict(device=\"Mesoscope1\",\n",
    "                       modality=\"\"))"
   ]
  },
  {
   "cell_type": "code",
   "execution_count": null,
   "metadata": {},
   "outputs": [],
   "source": [
    "session_key = dict(subject='subject1', \n",
    "                   session_datetime=datetime.datetime(2023, 5, 11, 12, 00, 00))"
   ]
  },
  {
   "cell_type": "code",
   "execution_count": null,
   "metadata": {},
   "outputs": [],
   "source": [
    "session.Session.insert1(session_key)\n",
    "\n",
    "session.SessionDirectory.insert1(\n",
    "    dict(\n",
    "        session_key, \n",
    "        session_dir='subject1/session1'\n",
    "    )\n",
    ")"
   ]
  },
  {
   "cell_type": "code",
   "execution_count": null,
   "metadata": {},
   "outputs": [],
   "source": [
    "scan.Scan.insert1(\n",
    "    dict(\n",
    "        session_key,\n",
    "        scan_id=0,\n",
    "        device=\"Mesoscope1\",\n",
    "        acq_software='ScanImage',\n",
    "    )\n",
    ")"
   ]
  },
  {
   "cell_type": "code",
   "execution_count": null,
   "metadata": {},
   "outputs": [],
   "source": [
    "scan.ScanInfo.populate(display_progress=True)"
   ]
  },
  {
   "cell_type": "code",
   "execution_count": null,
   "metadata": {},
   "outputs": [],
   "source": [
    "suite2p_params = suite2p.default_ops()\n",
    "suite2p_params['nonrigid']=False\n",
    "\n",
    "imaging.ProcessingParamSet.insert_new_params(\n",
    "    processing_method=\"suite2p\",\n",
    "    paramset_idx=0,\n",
    "    params=suite2p_params,\n",
    "    paramset_desc='Default parameter set for suite2p'\n",
    ")"
   ]
  },
  {
   "cell_type": "code",
   "execution_count": null,
   "metadata": {},
   "outputs": [],
   "source": [
    "imaging.ProcessingTask.insert1(\n",
    "    dict(\n",
    "        session_key,\n",
    "        scan_id=0,\n",
    "        paramset_idx=0,\n",
    "        task_mode='load', # load or trigger\n",
    "        processing_output_dir='subject1/session1/suite2p',\n",
    "    )\n",
    ")\n",
    "\n",
    "imaging.Processing.populate(display_progress=True)"
   ]
  },
  {
   "cell_type": "code",
   "execution_count": null,
   "metadata": {},
   "outputs": [],
   "source": [
    "imaging.Curation.insert1(\n",
    "    dict(\n",
    "        session_key,\n",
    "        scan_id=0,\n",
    "        paramset_idx=0,\n",
    "        curation_id=0,\n",
    "        curation_time=datetime.datetime(2023, 5, 11, 12, 00, 00),\n",
    "        curation_output_dir='subject1/session1/suite2p',\n",
    "        manual_curation=False,\n",
    "    )\n",
    ")\n",
    "\n",
    "imaging.MotionCorrection.populate(display_progress=True)\n",
    "imaging.Segmentation.populate(display_progress=True)\n",
    "imaging.Fluorescence.populate(display_progress=True)\n",
    "imaging.Activity.populate(display_progress=True)\n",
    "imaging_report.ScanLevelReport.populate(display_progress=True)\n",
    "imaging_report.TraceReport.populate(display_progress=True)"
   ]
  },
  {
   "attachments": {},
   "cell_type": "markdown",
   "metadata": {},
   "source": [
    "### Drop schemas\n",
    "\n",
    "- Schemas are not typically dropped in a production workflow with real data in it.\n",
    "- At the developmental phase, it might be required for the table redesign.\n",
    "- When dropping all schemas is needed, the following is the dependency order."
   ]
  },
  {
   "cell_type": "code",
   "execution_count": null,
   "metadata": {},
   "outputs": [],
   "source": [
    "def drop_databases(databases):\n",
    "    import pymysql.err\n",
    "    conn = dj.conn()\n",
    "\n",
    "    with dj.config(safemode=False):\n",
    "        for database in databases:\n",
    "            schema = dj.Schema(f'{dj.config[\"custom\"][\"database.prefix\"]}{database}')\n",
    "            while schema.list_tables():\n",
    "                for table in schema.list_tables():\n",
    "                    try:\n",
    "                        conn.query(f\"DROP TABLE `{schema.database}`.`{table}`\")\n",
    "                    except pymysql.err.OperationalError:\n",
    "                        print(f\"Can't drop `{schema.database}`.`{table}`. Retrying...\")\n",
    "            schema.drop()\n",
    "\n",
    "# drop_databases(databases=['analysis', 'trial', 'event', 'imaging_report', 'imaging', 'scan', 'session', 'subject', 'lab', 'reference'])"
   ]
  },
  {
   "cell_type": "code",
   "execution_count": null,
   "metadata": {},
   "outputs": [],
   "source": []
  }
 ],
 "metadata": {
  "kernelspec": {
   "display_name": "Python 3",
   "language": "python",
   "name": "python3"
  },
  "language_info": {
   "codemirror_mode": {
    "name": "ipython",
    "version": 3
   },
   "file_extension": ".py",
   "mimetype": "text/x-python",
   "name": "python",
   "nbconvert_exporter": "python",
   "pygments_lexer": "ipython3",
   "version": "3.9.16"
  },
  "orig_nbformat": 4,
  "vscode": {
   "interpreter": {
    "hash": "949777d72b0d2535278d3dc13498b2535136f6dfe0678499012e853ee9abcab1"
   }
  }
 },
 "nbformat": 4,
 "nbformat_minor": 2
}
